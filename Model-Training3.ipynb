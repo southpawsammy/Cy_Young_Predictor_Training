{
 "cells": [
  {
   "cell_type": "code",
   "execution_count": 1,
   "metadata": {},
   "outputs": [],
   "source": [
    "import tensorflow as tf\n",
    "from tensorflow import keras\n",
    "from tensorflow.keras.models import Sequential\n",
    "from tensorflow.keras.layers import Activation, Dense\n",
    "from tensorflow.keras.optimizers import Adam\n",
    "import pandas as pd\n",
    "import numpy as np\n",
    "from collections import Counter\n",
    "from sklearn.model_selection import train_test_split\n",
    "from imblearn.over_sampling import SMOTE\n",
    "import matplotlib.pyplot as plt\n",
    "import seaborn as sns\n",
    "from sklearn.preprocessing import MinMaxScaler"
   ]
  },
  {
   "cell_type": "code",
   "execution_count": 2,
   "metadata": {},
   "outputs": [
    {
     "name": "stdout",
     "output_type": "stream",
     "text": [
      "WARNING:tensorflow:From C:\\Users\\samue\\anaconda3\\lib\\site-packages\\tensorflow\\python\\ops\\init_ops.py:1251: calling VarianceScaling.__init__ (from tensorflow.python.ops.init_ops) with dtype is deprecated and will be removed in a future version.\n",
      "Instructions for updating:\n",
      "Call initializer instance with the dtype argument instead of passing it to the constructor\n"
     ]
    }
   ],
   "source": [
    "# define the keras cy\n",
    "sli = Sequential()\n",
    "sli.add(Dense(8, batch_input_shape=(5,18), activation='relu'))\n",
    "sli.add(Dense(16, activation='relu'))\n",
    "sli.add(Dense(16, activation='relu'))\n",
    "sli.add(Dense(32, activation='relu'))\n",
    "sli.add(Dense(1, activation='sigmoid'))\n",
    "\n",
    "#compile\n",
    "sli.compile(loss='mean_squared_error',\n",
    "              optimizer=Adam(learning_rate=0.0001),\n",
    "              metrics=['accuracy'])"
   ]
  },
  {
   "cell_type": "code",
   "execution_count": 3,
   "metadata": {},
   "outputs": [
    {
     "name": "stdout",
     "output_type": "stream",
     "text": [
      "Model: \"sequential\"\n",
      "_________________________________________________________________\n",
      "Layer (type)                 Output Shape              Param #   \n",
      "=================================================================\n",
      "dense (Dense)                (5, 8)                    152       \n",
      "_________________________________________________________________\n",
      "dense_1 (Dense)              (5, 16)                   144       \n",
      "_________________________________________________________________\n",
      "dense_2 (Dense)              (5, 16)                   272       \n",
      "_________________________________________________________________\n",
      "dense_3 (Dense)              (5, 32)                   544       \n",
      "_________________________________________________________________\n",
      "dense_4 (Dense)              (5, 1)                    33        \n",
      "=================================================================\n",
      "Total params: 1,145\n",
      "Trainable params: 1,145\n",
      "Non-trainable params: 0\n",
      "_________________________________________________________________\n"
     ]
    }
   ],
   "source": [
    "sli.summary()"
   ]
  },
  {
   "cell_type": "code",
   "execution_count": 6,
   "metadata": {},
   "outputs": [],
   "source": [
    "#setup for data model to be trained\n",
    "ja=pd.read_csv('Training Data1/Jake_Arrieta.csv')\n",
    "ja=ja.drop('team', axis=1)\n",
    "ja=ja.drop('league', axis=1)\n",
    "ja=ja.drop('nameFirst', axis=1)\n",
    "ja=ja.drop('nameLast', axis=1)\n",
    "ja=ja.drop('yearID', axis=1)\n",
    "x = ja.drop('points', axis=1)\n",
    "y = ja['points']"
   ]
  },
  {
   "cell_type": "code",
   "execution_count": 7,
   "metadata": {},
   "outputs": [],
   "source": [
    "bz=pd.read_csv('Training Data1/Barry_Zito.csv')\n",
    "bz=bz.drop('team', axis=1)\n",
    "bz=bz.drop('league', axis=1)\n",
    "bz=bz.drop('nameFirst', axis=1)\n",
    "bz=bz.drop('nameLast', axis=1)\n",
    "bz=bz.drop('yearID', axis=1)\n",
    "x1 = bz.drop('points', axis=1)\n",
    "y1 = bz['points']"
   ]
  },
  {
   "cell_type": "code",
   "execution_count": 8,
   "metadata": {},
   "outputs": [],
   "source": [
    "bc=pd.read_csv('Training Data1/Bartolo_Colon.csv')\n",
    "bc=bc.drop('team', axis=1)\n",
    "bc=bc.drop('league', axis=1)\n",
    "bc=bc.drop('nameFirst', axis=1)\n",
    "bc=bc.drop('nameLast', axis=1)\n",
    "bc=bc.drop('yearID', axis=1)\n",
    "x2 = bc.drop('points', axis=1)\n",
    "y2 = bc['points']"
   ]
  },
  {
   "cell_type": "code",
   "execution_count": 9,
   "metadata": {},
   "outputs": [],
   "source": [
    "bw=pd.read_csv('Training Data1/Bob_Welch.csv')\n",
    "bw=bw.drop('team', axis=1)\n",
    "bw=bw.drop('league', axis=1)\n",
    "bw=bw.drop('nameFirst', axis=1)\n",
    "bw=bw.drop('nameLast', axis=1)\n",
    "bw=bw.drop('yearID', axis=1)\n",
    "x3 = bw.drop('points', axis=1)\n",
    "y3 = bw['points']"
   ]
  },
  {
   "cell_type": "code",
   "execution_count": 10,
   "metadata": {},
   "outputs": [],
   "source": [
    "bw1=pd.read_csv('Training Data1/Brandon_Webb.csv')\n",
    "bw1=bw1.drop('team', axis=1)\n",
    "bw1=bw1.drop('league', axis=1)\n",
    "bw1=bw1.drop('nameFirst', axis=1)\n",
    "bw1=bw1.drop('nameLast', axis=1)\n",
    "bw1=bw1.drop('yearID', axis=1)\n",
    "x4 = bw1.drop('points', axis=1)\n",
    "y4 = bw1['points']"
   ]
  },
  {
   "cell_type": "code",
   "execution_count": 11,
   "metadata": {},
   "outputs": [],
   "source": [
    "bs1=pd.read_csv('Training Data1/Bret_Saberhagen(1989).csv')\n",
    "bs1=bs1.drop('team', axis=1)\n",
    "bs1=bs1.drop('league', axis=1)\n",
    "bs1=bs1.drop('nameFirst', axis=1)\n",
    "bs1=bs1.drop('nameLast', axis=1)\n",
    "bs1=bs1.drop('yearID', axis=1)\n",
    "x6 = bs1.drop('points', axis=1)\n",
    "y6 = bs1['points']"
   ]
  },
  {
   "cell_type": "code",
   "execution_count": 12,
   "metadata": {},
   "outputs": [],
   "source": [
    "bs2=pd.read_csv('Training Data1/Bruce_Sutter.csv')\n",
    "bs2=bs2.drop('team', axis=1)\n",
    "bs2=bs2.drop('league', axis=1)\n",
    "bs2=bs2.drop('nameFirst', axis=1)\n",
    "bs2=bs2.drop('nameLast', axis=1)\n",
    "bs2=bs2.drop('yearID', axis=1)\n",
    "x7 = bs2.drop('points', axis=1)\n",
    "y7 = bs2['points']"
   ]
  },
  {
   "cell_type": "code",
   "execution_count": 13,
   "metadata": {},
   "outputs": [],
   "source": [
    "cs=pd.read_csv('Training Data1/CC_Sabathia.csv')\n",
    "cs=cs.drop('team', axis=1)\n",
    "cs=cs.drop('league', axis=1)\n",
    "cs=cs.drop('nameFirst', axis=1)\n",
    "cs=cs.drop('nameLast', axis=1)\n",
    "cs=cs.drop('yearID', axis=1)\n",
    "x8 = cs.drop('points', axis=1)\n",
    "y8 = cs['points']"
   ]
  },
  {
   "cell_type": "code",
   "execution_count": 14,
   "metadata": {},
   "outputs": [],
   "source": [
    "cc=pd.read_csv('Training Data1/Chris_Carpenter.csv')\n",
    "cc=cc.drop('team', axis=1)\n",
    "cc=cc.drop('league', axis=1)\n",
    "cc=cc.drop('nameFirst', axis=1)\n",
    "cc=cc.drop('nameLast', axis=1)\n",
    "cc=cc.drop('yearID', axis=1)\n",
    "x9 = cc.drop('points', axis=1)\n",
    "y9 = cc['points']"
   ]
  },
  {
   "cell_type": "code",
   "execution_count": 15,
   "metadata": {},
   "outputs": [],
   "source": [
    "ck1=pd.read_csv('Training Data1/Clayton_Kershaw(2011).csv')\n",
    "ck1=ck1.drop('team', axis=1)\n",
    "ck1=ck1.drop('league', axis=1)\n",
    "ck1=ck1.drop('nameFirst', axis=1)\n",
    "ck1=ck1.drop('nameLast', axis=1)\n",
    "ck1=ck1.drop('yearID', axis=1)\n",
    "x10 = ck1.drop('points', axis=1)\n",
    "y10 = ck1['points']"
   ]
  },
  {
   "cell_type": "code",
   "execution_count": 16,
   "metadata": {},
   "outputs": [],
   "source": [
    "ck2=pd.read_csv('Training Data1/Clayton_Kershaw(2013).csv')\n",
    "ck2=ck2.drop('team', axis=1)\n",
    "ck2=ck2.drop('league', axis=1)\n",
    "ck2=ck2.drop('nameFirst', axis=1)\n",
    "ck2=ck2.drop('nameLast', axis=1)\n",
    "ck2=ck2.drop('yearID', axis=1)\n",
    "x11 = ck2.drop('points', axis=1)\n",
    "y11 = ck2['points']"
   ]
  },
  {
   "cell_type": "code",
   "execution_count": 17,
   "metadata": {},
   "outputs": [],
   "source": [
    "ck3=pd.read_csv('Training Data1/Clayton_Kershaw(2014).csv')\n",
    "ck3=ck3.drop('team', axis=1)\n",
    "ck3=ck3.drop('league', axis=1)\n",
    "ck3=ck3.drop('nameFirst', axis=1)\n",
    "ck3=ck3.drop('nameLast', axis=1)\n",
    "ck3=ck3.drop('yearID', axis=1)\n",
    "x12 = ck3.drop('points', axis=1)\n",
    "y12 = ck3['points']"
   ]
  },
  {
   "cell_type": "code",
   "execution_count": 18,
   "metadata": {},
   "outputs": [],
   "source": [
    "ck4=pd.read_csv('Training Data1/Corey_Kluber(2014).csv')\n",
    "ck4=ck4.drop('team', axis=1)\n",
    "ck4=ck4.drop('league', axis=1)\n",
    "ck4=ck4.drop('nameFirst', axis=1)\n",
    "ck4=ck4.drop('nameLast', axis=1)\n",
    "ck4=ck4.drop('yearID', axis=1)\n",
    "x13 = ck4.drop('points', axis=1)\n",
    "y13 = ck4['points']"
   ]
  },
  {
   "cell_type": "code",
   "execution_count": 19,
   "metadata": {},
   "outputs": [],
   "source": [
    "dc=pd.read_csv('Training Data1/David_Cone.csv')\n",
    "dc=dc.drop('team', axis=1)\n",
    "dc=dc.drop('league', axis=1)\n",
    "dc=dc.drop('nameFirst', axis=1)\n",
    "dc=dc.drop('nameLast', axis=1)\n",
    "dc=dc.drop('yearID', axis=1)\n",
    "x16 = dc.drop('points', axis=1)\n",
    "y16 = dc['points']"
   ]
  },
  {
   "cell_type": "code",
   "execution_count": 20,
   "metadata": {},
   "outputs": [],
   "source": [
    "dd=pd.read_csv('Training Data1/Doug_Drabek.csv')\n",
    "dd=dd.drop('team', axis=1)\n",
    "dd=dd.drop('league', axis=1)\n",
    "dd=dd.drop('nameFirst', axis=1)\n",
    "dd=dd.drop('nameLast', axis=1)\n",
    "dd=dd.drop('yearID', axis=1)\n",
    "x17 = dd.drop('points', axis=1)\n",
    "y17 = dd['points']"
   ]
  },
  {
   "cell_type": "code",
   "execution_count": 21,
   "metadata": {},
   "outputs": [],
   "source": [
    "dg=pd.read_csv('Training Data1/Dwight_Gooden.csv')\n",
    "dg=dg.drop('team', axis=1)\n",
    "dg=dg.drop('league', axis=1)\n",
    "dg=dg.drop('nameFirst', axis=1)\n",
    "dg=dg.drop('nameLast', axis=1)\n",
    "dg=dg.drop('yearID', axis=1)\n",
    "x18 = dg.drop('points', axis=1)\n",
    "y18 = dg['points']"
   ]
  },
  {
   "cell_type": "code",
   "execution_count": 22,
   "metadata": {},
   "outputs": [
    {
     "ename": "FileNotFoundError",
     "evalue": "[Errno 2] File Training Data1/Eric_Gagne.csv does not exist: 'Training Data1/Eric_Gagne.csv'",
     "output_type": "error",
     "traceback": [
      "\u001b[1;31m---------------------------------------------------------------------------\u001b[0m",
      "\u001b[1;31mFileNotFoundError\u001b[0m                         Traceback (most recent call last)",
      "\u001b[1;32m<ipython-input-22-2322d702f4ce>\u001b[0m in \u001b[0;36m<module>\u001b[1;34m\u001b[0m\n\u001b[1;32m----> 1\u001b[1;33m \u001b[0meg\u001b[0m\u001b[1;33m=\u001b[0m\u001b[0mpd\u001b[0m\u001b[1;33m.\u001b[0m\u001b[0mread_csv\u001b[0m\u001b[1;33m(\u001b[0m\u001b[1;34m'Training Data1/Eric_Gagne.csv'\u001b[0m\u001b[1;33m)\u001b[0m\u001b[1;33m\u001b[0m\u001b[1;33m\u001b[0m\u001b[0m\n\u001b[0m\u001b[0;32m      2\u001b[0m \u001b[0meg\u001b[0m\u001b[1;33m=\u001b[0m\u001b[0meg\u001b[0m\u001b[1;33m.\u001b[0m\u001b[0mdrop\u001b[0m\u001b[1;33m(\u001b[0m\u001b[1;34m'team'\u001b[0m\u001b[1;33m,\u001b[0m \u001b[0maxis\u001b[0m\u001b[1;33m=\u001b[0m\u001b[1;36m1\u001b[0m\u001b[1;33m)\u001b[0m\u001b[1;33m\u001b[0m\u001b[1;33m\u001b[0m\u001b[0m\n\u001b[0;32m      3\u001b[0m \u001b[0meg\u001b[0m\u001b[1;33m=\u001b[0m\u001b[0meg\u001b[0m\u001b[1;33m.\u001b[0m\u001b[0mdrop\u001b[0m\u001b[1;33m(\u001b[0m\u001b[1;34m'league'\u001b[0m\u001b[1;33m,\u001b[0m \u001b[0maxis\u001b[0m\u001b[1;33m=\u001b[0m\u001b[1;36m1\u001b[0m\u001b[1;33m)\u001b[0m\u001b[1;33m\u001b[0m\u001b[1;33m\u001b[0m\u001b[0m\n\u001b[0;32m      4\u001b[0m \u001b[0meg\u001b[0m\u001b[1;33m=\u001b[0m\u001b[0meg\u001b[0m\u001b[1;33m.\u001b[0m\u001b[0mdrop\u001b[0m\u001b[1;33m(\u001b[0m\u001b[1;34m'nameFirst'\u001b[0m\u001b[1;33m,\u001b[0m \u001b[0maxis\u001b[0m\u001b[1;33m=\u001b[0m\u001b[1;36m1\u001b[0m\u001b[1;33m)\u001b[0m\u001b[1;33m\u001b[0m\u001b[1;33m\u001b[0m\u001b[0m\n\u001b[0;32m      5\u001b[0m \u001b[0meg\u001b[0m\u001b[1;33m=\u001b[0m\u001b[0meg\u001b[0m\u001b[1;33m.\u001b[0m\u001b[0mdrop\u001b[0m\u001b[1;33m(\u001b[0m\u001b[1;34m'nameLast'\u001b[0m\u001b[1;33m,\u001b[0m \u001b[0maxis\u001b[0m\u001b[1;33m=\u001b[0m\u001b[1;36m1\u001b[0m\u001b[1;33m)\u001b[0m\u001b[1;33m\u001b[0m\u001b[1;33m\u001b[0m\u001b[0m\n",
      "\u001b[1;32m~\\anaconda3\\lib\\site-packages\\pandas\\io\\parsers.py\u001b[0m in \u001b[0;36mparser_f\u001b[1;34m(filepath_or_buffer, sep, delimiter, header, names, index_col, usecols, squeeze, prefix, mangle_dupe_cols, dtype, engine, converters, true_values, false_values, skipinitialspace, skiprows, skipfooter, nrows, na_values, keep_default_na, na_filter, verbose, skip_blank_lines, parse_dates, infer_datetime_format, keep_date_col, date_parser, dayfirst, cache_dates, iterator, chunksize, compression, thousands, decimal, lineterminator, quotechar, quoting, doublequote, escapechar, comment, encoding, dialect, error_bad_lines, warn_bad_lines, delim_whitespace, low_memory, memory_map, float_precision)\u001b[0m\n\u001b[0;32m    674\u001b[0m         )\n\u001b[0;32m    675\u001b[0m \u001b[1;33m\u001b[0m\u001b[0m\n\u001b[1;32m--> 676\u001b[1;33m         \u001b[1;32mreturn\u001b[0m \u001b[0m_read\u001b[0m\u001b[1;33m(\u001b[0m\u001b[0mfilepath_or_buffer\u001b[0m\u001b[1;33m,\u001b[0m \u001b[0mkwds\u001b[0m\u001b[1;33m)\u001b[0m\u001b[1;33m\u001b[0m\u001b[1;33m\u001b[0m\u001b[0m\n\u001b[0m\u001b[0;32m    677\u001b[0m \u001b[1;33m\u001b[0m\u001b[0m\n\u001b[0;32m    678\u001b[0m     \u001b[0mparser_f\u001b[0m\u001b[1;33m.\u001b[0m\u001b[0m__name__\u001b[0m \u001b[1;33m=\u001b[0m \u001b[0mname\u001b[0m\u001b[1;33m\u001b[0m\u001b[1;33m\u001b[0m\u001b[0m\n",
      "\u001b[1;32m~\\anaconda3\\lib\\site-packages\\pandas\\io\\parsers.py\u001b[0m in \u001b[0;36m_read\u001b[1;34m(filepath_or_buffer, kwds)\u001b[0m\n\u001b[0;32m    446\u001b[0m \u001b[1;33m\u001b[0m\u001b[0m\n\u001b[0;32m    447\u001b[0m     \u001b[1;31m# Create the parser.\u001b[0m\u001b[1;33m\u001b[0m\u001b[1;33m\u001b[0m\u001b[1;33m\u001b[0m\u001b[0m\n\u001b[1;32m--> 448\u001b[1;33m     \u001b[0mparser\u001b[0m \u001b[1;33m=\u001b[0m \u001b[0mTextFileReader\u001b[0m\u001b[1;33m(\u001b[0m\u001b[0mfp_or_buf\u001b[0m\u001b[1;33m,\u001b[0m \u001b[1;33m**\u001b[0m\u001b[0mkwds\u001b[0m\u001b[1;33m)\u001b[0m\u001b[1;33m\u001b[0m\u001b[1;33m\u001b[0m\u001b[0m\n\u001b[0m\u001b[0;32m    449\u001b[0m \u001b[1;33m\u001b[0m\u001b[0m\n\u001b[0;32m    450\u001b[0m     \u001b[1;32mif\u001b[0m \u001b[0mchunksize\u001b[0m \u001b[1;32mor\u001b[0m \u001b[0miterator\u001b[0m\u001b[1;33m:\u001b[0m\u001b[1;33m\u001b[0m\u001b[1;33m\u001b[0m\u001b[0m\n",
      "\u001b[1;32m~\\anaconda3\\lib\\site-packages\\pandas\\io\\parsers.py\u001b[0m in \u001b[0;36m__init__\u001b[1;34m(self, f, engine, **kwds)\u001b[0m\n\u001b[0;32m    878\u001b[0m             \u001b[0mself\u001b[0m\u001b[1;33m.\u001b[0m\u001b[0moptions\u001b[0m\u001b[1;33m[\u001b[0m\u001b[1;34m\"has_index_names\"\u001b[0m\u001b[1;33m]\u001b[0m \u001b[1;33m=\u001b[0m \u001b[0mkwds\u001b[0m\u001b[1;33m[\u001b[0m\u001b[1;34m\"has_index_names\"\u001b[0m\u001b[1;33m]\u001b[0m\u001b[1;33m\u001b[0m\u001b[1;33m\u001b[0m\u001b[0m\n\u001b[0;32m    879\u001b[0m \u001b[1;33m\u001b[0m\u001b[0m\n\u001b[1;32m--> 880\u001b[1;33m         \u001b[0mself\u001b[0m\u001b[1;33m.\u001b[0m\u001b[0m_make_engine\u001b[0m\u001b[1;33m(\u001b[0m\u001b[0mself\u001b[0m\u001b[1;33m.\u001b[0m\u001b[0mengine\u001b[0m\u001b[1;33m)\u001b[0m\u001b[1;33m\u001b[0m\u001b[1;33m\u001b[0m\u001b[0m\n\u001b[0m\u001b[0;32m    881\u001b[0m \u001b[1;33m\u001b[0m\u001b[0m\n\u001b[0;32m    882\u001b[0m     \u001b[1;32mdef\u001b[0m \u001b[0mclose\u001b[0m\u001b[1;33m(\u001b[0m\u001b[0mself\u001b[0m\u001b[1;33m)\u001b[0m\u001b[1;33m:\u001b[0m\u001b[1;33m\u001b[0m\u001b[1;33m\u001b[0m\u001b[0m\n",
      "\u001b[1;32m~\\anaconda3\\lib\\site-packages\\pandas\\io\\parsers.py\u001b[0m in \u001b[0;36m_make_engine\u001b[1;34m(self, engine)\u001b[0m\n\u001b[0;32m   1112\u001b[0m     \u001b[1;32mdef\u001b[0m \u001b[0m_make_engine\u001b[0m\u001b[1;33m(\u001b[0m\u001b[0mself\u001b[0m\u001b[1;33m,\u001b[0m \u001b[0mengine\u001b[0m\u001b[1;33m=\u001b[0m\u001b[1;34m\"c\"\u001b[0m\u001b[1;33m)\u001b[0m\u001b[1;33m:\u001b[0m\u001b[1;33m\u001b[0m\u001b[1;33m\u001b[0m\u001b[0m\n\u001b[0;32m   1113\u001b[0m         \u001b[1;32mif\u001b[0m \u001b[0mengine\u001b[0m \u001b[1;33m==\u001b[0m \u001b[1;34m\"c\"\u001b[0m\u001b[1;33m:\u001b[0m\u001b[1;33m\u001b[0m\u001b[1;33m\u001b[0m\u001b[0m\n\u001b[1;32m-> 1114\u001b[1;33m             \u001b[0mself\u001b[0m\u001b[1;33m.\u001b[0m\u001b[0m_engine\u001b[0m \u001b[1;33m=\u001b[0m \u001b[0mCParserWrapper\u001b[0m\u001b[1;33m(\u001b[0m\u001b[0mself\u001b[0m\u001b[1;33m.\u001b[0m\u001b[0mf\u001b[0m\u001b[1;33m,\u001b[0m \u001b[1;33m**\u001b[0m\u001b[0mself\u001b[0m\u001b[1;33m.\u001b[0m\u001b[0moptions\u001b[0m\u001b[1;33m)\u001b[0m\u001b[1;33m\u001b[0m\u001b[1;33m\u001b[0m\u001b[0m\n\u001b[0m\u001b[0;32m   1115\u001b[0m         \u001b[1;32melse\u001b[0m\u001b[1;33m:\u001b[0m\u001b[1;33m\u001b[0m\u001b[1;33m\u001b[0m\u001b[0m\n\u001b[0;32m   1116\u001b[0m             \u001b[1;32mif\u001b[0m \u001b[0mengine\u001b[0m \u001b[1;33m==\u001b[0m \u001b[1;34m\"python\"\u001b[0m\u001b[1;33m:\u001b[0m\u001b[1;33m\u001b[0m\u001b[1;33m\u001b[0m\u001b[0m\n",
      "\u001b[1;32m~\\anaconda3\\lib\\site-packages\\pandas\\io\\parsers.py\u001b[0m in \u001b[0;36m__init__\u001b[1;34m(self, src, **kwds)\u001b[0m\n\u001b[0;32m   1889\u001b[0m         \u001b[0mkwds\u001b[0m\u001b[1;33m[\u001b[0m\u001b[1;34m\"usecols\"\u001b[0m\u001b[1;33m]\u001b[0m \u001b[1;33m=\u001b[0m \u001b[0mself\u001b[0m\u001b[1;33m.\u001b[0m\u001b[0musecols\u001b[0m\u001b[1;33m\u001b[0m\u001b[1;33m\u001b[0m\u001b[0m\n\u001b[0;32m   1890\u001b[0m \u001b[1;33m\u001b[0m\u001b[0m\n\u001b[1;32m-> 1891\u001b[1;33m         \u001b[0mself\u001b[0m\u001b[1;33m.\u001b[0m\u001b[0m_reader\u001b[0m \u001b[1;33m=\u001b[0m \u001b[0mparsers\u001b[0m\u001b[1;33m.\u001b[0m\u001b[0mTextReader\u001b[0m\u001b[1;33m(\u001b[0m\u001b[0msrc\u001b[0m\u001b[1;33m,\u001b[0m \u001b[1;33m**\u001b[0m\u001b[0mkwds\u001b[0m\u001b[1;33m)\u001b[0m\u001b[1;33m\u001b[0m\u001b[1;33m\u001b[0m\u001b[0m\n\u001b[0m\u001b[0;32m   1892\u001b[0m         \u001b[0mself\u001b[0m\u001b[1;33m.\u001b[0m\u001b[0munnamed_cols\u001b[0m \u001b[1;33m=\u001b[0m \u001b[0mself\u001b[0m\u001b[1;33m.\u001b[0m\u001b[0m_reader\u001b[0m\u001b[1;33m.\u001b[0m\u001b[0munnamed_cols\u001b[0m\u001b[1;33m\u001b[0m\u001b[1;33m\u001b[0m\u001b[0m\n\u001b[0;32m   1893\u001b[0m \u001b[1;33m\u001b[0m\u001b[0m\n",
      "\u001b[1;32mpandas\\_libs\\parsers.pyx\u001b[0m in \u001b[0;36mpandas._libs.parsers.TextReader.__cinit__\u001b[1;34m()\u001b[0m\n",
      "\u001b[1;32mpandas\\_libs\\parsers.pyx\u001b[0m in \u001b[0;36mpandas._libs.parsers.TextReader._setup_parser_source\u001b[1;34m()\u001b[0m\n",
      "\u001b[1;31mFileNotFoundError\u001b[0m: [Errno 2] File Training Data1/Eric_Gagne.csv does not exist: 'Training Data1/Eric_Gagne.csv'"
     ]
    }
   ],
   "source": [
    "eg=pd.read_csv('Training Data1/Eric_Gagne.csv')\n",
    "eg=eg.drop('team', axis=1)\n",
    "eg=eg.drop('league', axis=1)\n",
    "eg=eg.drop('nameFirst', axis=1)\n",
    "eg=eg.drop('nameLast', axis=1)\n",
    "eg=eg.drop('yearID', axis=1)\n",
    "x19 = eg.drop('points', axis=1)\n",
    "y19 = eg['points']"
   ]
  },
  {
   "cell_type": "code",
   "execution_count": 23,
   "metadata": {},
   "outputs": [],
   "source": [
    "fh=pd.read_csv('Training Data1/Felix_Hernandez.csv')\n",
    "fh=fh.drop('team', axis=1)\n",
    "fh=fh.drop('league', axis=1)\n",
    "fh=fh.drop('nameFirst', axis=1)\n",
    "fh=fh.drop('nameLast', axis=1)\n",
    "fh=fh.drop('yearID', axis=1)\n",
    "x20 = fh.drop('points', axis=1)\n",
    "y20 = fh['points']"
   ]
  },
  {
   "cell_type": "code",
   "execution_count": 24,
   "metadata": {},
   "outputs": [],
   "source": [
    "fv=pd.read_csv('Training Data1/Fernando_Valenzuela.csv')\n",
    "fv=fv.drop('team', axis=1)\n",
    "fv=fv.drop('league', axis=1)\n",
    "fv=fv.drop('nameFirst', axis=1)\n",
    "fv=fv.drop('nameLast', axis=1)\n",
    "fv=fv.drop('yearID', axis=1)\n",
    "x21 = fv.drop('points', axis=1)\n",
    "y21 = fv['points']"
   ]
  },
  {
   "cell_type": "code",
   "execution_count": 25,
   "metadata": {},
   "outputs": [],
   "source": [
    "gp=pd.read_csv('Training Data1/Gaylord_Perry.csv')\n",
    "gp=gp.drop('team', axis=1)\n",
    "gp=gp.drop('league', axis=1)\n",
    "gp=gp.drop('nameFirst', axis=1)\n",
    "gp=gp.drop('nameLast', axis=1)\n",
    "gp=gp.drop('yearID', axis=1)\n",
    "x22 = gp.drop('points', axis=1)\n",
    "y22 = gp['points']"
   ]
  },
  {
   "cell_type": "code",
   "execution_count": 26,
   "metadata": {},
   "outputs": [],
   "source": [
    "gm=pd.read_csv('Training Data1/Greg_Maddux(1993).csv')\n",
    "gm=gm.drop('team', axis=1)\n",
    "gm=gm.drop('league', axis=1)\n",
    "gm=gm.drop('nameFirst', axis=1)\n",
    "gm=gm.drop('nameLast', axis=1)\n",
    "gm=gm.drop('yearID', axis=1)\n",
    "x23 = gm.drop('points', axis=1)\n",
    "y23 = gm['points']"
   ]
  },
  {
   "cell_type": "code",
   "execution_count": 27,
   "metadata": {},
   "outputs": [],
   "source": [
    "gm1=pd.read_csv('Training Data1/Greg_Maddux(1994).csv')\n",
    "gm1=gm1.drop('team', axis=1)\n",
    "gm1=gm1.drop('league', axis=1)\n",
    "gm1=gm1.drop('nameFirst', axis=1)\n",
    "gm1=gm1.drop('nameLast', axis=1)\n",
    "gm1=gm1.drop('yearID', axis=1)\n",
    "x24 = gm1.drop('points', axis=1)\n",
    "y24 = gm1['points']"
   ]
  },
  {
   "cell_type": "code",
   "execution_count": 28,
   "metadata": {},
   "outputs": [],
   "source": [
    "gm2=pd.read_csv('Training Data1/Greg_Maddux(1995).csv')\n",
    "gm2=gm2.drop('team', axis=1)\n",
    "gm2=gm2.drop('league', axis=1)\n",
    "gm2=gm2.drop('nameFirst', axis=1)\n",
    "gm2=gm2.drop('nameLast', axis=1)\n",
    "gm2=gm2.drop('yearID', axis=1)\n",
    "x25 = gm2.drop('points', axis=1)\n",
    "y25 = gm2['points']"
   ]
  },
  {
   "cell_type": "code",
   "execution_count": 29,
   "metadata": {},
   "outputs": [],
   "source": [
    "jm=pd.read_csv('Training Data1/Jack_McDowell.csv')\n",
    "jm=jm.drop('team', axis=1)\n",
    "jm=jm.drop('league', axis=1)\n",
    "jm=jm.drop('nameFirst', axis=1)\n",
    "jm=jm.drop('nameLast', axis=1)\n",
    "jm=jm.drop('yearID', axis=1)\n",
    "x26 = jm.drop('points', axis=1)\n",
    "y26 = jm['points']"
   ]
  },
  {
   "cell_type": "code",
   "execution_count": 30,
   "metadata": {},
   "outputs": [],
   "source": [
    "jp=pd.read_csv('Training Data1/Jake_Peavy.csv')\n",
    "jp=jp.drop('team', axis=1)\n",
    "jp=jp.drop('league', axis=1)\n",
    "jp=jp.drop('nameFirst', axis=1)\n",
    "jp=jp.drop('nameLast', axis=1)\n",
    "jp=jp.drop('yearID', axis=1)\n",
    "x27 = jp.drop('points', axis=1)\n",
    "y27 = jp['points']"
   ]
  },
  {
   "cell_type": "code",
   "execution_count": 31,
   "metadata": {},
   "outputs": [],
   "source": [
    "jp1=pd.read_csv('Training Data1/Jim_Palmer(1975).csv')\n",
    "jp1=jp1.drop('team', axis=1)\n",
    "jp1=jp1.drop('league', axis=1)\n",
    "jp1=jp1.drop('nameFirst', axis=1)\n",
    "jp1=jp1.drop('nameLast', axis=1)\n",
    "jp1=jp1.drop('yearID', axis=1)\n",
    "x28 = jp1.drop('points', axis=1)\n",
    "y28 = jp1['points']"
   ]
  },
  {
   "cell_type": "code",
   "execution_count": 32,
   "metadata": {},
   "outputs": [],
   "source": [
    "js=pd.read_csv('Training Data1/Johan_Santana(2006).csv')\n",
    "js=js.drop('team', axis=1)\n",
    "js=js.drop('league', axis=1)\n",
    "js=js.drop('nameFirst', axis=1)\n",
    "js=js.drop('nameLast', axis=1)\n",
    "js=js.drop('yearID', axis=1)\n",
    "x29 = js.drop('points', axis=1)\n",
    "y29 = js['points']"
   ]
  },
  {
   "cell_type": "code",
   "execution_count": 33,
   "metadata": {},
   "outputs": [],
   "source": [
    "jd=pd.read_csv('Training Data1/John_Denny.csv')\n",
    "jd=jd.drop('team', axis=1)\n",
    "jd=jd.drop('league', axis=1)\n",
    "jd=jd.drop('nameFirst', axis=1)\n",
    "jd=jd.drop('nameLast', axis=1)\n",
    "jd=jd.drop('yearID', axis=1)\n",
    "x30 = jd.drop('points', axis=1)\n",
    "y30 = jd['points']"
   ]
  },
  {
   "cell_type": "code",
   "execution_count": 34,
   "metadata": {},
   "outputs": [],
   "source": [
    "jv=pd.read_csv('Training Data1/Justin_Verlander.csv')\n",
    "jv=jv.drop('team', axis=1)\n",
    "jv=jv.drop('league', axis=1)\n",
    "jv=jv.drop('nameFirst', axis=1)\n",
    "jv=jv.drop('nameLast', axis=1)\n",
    "jv=jv.drop('yearID', axis=1)\n",
    "x31 = jv.drop('points', axis=1)\n",
    "y31 = jv['points']"
   ]
  },
  {
   "cell_type": "code",
   "execution_count": 35,
   "metadata": {},
   "outputs": [],
   "source": [
    "lh=pd.read_csv('Training Data1/LaMarr_Hoyt.csv')\n",
    "lh=lh.drop('team', axis=1)\n",
    "lh=lh.drop('league', axis=1)\n",
    "lh=lh.drop('nameFirst', axis=1)\n",
    "lh=lh.drop('nameLast', axis=1)\n",
    "lh=lh.drop('yearID', axis=1)\n",
    "x32 = lh.drop('points', axis=1)\n",
    "y32 = lh['points']"
   ]
  },
  {
   "cell_type": "code",
   "execution_count": 36,
   "metadata": {},
   "outputs": [],
   "source": [
    "md=pd.read_csv('Training Data1/Mark_Davis.csv')\n",
    "md=md.drop('team', axis=1)\n",
    "md=md.drop('league', axis=1)\n",
    "md=md.drop('nameFirst', axis=1)\n",
    "md=md.drop('nameLast', axis=1)\n",
    "md=md.drop('yearID', axis=1)\n",
    "x33 = md.drop('points', axis=1)\n",
    "y33 = md['points']"
   ]
  },
  {
   "cell_type": "code",
   "execution_count": 37,
   "metadata": {},
   "outputs": [],
   "source": [
    "ms=pd.read_csv('Training Data1/Max_Scherzer(2013).csv')\n",
    "ms=ms.drop('team', axis=1)\n",
    "ms=ms.drop('league', axis=1)\n",
    "ms=ms.drop('nameFirst', axis=1)\n",
    "ms=ms.drop('nameLast', axis=1)\n",
    "ms=ms.drop('yearID', axis=1)\n",
    "x34 = ms.drop('points', axis=1)\n",
    "y34 = ms['points']"
   ]
  },
  {
   "cell_type": "code",
   "execution_count": 38,
   "metadata": {},
   "outputs": [],
   "source": [
    "mf=pd.read_csv('Training Data1/Mike_Flanagan.csv')\n",
    "mf=mf.drop('team', axis=1)\n",
    "mf=mf.drop('league', axis=1)\n",
    "mf=mf.drop('nameFirst', axis=1)\n",
    "mf=mf.drop('nameLast', axis=1)\n",
    "mf=mf.drop('yearID', axis=1)\n",
    "x36 = mf.drop('points', axis=1)\n",
    "y36 = mf['points']"
   ]
  },
  {
   "cell_type": "code",
   "execution_count": 39,
   "metadata": {},
   "outputs": [],
   "source": [
    "ms2=pd.read_csv('Training Data1/Mike_Scott.csv')\n",
    "ms2=ms2.drop('team', axis=1)\n",
    "ms2=ms2.drop('league', axis=1)\n",
    "ms2=ms2.drop('nameFirst', axis=1)\n",
    "ms2=ms2.drop('nameLast', axis=1)\n",
    "ms2=ms2.drop('yearID', axis=1)\n",
    "x37 = ms2.drop('points', axis=1)\n",
    "y37 = ms2['points']"
   ]
  },
  {
   "cell_type": "code",
   "execution_count": 40,
   "metadata": {},
   "outputs": [],
   "source": [
    "pm=pd.read_csv('Training Data1/Pedro_Martinez(1997).csv')\n",
    "pm=pm.drop('team', axis=1)\n",
    "pm=pm.drop('league', axis=1)\n",
    "pm=pm.drop('nameFirst', axis=1)\n",
    "pm=pm.drop('nameLast', axis=1)\n",
    "pm=pm.drop('yearID', axis=1)\n",
    "x38 = pm.drop('points', axis=1)\n",
    "y38 = pm['points']"
   ]
  },
  {
   "cell_type": "code",
   "execution_count": 41,
   "metadata": {},
   "outputs": [],
   "source": [
    "pm1=pd.read_csv('Training Data1/Pedro_Martinez(1999).csv')\n",
    "pm1=pm1.drop('team', axis=1)\n",
    "pm1=pm1.drop('league', axis=1)\n",
    "pm1=pm1.drop('nameFirst', axis=1)\n",
    "pm1=pm1.drop('nameLast', axis=1)\n",
    "pm1=pm1.drop('yearID', axis=1)\n",
    "x39 = pm1.drop('points', axis=1)\n",
    "y39 = pm1['points']"
   ]
  },
  {
   "cell_type": "code",
   "execution_count": 42,
   "metadata": {},
   "outputs": [],
   "source": [
    "pv=pd.read_csv('Training Data1/Pete_Vuckovich.csv')\n",
    "pv=pv.drop('team', axis=1)\n",
    "pv=pv.drop('league', axis=1)\n",
    "pv=pv.drop('nameFirst', axis=1)\n",
    "pv=pv.drop('nameLast', axis=1)\n",
    "pv=pv.drop('yearID', axis=1)\n",
    "x40 = pv.drop('points', axis=1)\n",
    "y40 = pv['points']"
   ]
  },
  {
   "cell_type": "code",
   "execution_count": 43,
   "metadata": {},
   "outputs": [],
   "source": [
    "rj1=pd.read_csv('Training Data1/Randy_Johnson(1999).csv')\n",
    "rj1=rj1.drop('team', axis=1)\n",
    "rj1=rj1.drop('league', axis=1)\n",
    "rj1=rj1.drop('nameFirst', axis=1)\n",
    "rj1=rj1.drop('nameLast', axis=1)\n",
    "rj1=rj1.drop('yearID', axis=1)\n",
    "x42 = rj1.drop('points', axis=1)\n",
    "y42 = rj1['points']"
   ]
  },
  {
   "cell_type": "code",
   "execution_count": 44,
   "metadata": {},
   "outputs": [],
   "source": [
    "rj2=pd.read_csv('Training Data1/Randy_Johnson(2001).csv')\n",
    "rj2=rj2.drop('team', axis=1)\n",
    "rj2=rj2.drop('league', axis=1)\n",
    "rj2=rj2.drop('nameFirst', axis=1)\n",
    "rj2=rj2.drop('nameLast', axis=1)\n",
    "rj2=rj2.drop('yearID', axis=1)\n",
    "x43 = rj2.drop('points', axis=1)\n",
    "y43 = rj2['points']"
   ]
  },
  {
   "cell_type": "code",
   "execution_count": 45,
   "metadata": {},
   "outputs": [],
   "source": [
    "rj3=pd.read_csv('Training Data1/Randy_Johnson(2002).csv')\n",
    "rj3=rj3.drop('team', axis=1)\n",
    "rj3=rj3.drop('league', axis=1)\n",
    "rj3=rj3.drop('nameFirst', axis=1)\n",
    "rj3=rj3.drop('nameLast', axis=1)\n",
    "rj3=rj3.drop('yearID', axis=1)\n",
    "x44 = rj3.drop('points', axis=1)\n",
    "y44 = rj3['points']"
   ]
  },
  {
   "cell_type": "code",
   "execution_count": 46,
   "metadata": {},
   "outputs": [],
   "source": [
    "rc=pd.read_csv('Training Data1/Roger_Clemens(1986).csv')\n",
    "rc=rc.drop('team', axis=1)\n",
    "rc=rc.drop('league', axis=1)\n",
    "rc=rc.drop('nameFirst', axis=1)\n",
    "rc=rc.drop('nameLast', axis=1)\n",
    "rc=rc.drop('yearID', axis=1)\n",
    "x45 = rc.drop('points', axis=1)\n",
    "y45 = rc['points']"
   ]
  },
  {
   "cell_type": "code",
   "execution_count": 47,
   "metadata": {},
   "outputs": [],
   "source": [
    "rc5=pd.read_csv('Training Data1/Roger_Clemens(1987).csv')\n",
    "rc5=rc5.drop('team', axis=1)\n",
    "rc5=rc5.drop('league', axis=1)\n",
    "rc5=rc5.drop('nameFirst', axis=1)\n",
    "rc5=rc5.drop('nameLast', axis=1)\n",
    "rc5=rc5.drop('yearID', axis=1)\n",
    "x46 = rc5.drop('points', axis=1)\n",
    "y46 = rc5['points']"
   ]
  },
  {
   "cell_type": "code",
   "execution_count": 48,
   "metadata": {},
   "outputs": [],
   "source": [
    "rc1=pd.read_csv('Training Data1/Roger_Clemens(1991).csv')\n",
    "rc1=rc1.drop('team', axis=1)\n",
    "rc1=rc1.drop('league', axis=1)\n",
    "rc1=rc1.drop('nameFirst', axis=1)\n",
    "rc1=rc1.drop('nameLast', axis=1)\n",
    "rc1=rc1.drop('yearID', axis=1)\n",
    "x47 = rc1.drop('points', axis=1)\n",
    "y47 = rc1['points']"
   ]
  },
  {
   "cell_type": "code",
   "execution_count": 49,
   "metadata": {},
   "outputs": [],
   "source": [
    "rc2=pd.read_csv('Training Data1/Roger_Clemens(1997).csv')\n",
    "rc2=rc2.drop('team', axis=1)\n",
    "rc2=rc2.drop('league', axis=1)\n",
    "rc2=rc2.drop('nameFirst', axis=1)\n",
    "rc2=rc2.drop('nameLast', axis=1)\n",
    "rc2=rc2.drop('yearID', axis=1)\n",
    "x48 = rc2.drop('points', axis=1)\n",
    "y48 = rc2['points']"
   ]
  },
  {
   "cell_type": "code",
   "execution_count": 50,
   "metadata": {},
   "outputs": [],
   "source": [
    "rc3=pd.read_csv('Training Data1/Roger_Clemens(1998).csv')\n",
    "rc3=rc3.drop('team', axis=1)\n",
    "rc3=rc3.drop('league', axis=1)\n",
    "rc3=rc3.drop('nameFirst', axis=1)\n",
    "rc3=rc3.drop('nameLast', axis=1)\n",
    "rc3=rc3.drop('yearID', axis=1)\n",
    "x49 = rc3.drop('points', axis=1)\n",
    "y49 = rc3['points']"
   ]
  },
  {
   "cell_type": "code",
   "execution_count": 51,
   "metadata": {},
   "outputs": [],
   "source": [
    "rc4=pd.read_csv('Training Data1/Roger_Clemens(2001).csv')\n",
    "rc4=rc4.drop('team', axis=1)\n",
    "rc4=rc4.drop('league', axis=1)\n",
    "rc4=rc4.drop('nameFirst', axis=1)\n",
    "rc4=rc4.drop('nameLast', axis=1)\n",
    "rc4=rc4.drop('yearID', axis=1)\n",
    "x50 = rc4.drop('points', axis=1)\n",
    "y50 = rc4['points']"
   ]
  },
  {
   "cell_type": "code",
   "execution_count": 52,
   "metadata": {},
   "outputs": [],
   "source": [
    "rf=pd.read_csv('Training Data1/Rollie_Fingers.csv')\n",
    "rf=rf.drop('team', axis=1)\n",
    "rf=rf.drop('league', axis=1)\n",
    "rf=rf.drop('nameFirst', axis=1)\n",
    "rf=rf.drop('nameLast', axis=1)\n",
    "rf=rf.drop('yearID', axis=1)\n",
    "x51 = rf.drop('points', axis=1)\n",
    "y51 = rf['points']"
   ]
  },
  {
   "cell_type": "code",
   "execution_count": 53,
   "metadata": {},
   "outputs": [],
   "source": [
    "rg=pd.read_csv('Training Data1/Ron_Guidry.csv')\n",
    "rg=rg.drop('team', axis=1)\n",
    "rg=rg.drop('league', axis=1)\n",
    "rg=rg.drop('nameFirst', axis=1)\n",
    "rg=rg.drop('nameLast', axis=1)\n",
    "rg=rg.drop('yearID', axis=1)\n",
    "x52 = rg.drop('points', axis=1)\n",
    "y52 = rg['points']"
   ]
  },
  {
   "cell_type": "code",
   "execution_count": 54,
   "metadata": {},
   "outputs": [],
   "source": [
    "rh=pd.read_csv('Training Data1/Roy_Halladay(2003).csv')\n",
    "rh=rh.drop('team', axis=1)\n",
    "rh=rh.drop('league', axis=1)\n",
    "rh=rh.drop('nameFirst', axis=1)\n",
    "rh=rh.drop('nameLast', axis=1)\n",
    "rh=rh.drop('yearID', axis=1)\n",
    "x53 = rh.drop('points', axis=1)\n",
    "y53 = rh['points']"
   ]
  },
  {
   "cell_type": "code",
   "execution_count": 55,
   "metadata": {},
   "outputs": [],
   "source": [
    "sl=pd.read_csv('Training Data1/Sparky_Lyle.csv')\n",
    "sl=sl.drop('team', axis=1)\n",
    "sl=sl.drop('league', axis=1)\n",
    "sl=sl.drop('nameFirst', axis=1)\n",
    "sl=sl.drop('nameLast', axis=1)\n",
    "sl=sl.drop('yearID', axis=1)\n",
    "x55 = sl.drop('points', axis=1)\n",
    "y55 = sl['points']"
   ]
  },
  {
   "cell_type": "code",
   "execution_count": 56,
   "metadata": {},
   "outputs": [],
   "source": [
    "sc1=pd.read_csv('Training Data1/Steve_Carlton(1982).csv')\n",
    "sc1=sc1.drop('team', axis=1)\n",
    "sc1=sc1.drop('league', axis=1)\n",
    "sc1=sc1.drop('nameFirst', axis=1)\n",
    "sc1=sc1.drop('nameLast', axis=1)\n",
    "sc1=sc1.drop('yearID', axis=1)\n",
    "x58 = sc1.drop('points', axis=1)\n",
    "y58 = sc1['points']"
   ]
  },
  {
   "cell_type": "code",
   "execution_count": 57,
   "metadata": {},
   "outputs": [],
   "source": [
    "tl=pd.read_csv('Training Data1/Tim_Lincecum(2009).csv')\n",
    "tl=tl.drop('team', axis=1)\n",
    "tl=tl.drop('league', axis=1)\n",
    "tl=tl.drop('nameFirst', axis=1)\n",
    "tl=tl.drop('nameLast', axis=1)\n",
    "tl=tl.drop('yearID', axis=1)\n",
    "x59 = tl.drop('points', axis=1)\n",
    "y59 = tl['points']"
   ]
  },
  {
   "cell_type": "code",
   "execution_count": 58,
   "metadata": {},
   "outputs": [],
   "source": [
    "tg=pd.read_csv('Training Data1/Tom_Glavine(1991).csv')\n",
    "tg=tg.drop('team', axis=1)\n",
    "tg=tg.drop('league', axis=1)\n",
    "tg=tg.drop('nameFirst', axis=1)\n",
    "tg=tg.drop('nameLast', axis=1)\n",
    "tg=tg.drop('yearID', axis=1)\n",
    "x60 = tg.drop('points', axis=1)\n",
    "y60 = tg['points']"
   ]
  },
  {
   "cell_type": "code",
   "execution_count": 59,
   "metadata": {},
   "outputs": [],
   "source": [
    "tg1=pd.read_csv('Training Data1/Tom_Glavine(1998).csv')\n",
    "tg1=tg1.drop('team', axis=1)\n",
    "tg1=tg1.drop('league', axis=1)\n",
    "tg1=tg1.drop('nameFirst', axis=1)\n",
    "tg1=tg1.drop('nameLast', axis=1)\n",
    "tg1=tg1.drop('yearID', axis=1)\n",
    "x61 = tg1.drop('points', axis=1)\n",
    "y61 = tg1['points']"
   ]
  },
  {
   "cell_type": "code",
   "execution_count": 60,
   "metadata": {},
   "outputs": [],
   "source": [
    "ts=pd.read_csv('Training Data1/Tom_Seaver.csv')\n",
    "ts=ts.drop('team', axis=1)\n",
    "ts=ts.drop('league', axis=1)\n",
    "ts=ts.drop('nameFirst', axis=1)\n",
    "ts=ts.drop('nameLast', axis=1)\n",
    "ts=ts.drop('yearID', axis=1)\n",
    "x62 = ts.drop('points', axis=1)\n",
    "y62 = ts['points']"
   ]
  },
  {
   "cell_type": "code",
   "execution_count": 61,
   "metadata": {},
   "outputs": [],
   "source": [
    "#64th and final primed dataset to train the model\n",
    "zg=pd.read_csv('Training Data1/Zack_Greinke.csv')\n",
    "zg=zg.drop('team', axis=1)\n",
    "zg=zg.drop('league', axis=1)\n",
    "zg=zg.drop('nameFirst', axis=1)\n",
    "zg=zg.drop('nameLast', axis=1)\n",
    "zg=zg.drop('yearID', axis=1)\n",
    "x63 = zg.drop('points', axis=1)\n",
    "y63 = zg['points']"
   ]
  },
  {
   "cell_type": "code",
   "execution_count": 62,
   "metadata": {},
   "outputs": [],
   "source": [
    "#Making validations sets out of designated testing data\n",
    "cl=pd.read_csv('Testing Data1/Cliff_Lee.csv')\n",
    "cl=cl.drop('team', axis=1)\n",
    "cl=cl.drop('league', axis=1)\n",
    "cl=cl.drop('nameFirst', axis=1)\n",
    "cl=cl.drop('nameLast', axis=1)\n",
    "cl=cl.drop('yearID', axis=1)\n",
    "valid_set1 = (cl.drop('points', axis=1),cl['points'])"
   ]
  },
  {
   "cell_type": "code",
   "execution_count": 63,
   "metadata": {},
   "outputs": [],
   "source": [
    "dp=pd.read_csv('Testing Data1/David_Price.csv')\n",
    "dp=dp.drop('team', axis=1)\n",
    "dp=dp.drop('league', axis=1)\n",
    "dp=dp.drop('nameFirst', axis=1)\n",
    "dp=dp.drop('nameLast', axis=1)\n",
    "dp=dp.drop('yearID', axis=1)\n",
    "valid_set2 = (dp.drop('points', axis=1),dp['points'])"
   ]
  },
  {
   "cell_type": "code",
   "execution_count": 64,
   "metadata": {},
   "outputs": [],
   "source": [
    "de=pd.read_csv('Testing Data1/Dennis_Eckersley.csv')\n",
    "de=de.drop('team', axis=1)\n",
    "de=de.drop('league', axis=1)\n",
    "de=de.drop('nameFirst', axis=1)\n",
    "de=de.drop('nameLast', axis=1)\n",
    "de=de.drop('yearID', axis=1)\n",
    "valid_set3 = (de.drop('points', axis=1),de['points'])"
   ]
  },
  {
   "cell_type": "code",
   "execution_count": 65,
   "metadata": {},
   "outputs": [],
   "source": [
    "fv1=pd.read_csv('Testing Data1/Frank_Viola.csv')\n",
    "fv1=fv1.drop('team', axis=1)\n",
    "fv1=fv1.drop('league', axis=1)\n",
    "fv1=fv1.drop('nameFirst', axis=1)\n",
    "fv1=fv1.drop('nameLast', axis=1)\n",
    "fv1=fv1.drop('yearID', axis=1)\n",
    "valid_set4 = (fv1.drop('points', axis=1),fv1['points'])"
   ]
  },
  {
   "cell_type": "code",
   "execution_count": 66,
   "metadata": {},
   "outputs": [],
   "source": [
    "gm3=pd.read_csv('Testing Data1/Greg_Maddux(1992).csv')\n",
    "gm3=gm3.drop('team', axis=1)\n",
    "gm3=gm3.drop('league', axis=1)\n",
    "gm3=gm3.drop('nameFirst', axis=1)\n",
    "gm3=gm3.drop('nameLast', axis=1)\n",
    "gm3=gm3.drop('yearID', axis=1)\n",
    "valid_set5 = (gm3.drop('points', axis=1),gm3['points'])"
   ]
  },
  {
   "cell_type": "code",
   "execution_count": 67,
   "metadata": {},
   "outputs": [],
   "source": [
    "jp2=pd.read_csv('Testing Data1/Jim_Palmer(1976).csv')\n",
    "jp2=jp2.drop('team', axis=1)\n",
    "jp2=jp2.drop('league', axis=1)\n",
    "jp2=jp2.drop('nameFirst', axis=1)\n",
    "jp2=jp2.drop('nameLast', axis=1)\n",
    "jp2=jp2.drop('yearID', axis=1)\n",
    "valid_set6 = (jp2.drop('points', axis=1),jp2['points'])"
   ]
  },
  {
   "cell_type": "code",
   "execution_count": 68,
   "metadata": {},
   "outputs": [],
   "source": [
    "js1=pd.read_csv('Testing Data1/Johan_Santana(2004).csv')\n",
    "js1=js1.drop('team', axis=1)\n",
    "js1=js1.drop('league', axis=1)\n",
    "js1=js1.drop('nameFirst', axis=1)\n",
    "js1=js1.drop('nameLast', axis=1)\n",
    "js1=js1.drop('yearID', axis=1)\n",
    "valid_set7 = (js1.drop('points', axis=1),js1['points'])"
   ]
  },
  {
   "cell_type": "code",
   "execution_count": 69,
   "metadata": {},
   "outputs": [],
   "source": [
    "js2=pd.read_csv('Testing Data1/John_Smoltz.csv')\n",
    "js2=js2.drop('team', axis=1)\n",
    "js2=js2.drop('league', axis=1)\n",
    "js2=js2.drop('nameFirst', axis=1)\n",
    "js2=js2.drop('nameLast', axis=1)\n",
    "js2=js2.drop('yearID', axis=1)\n",
    "valid_set8 = (js2.drop('points', axis=1),js2['points'])"
   ]
  },
  {
   "cell_type": "code",
   "execution_count": 70,
   "metadata": {},
   "outputs": [],
   "source": [
    "ms3=pd.read_csv('Testing Data1/Max_Scherzer(2016).csv')\n",
    "ms3=ms3.drop('team', axis=1)\n",
    "ms3=ms3.drop('league', axis=1)\n",
    "ms3=ms3.drop('nameFirst', axis=1)\n",
    "ms3=ms3.drop('nameLast', axis=1)\n",
    "ms3=ms3.drop('yearID', axis=1)\n",
    "valid_set9 = (ms3.drop('points', axis=1),ms3['points'])"
   ]
  },
  {
   "cell_type": "code",
   "execution_count": 468,
   "metadata": {},
   "outputs": [
    {
     "ename": "FileNotFoundError",
     "evalue": "[Errno 2] File Testing Data1/Orel_Hershiser.csv does not exist: 'Testing Data1/Orel_Hershiser.csv'",
     "output_type": "error",
     "traceback": [
      "\u001b[1;31m---------------------------------------------------------------------------\u001b[0m",
      "\u001b[1;31mFileNotFoundError\u001b[0m                         Traceback (most recent call last)",
      "\u001b[1;32m<ipython-input-468-9dbbecb1b0b1>\u001b[0m in \u001b[0;36m<module>\u001b[1;34m\u001b[0m\n\u001b[1;32m----> 1\u001b[1;33m \u001b[0moh\u001b[0m\u001b[1;33m=\u001b[0m\u001b[0mpd\u001b[0m\u001b[1;33m.\u001b[0m\u001b[0mread_csv\u001b[0m\u001b[1;33m(\u001b[0m\u001b[1;34m'Testing Data1/Orel_Hershiser.csv'\u001b[0m\u001b[1;33m)\u001b[0m\u001b[1;33m\u001b[0m\u001b[1;33m\u001b[0m\u001b[0m\n\u001b[0m\u001b[0;32m      2\u001b[0m \u001b[0moh\u001b[0m\u001b[1;33m=\u001b[0m\u001b[0moh\u001b[0m\u001b[1;33m.\u001b[0m\u001b[0mdrop\u001b[0m\u001b[1;33m(\u001b[0m\u001b[1;34m'team'\u001b[0m\u001b[1;33m,\u001b[0m \u001b[0maxis\u001b[0m\u001b[1;33m=\u001b[0m\u001b[1;36m1\u001b[0m\u001b[1;33m)\u001b[0m\u001b[1;33m\u001b[0m\u001b[1;33m\u001b[0m\u001b[0m\n\u001b[0;32m      3\u001b[0m \u001b[0moh\u001b[0m\u001b[1;33m=\u001b[0m\u001b[0moh\u001b[0m\u001b[1;33m.\u001b[0m\u001b[0mdrop\u001b[0m\u001b[1;33m(\u001b[0m\u001b[1;34m'league'\u001b[0m\u001b[1;33m,\u001b[0m \u001b[0maxis\u001b[0m\u001b[1;33m=\u001b[0m\u001b[1;36m1\u001b[0m\u001b[1;33m)\u001b[0m\u001b[1;33m\u001b[0m\u001b[1;33m\u001b[0m\u001b[0m\n\u001b[0;32m      4\u001b[0m \u001b[0moh\u001b[0m\u001b[1;33m=\u001b[0m\u001b[0moh\u001b[0m\u001b[1;33m.\u001b[0m\u001b[0mdrop\u001b[0m\u001b[1;33m(\u001b[0m\u001b[1;34m'nameFirst'\u001b[0m\u001b[1;33m,\u001b[0m \u001b[0maxis\u001b[0m\u001b[1;33m=\u001b[0m\u001b[1;36m1\u001b[0m\u001b[1;33m)\u001b[0m\u001b[1;33m\u001b[0m\u001b[1;33m\u001b[0m\u001b[0m\n\u001b[0;32m      5\u001b[0m \u001b[0moh\u001b[0m\u001b[1;33m=\u001b[0m\u001b[0moh\u001b[0m\u001b[1;33m.\u001b[0m\u001b[0mdrop\u001b[0m\u001b[1;33m(\u001b[0m\u001b[1;34m'nameLast'\u001b[0m\u001b[1;33m,\u001b[0m \u001b[0maxis\u001b[0m\u001b[1;33m=\u001b[0m\u001b[1;36m1\u001b[0m\u001b[1;33m)\u001b[0m\u001b[1;33m\u001b[0m\u001b[1;33m\u001b[0m\u001b[0m\n",
      "\u001b[1;32m~\\anaconda3\\lib\\site-packages\\pandas\\io\\parsers.py\u001b[0m in \u001b[0;36mparser_f\u001b[1;34m(filepath_or_buffer, sep, delimiter, header, names, index_col, usecols, squeeze, prefix, mangle_dupe_cols, dtype, engine, converters, true_values, false_values, skipinitialspace, skiprows, skipfooter, nrows, na_values, keep_default_na, na_filter, verbose, skip_blank_lines, parse_dates, infer_datetime_format, keep_date_col, date_parser, dayfirst, cache_dates, iterator, chunksize, compression, thousands, decimal, lineterminator, quotechar, quoting, doublequote, escapechar, comment, encoding, dialect, error_bad_lines, warn_bad_lines, delim_whitespace, low_memory, memory_map, float_precision)\u001b[0m\n\u001b[0;32m    674\u001b[0m         )\n\u001b[0;32m    675\u001b[0m \u001b[1;33m\u001b[0m\u001b[0m\n\u001b[1;32m--> 676\u001b[1;33m         \u001b[1;32mreturn\u001b[0m \u001b[0m_read\u001b[0m\u001b[1;33m(\u001b[0m\u001b[0mfilepath_or_buffer\u001b[0m\u001b[1;33m,\u001b[0m \u001b[0mkwds\u001b[0m\u001b[1;33m)\u001b[0m\u001b[1;33m\u001b[0m\u001b[1;33m\u001b[0m\u001b[0m\n\u001b[0m\u001b[0;32m    677\u001b[0m \u001b[1;33m\u001b[0m\u001b[0m\n\u001b[0;32m    678\u001b[0m     \u001b[0mparser_f\u001b[0m\u001b[1;33m.\u001b[0m\u001b[0m__name__\u001b[0m \u001b[1;33m=\u001b[0m \u001b[0mname\u001b[0m\u001b[1;33m\u001b[0m\u001b[1;33m\u001b[0m\u001b[0m\n",
      "\u001b[1;32m~\\anaconda3\\lib\\site-packages\\pandas\\io\\parsers.py\u001b[0m in \u001b[0;36m_read\u001b[1;34m(filepath_or_buffer, kwds)\u001b[0m\n\u001b[0;32m    446\u001b[0m \u001b[1;33m\u001b[0m\u001b[0m\n\u001b[0;32m    447\u001b[0m     \u001b[1;31m# Create the parser.\u001b[0m\u001b[1;33m\u001b[0m\u001b[1;33m\u001b[0m\u001b[1;33m\u001b[0m\u001b[0m\n\u001b[1;32m--> 448\u001b[1;33m     \u001b[0mparser\u001b[0m \u001b[1;33m=\u001b[0m \u001b[0mTextFileReader\u001b[0m\u001b[1;33m(\u001b[0m\u001b[0mfp_or_buf\u001b[0m\u001b[1;33m,\u001b[0m \u001b[1;33m**\u001b[0m\u001b[0mkwds\u001b[0m\u001b[1;33m)\u001b[0m\u001b[1;33m\u001b[0m\u001b[1;33m\u001b[0m\u001b[0m\n\u001b[0m\u001b[0;32m    449\u001b[0m \u001b[1;33m\u001b[0m\u001b[0m\n\u001b[0;32m    450\u001b[0m     \u001b[1;32mif\u001b[0m \u001b[0mchunksize\u001b[0m \u001b[1;32mor\u001b[0m \u001b[0miterator\u001b[0m\u001b[1;33m:\u001b[0m\u001b[1;33m\u001b[0m\u001b[1;33m\u001b[0m\u001b[0m\n",
      "\u001b[1;32m~\\anaconda3\\lib\\site-packages\\pandas\\io\\parsers.py\u001b[0m in \u001b[0;36m__init__\u001b[1;34m(self, f, engine, **kwds)\u001b[0m\n\u001b[0;32m    878\u001b[0m             \u001b[0mself\u001b[0m\u001b[1;33m.\u001b[0m\u001b[0moptions\u001b[0m\u001b[1;33m[\u001b[0m\u001b[1;34m\"has_index_names\"\u001b[0m\u001b[1;33m]\u001b[0m \u001b[1;33m=\u001b[0m \u001b[0mkwds\u001b[0m\u001b[1;33m[\u001b[0m\u001b[1;34m\"has_index_names\"\u001b[0m\u001b[1;33m]\u001b[0m\u001b[1;33m\u001b[0m\u001b[1;33m\u001b[0m\u001b[0m\n\u001b[0;32m    879\u001b[0m \u001b[1;33m\u001b[0m\u001b[0m\n\u001b[1;32m--> 880\u001b[1;33m         \u001b[0mself\u001b[0m\u001b[1;33m.\u001b[0m\u001b[0m_make_engine\u001b[0m\u001b[1;33m(\u001b[0m\u001b[0mself\u001b[0m\u001b[1;33m.\u001b[0m\u001b[0mengine\u001b[0m\u001b[1;33m)\u001b[0m\u001b[1;33m\u001b[0m\u001b[1;33m\u001b[0m\u001b[0m\n\u001b[0m\u001b[0;32m    881\u001b[0m \u001b[1;33m\u001b[0m\u001b[0m\n\u001b[0;32m    882\u001b[0m     \u001b[1;32mdef\u001b[0m \u001b[0mclose\u001b[0m\u001b[1;33m(\u001b[0m\u001b[0mself\u001b[0m\u001b[1;33m)\u001b[0m\u001b[1;33m:\u001b[0m\u001b[1;33m\u001b[0m\u001b[1;33m\u001b[0m\u001b[0m\n",
      "\u001b[1;32m~\\anaconda3\\lib\\site-packages\\pandas\\io\\parsers.py\u001b[0m in \u001b[0;36m_make_engine\u001b[1;34m(self, engine)\u001b[0m\n\u001b[0;32m   1112\u001b[0m     \u001b[1;32mdef\u001b[0m \u001b[0m_make_engine\u001b[0m\u001b[1;33m(\u001b[0m\u001b[0mself\u001b[0m\u001b[1;33m,\u001b[0m \u001b[0mengine\u001b[0m\u001b[1;33m=\u001b[0m\u001b[1;34m\"c\"\u001b[0m\u001b[1;33m)\u001b[0m\u001b[1;33m:\u001b[0m\u001b[1;33m\u001b[0m\u001b[1;33m\u001b[0m\u001b[0m\n\u001b[0;32m   1113\u001b[0m         \u001b[1;32mif\u001b[0m \u001b[0mengine\u001b[0m \u001b[1;33m==\u001b[0m \u001b[1;34m\"c\"\u001b[0m\u001b[1;33m:\u001b[0m\u001b[1;33m\u001b[0m\u001b[1;33m\u001b[0m\u001b[0m\n\u001b[1;32m-> 1114\u001b[1;33m             \u001b[0mself\u001b[0m\u001b[1;33m.\u001b[0m\u001b[0m_engine\u001b[0m \u001b[1;33m=\u001b[0m \u001b[0mCParserWrapper\u001b[0m\u001b[1;33m(\u001b[0m\u001b[0mself\u001b[0m\u001b[1;33m.\u001b[0m\u001b[0mf\u001b[0m\u001b[1;33m,\u001b[0m \u001b[1;33m**\u001b[0m\u001b[0mself\u001b[0m\u001b[1;33m.\u001b[0m\u001b[0moptions\u001b[0m\u001b[1;33m)\u001b[0m\u001b[1;33m\u001b[0m\u001b[1;33m\u001b[0m\u001b[0m\n\u001b[0m\u001b[0;32m   1115\u001b[0m         \u001b[1;32melse\u001b[0m\u001b[1;33m:\u001b[0m\u001b[1;33m\u001b[0m\u001b[1;33m\u001b[0m\u001b[0m\n\u001b[0;32m   1116\u001b[0m             \u001b[1;32mif\u001b[0m \u001b[0mengine\u001b[0m \u001b[1;33m==\u001b[0m \u001b[1;34m\"python\"\u001b[0m\u001b[1;33m:\u001b[0m\u001b[1;33m\u001b[0m\u001b[1;33m\u001b[0m\u001b[0m\n",
      "\u001b[1;32m~\\anaconda3\\lib\\site-packages\\pandas\\io\\parsers.py\u001b[0m in \u001b[0;36m__init__\u001b[1;34m(self, src, **kwds)\u001b[0m\n\u001b[0;32m   1889\u001b[0m         \u001b[0mkwds\u001b[0m\u001b[1;33m[\u001b[0m\u001b[1;34m\"usecols\"\u001b[0m\u001b[1;33m]\u001b[0m \u001b[1;33m=\u001b[0m \u001b[0mself\u001b[0m\u001b[1;33m.\u001b[0m\u001b[0musecols\u001b[0m\u001b[1;33m\u001b[0m\u001b[1;33m\u001b[0m\u001b[0m\n\u001b[0;32m   1890\u001b[0m \u001b[1;33m\u001b[0m\u001b[0m\n\u001b[1;32m-> 1891\u001b[1;33m         \u001b[0mself\u001b[0m\u001b[1;33m.\u001b[0m\u001b[0m_reader\u001b[0m \u001b[1;33m=\u001b[0m \u001b[0mparsers\u001b[0m\u001b[1;33m.\u001b[0m\u001b[0mTextReader\u001b[0m\u001b[1;33m(\u001b[0m\u001b[0msrc\u001b[0m\u001b[1;33m,\u001b[0m \u001b[1;33m**\u001b[0m\u001b[0mkwds\u001b[0m\u001b[1;33m)\u001b[0m\u001b[1;33m\u001b[0m\u001b[1;33m\u001b[0m\u001b[0m\n\u001b[0m\u001b[0;32m   1892\u001b[0m         \u001b[0mself\u001b[0m\u001b[1;33m.\u001b[0m\u001b[0munnamed_cols\u001b[0m \u001b[1;33m=\u001b[0m \u001b[0mself\u001b[0m\u001b[1;33m.\u001b[0m\u001b[0m_reader\u001b[0m\u001b[1;33m.\u001b[0m\u001b[0munnamed_cols\u001b[0m\u001b[1;33m\u001b[0m\u001b[1;33m\u001b[0m\u001b[0m\n\u001b[0;32m   1893\u001b[0m \u001b[1;33m\u001b[0m\u001b[0m\n",
      "\u001b[1;32mpandas\\_libs\\parsers.pyx\u001b[0m in \u001b[0;36mpandas._libs.parsers.TextReader.__cinit__\u001b[1;34m()\u001b[0m\n",
      "\u001b[1;32mpandas\\_libs\\parsers.pyx\u001b[0m in \u001b[0;36mpandas._libs.parsers.TextReader._setup_parser_source\u001b[1;34m()\u001b[0m\n",
      "\u001b[1;31mFileNotFoundError\u001b[0m: [Errno 2] File Testing Data1/Orel_Hershiser.csv does not exist: 'Testing Data1/Orel_Hershiser.csv'"
     ]
    }
   ],
   "source": [
    "oh=pd.read_csv('Testing Data1/Orel_Hershiser.csv')\n",
    "oh=oh.drop('team', axis=1)\n",
    "oh=oh.drop('league', axis=1)\n",
    "oh=oh.drop('nameFirst', axis=1)\n",
    "oh=oh.drop('nameLast', axis=1)\n",
    "oh=oh.drop('yearID', axis=1)\n",
    "valid_set10 = (oh.drop('points', axis=1),oh['points'])"
   ]
  },
  {
   "cell_type": "code",
   "execution_count": 71,
   "metadata": {},
   "outputs": [],
   "source": [
    "#These final 10 cases will be used for prediction and testing\n",
    "ph=pd.read_csv('Testing Data1/Pat_Hentgen.csv')\n",
    "ph=ph.drop('team', axis=1)\n",
    "ph=ph.drop('league', axis=1)\n",
    "ph=ph.drop('nameFirst', axis=1)\n",
    "ph=ph.drop('nameLast', axis=1)\n",
    "ph=ph.drop('yearID', axis=1)\n",
    "x_test1 = ph.drop('points', axis=1)\n",
    "y_test1 = ph['points']"
   ]
  },
  {
   "cell_type": "code",
   "execution_count": 72,
   "metadata": {},
   "outputs": [],
   "source": [
    "pm2=pd.read_csv('Testing Data1/Pedro_Martinez(2000).csv')\n",
    "pm2=pm2.drop('team', axis=1)\n",
    "pm2=pm2.drop('league', axis=1)\n",
    "pm2=pm2.drop('nameFirst', axis=1)\n",
    "pm2=pm2.drop('nameLast', axis=1)\n",
    "pm2=pm2.drop('yearID', axis=1)\n",
    "x_test2 = pm2.drop('points', axis=1)\n",
    "y_test2 = pm2['points']"
   ]
  },
  {
   "cell_type": "code",
   "execution_count": 73,
   "metadata": {},
   "outputs": [],
   "source": [
    "rd=pd.read_csv('Testing Data1/RA_Dickey.csv')\n",
    "rd=rd.drop('team', axis=1)\n",
    "rd=rd.drop('league', axis=1)\n",
    "rd=rd.drop('nameFirst', axis=1)\n",
    "rd=rd.drop('nameLast', axis=1)\n",
    "rd=rd.drop('yearID', axis=1)\n",
    "x_test3 = rd.drop('points', axis=1)\n",
    "y_test3 = rd['points']"
   ]
  },
  {
   "cell_type": "code",
   "execution_count": 74,
   "metadata": {},
   "outputs": [],
   "source": [
    "rj4=pd.read_csv('Testing Data1/Randy_Johnson(2000).csv')\n",
    "rj4=rj4.drop('team', axis=1)\n",
    "rj4=rj4.drop('league', axis=1)\n",
    "rj4=rj4.drop('nameFirst', axis=1)\n",
    "rj4=rj4.drop('nameLast', axis=1)\n",
    "rj4=rj4.drop('yearID', axis=1)\n",
    "x_test4 = rj4.drop('points', axis=1)\n",
    "y_test4 = rj4['points']"
   ]
  },
  {
   "cell_type": "code",
   "execution_count": 75,
   "metadata": {},
   "outputs": [],
   "source": [
    "rj5=pd.read_csv('Testing Data1/Randy_Jones.csv')\n",
    "rj5=rj5.drop('team', axis=1)\n",
    "rj5=rj5.drop('league', axis=1)\n",
    "rj5=rj5.drop('nameFirst', axis=1)\n",
    "rj5=rj5.drop('nameLast', axis=1)\n",
    "rj5=rj5.drop('yearID', axis=1)\n",
    "x_test5 = rj5.drop('points', axis=1)\n",
    "y_test5 = rj5['points']"
   ]
  },
  {
   "cell_type": "code",
   "execution_count": 76,
   "metadata": {},
   "outputs": [],
   "source": [
    "rp=pd.read_csv('Testing Data1/Rick_Porcello.csv')\n",
    "rp=rp.drop('team', axis=1)\n",
    "rp=rp.drop('league', axis=1)\n",
    "rp=rp.drop('nameFirst', axis=1)\n",
    "rp=rp.drop('nameLast', axis=1)\n",
    "rp=rp.drop('yearID', axis=1)\n",
    "x_test6 = rp.drop('points', axis=1)\n",
    "y_test6 = rp['points']"
   ]
  },
  {
   "cell_type": "code",
   "execution_count": 77,
   "metadata": {},
   "outputs": [],
   "source": [
    "rc6=pd.read_csv('Testing Data1/Roger_Clemens(2004).csv')\n",
    "rc6=rc6.drop('team', axis=1)\n",
    "rc6=rc6.drop('league', axis=1)\n",
    "rc6=rc6.drop('nameFirst', axis=1)\n",
    "rc6=rc6.drop('nameLast', axis=1)\n",
    "rc6=rc6.drop('yearID', axis=1)\n",
    "x_test7 = rc6.drop('points', axis=1)\n",
    "y_test7 = rc6['points']"
   ]
  },
  {
   "cell_type": "code",
   "execution_count": 78,
   "metadata": {},
   "outputs": [],
   "source": [
    "sc2=pd.read_csv('Testing Data1/Steve_Carlton(1980).csv')\n",
    "sc2=sc2.drop('team', axis=1)\n",
    "sc2=sc2.drop('league', axis=1)\n",
    "sc2=sc2.drop('nameFirst', axis=1)\n",
    "sc2=sc2.drop('nameLast', axis=1)\n",
    "sc2=sc2.drop('yearID', axis=1)\n",
    "x_test8 = sc2.drop('points', axis=1)\n",
    "y_test8 = sc2['points']"
   ]
  },
  {
   "cell_type": "code",
   "execution_count": 79,
   "metadata": {},
   "outputs": [],
   "source": [
    "ss=pd.read_csv('Testing Data1/Steve_Stone.csv')\n",
    "ss=ss.drop('team', axis=1)\n",
    "ss=ss.drop('league', axis=1)\n",
    "ss=ss.drop('nameFirst', axis=1)\n",
    "ss=ss.drop('nameLast', axis=1)\n",
    "ss=ss.drop('yearID', axis=1)\n",
    "x_test9 = ss.drop('points', axis=1)\n",
    "y_test9 = ss['points']"
   ]
  },
  {
   "cell_type": "code",
   "execution_count": 80,
   "metadata": {},
   "outputs": [],
   "source": [
    "tl1=pd.read_csv('Testing Data1/Tim_Lincecum(2008).csv')\n",
    "tl1=tl1.drop('team', axis=1)\n",
    "tl1=tl1.drop('league', axis=1)\n",
    "tl1=tl1.drop('nameFirst', axis=1)\n",
    "tl1=tl1.drop('nameLast', axis=1)\n",
    "tl1=tl1.drop('yearID', axis=1)\n",
    "x_test10 = tl1.drop('points', axis=1)\n",
    "y_test10 = tl1['points']"
   ]
  },
  {
   "cell_type": "code",
   "execution_count": 81,
   "metadata": {
    "scrolled": true
   },
   "outputs": [
    {
     "name": "stdout",
     "output_type": "stream",
     "text": [
      "Epoch 1/30\n",
      "5/5 - 0s - loss: 0.1908 - acc: 0.0000e+00\n",
      "Epoch 2/30\n",
      "5/5 - 0s - loss: 0.1697 - acc: 0.0000e+00\n",
      "Epoch 3/30\n",
      "5/5 - 0s - loss: 0.1478 - acc: 0.0000e+00\n",
      "Epoch 4/30\n",
      "5/5 - 0s - loss: 0.1271 - acc: 0.0000e+00\n",
      "Epoch 5/30\n",
      "5/5 - 0s - loss: 0.1098 - acc: 0.0000e+00\n",
      "Epoch 6/30\n",
      "5/5 - 0s - loss: 0.0990 - acc: 0.0000e+00\n",
      "Epoch 7/30\n",
      "5/5 - 0s - loss: 0.0959 - acc: 0.0000e+00\n",
      "Epoch 8/30\n",
      "5/5 - 0s - loss: 0.0979 - acc: 0.0000e+00\n",
      "Epoch 9/30\n",
      "5/5 - 0s - loss: 0.1029 - acc: 0.0000e+00\n",
      "Epoch 10/30\n",
      "5/5 - 0s - loss: 0.1074 - acc: 0.0000e+00\n",
      "Epoch 11/30\n",
      "5/5 - 0s - loss: 0.1093 - acc: 0.0000e+00\n",
      "Epoch 12/30\n",
      "5/5 - 0s - loss: 0.1083 - acc: 0.0000e+00\n",
      "Epoch 13/30\n",
      "5/5 - 0s - loss: 0.1050 - acc: 0.0000e+00\n",
      "Epoch 14/30\n",
      "5/5 - 0s - loss: 0.1005 - acc: 0.0000e+00\n",
      "Epoch 15/30\n",
      "5/5 - 0s - loss: 0.0958 - acc: 0.0000e+00\n",
      "Epoch 16/30\n",
      "5/5 - 0s - loss: 0.0920 - acc: 0.0000e+00\n",
      "Epoch 17/30\n",
      "5/5 - 0s - loss: 0.0895 - acc: 0.0000e+00\n",
      "Epoch 18/30\n",
      "5/5 - 0s - loss: 0.0885 - acc: 0.0000e+00\n",
      "Epoch 19/30\n",
      "5/5 - 0s - loss: 0.0887 - acc: 0.0000e+00\n",
      "Epoch 20/30\n",
      "5/5 - 0s - loss: 0.0895 - acc: 0.0000e+00\n",
      "Epoch 21/30\n",
      "5/5 - 0s - loss: 0.0904 - acc: 0.0000e+00\n",
      "Epoch 22/30\n",
      "5/5 - 0s - loss: 0.0908 - acc: 0.0000e+00\n",
      "Epoch 23/30\n",
      "5/5 - 0s - loss: 0.0907 - acc: 0.0000e+00\n",
      "Epoch 24/30\n",
      "5/5 - 0s - loss: 0.0900 - acc: 0.0000e+00\n",
      "Epoch 25/30\n",
      "5/5 - 0s - loss: 0.0889 - acc: 0.0000e+00\n",
      "Epoch 26/30\n",
      "5/5 - 0s - loss: 0.0875 - acc: 0.0000e+00\n",
      "Epoch 27/30\n",
      "5/5 - 0s - loss: 0.0863 - acc: 0.0000e+00\n",
      "Epoch 28/30\n",
      "5/5 - 0s - loss: 0.0852 - acc: 0.0000e+00\n",
      "Epoch 29/30\n",
      "5/5 - 0s - loss: 0.0846 - acc: 0.0000e+00\n",
      "Epoch 30/30\n",
      "5/5 - 0s - loss: 0.0844 - acc: 0.0000e+00\n"
     ]
    },
    {
     "data": {
      "text/plain": [
       "<tensorflow.python.keras.callbacks.History at 0x20f631c9a88>"
      ]
     },
     "execution_count": 81,
     "metadata": {},
     "output_type": "execute_result"
    }
   ],
   "source": [
    "#Now the model will trained using the cases defined earlier\n",
    "sli.fit(x,y, batch_size=5, epochs=30, shuffle=True, verbose=2)"
   ]
  },
  {
   "cell_type": "code",
   "execution_count": 82,
   "metadata": {},
   "outputs": [
    {
     "name": "stdout",
     "output_type": "stream",
     "text": [
      "Epoch 1/30\n",
      "5/5 - 0s - loss: 0.2395 - acc: 0.0000e+00\n",
      "Epoch 2/30\n",
      "5/5 - 0s - loss: 0.2390 - acc: 0.0000e+00\n",
      "Epoch 3/30\n",
      "5/5 - 0s - loss: 0.2375 - acc: 0.0000e+00\n",
      "Epoch 4/30\n",
      "5/5 - 0s - loss: 0.2348 - acc: 0.0000e+00\n",
      "Epoch 5/30\n",
      "5/5 - 0s - loss: 0.2319 - acc: 0.0000e+00\n",
      "Epoch 6/30\n",
      "5/5 - 0s - loss: 0.2279 - acc: 0.0000e+00\n",
      "Epoch 7/30\n",
      "5/5 - 0s - loss: 0.2232 - acc: 0.0000e+00\n",
      "Epoch 8/30\n",
      "5/5 - 0s - loss: 0.2189 - acc: 0.0000e+00\n",
      "Epoch 9/30\n",
      "5/5 - 0s - loss: 0.2145 - acc: 0.0000e+00\n",
      "Epoch 10/30\n",
      "5/5 - 0s - loss: 0.2099 - acc: 0.0000e+00\n",
      "Epoch 11/30\n",
      "5/5 - 0s - loss: 0.2058 - acc: 0.0000e+00\n",
      "Epoch 12/30\n",
      "5/5 - 0s - loss: 0.2023 - acc: 0.0000e+00\n",
      "Epoch 13/30\n",
      "5/5 - 0s - loss: 0.1989 - acc: 0.0000e+00\n",
      "Epoch 14/30\n",
      "5/5 - 0s - loss: 0.1958 - acc: 0.0000e+00\n",
      "Epoch 15/30\n",
      "5/5 - 0s - loss: 0.1932 - acc: 0.0000e+00\n",
      "Epoch 16/30\n",
      "5/5 - 0s - loss: 0.1908 - acc: 0.0000e+00\n",
      "Epoch 17/30\n",
      "5/5 - 0s - loss: 0.1888 - acc: 0.0000e+00\n",
      "Epoch 18/30\n",
      "5/5 - 0s - loss: 0.1871 - acc: 0.0000e+00\n",
      "Epoch 19/30\n",
      "5/5 - 0s - loss: 0.1856 - acc: 0.0000e+00\n",
      "Epoch 20/30\n",
      "5/5 - 0s - loss: 0.1842 - acc: 0.0000e+00\n",
      "Epoch 21/30\n",
      "5/5 - 0s - loss: 0.1825 - acc: 0.0000e+00\n",
      "Epoch 22/30\n",
      "5/5 - 0s - loss: 0.1807 - acc: 0.0000e+00\n",
      "Epoch 23/30\n",
      "5/5 - 0s - loss: 0.1787 - acc: 0.0000e+00\n",
      "Epoch 24/30\n",
      "5/5 - 0s - loss: 0.1764 - acc: 0.0000e+00\n",
      "Epoch 25/30\n",
      "5/5 - 0s - loss: 0.1739 - acc: 0.0000e+00\n",
      "Epoch 26/30\n",
      "5/5 - 0s - loss: 0.1712 - acc: 0.0000e+00\n",
      "Epoch 27/30\n",
      "5/5 - 0s - loss: 0.1691 - acc: 0.0000e+00\n",
      "Epoch 28/30\n",
      "5/5 - 0s - loss: 0.1673 - acc: 0.0000e+00\n",
      "Epoch 29/30\n",
      "5/5 - 0s - loss: 0.1654 - acc: 0.0000e+00\n",
      "Epoch 30/30\n",
      "5/5 - 0s - loss: 0.1640 - acc: 0.0000e+00\n"
     ]
    },
    {
     "data": {
      "text/plain": [
       "<tensorflow.python.keras.callbacks.History at 0x20f632a7f88>"
      ]
     },
     "execution_count": 82,
     "metadata": {},
     "output_type": "execute_result"
    }
   ],
   "source": [
    "sli.fit(x1,y1, batch_size=5, epochs=30, shuffle=True, verbose=2)"
   ]
  },
  {
   "cell_type": "code",
   "execution_count": 83,
   "metadata": {},
   "outputs": [
    {
     "name": "stdout",
     "output_type": "stream",
     "text": [
      "Epoch 1/30\n",
      "5/5 - 0s - loss: 0.1801 - acc: 0.0000e+00\n",
      "Epoch 2/30\n",
      "5/5 - 0s - loss: 0.1797 - acc: 0.0000e+00\n",
      "Epoch 3/30\n",
      "5/5 - 0s - loss: 0.1760 - acc: 0.0000e+00\n",
      "Epoch 4/30\n",
      "5/5 - 0s - loss: 0.1695 - acc: 0.0000e+00\n",
      "Epoch 5/30\n",
      "5/5 - 0s - loss: 0.1614 - acc: 0.0000e+00\n",
      "Epoch 6/30\n",
      "5/5 - 0s - loss: 0.1531 - acc: 0.0000e+00\n",
      "Epoch 7/30\n",
      "5/5 - 0s - loss: 0.1455 - acc: 0.0000e+00\n",
      "Epoch 8/30\n",
      "5/5 - 0s - loss: 0.1390 - acc: 0.0000e+00\n",
      "Epoch 9/30\n",
      "5/5 - 0s - loss: 0.1338 - acc: 0.0000e+00\n",
      "Epoch 10/30\n",
      "5/5 - 0s - loss: 0.1296 - acc: 0.0000e+00\n",
      "Epoch 11/30\n",
      "5/5 - 0s - loss: 0.1255 - acc: 0.0000e+00\n",
      "Epoch 12/30\n",
      "5/5 - 0s - loss: 0.1228 - acc: 0.0000e+00\n",
      "Epoch 13/30\n",
      "5/5 - 0s - loss: 0.1217 - acc: 0.0000e+00\n",
      "Epoch 14/30\n",
      "5/5 - 0s - loss: 0.1209 - acc: 0.0000e+00\n",
      "Epoch 15/30\n",
      "5/5 - 0s - loss: 0.1200 - acc: 0.0000e+00\n",
      "Epoch 16/30\n",
      "5/5 - 0s - loss: 0.1188 - acc: 0.0000e+00\n",
      "Epoch 17/30\n",
      "5/5 - 0s - loss: 0.1177 - acc: 0.0000e+00\n",
      "Epoch 18/30\n",
      "5/5 - 0s - loss: 0.1166 - acc: 0.0000e+00\n",
      "Epoch 19/30\n",
      "5/5 - 0s - loss: 0.1155 - acc: 0.0000e+00\n",
      "Epoch 20/30\n",
      "5/5 - 0s - loss: 0.1145 - acc: 0.0000e+00\n",
      "Epoch 21/30\n",
      "5/5 - 0s - loss: 0.1136 - acc: 0.0000e+00\n",
      "Epoch 22/30\n",
      "5/5 - 0s - loss: 0.1128 - acc: 0.0000e+00\n",
      "Epoch 23/30\n",
      "5/5 - 0s - loss: 0.1122 - acc: 0.0000e+00\n",
      "Epoch 24/30\n",
      "5/5 - 0s - loss: 0.1117 - acc: 0.0000e+00\n",
      "Epoch 25/30\n",
      "5/5 - 0s - loss: 0.1113 - acc: 0.0000e+00\n",
      "Epoch 26/30\n",
      "5/5 - 0s - loss: 0.1109 - acc: 0.0000e+00\n",
      "Epoch 27/30\n",
      "5/5 - 0s - loss: 0.1104 - acc: 0.0000e+00\n",
      "Epoch 28/30\n",
      "5/5 - 0s - loss: 0.1099 - acc: 0.0000e+00\n",
      "Epoch 29/30\n",
      "5/5 - 0s - loss: 0.1094 - acc: 0.0000e+00\n",
      "Epoch 30/30\n",
      "5/5 - 0s - loss: 0.1090 - acc: 0.0000e+00\n"
     ]
    },
    {
     "data": {
      "text/plain": [
       "<tensorflow.python.keras.callbacks.History at 0x20f63282c48>"
      ]
     },
     "execution_count": 83,
     "metadata": {},
     "output_type": "execute_result"
    }
   ],
   "source": [
    "sli.fit(x2,y2, batch_size=5, epochs=30, shuffle=True, verbose=2)"
   ]
  },
  {
   "cell_type": "code",
   "execution_count": 84,
   "metadata": {},
   "outputs": [
    {
     "name": "stdout",
     "output_type": "stream",
     "text": [
      "Epoch 1/30\n",
      "5/5 - 0s - loss: 0.1952 - acc: 0.0000e+00\n",
      "Epoch 2/30\n",
      "5/5 - 0s - loss: 0.1956 - acc: 0.0000e+00\n",
      "Epoch 3/30\n",
      "5/5 - 0s - loss: 0.1946 - acc: 0.0000e+00\n",
      "Epoch 4/30\n",
      "5/5 - 0s - loss: 0.1923 - acc: 0.0000e+00\n",
      "Epoch 5/30\n",
      "5/5 - 0s - loss: 0.1887 - acc: 0.0000e+00\n",
      "Epoch 6/30\n",
      "5/5 - 0s - loss: 0.1840 - acc: 0.0000e+00\n",
      "Epoch 7/30\n",
      "5/5 - 0s - loss: 0.1781 - acc: 0.0000e+00\n",
      "Epoch 8/30\n",
      "5/5 - 0s - loss: 0.1709 - acc: 0.0000e+00\n",
      "Epoch 9/30\n",
      "5/5 - 0s - loss: 0.1619 - acc: 0.0000e+00\n",
      "Epoch 10/30\n",
      "5/5 - 0s - loss: 0.1508 - acc: 0.0000e+00\n",
      "Epoch 11/30\n",
      "5/5 - 0s - loss: 0.1373 - acc: 0.0000e+00\n",
      "Epoch 12/30\n",
      "5/5 - 0s - loss: 0.1209 - acc: 0.0000e+00\n",
      "Epoch 13/30\n",
      "5/5 - 0s - loss: 0.1025 - acc: 0.0000e+00\n",
      "Epoch 14/30\n",
      "5/5 - 0s - loss: 0.0838 - acc: 0.0000e+00\n",
      "Epoch 15/30\n",
      "5/5 - 0s - loss: 0.0680 - acc: 0.0000e+00\n",
      "Epoch 16/30\n",
      "5/5 - 0s - loss: 0.0580 - acc: 0.0000e+00\n",
      "Epoch 17/30\n",
      "5/5 - 0s - loss: 0.0549 - acc: 0.0000e+00\n",
      "Epoch 18/30\n",
      "5/5 - 0s - loss: 0.0570 - acc: 0.0000e+00\n",
      "Epoch 19/30\n",
      "5/5 - 0s - loss: 0.0609 - acc: 0.0000e+00\n",
      "Epoch 20/30\n",
      "5/5 - 0s - loss: 0.0641 - acc: 0.0000e+00\n",
      "Epoch 21/30\n",
      "5/5 - 0s - loss: 0.0654 - acc: 0.0000e+00\n",
      "Epoch 22/30\n",
      "5/5 - 0s - loss: 0.0647 - acc: 0.0000e+00\n",
      "Epoch 23/30\n",
      "5/5 - 0s - loss: 0.0621 - acc: 0.0000e+00\n",
      "Epoch 24/30\n",
      "5/5 - 0s - loss: 0.0578 - acc: 0.0000e+00\n",
      "Epoch 25/30\n",
      "5/5 - 0s - loss: 0.0526 - acc: 0.0000e+00\n",
      "Epoch 26/30\n",
      "5/5 - 0s - loss: 0.0473 - acc: 0.0000e+00\n",
      "Epoch 27/30\n",
      "5/5 - 0s - loss: 0.0429 - acc: 0.0000e+00\n",
      "Epoch 28/30\n",
      "5/5 - 0s - loss: 0.0401 - acc: 0.0000e+00\n",
      "Epoch 29/30\n",
      "5/5 - 0s - loss: 0.0393 - acc: 0.0000e+00\n",
      "Epoch 30/30\n",
      "5/5 - 0s - loss: 0.0402 - acc: 0.0000e+00\n"
     ]
    },
    {
     "data": {
      "text/plain": [
       "<tensorflow.python.keras.callbacks.History at 0x20f6321ff88>"
      ]
     },
     "execution_count": 84,
     "metadata": {},
     "output_type": "execute_result"
    }
   ],
   "source": [
    "sli.fit(x3,y3, batch_size=5, epochs=30, shuffle=True, verbose=2)"
   ]
  },
  {
   "cell_type": "code",
   "execution_count": 85,
   "metadata": {},
   "outputs": [
    {
     "name": "stdout",
     "output_type": "stream",
     "text": [
      "Epoch 1/30\n",
      "5/5 - 0s - loss: 0.1843 - acc: 0.0000e+00\n",
      "Epoch 2/30\n",
      "5/5 - 0s - loss: 0.1721 - acc: 0.0000e+00\n",
      "Epoch 3/30\n",
      "5/5 - 0s - loss: 0.1560 - acc: 0.0000e+00\n",
      "Epoch 4/30\n",
      "5/5 - 0s - loss: 0.1371 - acc: 0.0000e+00\n",
      "Epoch 5/30\n",
      "5/5 - 0s - loss: 0.1174 - acc: 0.0000e+00\n",
      "Epoch 6/30\n",
      "5/5 - 0s - loss: 0.1004 - acc: 0.0000e+00\n",
      "Epoch 7/30\n",
      "5/5 - 0s - loss: 0.0893 - acc: 0.0000e+00\n",
      "Epoch 8/30\n",
      "5/5 - 0s - loss: 0.0854 - acc: 0.0000e+00\n",
      "Epoch 9/30\n",
      "5/5 - 0s - loss: 0.0872 - acc: 0.0000e+00\n",
      "Epoch 10/30\n",
      "5/5 - 0s - loss: 0.0919 - acc: 0.0000e+00\n",
      "Epoch 11/30\n",
      "5/5 - 0s - loss: 0.0972 - acc: 0.0000e+00\n",
      "Epoch 12/30\n",
      "5/5 - 0s - loss: 0.1019 - acc: 0.0000e+00\n",
      "Epoch 13/30\n",
      "5/5 - 0s - loss: 0.1054 - acc: 0.0000e+00\n",
      "Epoch 14/30\n",
      "5/5 - 0s - loss: 0.1077 - acc: 0.0000e+00\n",
      "Epoch 15/30\n",
      "5/5 - 0s - loss: 0.1087 - acc: 0.0000e+00\n",
      "Epoch 16/30\n",
      "5/5 - 0s - loss: 0.1086 - acc: 0.0000e+00\n",
      "Epoch 17/30\n",
      "5/5 - 0s - loss: 0.1076 - acc: 0.0000e+00\n",
      "Epoch 18/30\n",
      "5/5 - 0s - loss: 0.1056 - acc: 0.0000e+00\n",
      "Epoch 19/30\n",
      "5/5 - 0s - loss: 0.1029 - acc: 0.0000e+00\n",
      "Epoch 20/30\n",
      "5/5 - 0s - loss: 0.0996 - acc: 0.0000e+00\n",
      "Epoch 21/30\n",
      "5/5 - 0s - loss: 0.0960 - acc: 0.0000e+00\n",
      "Epoch 22/30\n",
      "5/5 - 0s - loss: 0.0924 - acc: 0.0000e+00\n",
      "Epoch 23/30\n",
      "5/5 - 0s - loss: 0.0891 - acc: 0.0000e+00\n",
      "Epoch 24/30\n",
      "5/5 - 0s - loss: 0.0866 - acc: 0.0000e+00\n",
      "Epoch 25/30\n",
      "5/5 - 0s - loss: 0.0852 - acc: 0.0000e+00\n",
      "Epoch 26/30\n",
      "5/5 - 0s - loss: 0.0850 - acc: 0.0000e+00\n",
      "Epoch 27/30\n",
      "5/5 - 0s - loss: 0.0857 - acc: 0.0000e+00\n",
      "Epoch 28/30\n",
      "5/5 - 0s - loss: 0.0870 - acc: 0.0000e+00\n",
      "Epoch 29/30\n",
      "5/5 - 0s - loss: 0.0884 - acc: 0.0000e+00\n",
      "Epoch 30/30\n",
      "5/5 - 0s - loss: 0.0894 - acc: 0.0000e+00\n"
     ]
    },
    {
     "data": {
      "text/plain": [
       "<tensorflow.python.keras.callbacks.History at 0x20f63235548>"
      ]
     },
     "execution_count": 85,
     "metadata": {},
     "output_type": "execute_result"
    }
   ],
   "source": [
    "sli.fit(x4,y4, batch_size=5, epochs=30, shuffle=True, verbose=2)"
   ]
  },
  {
   "cell_type": "code",
   "execution_count": 86,
   "metadata": {},
   "outputs": [
    {
     "name": "stdout",
     "output_type": "stream",
     "text": [
      "Epoch 1/30\n",
      "5/5 - 0s - loss: 0.1310 - acc: 0.0000e+00\n",
      "Epoch 2/30\n",
      "5/5 - 0s - loss: 0.1267 - acc: 0.0000e+00\n",
      "Epoch 3/30\n",
      "5/5 - 0s - loss: 0.1204 - acc: 0.0000e+00\n",
      "Epoch 4/30\n",
      "5/5 - 0s - loss: 0.1139 - acc: 0.0000e+00\n",
      "Epoch 5/30\n",
      "5/5 - 0s - loss: 0.1093 - acc: 0.0000e+00\n",
      "Epoch 6/30\n",
      "5/5 - 0s - loss: 0.1079 - acc: 0.0000e+00\n",
      "Epoch 7/30\n",
      "5/5 - 0s - loss: 0.1098 - acc: 0.0000e+00\n",
      "Epoch 8/30\n",
      "5/5 - 0s - loss: 0.1134 - acc: 0.0000e+00\n",
      "Epoch 9/30\n",
      "5/5 - 0s - loss: 0.1162 - acc: 0.0000e+00\n",
      "Epoch 10/30\n",
      "5/5 - 0s - loss: 0.1168 - acc: 0.0000e+00\n",
      "Epoch 11/30\n",
      "5/5 - 0s - loss: 0.1150 - acc: 0.0000e+00\n",
      "Epoch 12/30\n",
      "5/5 - 0s - loss: 0.1119 - acc: 0.0000e+00\n",
      "Epoch 13/30\n",
      "5/5 - 0s - loss: 0.1091 - acc: 0.0000e+00\n",
      "Epoch 14/30\n",
      "5/5 - 0s - loss: 0.1076 - acc: 0.0000e+00\n",
      "Epoch 15/30\n",
      "5/5 - 0s - loss: 0.1075 - acc: 0.0000e+00\n",
      "Epoch 16/30\n",
      "5/5 - 0s - loss: 0.1085 - acc: 0.0000e+00\n",
      "Epoch 17/30\n",
      "5/5 - 0s - loss: 0.1098 - acc: 0.0000e+00\n",
      "Epoch 18/30\n",
      "5/5 - 0s - loss: 0.1106 - acc: 0.0000e+00\n",
      "Epoch 19/30\n",
      "5/5 - 0s - loss: 0.1106 - acc: 0.0000e+00\n",
      "Epoch 20/30\n",
      "5/5 - 0s - loss: 0.1099 - acc: 0.0000e+00\n",
      "Epoch 21/30\n",
      "5/5 - 0s - loss: 0.1087 - acc: 0.0000e+00\n",
      "Epoch 22/30\n",
      "5/5 - 0s - loss: 0.1075 - acc: 0.0000e+00\n",
      "Epoch 23/30\n",
      "5/5 - 0s - loss: 0.1068 - acc: 0.0000e+00\n",
      "Epoch 24/30\n",
      "5/5 - 0s - loss: 0.1065 - acc: 0.0000e+00\n",
      "Epoch 25/30\n",
      "5/5 - 0s - loss: 0.1068 - acc: 0.0000e+00\n",
      "Epoch 26/30\n",
      "5/5 - 0s - loss: 0.1073 - acc: 0.0000e+00\n",
      "Epoch 27/30\n",
      "5/5 - 0s - loss: 0.1076 - acc: 0.0000e+00\n",
      "Epoch 28/30\n",
      "5/5 - 0s - loss: 0.1075 - acc: 0.0000e+00\n",
      "Epoch 29/30\n",
      "5/5 - 0s - loss: 0.1071 - acc: 0.0000e+00\n",
      "Epoch 30/30\n",
      "5/5 - 0s - loss: 0.1066 - acc: 0.0000e+00\n"
     ]
    },
    {
     "data": {
      "text/plain": [
       "<tensorflow.python.keras.callbacks.History at 0x20f6328e948>"
      ]
     },
     "execution_count": 86,
     "metadata": {},
     "output_type": "execute_result"
    }
   ],
   "source": [
    "sli.fit(x6,y6, batch_size=5, epochs=30, shuffle=True, verbose=2)"
   ]
  },
  {
   "cell_type": "code",
   "execution_count": 87,
   "metadata": {},
   "outputs": [
    {
     "name": "stdout",
     "output_type": "stream",
     "text": [
      "Epoch 1/30\n",
      "5/5 - 0s - loss: 0.0624 - acc: 0.0000e+00\n",
      "Epoch 2/30\n",
      "5/5 - 0s - loss: 0.0627 - acc: 0.0000e+00\n",
      "Epoch 3/30\n",
      "5/5 - 0s - loss: 0.0624 - acc: 0.0000e+00\n",
      "Epoch 4/30\n",
      "5/5 - 0s - loss: 0.0614 - acc: 0.0000e+00\n",
      "Epoch 5/30\n",
      "5/5 - 0s - loss: 0.0600 - acc: 0.0000e+00\n",
      "Epoch 6/30\n",
      "5/5 - 0s - loss: 0.0581 - acc: 0.0000e+00\n",
      "Epoch 7/30\n",
      "5/5 - 0s - loss: 0.0560 - acc: 0.0000e+00\n",
      "Epoch 8/30\n",
      "5/5 - 0s - loss: 0.0538 - acc: 0.0000e+00\n",
      "Epoch 9/30\n",
      "5/5 - 0s - loss: 0.0520 - acc: 0.0000e+00\n",
      "Epoch 10/30\n",
      "5/5 - 0s - loss: 0.0506 - acc: 0.0000e+00\n",
      "Epoch 11/30\n",
      "5/5 - 0s - loss: 0.0500 - acc: 0.0000e+00\n",
      "Epoch 12/30\n",
      "5/5 - 0s - loss: 0.0502 - acc: 0.0000e+00\n",
      "Epoch 13/30\n",
      "5/5 - 0s - loss: 0.0509 - acc: 0.0000e+00\n",
      "Epoch 14/30\n",
      "5/5 - 0s - loss: 0.0517 - acc: 0.0000e+00\n",
      "Epoch 15/30\n",
      "5/5 - 0s - loss: 0.0523 - acc: 0.0000e+00\n",
      "Epoch 16/30\n",
      "5/5 - 0s - loss: 0.0524 - acc: 0.0000e+00\n",
      "Epoch 17/30\n",
      "5/5 - 0s - loss: 0.0519 - acc: 0.0000e+00\n",
      "Epoch 18/30\n",
      "5/5 - 0s - loss: 0.0510 - acc: 0.0000e+00\n",
      "Epoch 19/30\n",
      "5/5 - 0s - loss: 0.0501 - acc: 0.0000e+00\n",
      "Epoch 20/30\n",
      "5/5 - 0s - loss: 0.0493 - acc: 0.0000e+00\n",
      "Epoch 21/30\n",
      "5/5 - 0s - loss: 0.0488 - acc: 0.0000e+00\n",
      "Epoch 22/30\n",
      "5/5 - 0s - loss: 0.0486 - acc: 0.0000e+00\n",
      "Epoch 23/30\n",
      "5/5 - 0s - loss: 0.0486 - acc: 0.0000e+00\n",
      "Epoch 24/30\n",
      "5/5 - 0s - loss: 0.0488 - acc: 0.0000e+00\n",
      "Epoch 25/30\n",
      "5/5 - 0s - loss: 0.0489 - acc: 0.0000e+00\n",
      "Epoch 26/30\n",
      "5/5 - 0s - loss: 0.0490 - acc: 0.0000e+00\n",
      "Epoch 27/30\n",
      "5/5 - 0s - loss: 0.0490 - acc: 0.0000e+00\n",
      "Epoch 28/30\n",
      "5/5 - 0s - loss: 0.0489 - acc: 0.0000e+00\n",
      "Epoch 29/30\n",
      "5/5 - 0s - loss: 0.0486 - acc: 0.0000e+00\n",
      "Epoch 30/30\n",
      "5/5 - 0s - loss: 0.0483 - acc: 0.0000e+00\n"
     ]
    },
    {
     "data": {
      "text/plain": [
       "<tensorflow.python.keras.callbacks.History at 0x20f632b4ac8>"
      ]
     },
     "execution_count": 87,
     "metadata": {},
     "output_type": "execute_result"
    }
   ],
   "source": [
    "sli.fit(x7,y7, batch_size=5, epochs=30, shuffle=True, verbose=2)"
   ]
  },
  {
   "cell_type": "code",
   "execution_count": 88,
   "metadata": {},
   "outputs": [
    {
     "name": "stdout",
     "output_type": "stream",
     "text": [
      "Epoch 1/30\n",
      "5/5 - 0s - loss: 0.1291 - acc: 0.0000e+00\n",
      "Epoch 2/30\n",
      "5/5 - 0s - loss: 0.1132 - acc: 0.0000e+00\n",
      "Epoch 3/30\n",
      "5/5 - 0s - loss: 0.0861 - acc: 0.0000e+00\n",
      "Epoch 4/30\n",
      "5/5 - 0s - loss: 0.0595 - acc: 0.0000e+00\n",
      "Epoch 5/30\n",
      "5/5 - 0s - loss: 0.0437 - acc: 0.0000e+00\n",
      "Epoch 6/30\n",
      "5/5 - 0s - loss: 0.0424 - acc: 0.0000e+00\n",
      "Epoch 7/30\n",
      "5/5 - 0s - loss: 0.0511 - acc: 0.0000e+00\n",
      "Epoch 8/30\n",
      "5/5 - 0s - loss: 0.0620 - acc: 0.0000e+00\n",
      "Epoch 9/30\n",
      "5/5 - 0s - loss: 0.0701 - acc: 0.0000e+00\n",
      "Epoch 10/30\n",
      "5/5 - 0s - loss: 0.0734 - acc: 0.0000e+00\n",
      "Epoch 11/30\n",
      "5/5 - 0s - loss: 0.0716 - acc: 0.0000e+00\n",
      "Epoch 12/30\n",
      "5/5 - 0s - loss: 0.0658 - acc: 0.0000e+00\n",
      "Epoch 13/30\n",
      "5/5 - 0s - loss: 0.0573 - acc: 0.0000e+00\n",
      "Epoch 14/30\n",
      "5/5 - 0s - loss: 0.0485 - acc: 0.0000e+00\n",
      "Epoch 15/30\n",
      "5/5 - 0s - loss: 0.0419 - acc: 0.0000e+00\n",
      "Epoch 16/30\n",
      "5/5 - 0s - loss: 0.0393 - acc: 0.0000e+00\n",
      "Epoch 17/30\n",
      "5/5 - 0s - loss: 0.0408 - acc: 0.0000e+00\n",
      "Epoch 18/30\n",
      "5/5 - 0s - loss: 0.0445 - acc: 0.0000e+00\n",
      "Epoch 19/30\n",
      "5/5 - 0s - loss: 0.0479 - acc: 0.0000e+00\n",
      "Epoch 20/30\n",
      "5/5 - 0s - loss: 0.0489 - acc: 0.0000e+00\n",
      "Epoch 21/30\n",
      "5/5 - 0s - loss: 0.0470 - acc: 0.0000e+00\n",
      "Epoch 22/30\n",
      "5/5 - 0s - loss: 0.0432 - acc: 0.0000e+00\n",
      "Epoch 23/30\n",
      "5/5 - 0s - loss: 0.0390 - acc: 0.0000e+00\n",
      "Epoch 24/30\n",
      "5/5 - 0s - loss: 0.0360 - acc: 0.0000e+00\n",
      "Epoch 25/30\n",
      "5/5 - 0s - loss: 0.0349 - acc: 0.0000e+00\n",
      "Epoch 26/30\n",
      "5/5 - 0s - loss: 0.0354 - acc: 0.0000e+00\n",
      "Epoch 27/30\n",
      "5/5 - 0s - loss: 0.0366 - acc: 0.0000e+00\n",
      "Epoch 28/30\n",
      "5/5 - 0s - loss: 0.0376 - acc: 0.0000e+00\n",
      "Epoch 29/30\n",
      "5/5 - 0s - loss: 0.0379 - acc: 0.0000e+00\n",
      "Epoch 30/30\n",
      "5/5 - 0s - loss: 0.0373 - acc: 0.0000e+00\n"
     ]
    },
    {
     "data": {
      "text/plain": [
       "<tensorflow.python.keras.callbacks.History at 0x20f632b0448>"
      ]
     },
     "execution_count": 88,
     "metadata": {},
     "output_type": "execute_result"
    }
   ],
   "source": [
    "sli.fit(x8,y8, batch_size=5, epochs=30, shuffle=True, verbose=2)"
   ]
  },
  {
   "cell_type": "code",
   "execution_count": 89,
   "metadata": {},
   "outputs": [
    {
     "name": "stdout",
     "output_type": "stream",
     "text": [
      "Epoch 1/30\n",
      "5/5 - 0s - loss: 0.1566 - acc: 0.0000e+00\n",
      "Epoch 2/30\n",
      "5/5 - 0s - loss: 0.1541 - acc: 0.0000e+00\n",
      "Epoch 3/30\n",
      "5/5 - 0s - loss: 0.1508 - acc: 0.0000e+00\n",
      "Epoch 4/30\n",
      "5/5 - 0s - loss: 0.1473 - acc: 0.0000e+00\n",
      "Epoch 5/30\n",
      "5/5 - 0s - loss: 0.1442 - acc: 0.0000e+00\n",
      "Epoch 6/30\n",
      "5/5 - 0s - loss: 0.1419 - acc: 0.0000e+00\n",
      "Epoch 7/30\n",
      "5/5 - 0s - loss: 0.1408 - acc: 0.0000e+00\n",
      "Epoch 8/30\n",
      "5/5 - 0s - loss: 0.1406 - acc: 0.0000e+00\n",
      "Epoch 9/30\n",
      "5/5 - 0s - loss: 0.1410 - acc: 0.0000e+00\n",
      "Epoch 10/30\n",
      "5/5 - 0s - loss: 0.1417 - acc: 0.0000e+00\n",
      "Epoch 11/30\n",
      "5/5 - 0s - loss: 0.1421 - acc: 0.0000e+00\n",
      "Epoch 12/30\n",
      "5/5 - 0s - loss: 0.1419 - acc: 0.0000e+00\n",
      "Epoch 13/30\n",
      "5/5 - 0s - loss: 0.1411 - acc: 0.0000e+00\n",
      "Epoch 14/30\n",
      "5/5 - 0s - loss: 0.1398 - acc: 0.0000e+00\n",
      "Epoch 15/30\n",
      "5/5 - 0s - loss: 0.1382 - acc: 0.0000e+00\n",
      "Epoch 16/30\n",
      "5/5 - 0s - loss: 0.1366 - acc: 0.0000e+00\n",
      "Epoch 17/30\n",
      "5/5 - 0s - loss: 0.1353 - acc: 0.0000e+00\n",
      "Epoch 18/30\n",
      "5/5 - 0s - loss: 0.1343 - acc: 0.0000e+00\n",
      "Epoch 19/30\n",
      "5/5 - 0s - loss: 0.1343 - acc: 0.0000e+00\n",
      "Epoch 20/30\n",
      "5/5 - 0s - loss: 0.1345 - acc: 0.0000e+00\n",
      "Epoch 21/30\n",
      "5/5 - 0s - loss: 0.1349 - acc: 0.0000e+00\n",
      "Epoch 22/30\n",
      "5/5 - 0s - loss: 0.1352 - acc: 0.0000e+00\n",
      "Epoch 23/30\n",
      "5/5 - 0s - loss: 0.1352 - acc: 0.0000e+00\n",
      "Epoch 24/30\n",
      "5/5 - 0s - loss: 0.1349 - acc: 0.0000e+00\n",
      "Epoch 25/30\n",
      "5/5 - 0s - loss: 0.1343 - acc: 0.0000e+00\n",
      "Epoch 26/30\n",
      "5/5 - 0s - loss: 0.1336 - acc: 0.0000e+00\n",
      "Epoch 27/30\n",
      "5/5 - 0s - loss: 0.1328 - acc: 0.0000e+00\n",
      "Epoch 28/30\n",
      "5/5 - 0s - loss: 0.1322 - acc: 0.0000e+00\n",
      "Epoch 29/30\n",
      "5/5 - 0s - loss: 0.1318 - acc: 0.0000e+00\n",
      "Epoch 30/30\n",
      "5/5 - 0s - loss: 0.1316 - acc: 0.0000e+00\n"
     ]
    },
    {
     "data": {
      "text/plain": [
       "<tensorflow.python.keras.callbacks.History at 0x20f63205ac8>"
      ]
     },
     "execution_count": 89,
     "metadata": {},
     "output_type": "execute_result"
    }
   ],
   "source": [
    "sli.fit(x9,y9, batch_size=5, epochs=30, shuffle=True, verbose=2)"
   ]
  },
  {
   "cell_type": "code",
   "execution_count": 90,
   "metadata": {},
   "outputs": [
    {
     "name": "stdout",
     "output_type": "stream",
     "text": [
      "Epoch 1/30\n",
      "5/5 - 0s - loss: 0.1287 - acc: 0.0000e+00\n",
      "Epoch 2/30\n",
      "5/5 - 0s - loss: 0.1288 - acc: 0.0000e+00\n",
      "Epoch 3/30\n",
      "5/5 - 0s - loss: 0.1281 - acc: 0.0000e+00\n",
      "Epoch 4/30\n",
      "5/5 - 0s - loss: 0.1270 - acc: 0.0000e+00\n",
      "Epoch 5/30\n",
      "5/5 - 0s - loss: 0.1260 - acc: 0.0000e+00\n",
      "Epoch 6/30\n",
      "5/5 - 0s - loss: 0.1253 - acc: 0.0000e+00\n",
      "Epoch 7/30\n",
      "5/5 - 0s - loss: 0.1251 - acc: 0.0000e+00\n",
      "Epoch 8/30\n",
      "5/5 - 0s - loss: 0.1252 - acc: 0.0000e+00\n",
      "Epoch 9/30\n",
      "5/5 - 0s - loss: 0.1254 - acc: 0.0000e+00\n",
      "Epoch 10/30\n",
      "5/5 - 0s - loss: 0.1254 - acc: 0.0000e+00\n",
      "Epoch 11/30\n",
      "5/5 - 0s - loss: 0.1252 - acc: 0.0000e+00\n",
      "Epoch 12/30\n",
      "5/5 - 0s - loss: 0.1248 - acc: 0.0000e+00\n",
      "Epoch 13/30\n",
      "5/5 - 0s - loss: 0.1242 - acc: 0.0000e+00\n",
      "Epoch 14/30\n",
      "5/5 - 0s - loss: 0.1236 - acc: 0.0000e+00\n",
      "Epoch 15/30\n",
      "5/5 - 0s - loss: 0.1232 - acc: 0.0000e+00\n",
      "Epoch 16/30\n",
      "5/5 - 0s - loss: 0.1231 - acc: 0.0000e+00\n",
      "Epoch 17/30\n",
      "5/5 - 0s - loss: 0.1229 - acc: 0.0000e+00\n",
      "Epoch 18/30\n",
      "5/5 - 0s - loss: 0.1229 - acc: 0.0000e+00\n",
      "Epoch 19/30\n",
      "5/5 - 0s - loss: 0.1227 - acc: 0.0000e+00\n",
      "Epoch 20/30\n",
      "5/5 - 0s - loss: 0.1225 - acc: 0.0000e+00\n",
      "Epoch 21/30\n",
      "5/5 - 0s - loss: 0.1221 - acc: 0.0000e+00\n",
      "Epoch 22/30\n",
      "5/5 - 0s - loss: 0.1218 - acc: 0.0000e+00\n",
      "Epoch 23/30\n",
      "5/5 - 0s - loss: 0.1214 - acc: 0.0000e+00\n",
      "Epoch 24/30\n",
      "5/5 - 0s - loss: 0.1211 - acc: 0.0000e+00\n",
      "Epoch 25/30\n",
      "5/5 - 0s - loss: 0.1209 - acc: 0.0000e+00\n",
      "Epoch 26/30\n",
      "5/5 - 0s - loss: 0.1207 - acc: 0.0000e+00\n",
      "Epoch 27/30\n",
      "5/5 - 0s - loss: 0.1206 - acc: 0.0000e+00\n",
      "Epoch 28/30\n",
      "5/5 - 0s - loss: 0.1203 - acc: 0.0000e+00\n",
      "Epoch 29/30\n",
      "5/5 - 0s - loss: 0.1200 - acc: 0.0000e+00\n",
      "Epoch 30/30\n",
      "5/5 - 0s - loss: 0.1197 - acc: 0.0000e+00\n"
     ]
    },
    {
     "data": {
      "text/plain": [
       "<tensorflow.python.keras.callbacks.History at 0x20f632b4dc8>"
      ]
     },
     "execution_count": 90,
     "metadata": {},
     "output_type": "execute_result"
    }
   ],
   "source": [
    "sli.fit(x10,y10, batch_size=5, epochs=30, shuffle=True, verbose=2)"
   ]
  },
  {
   "cell_type": "code",
   "execution_count": 91,
   "metadata": {},
   "outputs": [
    {
     "name": "stdout",
     "output_type": "stream",
     "text": [
      "Epoch 1/30\n",
      "5/5 - 0s - loss: 0.0946 - acc: 0.0000e+00\n",
      "Epoch 2/30\n",
      "5/5 - 0s - loss: 0.0934 - acc: 0.0000e+00\n",
      "Epoch 3/30\n",
      "5/5 - 0s - loss: 0.0919 - acc: 0.0000e+00\n",
      "Epoch 4/30\n",
      "5/5 - 0s - loss: 0.0904 - acc: 0.0000e+00\n",
      "Epoch 5/30\n",
      "5/5 - 0s - loss: 0.0892 - acc: 0.0000e+00\n",
      "Epoch 6/30\n",
      "5/5 - 0s - loss: 0.0883 - acc: 0.0000e+00\n",
      "Epoch 7/30\n",
      "5/5 - 0s - loss: 0.0877 - acc: 0.0000e+00\n",
      "Epoch 8/30\n",
      "5/5 - 0s - loss: 0.0873 - acc: 0.0000e+00\n",
      "Epoch 9/30\n",
      "5/5 - 0s - loss: 0.0874 - acc: 0.0000e+00\n",
      "Epoch 10/30\n",
      "5/5 - 0s - loss: 0.0872 - acc: 0.0000e+00\n",
      "Epoch 11/30\n",
      "5/5 - 0s - loss: 0.0867 - acc: 0.0000e+00\n",
      "Epoch 12/30\n",
      "5/5 - 0s - loss: 0.0858 - acc: 0.0000e+00\n",
      "Epoch 13/30\n",
      "5/5 - 0s - loss: 0.0846 - acc: 0.0000e+00\n",
      "Epoch 14/30\n",
      "5/5 - 0s - loss: 0.0837 - acc: 0.0000e+00\n",
      "Epoch 15/30\n",
      "5/5 - 0s - loss: 0.0827 - acc: 0.0000e+00\n",
      "Epoch 16/30\n",
      "5/5 - 0s - loss: 0.0816 - acc: 0.0000e+00\n",
      "Epoch 17/30\n",
      "5/5 - 0s - loss: 0.0808 - acc: 0.0000e+00\n",
      "Epoch 18/30\n",
      "5/5 - 0s - loss: 0.0799 - acc: 0.0000e+00\n",
      "Epoch 19/30\n",
      "5/5 - 0s - loss: 0.0789 - acc: 0.0000e+00\n",
      "Epoch 20/30\n",
      "5/5 - 0s - loss: 0.0777 - acc: 0.0000e+00\n",
      "Epoch 21/30\n",
      "5/5 - 0s - loss: 0.0767 - acc: 0.0000e+00\n",
      "Epoch 22/30\n",
      "5/5 - 0s - loss: 0.0755 - acc: 0.0000e+00\n",
      "Epoch 23/30\n",
      "5/5 - 0s - loss: 0.0735 - acc: 0.0000e+00\n",
      "Epoch 24/30\n",
      "5/5 - 0s - loss: 0.0714 - acc: 0.0000e+00\n",
      "Epoch 25/30\n",
      "5/5 - 0s - loss: 0.0693 - acc: 0.0000e+00\n",
      "Epoch 26/30\n",
      "5/5 - 0s - loss: 0.0672 - acc: 0.0000e+00\n",
      "Epoch 27/30\n",
      "5/5 - 0s - loss: 0.0659 - acc: 0.0000e+00\n",
      "Epoch 28/30\n",
      "5/5 - 0s - loss: 0.0649 - acc: 0.0000e+00\n",
      "Epoch 29/30\n",
      "5/5 - 0s - loss: 0.0640 - acc: 0.0000e+00\n",
      "Epoch 30/30\n",
      "5/5 - 0s - loss: 0.0634 - acc: 0.0000e+00\n"
     ]
    },
    {
     "data": {
      "text/plain": [
       "<tensorflow.python.keras.callbacks.History at 0x20f632c0788>"
      ]
     },
     "execution_count": 91,
     "metadata": {},
     "output_type": "execute_result"
    }
   ],
   "source": [
    "sli.fit(x11,y11, batch_size=5, epochs=30, shuffle=True, verbose=2)"
   ]
  },
  {
   "cell_type": "code",
   "execution_count": 92,
   "metadata": {},
   "outputs": [
    {
     "name": "stdout",
     "output_type": "stream",
     "text": [
      "Epoch 1/30\n",
      "5/5 - 0s - loss: 0.1022 - acc: 0.2000\n",
      "Epoch 2/30\n",
      "5/5 - 0s - loss: 0.0998 - acc: 0.0000e+00\n",
      "Epoch 3/30\n",
      "5/5 - 0s - loss: 0.0957 - acc: 0.0000e+00\n",
      "Epoch 4/30\n",
      "5/5 - 0s - loss: 0.0919 - acc: 0.0000e+00\n",
      "Epoch 5/30\n",
      "5/5 - 0s - loss: 0.0926 - acc: 0.0000e+00\n",
      "Epoch 6/30\n",
      "5/5 - 0s - loss: 0.0942 - acc: 0.0000e+00\n",
      "Epoch 7/30\n",
      "5/5 - 0s - loss: 0.0949 - acc: 0.0000e+00\n",
      "Epoch 8/30\n",
      "5/5 - 0s - loss: 0.0943 - acc: 0.0000e+00\n",
      "Epoch 9/30\n",
      "5/5 - 0s - loss: 0.0925 - acc: 0.0000e+00\n",
      "Epoch 10/30\n",
      "5/5 - 0s - loss: 0.0906 - acc: 0.0000e+00\n",
      "Epoch 11/30\n",
      "5/5 - 0s - loss: 0.0897 - acc: 0.0000e+00\n",
      "Epoch 12/30\n",
      "5/5 - 0s - loss: 0.0898 - acc: 0.0000e+00\n",
      "Epoch 13/30\n",
      "5/5 - 0s - loss: 0.0904 - acc: 0.0000e+00\n",
      "Epoch 14/30\n",
      "5/5 - 0s - loss: 0.0905 - acc: 0.2000\n",
      "Epoch 15/30\n",
      "5/5 - 0s - loss: 0.0897 - acc: 0.0000e+00\n",
      "Epoch 16/30\n",
      "5/5 - 0s - loss: 0.0882 - acc: 0.0000e+00\n",
      "Epoch 17/30\n",
      "5/5 - 0s - loss: 0.0870 - acc: 0.0000e+00\n",
      "Epoch 18/30\n",
      "5/5 - 0s - loss: 0.0864 - acc: 0.0000e+00\n",
      "Epoch 19/30\n",
      "5/5 - 0s - loss: 0.0863 - acc: 0.0000e+00\n",
      "Epoch 20/30\n",
      "5/5 - 0s - loss: 0.0862 - acc: 0.0000e+00\n",
      "Epoch 21/30\n",
      "5/5 - 0s - loss: 0.0857 - acc: 0.0000e+00\n",
      "Epoch 22/30\n",
      "5/5 - 0s - loss: 0.0849 - acc: 0.0000e+00\n",
      "Epoch 23/30\n",
      "5/5 - 0s - loss: 0.0839 - acc: 0.0000e+00\n",
      "Epoch 24/30\n",
      "5/5 - 0s - loss: 0.0831 - acc: 0.0000e+00\n",
      "Epoch 25/30\n",
      "5/5 - 0s - loss: 0.0828 - acc: 0.0000e+00\n",
      "Epoch 26/30\n",
      "5/5 - 0s - loss: 0.0827 - acc: 0.2000\n",
      "Epoch 27/30\n",
      "5/5 - 0s - loss: 0.0820 - acc: 0.2000\n",
      "Epoch 28/30\n",
      "5/5 - 0s - loss: 0.0814 - acc: 0.2000\n",
      "Epoch 29/30\n",
      "5/5 - 0s - loss: 0.0809 - acc: 0.0000e+00\n",
      "Epoch 30/30\n",
      "5/5 - 0s - loss: 0.0804 - acc: 0.0000e+00\n"
     ]
    },
    {
     "data": {
      "text/plain": [
       "<tensorflow.python.keras.callbacks.History at 0x20f632b0788>"
      ]
     },
     "execution_count": 92,
     "metadata": {},
     "output_type": "execute_result"
    }
   ],
   "source": [
    "sli.fit(x12,y12, batch_size=5, epochs=30, shuffle=True, verbose=2)"
   ]
  },
  {
   "cell_type": "code",
   "execution_count": 93,
   "metadata": {},
   "outputs": [
    {
     "name": "stdout",
     "output_type": "stream",
     "text": [
      "Epoch 1/30\n",
      "5/5 - 0s - loss: 0.0742 - acc: 0.0000e+00\n",
      "Epoch 2/30\n",
      "5/5 - 0s - loss: 0.0667 - acc: 0.0000e+00\n",
      "Epoch 3/30\n",
      "5/5 - 0s - loss: 0.0548 - acc: 0.0000e+00\n",
      "Epoch 4/30\n",
      "5/5 - 0s - loss: 0.0459 - acc: 0.0000e+00\n",
      "Epoch 5/30\n",
      "5/5 - 0s - loss: 0.0447 - acc: 0.0000e+00\n",
      "Epoch 6/30\n",
      "5/5 - 0s - loss: 0.0495 - acc: 0.0000e+00\n",
      "Epoch 7/30\n",
      "5/5 - 0s - loss: 0.0551 - acc: 0.0000e+00\n",
      "Epoch 8/30\n",
      "5/5 - 0s - loss: 0.0576 - acc: 0.0000e+00\n",
      "Epoch 9/30\n",
      "5/5 - 0s - loss: 0.0559 - acc: 0.0000e+00\n",
      "Epoch 10/30\n",
      "5/5 - 0s - loss: 0.0513 - acc: 0.0000e+00\n",
      "Epoch 11/30\n",
      "5/5 - 0s - loss: 0.0462 - acc: 0.0000e+00\n",
      "Epoch 12/30\n",
      "5/5 - 0s - loss: 0.0435 - acc: 0.0000e+00\n",
      "Epoch 13/30\n",
      "5/5 - 0s - loss: 0.0441 - acc: 0.0000e+00\n",
      "Epoch 14/30\n",
      "5/5 - 0s - loss: 0.0468 - acc: 0.0000e+00\n",
      "Epoch 15/30\n",
      "5/5 - 0s - loss: 0.0490 - acc: 0.0000e+00\n",
      "Epoch 16/30\n",
      "5/5 - 0s - loss: 0.0490 - acc: 0.0000e+00\n",
      "Epoch 17/30\n",
      "5/5 - 0s - loss: 0.0470 - acc: 0.0000e+00\n",
      "Epoch 18/30\n",
      "5/5 - 0s - loss: 0.0443 - acc: 0.0000e+00\n",
      "Epoch 19/30\n",
      "5/5 - 0s - loss: 0.0426 - acc: 0.0000e+00\n",
      "Epoch 20/30\n",
      "5/5 - 0s - loss: 0.0426 - acc: 0.0000e+00\n",
      "Epoch 21/30\n",
      "5/5 - 0s - loss: 0.0437 - acc: 0.0000e+00\n",
      "Epoch 22/30\n",
      "5/5 - 0s - loss: 0.0447 - acc: 0.0000e+00\n",
      "Epoch 23/30\n",
      "5/5 - 0s - loss: 0.0449 - acc: 0.0000e+00\n",
      "Epoch 24/30\n",
      "5/5 - 0s - loss: 0.0442 - acc: 0.0000e+00\n",
      "Epoch 25/30\n",
      "5/5 - 0s - loss: 0.0429 - acc: 0.0000e+00\n",
      "Epoch 26/30\n",
      "5/5 - 0s - loss: 0.0418 - acc: 0.0000e+00\n",
      "Epoch 27/30\n",
      "5/5 - 0s - loss: 0.0414 - acc: 0.0000e+00\n",
      "Epoch 28/30\n",
      "5/5 - 0s - loss: 0.0418 - acc: 0.0000e+00\n",
      "Epoch 29/30\n",
      "5/5 - 0s - loss: 0.0423 - acc: 0.0000e+00\n",
      "Epoch 30/30\n",
      "5/5 - 0s - loss: 0.0424 - acc: 0.0000e+00\n"
     ]
    },
    {
     "data": {
      "text/plain": [
       "<tensorflow.python.keras.callbacks.History at 0x20f632c0f08>"
      ]
     },
     "execution_count": 93,
     "metadata": {},
     "output_type": "execute_result"
    }
   ],
   "source": [
    "sli.fit(x13,y13, batch_size=5, epochs=30, shuffle=True, verbose=2)"
   ]
  },
  {
   "cell_type": "code",
   "execution_count": 94,
   "metadata": {},
   "outputs": [
    {
     "name": "stdout",
     "output_type": "stream",
     "text": [
      "Epoch 1/30\n",
      "5/5 - 0s - loss: 0.0816 - acc: 0.0000e+00\n",
      "Epoch 2/30\n",
      "5/5 - 0s - loss: 0.0816 - acc: 0.0000e+00\n",
      "Epoch 3/30\n",
      "5/5 - 0s - loss: 0.0815 - acc: 0.0000e+00\n",
      "Epoch 4/30\n",
      "5/5 - 0s - loss: 0.0815 - acc: 0.0000e+00\n",
      "Epoch 5/30\n",
      "5/5 - 0s - loss: 0.0813 - acc: 0.0000e+00\n",
      "Epoch 6/30\n",
      "5/5 - 0s - loss: 0.0812 - acc: 0.0000e+00\n",
      "Epoch 7/30\n",
      "5/5 - 0s - loss: 0.0811 - acc: 0.0000e+00\n",
      "Epoch 8/30\n",
      "5/5 - 0s - loss: 0.0810 - acc: 0.0000e+00\n",
      "Epoch 9/30\n",
      "5/5 - 0s - loss: 0.0810 - acc: 0.0000e+00\n",
      "Epoch 10/30\n",
      "5/5 - 0s - loss: 0.0809 - acc: 0.0000e+00\n",
      "Epoch 11/30\n",
      "5/5 - 0s - loss: 0.0809 - acc: 0.0000e+00\n",
      "Epoch 12/30\n",
      "5/5 - 0s - loss: 0.0809 - acc: 0.0000e+00\n",
      "Epoch 13/30\n",
      "5/5 - 0s - loss: 0.0808 - acc: 0.0000e+00\n",
      "Epoch 14/30\n",
      "5/5 - 0s - loss: 0.0808 - acc: 0.0000e+00\n",
      "Epoch 15/30\n",
      "5/5 - 0s - loss: 0.0808 - acc: 0.0000e+00\n",
      "Epoch 16/30\n",
      "5/5 - 0s - loss: 0.0808 - acc: 0.0000e+00\n",
      "Epoch 17/30\n",
      "5/5 - 0s - loss: 0.0807 - acc: 0.0000e+00\n",
      "Epoch 18/30\n",
      "5/5 - 0s - loss: 0.0807 - acc: 0.0000e+00\n",
      "Epoch 19/30\n",
      "5/5 - 0s - loss: 0.0806 - acc: 0.0000e+00\n",
      "Epoch 20/30\n",
      "5/5 - 0s - loss: 0.0806 - acc: 0.0000e+00\n",
      "Epoch 21/30\n",
      "5/5 - 0s - loss: 0.0805 - acc: 0.0000e+00\n",
      "Epoch 22/30\n",
      "5/5 - 0s - loss: 0.0804 - acc: 0.0000e+00\n",
      "Epoch 23/30\n",
      "5/5 - 0s - loss: 0.0804 - acc: 0.0000e+00\n",
      "Epoch 24/30\n",
      "5/5 - 0s - loss: 0.0804 - acc: 0.0000e+00\n",
      "Epoch 25/30\n",
      "5/5 - 0s - loss: 0.0803 - acc: 0.0000e+00\n",
      "Epoch 26/30\n",
      "5/5 - 0s - loss: 0.0803 - acc: 0.0000e+00\n",
      "Epoch 27/30\n",
      "5/5 - 0s - loss: 0.0802 - acc: 0.0000e+00\n",
      "Epoch 28/30\n",
      "5/5 - 0s - loss: 0.0802 - acc: 0.0000e+00\n",
      "Epoch 29/30\n",
      "5/5 - 0s - loss: 0.0802 - acc: 0.0000e+00\n",
      "Epoch 30/30\n",
      "5/5 - 0s - loss: 0.0801 - acc: 0.0000e+00\n"
     ]
    },
    {
     "data": {
      "text/plain": [
       "<tensorflow.python.keras.callbacks.History at 0x20f63268fc8>"
      ]
     },
     "execution_count": 94,
     "metadata": {},
     "output_type": "execute_result"
    }
   ],
   "source": [
    "sli.fit(x16,y16, batch_size=5, epochs=30, shuffle=True, verbose=2)"
   ]
  },
  {
   "cell_type": "code",
   "execution_count": 95,
   "metadata": {},
   "outputs": [
    {
     "name": "stdout",
     "output_type": "stream",
     "text": [
      "Epoch 1/30\n",
      "5/5 - 0s - loss: 0.1192 - acc: 0.0000e+00\n",
      "Epoch 2/30\n",
      "5/5 - 0s - loss: 0.1157 - acc: 0.0000e+00\n",
      "Epoch 3/30\n",
      "5/5 - 0s - loss: 0.1105 - acc: 0.0000e+00\n",
      "Epoch 4/30\n",
      "5/5 - 0s - loss: 0.1059 - acc: 0.0000e+00\n",
      "Epoch 5/30\n",
      "5/5 - 0s - loss: 0.1033 - acc: 0.0000e+00\n",
      "Epoch 6/30\n",
      "5/5 - 0s - loss: 0.1024 - acc: 0.0000e+00\n",
      "Epoch 7/30\n",
      "5/5 - 0s - loss: 0.1020 - acc: 0.0000e+00\n",
      "Epoch 8/30\n",
      "5/5 - 0s - loss: 0.1019 - acc: 0.0000e+00\n",
      "Epoch 9/30\n",
      "5/5 - 0s - loss: 0.1016 - acc: 0.0000e+00\n",
      "Epoch 10/30\n",
      "5/5 - 0s - loss: 0.0996 - acc: 0.0000e+00\n",
      "Epoch 11/30\n",
      "5/5 - 0s - loss: 0.0966 - acc: 0.0000e+00\n",
      "Epoch 12/30\n",
      "5/5 - 0s - loss: 0.0940 - acc: 0.0000e+00\n",
      "Epoch 13/30\n",
      "5/5 - 0s - loss: 0.0925 - acc: 0.0000e+00\n",
      "Epoch 14/30\n",
      "5/5 - 0s - loss: 0.0925 - acc: 0.0000e+00\n",
      "Epoch 15/30\n",
      "5/5 - 0s - loss: 0.0931 - acc: 0.0000e+00\n",
      "Epoch 16/30\n",
      "5/5 - 0s - loss: 0.0935 - acc: 0.0000e+00\n",
      "Epoch 17/30\n",
      "5/5 - 0s - loss: 0.0929 - acc: 0.0000e+00\n",
      "Epoch 18/30\n",
      "5/5 - 0s - loss: 0.0914 - acc: 0.0000e+00\n",
      "Epoch 19/30\n",
      "5/5 - 0s - loss: 0.0896 - acc: 0.0000e+00\n",
      "Epoch 20/30\n",
      "5/5 - 0s - loss: 0.0882 - acc: 0.0000e+00\n",
      "Epoch 21/30\n",
      "5/5 - 0s - loss: 0.0875 - acc: 0.0000e+00\n",
      "Epoch 22/30\n",
      "5/5 - 0s - loss: 0.0873 - acc: 0.0000e+00\n",
      "Epoch 23/30\n",
      "5/5 - 0s - loss: 0.0873 - acc: 0.0000e+00\n",
      "Epoch 24/30\n",
      "5/5 - 0s - loss: 0.0870 - acc: 0.0000e+00\n",
      "Epoch 25/30\n",
      "5/5 - 0s - loss: 0.0863 - acc: 0.0000e+00\n",
      "Epoch 26/30\n",
      "5/5 - 0s - loss: 0.0853 - acc: 0.0000e+00\n",
      "Epoch 27/30\n",
      "5/5 - 0s - loss: 0.0843 - acc: 0.0000e+00\n",
      "Epoch 28/30\n",
      "5/5 - 0s - loss: 0.0834 - acc: 0.0000e+00\n",
      "Epoch 29/30\n",
      "5/5 - 0s - loss: 0.0829 - acc: 0.0000e+00\n",
      "Epoch 30/30\n",
      "5/5 - 0s - loss: 0.0826 - acc: 0.0000e+00\n"
     ]
    },
    {
     "data": {
      "text/plain": [
       "<tensorflow.python.keras.callbacks.History at 0x20f632c04c8>"
      ]
     },
     "execution_count": 95,
     "metadata": {},
     "output_type": "execute_result"
    }
   ],
   "source": [
    "sli.fit(x17,y17, batch_size=5, epochs=30, shuffle=True, verbose=2)"
   ]
  },
  {
   "cell_type": "code",
   "execution_count": 96,
   "metadata": {},
   "outputs": [
    {
     "name": "stdout",
     "output_type": "stream",
     "text": [
      "Epoch 1/30\n",
      "5/5 - 0s - loss: 0.1746 - acc: 0.0000e+00\n",
      "Epoch 2/30\n",
      "5/5 - 0s - loss: 0.1700 - acc: 0.0000e+00\n",
      "Epoch 3/30\n",
      "5/5 - 0s - loss: 0.1625 - acc: 0.0000e+00\n",
      "Epoch 4/30\n",
      "5/5 - 0s - loss: 0.1571 - acc: 0.0000e+00\n",
      "Epoch 5/30\n",
      "5/5 - 0s - loss: 0.1559 - acc: 0.0000e+00\n",
      "Epoch 6/30\n",
      "5/5 - 0s - loss: 0.1576 - acc: 0.0000e+00\n",
      "Epoch 7/30\n",
      "5/5 - 0s - loss: 0.1599 - acc: 0.0000e+00\n",
      "Epoch 8/30\n",
      "5/5 - 0s - loss: 0.1609 - acc: 0.0000e+00\n",
      "Epoch 9/30\n",
      "5/5 - 0s - loss: 0.1600 - acc: 0.0000e+00\n",
      "Epoch 10/30\n",
      "5/5 - 0s - loss: 0.1573 - acc: 0.0000e+00\n",
      "Epoch 11/30\n",
      "5/5 - 0s - loss: 0.1535 - acc: 0.0000e+00\n",
      "Epoch 12/30\n",
      "5/5 - 0s - loss: 0.1496 - acc: 0.0000e+00\n",
      "Epoch 13/30\n",
      "5/5 - 0s - loss: 0.1471 - acc: 0.0000e+00\n",
      "Epoch 14/30\n",
      "5/5 - 0s - loss: 0.1462 - acc: 0.0000e+00\n",
      "Epoch 15/30\n",
      "5/5 - 0s - loss: 0.1465 - acc: 0.0000e+00\n",
      "Epoch 16/30\n",
      "5/5 - 0s - loss: 0.1463 - acc: 0.0000e+00\n",
      "Epoch 17/30\n",
      "5/5 - 0s - loss: 0.1446 - acc: 0.0000e+00\n",
      "Epoch 18/30\n",
      "5/5 - 0s - loss: 0.1416 - acc: 0.0000e+00\n",
      "Epoch 19/30\n",
      "5/5 - 0s - loss: 0.1385 - acc: 0.0000e+00\n",
      "Epoch 20/30\n",
      "5/5 - 0s - loss: 0.1361 - acc: 0.0000e+00\n",
      "Epoch 21/30\n",
      "5/5 - 0s - loss: 0.1348 - acc: 0.0000e+00\n",
      "Epoch 22/30\n",
      "5/5 - 0s - loss: 0.1339 - acc: 0.0000e+00\n",
      "Epoch 23/30\n",
      "5/5 - 0s - loss: 0.1328 - acc: 0.0000e+00\n",
      "Epoch 24/30\n",
      "5/5 - 0s - loss: 0.1310 - acc: 0.0000e+00\n",
      "Epoch 25/30\n",
      "5/5 - 0s - loss: 0.1287 - acc: 0.0000e+00\n",
      "Epoch 26/30\n",
      "5/5 - 0s - loss: 0.1263 - acc: 0.0000e+00\n",
      "Epoch 27/30\n",
      "5/5 - 0s - loss: 0.1241 - acc: 0.0000e+00\n",
      "Epoch 28/30\n",
      "5/5 - 0s - loss: 0.1225 - acc: 0.0000e+00\n",
      "Epoch 29/30\n",
      "5/5 - 0s - loss: 0.1212 - acc: 0.0000e+00\n",
      "Epoch 30/30\n",
      "5/5 - 0s - loss: 0.1198 - acc: 0.0000e+00\n"
     ]
    },
    {
     "data": {
      "text/plain": [
       "<tensorflow.python.keras.callbacks.History at 0x20f632cc908>"
      ]
     },
     "execution_count": 96,
     "metadata": {},
     "output_type": "execute_result"
    }
   ],
   "source": [
    "sli.fit(x18,y18, batch_size=5, epochs=30, shuffle=True, verbose=2)"
   ]
  },
  {
   "cell_type": "code",
   "execution_count": 100,
   "metadata": {},
   "outputs": [
    {
     "ename": "NameError",
     "evalue": "name 'x19' is not defined",
     "output_type": "error",
     "traceback": [
      "\u001b[1;31m---------------------------------------------------------------------------\u001b[0m",
      "\u001b[1;31mNameError\u001b[0m                                 Traceback (most recent call last)",
      "\u001b[1;32m<ipython-input-100-12c5cbb90ba2>\u001b[0m in \u001b[0;36m<module>\u001b[1;34m\u001b[0m\n\u001b[1;32m----> 1\u001b[1;33m \u001b[0malbert\u001b[0m\u001b[1;33m.\u001b[0m\u001b[0mfit\u001b[0m\u001b[1;33m(\u001b[0m\u001b[0mx19\u001b[0m\u001b[1;33m,\u001b[0m\u001b[0my19\u001b[0m\u001b[1;33m,\u001b[0m \u001b[0mbatch_size\u001b[0m\u001b[1;33m=\u001b[0m\u001b[1;36m5\u001b[0m\u001b[1;33m,\u001b[0m \u001b[0mepochs\u001b[0m\u001b[1;33m=\u001b[0m\u001b[1;36m100\u001b[0m\u001b[1;33m,\u001b[0m \u001b[0mshuffle\u001b[0m\u001b[1;33m=\u001b[0m\u001b[1;32mTrue\u001b[0m\u001b[1;33m,\u001b[0m \u001b[0mverbose\u001b[0m\u001b[1;33m=\u001b[0m\u001b[1;36m2\u001b[0m\u001b[1;33m)\u001b[0m\u001b[1;33m\u001b[0m\u001b[1;33m\u001b[0m\u001b[0m\n\u001b[0m",
      "\u001b[1;31mNameError\u001b[0m: name 'x19' is not defined"
     ]
    }
   ],
   "source": [
    "alber.fit(x19,y19, batch_size=5, epochs=100, shuffle=True, verbose=2)"
   ]
  },
  {
   "cell_type": "code",
   "execution_count": 97,
   "metadata": {},
   "outputs": [
    {
     "name": "stdout",
     "output_type": "stream",
     "text": [
      "Epoch 1/30\n",
      "5/5 - 0s - loss: 0.0587 - acc: 0.0000e+00\n",
      "Epoch 2/30\n",
      "5/5 - 0s - loss: 0.0503 - acc: 0.0000e+00\n",
      "Epoch 3/30\n",
      "5/5 - 0s - loss: 0.0385 - acc: 0.0000e+00\n",
      "Epoch 4/30\n",
      "5/5 - 0s - loss: 0.0295 - acc: 0.0000e+00\n",
      "Epoch 5/30\n",
      "5/5 - 0s - loss: 0.0277 - acc: 0.0000e+00\n",
      "Epoch 6/30\n",
      "5/5 - 0s - loss: 0.0321 - acc: 0.0000e+00\n",
      "Epoch 7/30\n",
      "5/5 - 0s - loss: 0.0378 - acc: 0.0000e+00\n",
      "Epoch 8/30\n",
      "5/5 - 0s - loss: 0.0397 - acc: 0.0000e+00\n",
      "Epoch 9/30\n",
      "5/5 - 0s - loss: 0.0367 - acc: 0.0000e+00\n",
      "Epoch 10/30\n",
      "5/5 - 0s - loss: 0.0307 - acc: 0.0000e+00\n",
      "Epoch 11/30\n",
      "5/5 - 0s - loss: 0.0253 - acc: 0.0000e+00\n",
      "Epoch 12/30\n",
      "5/5 - 0s - loss: 0.0233 - acc: 0.0000e+00\n",
      "Epoch 13/30\n",
      "5/5 - 0s - loss: 0.0246 - acc: 0.0000e+00\n",
      "Epoch 14/30\n",
      "5/5 - 0s - loss: 0.0271 - acc: 0.0000e+00\n",
      "Epoch 15/30\n",
      "5/5 - 0s - loss: 0.0286 - acc: 0.0000e+00\n",
      "Epoch 16/30\n",
      "5/5 - 0s - loss: 0.0280 - acc: 0.0000e+00\n",
      "Epoch 17/30\n",
      "5/5 - 0s - loss: 0.0257 - acc: 0.0000e+00\n",
      "Epoch 18/30\n",
      "5/5 - 0s - loss: 0.0230 - acc: 0.0000e+00\n",
      "Epoch 19/30\n",
      "5/5 - 0s - loss: 0.0213 - acc: 0.0000e+00\n",
      "Epoch 20/30\n",
      "5/5 - 0s - loss: 0.0212 - acc: 0.0000e+00\n",
      "Epoch 21/30\n",
      "5/5 - 0s - loss: 0.0221 - acc: 0.0000e+00\n",
      "Epoch 22/30\n",
      "5/5 - 0s - loss: 0.0232 - acc: 0.0000e+00\n",
      "Epoch 23/30\n",
      "5/5 - 0s - loss: 0.0234 - acc: 0.0000e+00\n",
      "Epoch 24/30\n",
      "5/5 - 0s - loss: 0.0227 - acc: 0.0000e+00\n",
      "Epoch 25/30\n",
      "5/5 - 0s - loss: 0.0214 - acc: 0.0000e+00\n",
      "Epoch 26/30\n",
      "5/5 - 0s - loss: 0.0203 - acc: 0.0000e+00\n",
      "Epoch 27/30\n",
      "5/5 - 0s - loss: 0.0199 - acc: 0.0000e+00\n",
      "Epoch 28/30\n",
      "5/5 - 0s - loss: 0.0200 - acc: 0.0000e+00\n",
      "Epoch 29/30\n",
      "5/5 - 0s - loss: 0.0205 - acc: 0.0000e+00\n",
      "Epoch 30/30\n",
      "5/5 - 0s - loss: 0.0207 - acc: 0.0000e+00\n"
     ]
    },
    {
     "data": {
      "text/plain": [
       "<tensorflow.python.keras.callbacks.History at 0x20f632c6508>"
      ]
     },
     "execution_count": 97,
     "metadata": {},
     "output_type": "execute_result"
    }
   ],
   "source": [
    "sli.fit(x20,y20, batch_size=5, epochs=30, shuffle=True, verbose=2)"
   ]
  },
  {
   "cell_type": "code",
   "execution_count": 98,
   "metadata": {},
   "outputs": [
    {
     "name": "stdout",
     "output_type": "stream",
     "text": [
      "Epoch 1/30\n",
      "5/5 - 0s - loss: 0.0308 - acc: 0.0000e+00\n",
      "Epoch 2/30\n",
      "5/5 - 0s - loss: 0.0307 - acc: 0.0000e+00\n",
      "Epoch 3/30\n",
      "5/5 - 0s - loss: 0.0306 - acc: 0.0000e+00\n",
      "Epoch 4/30\n",
      "5/5 - 0s - loss: 0.0304 - acc: 0.0000e+00\n",
      "Epoch 5/30\n",
      "5/5 - 0s - loss: 0.0302 - acc: 0.0000e+00\n",
      "Epoch 6/30\n",
      "5/5 - 0s - loss: 0.0300 - acc: 0.0000e+00\n",
      "Epoch 7/30\n",
      "5/5 - 0s - loss: 0.0297 - acc: 0.0000e+00\n",
      "Epoch 8/30\n",
      "5/5 - 0s - loss: 0.0295 - acc: 0.0000e+00\n",
      "Epoch 9/30\n",
      "5/5 - 0s - loss: 0.0292 - acc: 0.0000e+00\n",
      "Epoch 10/30\n",
      "5/5 - 0s - loss: 0.0290 - acc: 0.0000e+00\n",
      "Epoch 11/30\n",
      "5/5 - 0s - loss: 0.0287 - acc: 0.0000e+00\n",
      "Epoch 12/30\n",
      "5/5 - 0s - loss: 0.0284 - acc: 0.0000e+00\n",
      "Epoch 13/30\n",
      "5/5 - 0s - loss: 0.0281 - acc: 0.0000e+00\n",
      "Epoch 14/30\n",
      "5/5 - 0s - loss: 0.0278 - acc: 0.0000e+00\n",
      "Epoch 15/30\n",
      "5/5 - 0s - loss: 0.0275 - acc: 0.0000e+00\n",
      "Epoch 16/30\n",
      "5/5 - 0s - loss: 0.0273 - acc: 0.0000e+00\n",
      "Epoch 17/30\n",
      "5/5 - 0s - loss: 0.0270 - acc: 0.0000e+00\n",
      "Epoch 18/30\n",
      "5/5 - 0s - loss: 0.0267 - acc: 0.0000e+00\n",
      "Epoch 19/30\n",
      "5/5 - 0s - loss: 0.0264 - acc: 0.0000e+00\n",
      "Epoch 20/30\n",
      "5/5 - 0s - loss: 0.0262 - acc: 0.0000e+00\n",
      "Epoch 21/30\n",
      "5/5 - 0s - loss: 0.0259 - acc: 0.0000e+00\n",
      "Epoch 22/30\n",
      "5/5 - 0s - loss: 0.0257 - acc: 0.0000e+00\n",
      "Epoch 23/30\n",
      "5/5 - 0s - loss: 0.0255 - acc: 0.0000e+00\n",
      "Epoch 24/30\n",
      "5/5 - 0s - loss: 0.0253 - acc: 0.0000e+00\n",
      "Epoch 25/30\n",
      "5/5 - 0s - loss: 0.0250 - acc: 0.0000e+00\n",
      "Epoch 26/30\n",
      "5/5 - 0s - loss: 0.0248 - acc: 0.0000e+00\n",
      "Epoch 27/30\n",
      "5/5 - 0s - loss: 0.0246 - acc: 0.0000e+00\n",
      "Epoch 28/30\n",
      "5/5 - 0s - loss: 0.0244 - acc: 0.0000e+00\n",
      "Epoch 29/30\n",
      "5/5 - 0s - loss: 0.0243 - acc: 0.0000e+00\n",
      "Epoch 30/30\n",
      "5/5 - 0s - loss: 0.0241 - acc: 0.0000e+00\n"
     ]
    },
    {
     "data": {
      "text/plain": [
       "<tensorflow.python.keras.callbacks.History at 0x20f632cc1c8>"
      ]
     },
     "execution_count": 98,
     "metadata": {},
     "output_type": "execute_result"
    }
   ],
   "source": [
    "sli.fit(x21,y21, batch_size=5, epochs=30, shuffle=True, verbose=2)"
   ]
  },
  {
   "cell_type": "code",
   "execution_count": 99,
   "metadata": {},
   "outputs": [
    {
     "name": "stdout",
     "output_type": "stream",
     "text": [
      "Epoch 1/30\n",
      "5/5 - 0s - loss: 0.0978 - acc: 0.0000e+00\n",
      "Epoch 2/30\n",
      "5/5 - 0s - loss: 0.0931 - acc: 0.0000e+00\n",
      "Epoch 3/30\n",
      "5/5 - 0s - loss: 0.0864 - acc: 0.0000e+00\n",
      "Epoch 4/30\n",
      "5/5 - 0s - loss: 0.0807 - acc: 0.0000e+00\n",
      "Epoch 5/30\n",
      "5/5 - 0s - loss: 0.0782 - acc: 0.0000e+00\n",
      "Epoch 6/30\n",
      "5/5 - 0s - loss: 0.0789 - acc: 0.0000e+00\n",
      "Epoch 7/30\n",
      "5/5 - 0s - loss: 0.0816 - acc: 0.0000e+00\n",
      "Epoch 8/30\n",
      "5/5 - 0s - loss: 0.0844 - acc: 0.0000e+00\n",
      "Epoch 9/30\n",
      "5/5 - 0s - loss: 0.0859 - acc: 0.0000e+00\n",
      "Epoch 10/30\n",
      "5/5 - 0s - loss: 0.0858 - acc: 0.0000e+00\n",
      "Epoch 11/30\n",
      "5/5 - 0s - loss: 0.0841 - acc: 0.0000e+00\n",
      "Epoch 12/30\n",
      "5/5 - 0s - loss: 0.0817 - acc: 0.0000e+00\n",
      "Epoch 13/30\n",
      "5/5 - 0s - loss: 0.0794 - acc: 0.0000e+00\n",
      "Epoch 14/30\n",
      "5/5 - 0s - loss: 0.0780 - acc: 0.0000e+00\n",
      "Epoch 15/30\n",
      "5/5 - 0s - loss: 0.0779 - acc: 0.0000e+00\n",
      "Epoch 16/30\n",
      "5/5 - 0s - loss: 0.0788 - acc: 0.0000e+00\n",
      "Epoch 17/30\n",
      "5/5 - 0s - loss: 0.0800 - acc: 0.0000e+00\n",
      "Epoch 18/30\n",
      "5/5 - 0s - loss: 0.0807 - acc: 0.0000e+00\n",
      "Epoch 19/30\n",
      "5/5 - 0s - loss: 0.0806 - acc: 0.0000e+00\n",
      "Epoch 20/30\n",
      "5/5 - 0s - loss: 0.0798 - acc: 0.0000e+00\n",
      "Epoch 21/30\n",
      "5/5 - 0s - loss: 0.0787 - acc: 0.0000e+00\n",
      "Epoch 22/30\n",
      "5/5 - 0s - loss: 0.0777 - acc: 0.0000e+00\n",
      "Epoch 23/30\n",
      "5/5 - 0s - loss: 0.0773 - acc: 0.0000e+00\n",
      "Epoch 24/30\n",
      "5/5 - 0s - loss: 0.0773 - acc: 0.0000e+00\n",
      "Epoch 25/30\n",
      "5/5 - 0s - loss: 0.0777 - acc: 0.0000e+00\n",
      "Epoch 26/30\n",
      "5/5 - 0s - loss: 0.0781 - acc: 0.0000e+00\n",
      "Epoch 27/30\n",
      "5/5 - 0s - loss: 0.0782 - acc: 0.0000e+00\n",
      "Epoch 28/30\n",
      "5/5 - 0s - loss: 0.0781 - acc: 0.0000e+00\n",
      "Epoch 29/30\n",
      "5/5 - 0s - loss: 0.0777 - acc: 0.0000e+00\n",
      "Epoch 30/30\n",
      "5/5 - 0s - loss: 0.0772 - acc: 0.0000e+00\n"
     ]
    },
    {
     "data": {
      "text/plain": [
       "<tensorflow.python.keras.callbacks.History at 0x20f632c0688>"
      ]
     },
     "execution_count": 99,
     "metadata": {},
     "output_type": "execute_result"
    }
   ],
   "source": [
    "sli.fit(x22,y22, batch_size=5, epochs=30, shuffle=True, verbose=2)"
   ]
  },
  {
   "cell_type": "code",
   "execution_count": 100,
   "metadata": {},
   "outputs": [
    {
     "name": "stdout",
     "output_type": "stream",
     "text": [
      "Epoch 1/30\n",
      "5/5 - 0s - loss: 0.1037 - acc: 0.0000e+00\n",
      "Epoch 2/30\n",
      "5/5 - 0s - loss: 0.0981 - acc: 0.0000e+00\n",
      "Epoch 3/30\n",
      "5/5 - 0s - loss: 0.0876 - acc: 0.0000e+00\n",
      "Epoch 4/30\n",
      "5/5 - 0s - loss: 0.0785 - acc: 0.0000e+00\n",
      "Epoch 5/30\n",
      "5/5 - 0s - loss: 0.0750 - acc: 0.0000e+00\n",
      "Epoch 6/30\n",
      "5/5 - 0s - loss: 0.0766 - acc: 0.0000e+00\n",
      "Epoch 7/30\n",
      "5/5 - 0s - loss: 0.0805 - acc: 0.0000e+00\n",
      "Epoch 8/30\n",
      "5/5 - 0s - loss: 0.0837 - acc: 0.0000e+00\n",
      "Epoch 9/30\n",
      "5/5 - 0s - loss: 0.0847 - acc: 0.0000e+00\n",
      "Epoch 10/30\n",
      "5/5 - 0s - loss: 0.0833 - acc: 0.0000e+00\n",
      "Epoch 11/30\n",
      "5/5 - 0s - loss: 0.0800 - acc: 0.0000e+00\n",
      "Epoch 12/30\n",
      "5/5 - 0s - loss: 0.0760 - acc: 0.0000e+00\n",
      "Epoch 13/30\n",
      "5/5 - 0s - loss: 0.0726 - acc: 0.0000e+00\n",
      "Epoch 14/30\n",
      "5/5 - 0s - loss: 0.0710 - acc: 0.0000e+00\n",
      "Epoch 15/30\n",
      "5/5 - 0s - loss: 0.0714 - acc: 0.0000e+00\n",
      "Epoch 16/30\n",
      "5/5 - 0s - loss: 0.0727 - acc: 0.0000e+00\n",
      "Epoch 17/30\n",
      "5/5 - 0s - loss: 0.0739 - acc: 0.0000e+00\n",
      "Epoch 18/30\n",
      "5/5 - 0s - loss: 0.0740 - acc: 0.0000e+00\n",
      "Epoch 19/30\n",
      "5/5 - 0s - loss: 0.0723 - acc: 0.0000e+00\n",
      "Epoch 20/30\n",
      "5/5 - 0s - loss: 0.0698 - acc: 0.0000e+00\n",
      "Epoch 21/30\n",
      "5/5 - 0s - loss: 0.0678 - acc: 0.0000e+00\n",
      "Epoch 22/30\n",
      "5/5 - 0s - loss: 0.0667 - acc: 0.0000e+00\n",
      "Epoch 23/30\n",
      "5/5 - 0s - loss: 0.0666 - acc: 0.0000e+00\n",
      "Epoch 24/30\n",
      "5/5 - 0s - loss: 0.0670 - acc: 0.0000e+00\n",
      "Epoch 25/30\n",
      "5/5 - 0s - loss: 0.0673 - acc: 0.0000e+00\n",
      "Epoch 26/30\n",
      "5/5 - 0s - loss: 0.0671 - acc: 0.0000e+00\n",
      "Epoch 27/30\n",
      "5/5 - 0s - loss: 0.0664 - acc: 0.0000e+00\n",
      "Epoch 28/30\n",
      "5/5 - 0s - loss: 0.0654 - acc: 0.0000e+00\n",
      "Epoch 29/30\n",
      "5/5 - 0s - loss: 0.0646 - acc: 0.0000e+00\n",
      "Epoch 30/30\n",
      "5/5 - 0s - loss: 0.0639 - acc: 0.0000e+00\n"
     ]
    },
    {
     "data": {
      "text/plain": [
       "<tensorflow.python.keras.callbacks.History at 0x20f632cc148>"
      ]
     },
     "execution_count": 100,
     "metadata": {},
     "output_type": "execute_result"
    }
   ],
   "source": [
    "sli.fit(x23,y23, batch_size=5, epochs=30, shuffle=True, verbose=2)"
   ]
  },
  {
   "cell_type": "code",
   "execution_count": 101,
   "metadata": {},
   "outputs": [
    {
     "name": "stdout",
     "output_type": "stream",
     "text": [
      "Epoch 1/30\n",
      "5/5 - 0s - loss: 0.0750 - acc: 0.2000\n",
      "Epoch 2/30\n",
      "5/5 - 0s - loss: 0.0753 - acc: 0.2000\n",
      "Epoch 3/30\n",
      "5/5 - 0s - loss: 0.0756 - acc: 0.2000\n",
      "Epoch 4/30\n",
      "5/5 - 0s - loss: 0.0758 - acc: 0.2000\n",
      "Epoch 5/30\n",
      "5/5 - 0s - loss: 0.0758 - acc: 0.2000\n",
      "Epoch 6/30\n",
      "5/5 - 0s - loss: 0.0755 - acc: 0.2000\n",
      "Epoch 7/30\n",
      "5/5 - 0s - loss: 0.0750 - acc: 0.2000\n",
      "Epoch 8/30\n",
      "5/5 - 0s - loss: 0.0744 - acc: 0.2000\n",
      "Epoch 9/30\n",
      "5/5 - 0s - loss: 0.0738 - acc: 0.2000\n",
      "Epoch 10/30\n",
      "5/5 - 0s - loss: 0.0733 - acc: 0.2000\n",
      "Epoch 11/30\n",
      "5/5 - 0s - loss: 0.0729 - acc: 0.2000\n",
      "Epoch 12/30\n",
      "5/5 - 0s - loss: 0.0725 - acc: 0.2000\n",
      "Epoch 13/30\n",
      "5/5 - 0s - loss: 0.0722 - acc: 0.2000\n",
      "Epoch 14/30\n",
      "5/5 - 0s - loss: 0.0719 - acc: 0.2000\n",
      "Epoch 15/30\n",
      "5/5 - 0s - loss: 0.0715 - acc: 0.2000\n",
      "Epoch 16/30\n",
      "5/5 - 0s - loss: 0.0710 - acc: 0.2000\n",
      "Epoch 17/30\n",
      "5/5 - 0s - loss: 0.0706 - acc: 0.2000\n",
      "Epoch 18/30\n",
      "5/5 - 0s - loss: 0.0705 - acc: 0.2000\n",
      "Epoch 19/30\n",
      "5/5 - 0s - loss: 0.0703 - acc: 0.2000\n",
      "Epoch 20/30\n",
      "5/5 - 0s - loss: 0.0702 - acc: 0.2000\n",
      "Epoch 21/30\n",
      "5/5 - 0s - loss: 0.0700 - acc: 0.2000\n",
      "Epoch 22/30\n",
      "5/5 - 0s - loss: 0.0699 - acc: 0.2000\n",
      "Epoch 23/30\n",
      "5/5 - 0s - loss: 0.0697 - acc: 0.2000\n",
      "Epoch 24/30\n",
      "5/5 - 0s - loss: 0.0695 - acc: 0.2000\n",
      "Epoch 25/30\n",
      "5/5 - 0s - loss: 0.0694 - acc: 0.2000\n",
      "Epoch 26/30\n",
      "5/5 - 0s - loss: 0.0692 - acc: 0.2000\n",
      "Epoch 27/30\n",
      "5/5 - 0s - loss: 0.0689 - acc: 0.2000\n",
      "Epoch 28/30\n",
      "5/5 - 0s - loss: 0.0687 - acc: 0.2000\n",
      "Epoch 29/30\n",
      "5/5 - 0s - loss: 0.0684 - acc: 0.2000\n",
      "Epoch 30/30\n",
      "5/5 - 0s - loss: 0.0682 - acc: 0.2000\n"
     ]
    },
    {
     "data": {
      "text/plain": [
       "<tensorflow.python.keras.callbacks.History at 0x20f632a7e48>"
      ]
     },
     "execution_count": 101,
     "metadata": {},
     "output_type": "execute_result"
    }
   ],
   "source": [
    "sli.fit(x24,y24, batch_size=5, epochs=30, shuffle=True, verbose=2)"
   ]
  },
  {
   "cell_type": "code",
   "execution_count": 102,
   "metadata": {},
   "outputs": [
    {
     "name": "stdout",
     "output_type": "stream",
     "text": [
      "Epoch 1/30\n",
      "5/5 - 0s - loss: 0.0578 - acc: 0.2000\n",
      "Epoch 2/30\n",
      "5/5 - 0s - loss: 0.0529 - acc: 0.2000\n",
      "Epoch 3/30\n",
      "5/5 - 0s - loss: 0.0447 - acc: 0.2000\n",
      "Epoch 4/30\n",
      "5/5 - 0s - loss: 0.0365 - acc: 0.2000\n",
      "Epoch 5/30\n",
      "5/5 - 0s - loss: 0.0309 - acc: 0.2000\n",
      "Epoch 6/30\n",
      "5/5 - 0s - loss: 0.0294 - acc: 0.2000\n",
      "Epoch 7/30\n",
      "5/5 - 0s - loss: 0.0311 - acc: 0.2000\n",
      "Epoch 8/30\n",
      "5/5 - 0s - loss: 0.0338 - acc: 0.2000\n",
      "Epoch 9/30\n",
      "5/5 - 0s - loss: 0.0351 - acc: 0.2000\n",
      "Epoch 10/30\n",
      "5/5 - 0s - loss: 0.0338 - acc: 0.2000\n",
      "Epoch 11/30\n",
      "5/5 - 0s - loss: 0.0305 - acc: 0.2000\n",
      "Epoch 12/30\n",
      "5/5 - 0s - loss: 0.0267 - acc: 0.2000\n",
      "Epoch 13/30\n",
      "5/5 - 0s - loss: 0.0236 - acc: 0.2000\n",
      "Epoch 14/30\n",
      "5/5 - 0s - loss: 0.0221 - acc: 0.2000\n",
      "Epoch 15/30\n",
      "5/5 - 0s - loss: 0.0221 - acc: 0.2000\n",
      "Epoch 16/30\n",
      "5/5 - 0s - loss: 0.0230 - acc: 0.2000\n",
      "Epoch 17/30\n",
      "5/5 - 0s - loss: 0.0238 - acc: 0.2000\n",
      "Epoch 18/30\n",
      "5/5 - 0s - loss: 0.0240 - acc: 0.2000\n",
      "Epoch 19/30\n",
      "5/5 - 0s - loss: 0.0235 - acc: 0.2000\n",
      "Epoch 20/30\n",
      "5/5 - 0s - loss: 0.0222 - acc: 0.2000\n",
      "Epoch 21/30\n",
      "5/5 - 0s - loss: 0.0207 - acc: 0.2000\n",
      "Epoch 22/30\n",
      "5/5 - 0s - loss: 0.0192 - acc: 0.2000\n",
      "Epoch 23/30\n",
      "5/5 - 0s - loss: 0.0183 - acc: 0.2000\n",
      "Epoch 24/30\n",
      "5/5 - 0s - loss: 0.0180 - acc: 0.2000\n",
      "Epoch 25/30\n",
      "5/5 - 0s - loss: 0.0180 - acc: 0.2000\n",
      "Epoch 26/30\n",
      "5/5 - 0s - loss: 0.0181 - acc: 0.2000\n",
      "Epoch 27/30\n",
      "5/5 - 0s - loss: 0.0182 - acc: 0.2000\n",
      "Epoch 28/30\n",
      "5/5 - 0s - loss: 0.0181 - acc: 0.2000\n",
      "Epoch 29/30\n",
      "5/5 - 0s - loss: 0.0177 - acc: 0.2000\n",
      "Epoch 30/30\n",
      "5/5 - 0s - loss: 0.0172 - acc: 0.2000\n"
     ]
    },
    {
     "data": {
      "text/plain": [
       "<tensorflow.python.keras.callbacks.History at 0x20f632d74c8>"
      ]
     },
     "execution_count": 102,
     "metadata": {},
     "output_type": "execute_result"
    }
   ],
   "source": [
    "sli.fit(x25,y25, batch_size=5, epochs=30, shuffle=True, verbose=2)"
   ]
  },
  {
   "cell_type": "code",
   "execution_count": 103,
   "metadata": {},
   "outputs": [
    {
     "name": "stdout",
     "output_type": "stream",
     "text": [
      "Epoch 1/30\n",
      "5/5 - 0s - loss: 0.1094 - acc: 0.0000e+00\n",
      "Epoch 2/30\n",
      "5/5 - 0s - loss: 0.1099 - acc: 0.0000e+00\n",
      "Epoch 3/30\n",
      "5/5 - 0s - loss: 0.1099 - acc: 0.0000e+00\n",
      "Epoch 4/30\n",
      "5/5 - 0s - loss: 0.1096 - acc: 0.0000e+00\n",
      "Epoch 5/30\n",
      "5/5 - 0s - loss: 0.1088 - acc: 0.0000e+00\n",
      "Epoch 6/30\n",
      "5/5 - 0s - loss: 0.1078 - acc: 0.0000e+00\n",
      "Epoch 7/30\n",
      "5/5 - 0s - loss: 0.1066 - acc: 0.0000e+00\n",
      "Epoch 8/30\n",
      "5/5 - 0s - loss: 0.1053 - acc: 0.0000e+00\n",
      "Epoch 9/30\n",
      "5/5 - 0s - loss: 0.1040 - acc: 0.0000e+00\n",
      "Epoch 10/30\n",
      "5/5 - 0s - loss: 0.1027 - acc: 0.0000e+00\n",
      "Epoch 11/30\n",
      "5/5 - 0s - loss: 0.1013 - acc: 0.0000e+00\n",
      "Epoch 12/30\n",
      "5/5 - 0s - loss: 0.0999 - acc: 0.0000e+00\n",
      "Epoch 13/30\n",
      "5/5 - 0s - loss: 0.0983 - acc: 0.0000e+00\n",
      "Epoch 14/30\n",
      "5/5 - 0s - loss: 0.0965 - acc: 0.0000e+00\n",
      "Epoch 15/30\n",
      "5/5 - 0s - loss: 0.0947 - acc: 0.0000e+00\n",
      "Epoch 16/30\n",
      "5/5 - 0s - loss: 0.0928 - acc: 0.0000e+00\n",
      "Epoch 17/30\n",
      "5/5 - 0s - loss: 0.0909 - acc: 0.0000e+00\n",
      "Epoch 18/30\n",
      "5/5 - 0s - loss: 0.0890 - acc: 0.0000e+00\n",
      "Epoch 19/30\n",
      "5/5 - 0s - loss: 0.0871 - acc: 0.0000e+00\n",
      "Epoch 20/30\n",
      "5/5 - 0s - loss: 0.0853 - acc: 0.0000e+00\n",
      "Epoch 21/30\n",
      "5/5 - 0s - loss: 0.0836 - acc: 0.0000e+00\n",
      "Epoch 22/30\n",
      "5/5 - 0s - loss: 0.0825 - acc: 0.0000e+00\n",
      "Epoch 23/30\n",
      "5/5 - 0s - loss: 0.0815 - acc: 0.0000e+00\n",
      "Epoch 24/30\n",
      "5/5 - 0s - loss: 0.0804 - acc: 0.0000e+00\n",
      "Epoch 25/30\n",
      "5/5 - 0s - loss: 0.0794 - acc: 0.0000e+00\n",
      "Epoch 26/30\n",
      "5/5 - 0s - loss: 0.0785 - acc: 0.0000e+00\n",
      "Epoch 27/30\n",
      "5/5 - 0s - loss: 0.0776 - acc: 0.0000e+00\n",
      "Epoch 28/30\n",
      "5/5 - 0s - loss: 0.0767 - acc: 0.0000e+00\n",
      "Epoch 29/30\n",
      "5/5 - 0s - loss: 0.0759 - acc: 0.0000e+00\n",
      "Epoch 30/30\n",
      "5/5 - 0s - loss: 0.0751 - acc: 0.0000e+00\n"
     ]
    },
    {
     "data": {
      "text/plain": [
       "<tensorflow.python.keras.callbacks.History at 0x20f63282108>"
      ]
     },
     "execution_count": 103,
     "metadata": {},
     "output_type": "execute_result"
    }
   ],
   "source": [
    "sli.fit(x26,y26, batch_size=5, epochs=30, shuffle=True, verbose=2)"
   ]
  },
  {
   "cell_type": "code",
   "execution_count": 104,
   "metadata": {},
   "outputs": [
    {
     "name": "stdout",
     "output_type": "stream",
     "text": [
      "Epoch 1/30\n",
      "5/5 - 0s - loss: 0.1560 - acc: 0.0000e+00\n",
      "Epoch 2/30\n",
      "5/5 - 0s - loss: 0.1511 - acc: 0.0000e+00\n",
      "Epoch 3/30\n",
      "5/5 - 0s - loss: 0.1418 - acc: 0.0000e+00\n",
      "Epoch 4/30\n",
      "5/5 - 0s - loss: 0.1315 - acc: 0.0000e+00\n",
      "Epoch 5/30\n",
      "5/5 - 0s - loss: 0.1252 - acc: 0.0000e+00\n",
      "Epoch 6/30\n",
      "5/5 - 0s - loss: 0.1264 - acc: 0.0000e+00\n",
      "Epoch 7/30\n",
      "5/5 - 0s - loss: 0.1323 - acc: 0.0000e+00\n",
      "Epoch 8/30\n",
      "5/5 - 0s - loss: 0.1364 - acc: 0.2000\n",
      "Epoch 9/30\n",
      "5/5 - 0s - loss: 0.1345 - acc: 0.2000\n",
      "Epoch 10/30\n",
      "5/5 - 0s - loss: 0.1277 - acc: 0.0000e+00\n",
      "Epoch 11/30\n",
      "5/5 - 0s - loss: 0.1208 - acc: 0.0000e+00\n",
      "Epoch 12/30\n",
      "5/5 - 0s - loss: 0.1174 - acc: 0.0000e+00\n",
      "Epoch 13/30\n",
      "5/5 - 0s - loss: 0.1178 - acc: 0.0000e+00\n",
      "Epoch 14/30\n",
      "5/5 - 0s - loss: 0.1193 - acc: 0.0000e+00\n",
      "Epoch 15/30\n",
      "5/5 - 0s - loss: 0.1197 - acc: 0.0000e+00\n",
      "Epoch 16/30\n",
      "5/5 - 0s - loss: 0.1178 - acc: 0.0000e+00\n",
      "Epoch 17/30\n",
      "5/5 - 0s - loss: 0.1140 - acc: 0.0000e+00\n",
      "Epoch 18/30\n",
      "5/5 - 0s - loss: 0.1096 - acc: 0.0000e+00\n",
      "Epoch 19/30\n",
      "5/5 - 0s - loss: 0.1062 - acc: 0.0000e+00\n",
      "Epoch 20/30\n",
      "5/5 - 0s - loss: 0.1048 - acc: 0.0000e+00\n",
      "Epoch 21/30\n",
      "5/5 - 0s - loss: 0.1051 - acc: 0.0000e+00\n",
      "Epoch 22/30\n",
      "5/5 - 0s - loss: 0.1058 - acc: 0.2000\n",
      "Epoch 23/30\n",
      "5/5 - 0s - loss: 0.1049 - acc: 0.2000\n",
      "Epoch 24/30\n",
      "5/5 - 0s - loss: 0.1025 - acc: 0.2000\n",
      "Epoch 25/30\n",
      "5/5 - 0s - loss: 0.0997 - acc: 0.0000e+00\n",
      "Epoch 26/30\n",
      "5/5 - 0s - loss: 0.0973 - acc: 0.0000e+00\n",
      "Epoch 27/30\n",
      "5/5 - 0s - loss: 0.0956 - acc: 0.0000e+00\n",
      "Epoch 28/30\n",
      "5/5 - 0s - loss: 0.0950 - acc: 0.0000e+00\n",
      "Epoch 29/30\n",
      "5/5 - 0s - loss: 0.0947 - acc: 0.0000e+00\n",
      "Epoch 30/30\n",
      "5/5 - 0s - loss: 0.0938 - acc: 0.0000e+00\n"
     ]
    },
    {
     "data": {
      "text/plain": [
       "<tensorflow.python.keras.callbacks.History at 0x20f632a7d88>"
      ]
     },
     "execution_count": 104,
     "metadata": {},
     "output_type": "execute_result"
    }
   ],
   "source": [
    "sli.fit(x27,y27, batch_size=5, epochs=30, shuffle=True, verbose=2)"
   ]
  },
  {
   "cell_type": "code",
   "execution_count": 105,
   "metadata": {},
   "outputs": [
    {
     "name": "stdout",
     "output_type": "stream",
     "text": [
      "Epoch 1/30\n",
      "5/5 - 0s - loss: 0.2493 - acc: 0.0000e+00\n",
      "Epoch 2/30\n",
      "5/5 - 0s - loss: 0.2270 - acc: 0.0000e+00\n",
      "Epoch 3/30\n",
      "5/5 - 0s - loss: 0.1785 - acc: 0.0000e+00\n",
      "Epoch 4/30\n",
      "5/5 - 0s - loss: 0.1098 - acc: 0.0000e+00\n",
      "Epoch 5/30\n",
      "5/5 - 0s - loss: 0.0622 - acc: 0.0000e+00\n",
      "Epoch 6/30\n",
      "5/5 - 0s - loss: 0.0716 - acc: 0.0000e+00\n",
      "Epoch 7/30\n",
      "5/5 - 0s - loss: 0.1034 - acc: 0.0000e+00\n",
      "Epoch 8/30\n",
      "5/5 - 0s - loss: 0.1270 - acc: 0.0000e+00\n",
      "Epoch 9/30\n",
      "5/5 - 0s - loss: 0.1389 - acc: 0.0000e+00\n",
      "Epoch 10/30\n",
      "5/5 - 0s - loss: 0.1418 - acc: 0.0000e+00\n",
      "Epoch 11/30\n",
      "5/5 - 0s - loss: 0.1371 - acc: 0.0000e+00\n",
      "Epoch 12/30\n",
      "5/5 - 0s - loss: 0.1250 - acc: 0.0000e+00\n",
      "Epoch 13/30\n",
      "5/5 - 0s - loss: 0.1053 - acc: 0.0000e+00\n",
      "Epoch 14/30\n",
      "5/5 - 0s - loss: 0.0805 - acc: 0.0000e+00\n",
      "Epoch 15/30\n",
      "5/5 - 0s - loss: 0.0604 - acc: 0.0000e+00\n",
      "Epoch 16/30\n",
      "5/5 - 0s - loss: 0.0591 - acc: 0.0000e+00\n",
      "Epoch 17/30\n",
      "5/5 - 0s - loss: 0.0750 - acc: 0.0000e+00\n",
      "Epoch 18/30\n",
      "5/5 - 0s - loss: 0.0901 - acc: 0.0000e+00\n",
      "Epoch 19/30\n",
      "5/5 - 0s - loss: 0.0920 - acc: 0.0000e+00\n",
      "Epoch 20/30\n",
      "5/5 - 0s - loss: 0.0805 - acc: 0.0000e+00\n",
      "Epoch 21/30\n",
      "5/5 - 0s - loss: 0.0643 - acc: 0.0000e+00\n",
      "Epoch 22/30\n",
      "5/5 - 0s - loss: 0.0548 - acc: 0.0000e+00\n",
      "Epoch 23/30\n",
      "5/5 - 0s - loss: 0.0561 - acc: 0.0000e+00\n",
      "Epoch 24/30\n",
      "5/5 - 0s - loss: 0.0632 - acc: 0.0000e+00\n",
      "Epoch 25/30\n",
      "5/5 - 0s - loss: 0.0691 - acc: 0.0000e+00\n",
      "Epoch 26/30\n",
      "5/5 - 0s - loss: 0.0702 - acc: 0.0000e+00\n",
      "Epoch 27/30\n",
      "5/5 - 0s - loss: 0.0662 - acc: 0.0000e+00\n",
      "Epoch 28/30\n",
      "5/5 - 0s - loss: 0.0594 - acc: 0.0000e+00\n",
      "Epoch 29/30\n",
      "5/5 - 0s - loss: 0.0531 - acc: 0.0000e+00\n",
      "Epoch 30/30\n",
      "5/5 - 0s - loss: 0.0509 - acc: 0.0000e+00\n"
     ]
    },
    {
     "data": {
      "text/plain": [
       "<tensorflow.python.keras.callbacks.History at 0x20f632c65c8>"
      ]
     },
     "execution_count": 105,
     "metadata": {},
     "output_type": "execute_result"
    }
   ],
   "source": [
    "sli.fit(x28,y28, batch_size=5, epochs=30, shuffle=True, verbose=2)"
   ]
  },
  {
   "cell_type": "code",
   "execution_count": 106,
   "metadata": {},
   "outputs": [
    {
     "name": "stdout",
     "output_type": "stream",
     "text": [
      "Epoch 1/30\n",
      "5/5 - 0s - loss: 0.1842 - acc: 0.0000e+00\n",
      "Epoch 2/30\n",
      "5/5 - 0s - loss: 0.1813 - acc: 0.0000e+00\n",
      "Epoch 3/30\n",
      "5/5 - 0s - loss: 0.1782 - acc: 0.0000e+00\n",
      "Epoch 4/30\n",
      "5/5 - 0s - loss: 0.1748 - acc: 0.0000e+00\n",
      "Epoch 5/30\n",
      "5/5 - 0s - loss: 0.1709 - acc: 0.0000e+00\n",
      "Epoch 6/30\n",
      "5/5 - 0s - loss: 0.1664 - acc: 0.0000e+00\n",
      "Epoch 7/30\n",
      "5/5 - 0s - loss: 0.1607 - acc: 0.0000e+00\n",
      "Epoch 8/30\n",
      "5/5 - 0s - loss: 0.1536 - acc: 0.0000e+00\n",
      "Epoch 9/30\n",
      "5/5 - 0s - loss: 0.1449 - acc: 0.0000e+00\n",
      "Epoch 10/30\n",
      "5/5 - 0s - loss: 0.1341 - acc: 0.0000e+00\n",
      "Epoch 11/30\n",
      "5/5 - 0s - loss: 0.1235 - acc: 0.0000e+00\n",
      "Epoch 12/30\n",
      "5/5 - 0s - loss: 0.1152 - acc: 0.2000\n",
      "Epoch 13/30\n",
      "5/5 - 0s - loss: 0.1106 - acc: 0.2000\n",
      "Epoch 14/30\n",
      "5/5 - 0s - loss: 0.1092 - acc: 0.2000\n",
      "Epoch 15/30\n",
      "5/5 - 0s - loss: 0.1096 - acc: 0.2000\n",
      "Epoch 16/30\n",
      "5/5 - 0s - loss: 0.1107 - acc: 0.2000\n",
      "Epoch 17/30\n",
      "5/5 - 0s - loss: 0.1117 - acc: 0.2000\n",
      "Epoch 18/30\n",
      "5/5 - 0s - loss: 0.1120 - acc: 0.2000\n",
      "Epoch 19/30\n",
      "5/5 - 0s - loss: 0.1115 - acc: 0.2000\n",
      "Epoch 20/30\n",
      "5/5 - 0s - loss: 0.1102 - acc: 0.2000\n",
      "Epoch 21/30\n",
      "5/5 - 0s - loss: 0.1079 - acc: 0.2000\n",
      "Epoch 22/30\n",
      "5/5 - 0s - loss: 0.1046 - acc: 0.2000\n",
      "Epoch 23/30\n",
      "5/5 - 0s - loss: 0.1006 - acc: 0.2000\n",
      "Epoch 24/30\n",
      "5/5 - 0s - loss: 0.0957 - acc: 0.2000\n",
      "Epoch 25/30\n",
      "5/5 - 0s - loss: 0.0903 - acc: 0.2000\n",
      "Epoch 26/30\n",
      "5/5 - 0s - loss: 0.0847 - acc: 0.2000\n",
      "Epoch 27/30\n",
      "5/5 - 0s - loss: 0.0791 - acc: 0.2000\n",
      "Epoch 28/30\n",
      "5/5 - 0s - loss: 0.0741 - acc: 0.2000\n",
      "Epoch 29/30\n",
      "5/5 - 0s - loss: 0.0701 - acc: 0.2000\n",
      "Epoch 30/30\n",
      "5/5 - 0s - loss: 0.0672 - acc: 0.2000\n"
     ]
    },
    {
     "data": {
      "text/plain": [
       "<tensorflow.python.keras.callbacks.History at 0x20f62e87388>"
      ]
     },
     "execution_count": 106,
     "metadata": {},
     "output_type": "execute_result"
    }
   ],
   "source": [
    "sli.fit(x29,y29, batch_size=5, epochs=30, shuffle=True, verbose=2)"
   ]
  },
  {
   "cell_type": "code",
   "execution_count": 107,
   "metadata": {},
   "outputs": [
    {
     "name": "stdout",
     "output_type": "stream",
     "text": [
      "Epoch 1/30\n",
      "5/5 - 0s - loss: 0.0794 - acc: 0.0000e+00\n",
      "Epoch 2/30\n",
      "5/5 - 0s - loss: 0.0650 - acc: 0.0000e+00\n",
      "Epoch 3/30\n",
      "5/5 - 0s - loss: 0.0562 - acc: 0.0000e+00\n",
      "Epoch 4/30\n",
      "5/5 - 0s - loss: 0.0558 - acc: 0.0000e+00\n",
      "Epoch 5/30\n",
      "5/5 - 0s - loss: 0.0613 - acc: 0.0000e+00\n",
      "Epoch 6/30\n",
      "5/5 - 0s - loss: 0.0681 - acc: 0.0000e+00\n",
      "Epoch 7/30\n",
      "5/5 - 0s - loss: 0.0725 - acc: 0.0000e+00\n",
      "Epoch 8/30\n",
      "5/5 - 0s - loss: 0.0734 - acc: 0.0000e+00\n",
      "Epoch 9/30\n",
      "5/5 - 0s - loss: 0.0707 - acc: 0.0000e+00\n",
      "Epoch 10/30\n",
      "5/5 - 0s - loss: 0.0656 - acc: 0.0000e+00\n",
      "Epoch 11/30\n",
      "5/5 - 0s - loss: 0.0599 - acc: 0.0000e+00\n",
      "Epoch 12/30\n",
      "5/5 - 0s - loss: 0.0558 - acc: 0.0000e+00\n",
      "Epoch 13/30\n",
      "5/5 - 0s - loss: 0.0547 - acc: 0.0000e+00\n",
      "Epoch 14/30\n",
      "5/5 - 0s - loss: 0.0564 - acc: 0.0000e+00\n",
      "Epoch 15/30\n",
      "5/5 - 0s - loss: 0.0593 - acc: 0.0000e+00\n",
      "Epoch 16/30\n",
      "5/5 - 0s - loss: 0.0614 - acc: 0.0000e+00\n",
      "Epoch 17/30\n",
      "5/5 - 0s - loss: 0.0616 - acc: 0.0000e+00\n",
      "Epoch 18/30\n",
      "5/5 - 0s - loss: 0.0599 - acc: 0.0000e+00\n",
      "Epoch 19/30\n",
      "5/5 - 0s - loss: 0.0573 - acc: 0.0000e+00\n",
      "Epoch 20/30\n",
      "5/5 - 0s - loss: 0.0550 - acc: 0.0000e+00\n",
      "Epoch 21/30\n",
      "5/5 - 0s - loss: 0.0538 - acc: 0.0000e+00\n",
      "Epoch 22/30\n",
      "5/5 - 0s - loss: 0.0540 - acc: 0.0000e+00\n",
      "Epoch 23/30\n",
      "5/5 - 0s - loss: 0.0549 - acc: 0.0000e+00\n",
      "Epoch 24/30\n",
      "5/5 - 0s - loss: 0.0559 - acc: 0.0000e+00\n",
      "Epoch 25/30\n",
      "5/5 - 0s - loss: 0.0563 - acc: 0.0000e+00\n",
      "Epoch 26/30\n",
      "5/5 - 0s - loss: 0.0559 - acc: 0.0000e+00\n",
      "Epoch 27/30\n",
      "5/5 - 0s - loss: 0.0549 - acc: 0.0000e+00\n",
      "Epoch 28/30\n",
      "5/5 - 0s - loss: 0.0538 - acc: 0.0000e+00\n",
      "Epoch 29/30\n",
      "5/5 - 0s - loss: 0.0529 - acc: 0.0000e+00\n",
      "Epoch 30/30\n",
      "5/5 - 0s - loss: 0.0525 - acc: 0.0000e+00\n"
     ]
    },
    {
     "data": {
      "text/plain": [
       "<tensorflow.python.keras.callbacks.History at 0x20f62e457c8>"
      ]
     },
     "execution_count": 107,
     "metadata": {},
     "output_type": "execute_result"
    }
   ],
   "source": [
    "sli.fit(x30,y30, batch_size=5, epochs=30, shuffle=True, verbose=2)"
   ]
  },
  {
   "cell_type": "code",
   "execution_count": 108,
   "metadata": {},
   "outputs": [
    {
     "name": "stdout",
     "output_type": "stream",
     "text": [
      "Epoch 1/30\n",
      "5/5 - 0s - loss: 0.0413 - acc: 0.2000\n",
      "Epoch 2/30\n",
      "5/5 - 0s - loss: 0.0419 - acc: 0.2000\n",
      "Epoch 3/30\n",
      "5/5 - 0s - loss: 0.0411 - acc: 0.2000\n",
      "Epoch 4/30\n",
      "5/5 - 0s - loss: 0.0394 - acc: 0.2000\n",
      "Epoch 5/30\n",
      "5/5 - 0s - loss: 0.0379 - acc: 0.2000\n",
      "Epoch 6/30\n",
      "5/5 - 0s - loss: 0.0372 - acc: 0.2000\n",
      "Epoch 7/30\n",
      "5/5 - 0s - loss: 0.0376 - acc: 0.2000\n",
      "Epoch 8/30\n",
      "5/5 - 0s - loss: 0.0385 - acc: 0.2000\n",
      "Epoch 9/30\n",
      "5/5 - 0s - loss: 0.0392 - acc: 0.2000\n",
      "Epoch 10/30\n",
      "5/5 - 0s - loss: 0.0392 - acc: 0.2000\n",
      "Epoch 11/30\n",
      "5/5 - 0s - loss: 0.0386 - acc: 0.2000\n",
      "Epoch 12/30\n",
      "5/5 - 0s - loss: 0.0378 - acc: 0.2000\n",
      "Epoch 13/30\n",
      "5/5 - 0s - loss: 0.0372 - acc: 0.2000\n",
      "Epoch 14/30\n",
      "5/5 - 0s - loss: 0.0371 - acc: 0.2000\n",
      "Epoch 15/30\n",
      "5/5 - 0s - loss: 0.0374 - acc: 0.2000\n",
      "Epoch 16/30\n",
      "5/5 - 0s - loss: 0.0378 - acc: 0.2000\n",
      "Epoch 17/30\n",
      "5/5 - 0s - loss: 0.0380 - acc: 0.2000\n",
      "Epoch 18/30\n",
      "5/5 - 0s - loss: 0.0378 - acc: 0.2000\n",
      "Epoch 19/30\n",
      "5/5 - 0s - loss: 0.0375 - acc: 0.2000\n",
      "Epoch 20/30\n",
      "5/5 - 0s - loss: 0.0371 - acc: 0.2000\n",
      "Epoch 21/30\n",
      "5/5 - 0s - loss: 0.0369 - acc: 0.2000\n",
      "Epoch 22/30\n",
      "5/5 - 0s - loss: 0.0370 - acc: 0.2000\n",
      "Epoch 23/30\n",
      "5/5 - 0s - loss: 0.0371 - acc: 0.2000\n",
      "Epoch 24/30\n",
      "5/5 - 0s - loss: 0.0373 - acc: 0.2000\n",
      "Epoch 25/30\n",
      "5/5 - 0s - loss: 0.0373 - acc: 0.2000\n",
      "Epoch 26/30\n",
      "5/5 - 0s - loss: 0.0371 - acc: 0.2000\n",
      "Epoch 27/30\n",
      "5/5 - 0s - loss: 0.0369 - acc: 0.2000\n",
      "Epoch 28/30\n",
      "5/5 - 0s - loss: 0.0368 - acc: 0.2000\n",
      "Epoch 29/30\n",
      "5/5 - 0s - loss: 0.0368 - acc: 0.2000\n",
      "Epoch 30/30\n",
      "5/5 - 0s - loss: 0.0368 - acc: 0.2000\n"
     ]
    },
    {
     "data": {
      "text/plain": [
       "<tensorflow.python.keras.callbacks.History at 0x20f62e57988>"
      ]
     },
     "execution_count": 108,
     "metadata": {},
     "output_type": "execute_result"
    }
   ],
   "source": [
    "sli.fit(x31,y31, batch_size=5, epochs=30, shuffle=True, verbose=2)"
   ]
  },
  {
   "cell_type": "code",
   "execution_count": 109,
   "metadata": {},
   "outputs": [
    {
     "name": "stdout",
     "output_type": "stream",
     "text": [
      "Epoch 1/30\n",
      "5/5 - 0s - loss: 0.1976 - acc: 0.0000e+00\n",
      "Epoch 2/30\n",
      "5/5 - 0s - loss: 0.1846 - acc: 0.0000e+00\n",
      "Epoch 3/30\n",
      "5/5 - 0s - loss: 0.1599 - acc: 0.0000e+00\n",
      "Epoch 4/30\n",
      "5/5 - 0s - loss: 0.1325 - acc: 0.0000e+00\n",
      "Epoch 5/30\n",
      "5/5 - 0s - loss: 0.1090 - acc: 0.0000e+00\n",
      "Epoch 6/30\n",
      "5/5 - 0s - loss: 0.0973 - acc: 0.0000e+00\n",
      "Epoch 7/30\n",
      "5/5 - 0s - loss: 0.0979 - acc: 0.0000e+00\n",
      "Epoch 8/30\n",
      "5/5 - 0s - loss: 0.1049 - acc: 0.0000e+00\n",
      "Epoch 9/30\n",
      "5/5 - 0s - loss: 0.1127 - acc: 0.0000e+00\n",
      "Epoch 10/30\n",
      "5/5 - 0s - loss: 0.1186 - acc: 0.0000e+00\n",
      "Epoch 11/30\n",
      "5/5 - 0s - loss: 0.1215 - acc: 0.0000e+00\n",
      "Epoch 12/30\n",
      "5/5 - 0s - loss: 0.1215 - acc: 0.0000e+00\n",
      "Epoch 13/30\n",
      "5/5 - 0s - loss: 0.1188 - acc: 0.0000e+00\n",
      "Epoch 14/30\n",
      "5/5 - 0s - loss: 0.1135 - acc: 0.0000e+00\n",
      "Epoch 15/30\n",
      "5/5 - 0s - loss: 0.1063 - acc: 0.0000e+00\n",
      "Epoch 16/30\n",
      "5/5 - 0s - loss: 0.0980 - acc: 0.0000e+00\n",
      "Epoch 17/30\n",
      "5/5 - 0s - loss: 0.0899 - acc: 0.0000e+00\n",
      "Epoch 18/30\n",
      "5/5 - 0s - loss: 0.0835 - acc: 0.0000e+00\n",
      "Epoch 19/30\n",
      "5/5 - 0s - loss: 0.0802 - acc: 0.0000e+00\n",
      "Epoch 20/30\n",
      "5/5 - 0s - loss: 0.0802 - acc: 0.0000e+00\n",
      "Epoch 21/30\n",
      "5/5 - 0s - loss: 0.0819 - acc: 0.0000e+00\n",
      "Epoch 22/30\n",
      "5/5 - 0s - loss: 0.0833 - acc: 0.0000e+00\n",
      "Epoch 23/30\n",
      "5/5 - 0s - loss: 0.0828 - acc: 0.0000e+00\n",
      "Epoch 24/30\n",
      "5/5 - 0s - loss: 0.0799 - acc: 0.0000e+00\n",
      "Epoch 25/30\n",
      "5/5 - 0s - loss: 0.0750 - acc: 0.0000e+00\n",
      "Epoch 26/30\n",
      "5/5 - 0s - loss: 0.0694 - acc: 0.0000e+00\n",
      "Epoch 27/30\n",
      "5/5 - 0s - loss: 0.0644 - acc: 0.0000e+00\n",
      "Epoch 28/30\n",
      "5/5 - 0s - loss: 0.0608 - acc: 0.0000e+00\n",
      "Epoch 29/30\n",
      "5/5 - 0s - loss: 0.0584 - acc: 0.0000e+00\n",
      "Epoch 30/30\n",
      "5/5 - 0s - loss: 0.0570 - acc: 0.0000e+00\n"
     ]
    },
    {
     "data": {
      "text/plain": [
       "<tensorflow.python.keras.callbacks.History at 0x20f632da708>"
      ]
     },
     "execution_count": 109,
     "metadata": {},
     "output_type": "execute_result"
    }
   ],
   "source": [
    "sli.fit(x32,y32, batch_size=5, epochs=30, shuffle=True, verbose=2)"
   ]
  },
  {
   "cell_type": "code",
   "execution_count": 110,
   "metadata": {},
   "outputs": [
    {
     "name": "stdout",
     "output_type": "stream",
     "text": [
      "Epoch 1/30\n",
      "5/5 - 0s - loss: 0.1772 - acc: 0.0000e+00\n",
      "Epoch 2/30\n",
      "5/5 - 0s - loss: 0.1768 - acc: 0.0000e+00\n",
      "Epoch 3/30\n",
      "5/5 - 0s - loss: 0.1756 - acc: 0.0000e+00\n",
      "Epoch 4/30\n",
      "5/5 - 0s - loss: 0.1736 - acc: 0.0000e+00\n",
      "Epoch 5/30\n",
      "5/5 - 0s - loss: 0.1708 - acc: 0.0000e+00\n",
      "Epoch 6/30\n",
      "5/5 - 0s - loss: 0.1671 - acc: 0.0000e+00\n",
      "Epoch 7/30\n",
      "5/5 - 0s - loss: 0.1626 - acc: 0.0000e+00\n",
      "Epoch 8/30\n",
      "5/5 - 0s - loss: 0.1572 - acc: 0.0000e+00\n",
      "Epoch 9/30\n",
      "5/5 - 0s - loss: 0.1509 - acc: 0.0000e+00\n",
      "Epoch 10/30\n",
      "5/5 - 0s - loss: 0.1440 - acc: 0.0000e+00\n",
      "Epoch 11/30\n",
      "5/5 - 0s - loss: 0.1366 - acc: 0.0000e+00\n",
      "Epoch 12/30\n",
      "5/5 - 0s - loss: 0.1294 - acc: 0.0000e+00\n",
      "Epoch 13/30\n",
      "5/5 - 0s - loss: 0.1232 - acc: 0.0000e+00\n",
      "Epoch 14/30\n",
      "5/5 - 0s - loss: 0.1186 - acc: 0.0000e+00\n",
      "Epoch 15/30\n",
      "5/5 - 0s - loss: 0.1159 - acc: 0.0000e+00\n",
      "Epoch 16/30\n",
      "5/5 - 0s - loss: 0.1145 - acc: 0.0000e+00\n",
      "Epoch 17/30\n",
      "5/5 - 0s - loss: 0.1131 - acc: 0.0000e+00\n",
      "Epoch 18/30\n",
      "5/5 - 0s - loss: 0.1104 - acc: 0.0000e+00\n",
      "Epoch 19/30\n",
      "5/5 - 0s - loss: 0.1057 - acc: 0.0000e+00\n",
      "Epoch 20/30\n",
      "5/5 - 0s - loss: 0.0992 - acc: 0.0000e+00\n",
      "Epoch 21/30\n",
      "5/5 - 0s - loss: 0.0917 - acc: 0.0000e+00\n",
      "Epoch 22/30\n",
      "5/5 - 0s - loss: 0.0843 - acc: 0.0000e+00\n",
      "Epoch 23/30\n",
      "5/5 - 0s - loss: 0.0777 - acc: 0.0000e+00\n",
      "Epoch 24/30\n",
      "5/5 - 0s - loss: 0.0720 - acc: 0.0000e+00\n",
      "Epoch 25/30\n",
      "5/5 - 0s - loss: 0.0672 - acc: 0.0000e+00\n",
      "Epoch 26/30\n",
      "5/5 - 0s - loss: 0.0628 - acc: 0.0000e+00\n",
      "Epoch 27/30\n",
      "5/5 - 0s - loss: 0.0586 - acc: 0.0000e+00\n",
      "Epoch 28/30\n",
      "5/5 - 0s - loss: 0.0547 - acc: 0.0000e+00\n",
      "Epoch 29/30\n",
      "5/5 - 0s - loss: 0.0505 - acc: 0.0000e+00\n",
      "Epoch 30/30\n",
      "5/5 - 0s - loss: 0.0464 - acc: 0.0000e+00\n"
     ]
    },
    {
     "data": {
      "text/plain": [
       "<tensorflow.python.keras.callbacks.History at 0x20f632dafc8>"
      ]
     },
     "execution_count": 110,
     "metadata": {},
     "output_type": "execute_result"
    }
   ],
   "source": [
    "sli.fit(x33,y33, batch_size=5, epochs=30, shuffle=True, verbose=2)"
   ]
  },
  {
   "cell_type": "code",
   "execution_count": 111,
   "metadata": {},
   "outputs": [
    {
     "name": "stdout",
     "output_type": "stream",
     "text": [
      "Epoch 1/30\n",
      "5/5 - 0s - loss: 0.1155 - acc: 0.0000e+00\n",
      "Epoch 2/30\n",
      "5/5 - 0s - loss: 0.1141 - acc: 0.0000e+00\n",
      "Epoch 3/30\n",
      "5/5 - 0s - loss: 0.1113 - acc: 0.0000e+00\n",
      "Epoch 4/30\n",
      "5/5 - 0s - loss: 0.1073 - acc: 0.0000e+00\n",
      "Epoch 5/30\n",
      "5/5 - 0s - loss: 0.1015 - acc: 0.0000e+00\n",
      "Epoch 6/30\n",
      "5/5 - 0s - loss: 0.0947 - acc: 0.0000e+00\n",
      "Epoch 7/30\n",
      "5/5 - 0s - loss: 0.0874 - acc: 0.0000e+00\n",
      "Epoch 8/30\n",
      "5/5 - 0s - loss: 0.0804 - acc: 0.0000e+00\n",
      "Epoch 9/30\n",
      "5/5 - 0s - loss: 0.0737 - acc: 0.0000e+00\n",
      "Epoch 10/30\n",
      "5/5 - 0s - loss: 0.0669 - acc: 0.0000e+00\n",
      "Epoch 11/30\n",
      "5/5 - 0s - loss: 0.0596 - acc: 0.0000e+00\n",
      "Epoch 12/30\n",
      "5/5 - 0s - loss: 0.0550 - acc: 0.0000e+00\n",
      "Epoch 13/30\n",
      "5/5 - 0s - loss: 0.0528 - acc: 0.0000e+00\n",
      "Epoch 14/30\n",
      "5/5 - 0s - loss: 0.0500 - acc: 0.0000e+00\n",
      "Epoch 15/30\n",
      "5/5 - 0s - loss: 0.0473 - acc: 0.0000e+00\n",
      "Epoch 16/30\n",
      "5/5 - 0s - loss: 0.0452 - acc: 0.0000e+00\n",
      "Epoch 17/30\n",
      "5/5 - 0s - loss: 0.0438 - acc: 0.0000e+00\n",
      "Epoch 18/30\n",
      "5/5 - 0s - loss: 0.0431 - acc: 0.0000e+00\n",
      "Epoch 19/30\n",
      "5/5 - 0s - loss: 0.0424 - acc: 0.0000e+00\n",
      "Epoch 20/30\n",
      "5/5 - 0s - loss: 0.0415 - acc: 0.0000e+00\n",
      "Epoch 21/30\n",
      "5/5 - 0s - loss: 0.0400 - acc: 0.0000e+00\n",
      "Epoch 22/30\n",
      "5/5 - 0s - loss: 0.0382 - acc: 0.0000e+00\n",
      "Epoch 23/30\n",
      "5/5 - 0s - loss: 0.0364 - acc: 0.0000e+00\n",
      "Epoch 24/30\n",
      "5/5 - 0s - loss: 0.0351 - acc: 0.0000e+00\n",
      "Epoch 25/30\n",
      "5/5 - 0s - loss: 0.0342 - acc: 0.0000e+00\n",
      "Epoch 26/30\n",
      "5/5 - 0s - loss: 0.0338 - acc: 0.0000e+00\n",
      "Epoch 27/30\n",
      "5/5 - 0s - loss: 0.0343 - acc: 0.0000e+00\n",
      "Epoch 28/30\n",
      "5/5 - 0s - loss: 0.0347 - acc: 0.0000e+00\n",
      "Epoch 29/30\n",
      "5/5 - 0s - loss: 0.0348 - acc: 0.0000e+00\n",
      "Epoch 30/30\n",
      "5/5 - 0s - loss: 0.0348 - acc: 0.0000e+00\n"
     ]
    },
    {
     "data": {
      "text/plain": [
       "<tensorflow.python.keras.callbacks.History at 0x20f632b4ec8>"
      ]
     },
     "execution_count": 111,
     "metadata": {},
     "output_type": "execute_result"
    }
   ],
   "source": [
    "sli.fit(x34,y34, batch_size=5, epochs=30, shuffle=True, verbose=2)"
   ]
  },
  {
   "cell_type": "code",
   "execution_count": 112,
   "metadata": {},
   "outputs": [
    {
     "name": "stdout",
     "output_type": "stream",
     "text": [
      "Epoch 1/30\n",
      "5/5 - 0s - loss: 0.2640 - acc: 0.0000e+00\n",
      "Epoch 2/30\n",
      "5/5 - 0s - loss: 0.2527 - acc: 0.0000e+00\n",
      "Epoch 3/30\n",
      "5/5 - 0s - loss: 0.2338 - acc: 0.0000e+00\n",
      "Epoch 4/30\n",
      "5/5 - 0s - loss: 0.2107 - acc: 0.0000e+00\n",
      "Epoch 5/30\n",
      "5/5 - 0s - loss: 0.1877 - acc: 0.0000e+00\n",
      "Epoch 6/30\n",
      "5/5 - 0s - loss: 0.1689 - acc: 0.0000e+00\n",
      "Epoch 7/30\n",
      "5/5 - 0s - loss: 0.1565 - acc: 0.0000e+00\n",
      "Epoch 8/30\n",
      "5/5 - 0s - loss: 0.1504 - acc: 0.0000e+00\n",
      "Epoch 9/30\n",
      "5/5 - 0s - loss: 0.1484 - acc: 0.0000e+00\n",
      "Epoch 10/30\n",
      "5/5 - 0s - loss: 0.1483 - acc: 0.0000e+00\n",
      "Epoch 11/30\n",
      "5/5 - 0s - loss: 0.1484 - acc: 0.0000e+00\n",
      "Epoch 12/30\n",
      "5/5 - 0s - loss: 0.1476 - acc: 0.0000e+00\n",
      "Epoch 13/30\n",
      "5/5 - 0s - loss: 0.1453 - acc: 0.0000e+00\n",
      "Epoch 14/30\n",
      "5/5 - 0s - loss: 0.1413 - acc: 0.0000e+00\n",
      "Epoch 15/30\n",
      "5/5 - 0s - loss: 0.1355 - acc: 0.0000e+00\n",
      "Epoch 16/30\n",
      "5/5 - 0s - loss: 0.1283 - acc: 0.0000e+00\n",
      "Epoch 17/30\n",
      "5/5 - 0s - loss: 0.1205 - acc: 0.0000e+00\n",
      "Epoch 18/30\n",
      "5/5 - 0s - loss: 0.1132 - acc: 0.0000e+00\n",
      "Epoch 19/30\n",
      "5/5 - 0s - loss: 0.1077 - acc: 0.0000e+00\n",
      "Epoch 20/30\n",
      "5/5 - 0s - loss: 0.1050 - acc: 0.0000e+00\n",
      "Epoch 21/30\n",
      "5/5 - 0s - loss: 0.1050 - acc: 0.0000e+00\n",
      "Epoch 22/30\n",
      "5/5 - 0s - loss: 0.1067 - acc: 0.0000e+00\n",
      "Epoch 23/30\n",
      "5/5 - 0s - loss: 0.1090 - acc: 0.0000e+00\n",
      "Epoch 24/30\n",
      "5/5 - 0s - loss: 0.1104 - acc: 0.0000e+00\n",
      "Epoch 25/30\n",
      "5/5 - 0s - loss: 0.1106 - acc: 0.0000e+00\n",
      "Epoch 26/30\n",
      "5/5 - 0s - loss: 0.1095 - acc: 0.0000e+00\n",
      "Epoch 27/30\n",
      "5/5 - 0s - loss: 0.1074 - acc: 0.0000e+00\n",
      "Epoch 28/30\n",
      "5/5 - 0s - loss: 0.1048 - acc: 0.0000e+00\n",
      "Epoch 29/30\n",
      "5/5 - 0s - loss: 0.1024 - acc: 0.0000e+00\n",
      "Epoch 30/30\n",
      "5/5 - 0s - loss: 0.1005 - acc: 0.0000e+00\n"
     ]
    },
    {
     "data": {
      "text/plain": [
       "<tensorflow.python.keras.callbacks.History at 0x20f632da588>"
      ]
     },
     "execution_count": 112,
     "metadata": {},
     "output_type": "execute_result"
    }
   ],
   "source": [
    "sli.fit(x36,y36, batch_size=5, epochs=30, shuffle=True, verbose=2)"
   ]
  },
  {
   "cell_type": "code",
   "execution_count": 113,
   "metadata": {},
   "outputs": [
    {
     "name": "stdout",
     "output_type": "stream",
     "text": [
      "Epoch 1/30\n",
      "5/5 - 0s - loss: 0.1436 - acc: 0.0000e+00\n",
      "Epoch 2/30\n",
      "5/5 - 0s - loss: 0.1314 - acc: 0.0000e+00\n",
      "Epoch 3/30\n",
      "5/5 - 0s - loss: 0.1233 - acc: 0.0000e+00\n",
      "Epoch 4/30\n",
      "5/5 - 0s - loss: 0.1219 - acc: 0.0000e+00\n",
      "Epoch 5/30\n",
      "5/5 - 0s - loss: 0.1245 - acc: 0.0000e+00\n",
      "Epoch 6/30\n",
      "5/5 - 0s - loss: 0.1270 - acc: 0.0000e+00\n",
      "Epoch 7/30\n",
      "5/5 - 0s - loss: 0.1271 - acc: 0.0000e+00\n",
      "Epoch 8/30\n",
      "5/5 - 0s - loss: 0.1254 - acc: 0.0000e+00\n",
      "Epoch 9/30\n",
      "5/5 - 0s - loss: 0.1220 - acc: 0.0000e+00\n",
      "Epoch 10/30\n",
      "5/5 - 0s - loss: 0.1170 - acc: 0.0000e+00\n",
      "Epoch 11/30\n",
      "5/5 - 0s - loss: 0.1126 - acc: 0.0000e+00\n",
      "Epoch 12/30\n",
      "5/5 - 0s - loss: 0.1104 - acc: 0.0000e+00\n",
      "Epoch 13/30\n",
      "5/5 - 0s - loss: 0.1110 - acc: 0.0000e+00\n",
      "Epoch 14/30\n",
      "5/5 - 0s - loss: 0.1129 - acc: 0.0000e+00\n",
      "Epoch 15/30\n",
      "5/5 - 0s - loss: 0.1137 - acc: 0.0000e+00\n",
      "Epoch 16/30\n",
      "5/5 - 0s - loss: 0.1123 - acc: 0.0000e+00\n",
      "Epoch 17/30\n",
      "5/5 - 0s - loss: 0.1093 - acc: 0.0000e+00\n",
      "Epoch 18/30\n",
      "5/5 - 0s - loss: 0.1064 - acc: 0.0000e+00\n",
      "Epoch 19/30\n",
      "5/5 - 0s - loss: 0.1049 - acc: 0.0000e+00\n",
      "Epoch 20/30\n",
      "5/5 - 0s - loss: 0.1050 - acc: 0.0000e+00\n",
      "Epoch 21/30\n",
      "5/5 - 0s - loss: 0.1058 - acc: 0.0000e+00\n",
      "Epoch 22/30\n",
      "5/5 - 0s - loss: 0.1062 - acc: 0.0000e+00\n",
      "Epoch 23/30\n",
      "5/5 - 0s - loss: 0.1058 - acc: 0.0000e+00\n",
      "Epoch 24/30\n",
      "5/5 - 0s - loss: 0.1045 - acc: 0.0000e+00\n",
      "Epoch 25/30\n",
      "5/5 - 0s - loss: 0.1030 - acc: 0.0000e+00\n",
      "Epoch 26/30\n",
      "5/5 - 0s - loss: 0.1019 - acc: 0.0000e+00\n",
      "Epoch 27/30\n",
      "5/5 - 0s - loss: 0.1014 - acc: 0.0000e+00\n",
      "Epoch 28/30\n",
      "5/5 - 0s - loss: 0.1015 - acc: 0.0000e+00\n",
      "Epoch 29/30\n",
      "5/5 - 0s - loss: 0.1016 - acc: 0.0000e+00\n",
      "Epoch 30/30\n",
      "5/5 - 0s - loss: 0.1013 - acc: 0.0000e+00\n"
     ]
    },
    {
     "data": {
      "text/plain": [
       "<tensorflow.python.keras.callbacks.History at 0x20f632dad08>"
      ]
     },
     "execution_count": 113,
     "metadata": {},
     "output_type": "execute_result"
    }
   ],
   "source": [
    "sli.fit(x37,y37, batch_size=5, epochs=30, shuffle=True, verbose=2)"
   ]
  },
  {
   "cell_type": "code",
   "execution_count": 114,
   "metadata": {},
   "outputs": [
    {
     "name": "stdout",
     "output_type": "stream",
     "text": [
      "Epoch 1/30\n",
      "5/5 - 0s - loss: 0.0740 - acc: 0.0000e+00\n",
      "Epoch 2/30\n",
      "5/5 - 0s - loss: 0.0682 - acc: 0.0000e+00\n",
      "Epoch 3/30\n",
      "5/5 - 0s - loss: 0.0616 - acc: 0.0000e+00\n",
      "Epoch 4/30\n",
      "5/5 - 0s - loss: 0.0579 - acc: 0.0000e+00\n",
      "Epoch 5/30\n",
      "5/5 - 0s - loss: 0.0578 - acc: 0.0000e+00\n",
      "Epoch 6/30\n",
      "5/5 - 0s - loss: 0.0595 - acc: 0.0000e+00\n",
      "Epoch 7/30\n",
      "5/5 - 0s - loss: 0.0605 - acc: 0.0000e+00\n",
      "Epoch 8/30\n",
      "5/5 - 0s - loss: 0.0595 - acc: 0.0000e+00\n",
      "Epoch 9/30\n",
      "5/5 - 0s - loss: 0.0563 - acc: 0.0000e+00\n",
      "Epoch 10/30\n",
      "5/5 - 0s - loss: 0.0520 - acc: 0.0000e+00\n",
      "Epoch 11/30\n",
      "5/5 - 0s - loss: 0.0481 - acc: 0.0000e+00\n",
      "Epoch 12/30\n",
      "5/5 - 0s - loss: 0.0456 - acc: 0.0000e+00\n",
      "Epoch 13/30\n",
      "5/5 - 0s - loss: 0.0449 - acc: 0.0000e+00\n",
      "Epoch 14/30\n",
      "5/5 - 0s - loss: 0.0449 - acc: 0.0000e+00\n",
      "Epoch 15/30\n",
      "5/5 - 0s - loss: 0.0444 - acc: 0.0000e+00\n",
      "Epoch 16/30\n",
      "5/5 - 0s - loss: 0.0428 - acc: 0.0000e+00\n",
      "Epoch 17/30\n",
      "5/5 - 0s - loss: 0.0416 - acc: 0.0000e+00\n",
      "Epoch 18/30\n",
      "5/5 - 0s - loss: 0.0406 - acc: 0.0000e+00\n",
      "Epoch 19/30\n",
      "5/5 - 0s - loss: 0.0404 - acc: 0.0000e+00\n",
      "Epoch 20/30\n",
      "5/5 - 0s - loss: 0.0408 - acc: 0.0000e+00\n",
      "Epoch 21/30\n",
      "5/5 - 0s - loss: 0.0412 - acc: 0.0000e+00\n",
      "Epoch 22/30\n",
      "5/5 - 0s - loss: 0.0412 - acc: 0.0000e+00\n",
      "Epoch 23/30\n",
      "5/5 - 0s - loss: 0.0405 - acc: 0.0000e+00\n",
      "Epoch 24/30\n",
      "5/5 - 0s - loss: 0.0394 - acc: 0.0000e+00\n",
      "Epoch 25/30\n",
      "5/5 - 0s - loss: 0.0383 - acc: 0.0000e+00\n",
      "Epoch 26/30\n",
      "5/5 - 0s - loss: 0.0374 - acc: 0.0000e+00\n",
      "Epoch 27/30\n",
      "5/5 - 0s - loss: 0.0368 - acc: 0.0000e+00\n",
      "Epoch 28/30\n",
      "5/5 - 0s - loss: 0.0362 - acc: 0.0000e+00\n",
      "Epoch 29/30\n",
      "5/5 - 0s - loss: 0.0355 - acc: 0.0000e+00\n",
      "Epoch 30/30\n",
      "5/5 - 0s - loss: 0.0349 - acc: 0.0000e+00\n"
     ]
    },
    {
     "data": {
      "text/plain": [
       "<tensorflow.python.keras.callbacks.History at 0x20f62e57888>"
      ]
     },
     "execution_count": 114,
     "metadata": {},
     "output_type": "execute_result"
    }
   ],
   "source": [
    "sli.fit(x38,y38, batch_size=5, epochs=30, shuffle=True, verbose=2)"
   ]
  },
  {
   "cell_type": "code",
   "execution_count": 115,
   "metadata": {},
   "outputs": [
    {
     "name": "stdout",
     "output_type": "stream",
     "text": [
      "Epoch 1/30\n",
      "5/5 - 0s - loss: 0.1014 - acc: 0.0000e+00\n",
      "Epoch 2/30\n",
      "5/5 - 0s - loss: 0.0955 - acc: 0.0000e+00\n",
      "Epoch 3/30\n",
      "5/5 - 0s - loss: 0.0840 - acc: 0.0000e+00\n",
      "Epoch 4/30\n",
      "5/5 - 0s - loss: 0.0697 - acc: 0.0000e+00\n",
      "Epoch 5/30\n",
      "5/5 - 0s - loss: 0.0571 - acc: 0.2000\n",
      "Epoch 6/30\n",
      "5/5 - 0s - loss: 0.0504 - acc: 0.2000\n",
      "Epoch 7/30\n",
      "5/5 - 0s - loss: 0.0500 - acc: 0.2000\n",
      "Epoch 8/30\n",
      "5/5 - 0s - loss: 0.0524 - acc: 0.2000\n",
      "Epoch 9/30\n",
      "5/5 - 0s - loss: 0.0538 - acc: 0.2000\n",
      "Epoch 10/30\n",
      "5/5 - 0s - loss: 0.0522 - acc: 0.2000\n",
      "Epoch 11/30\n",
      "5/5 - 0s - loss: 0.0472 - acc: 0.2000\n",
      "Epoch 12/30\n",
      "5/5 - 0s - loss: 0.0402 - acc: 0.2000\n",
      "Epoch 13/30\n",
      "5/5 - 0s - loss: 0.0331 - acc: 0.2000\n",
      "Epoch 14/30\n",
      "5/5 - 0s - loss: 0.0276 - acc: 0.2000\n",
      "Epoch 15/30\n",
      "5/5 - 0s - loss: 0.0244 - acc: 0.2000\n",
      "Epoch 16/30\n",
      "5/5 - 0s - loss: 0.0232 - acc: 0.2000\n",
      "Epoch 17/30\n",
      "5/5 - 0s - loss: 0.0231 - acc: 0.2000\n",
      "Epoch 18/30\n",
      "5/5 - 0s - loss: 0.0231 - acc: 0.2000\n",
      "Epoch 19/30\n",
      "5/5 - 0s - loss: 0.0225 - acc: 0.2000\n",
      "Epoch 20/30\n",
      "5/5 - 0s - loss: 0.0214 - acc: 0.2000\n",
      "Epoch 21/30\n",
      "5/5 - 0s - loss: 0.0198 - acc: 0.2000\n",
      "Epoch 22/30\n",
      "5/5 - 0s - loss: 0.0178 - acc: 0.2000\n",
      "Epoch 23/30\n",
      "5/5 - 0s - loss: 0.0158 - acc: 0.2000\n",
      "Epoch 24/30\n",
      "5/5 - 0s - loss: 0.0142 - acc: 0.2000\n",
      "Epoch 25/30\n",
      "5/5 - 0s - loss: 0.0130 - acc: 0.2000\n",
      "Epoch 26/30\n",
      "5/5 - 0s - loss: 0.0123 - acc: 0.2000\n",
      "Epoch 27/30\n",
      "5/5 - 0s - loss: 0.0120 - acc: 0.2000\n",
      "Epoch 28/30\n",
      "5/5 - 0s - loss: 0.0121 - acc: 0.2000\n",
      "Epoch 29/30\n",
      "5/5 - 0s - loss: 0.0121 - acc: 0.2000\n",
      "Epoch 30/30\n",
      "5/5 - 0s - loss: 0.0122 - acc: 0.2000\n"
     ]
    },
    {
     "data": {
      "text/plain": [
       "<tensorflow.python.keras.callbacks.History at 0x20f6328efc8>"
      ]
     },
     "execution_count": 115,
     "metadata": {},
     "output_type": "execute_result"
    }
   ],
   "source": [
    "sli.fit(x39,y39, batch_size=5, epochs=30, shuffle=True, verbose=2)"
   ]
  },
  {
   "cell_type": "code",
   "execution_count": 116,
   "metadata": {},
   "outputs": [
    {
     "name": "stdout",
     "output_type": "stream",
     "text": [
      "Epoch 1/30\n",
      "5/5 - 0s - loss: 0.0673 - acc: 0.0000e+00\n",
      "Epoch 2/30\n",
      "5/5 - 0s - loss: 0.0671 - acc: 0.0000e+00\n",
      "Epoch 3/30\n",
      "5/5 - 0s - loss: 0.0667 - acc: 0.0000e+00\n",
      "Epoch 4/30\n",
      "5/5 - 0s - loss: 0.0661 - acc: 0.0000e+00\n",
      "Epoch 5/30\n",
      "5/5 - 0s - loss: 0.0655 - acc: 0.0000e+00\n",
      "Epoch 6/30\n",
      "5/5 - 0s - loss: 0.0649 - acc: 0.0000e+00\n",
      "Epoch 7/30\n",
      "5/5 - 0s - loss: 0.0644 - acc: 0.0000e+00\n",
      "Epoch 8/30\n",
      "5/5 - 0s - loss: 0.0640 - acc: 0.0000e+00\n",
      "Epoch 9/30\n",
      "5/5 - 0s - loss: 0.0638 - acc: 0.0000e+00\n",
      "Epoch 10/30\n",
      "5/5 - 0s - loss: 0.0637 - acc: 0.0000e+00\n",
      "Epoch 11/30\n",
      "5/5 - 0s - loss: 0.0637 - acc: 0.0000e+00\n",
      "Epoch 12/30\n",
      "5/5 - 0s - loss: 0.0637 - acc: 0.0000e+00\n",
      "Epoch 13/30\n",
      "5/5 - 0s - loss: 0.0637 - acc: 0.0000e+00\n",
      "Epoch 14/30\n",
      "5/5 - 0s - loss: 0.0636 - acc: 0.0000e+00\n",
      "Epoch 15/30\n",
      "5/5 - 0s - loss: 0.0635 - acc: 0.0000e+00\n",
      "Epoch 16/30\n",
      "5/5 - 0s - loss: 0.0633 - acc: 0.0000e+00\n",
      "Epoch 17/30\n",
      "5/5 - 0s - loss: 0.0630 - acc: 0.0000e+00\n",
      "Epoch 18/30\n",
      "5/5 - 0s - loss: 0.0627 - acc: 0.0000e+00\n",
      "Epoch 19/30\n",
      "5/5 - 0s - loss: 0.0625 - acc: 0.0000e+00\n",
      "Epoch 20/30\n",
      "5/5 - 0s - loss: 0.0622 - acc: 0.0000e+00\n",
      "Epoch 21/30\n",
      "5/5 - 0s - loss: 0.0620 - acc: 0.0000e+00\n",
      "Epoch 22/30\n",
      "5/5 - 0s - loss: 0.0618 - acc: 0.0000e+00\n",
      "Epoch 23/30\n",
      "5/5 - 0s - loss: 0.0617 - acc: 0.0000e+00\n",
      "Epoch 24/30\n",
      "5/5 - 0s - loss: 0.0616 - acc: 0.0000e+00\n",
      "Epoch 25/30\n",
      "5/5 - 0s - loss: 0.0615 - acc: 0.0000e+00\n",
      "Epoch 26/30\n",
      "5/5 - 0s - loss: 0.0614 - acc: 0.0000e+00\n",
      "Epoch 27/30\n",
      "5/5 - 0s - loss: 0.0613 - acc: 0.0000e+00\n",
      "Epoch 28/30\n",
      "5/5 - 0s - loss: 0.0612 - acc: 0.0000e+00\n",
      "Epoch 29/30\n",
      "5/5 - 0s - loss: 0.0611 - acc: 0.0000e+00\n",
      "Epoch 30/30\n",
      "5/5 - 0s - loss: 0.0609 - acc: 0.0000e+00\n"
     ]
    },
    {
     "data": {
      "text/plain": [
       "<tensorflow.python.keras.callbacks.History at 0x20f632d7b08>"
      ]
     },
     "execution_count": 116,
     "metadata": {},
     "output_type": "execute_result"
    }
   ],
   "source": [
    "sli.fit(x40,y40, batch_size=5, epochs=30, shuffle=True, verbose=2)"
   ]
  },
  {
   "cell_type": "code",
   "execution_count": 117,
   "metadata": {},
   "outputs": [
    {
     "name": "stdout",
     "output_type": "stream",
     "text": [
      "Epoch 1/30\n",
      "5/5 - 0s - loss: 0.2295 - acc: 0.0000e+00\n",
      "Epoch 2/30\n",
      "5/5 - 0s - loss: 0.2242 - acc: 0.0000e+00\n",
      "Epoch 3/30\n",
      "5/5 - 0s - loss: 0.2136 - acc: 0.0000e+00\n",
      "Epoch 4/30\n",
      "5/5 - 0s - loss: 0.1973 - acc: 0.0000e+00\n",
      "Epoch 5/30\n",
      "5/5 - 0s - loss: 0.1762 - acc: 0.0000e+00\n",
      "Epoch 6/30\n",
      "5/5 - 0s - loss: 0.1539 - acc: 0.0000e+00\n",
      "Epoch 7/30\n",
      "5/5 - 0s - loss: 0.1374 - acc: 0.0000e+00\n",
      "Epoch 8/30\n",
      "5/5 - 0s - loss: 0.1333 - acc: 0.0000e+00\n",
      "Epoch 9/30\n",
      "5/5 - 0s - loss: 0.1407 - acc: 0.0000e+00\n",
      "Epoch 10/30\n",
      "5/5 - 0s - loss: 0.1519 - acc: 0.0000e+00\n",
      "Epoch 11/30\n",
      "5/5 - 0s - loss: 0.1606 - acc: 0.0000e+00\n",
      "Epoch 12/30\n",
      "5/5 - 0s - loss: 0.1648 - acc: 0.0000e+00\n",
      "Epoch 13/30\n",
      "5/5 - 0s - loss: 0.1643 - acc: 0.0000e+00\n",
      "Epoch 14/30\n",
      "5/5 - 0s - loss: 0.1597 - acc: 0.0000e+00\n",
      "Epoch 15/30\n",
      "5/5 - 0s - loss: 0.1518 - acc: 0.0000e+00\n",
      "Epoch 16/30\n",
      "5/5 - 0s - loss: 0.1425 - acc: 0.0000e+00\n",
      "Epoch 17/30\n",
      "5/5 - 0s - loss: 0.1347 - acc: 0.0000e+00\n",
      "Epoch 18/30\n",
      "5/5 - 0s - loss: 0.1312 - acc: 0.0000e+00\n",
      "Epoch 19/30\n",
      "5/5 - 0s - loss: 0.1325 - acc: 0.0000e+00\n",
      "Epoch 20/30\n",
      "5/5 - 0s - loss: 0.1365 - acc: 0.0000e+00\n",
      "Epoch 21/30\n",
      "5/5 - 0s - loss: 0.1404 - acc: 0.0000e+00\n",
      "Epoch 22/30\n",
      "5/5 - 0s - loss: 0.1424 - acc: 0.0000e+00\n",
      "Epoch 23/30\n",
      "5/5 - 0s - loss: 0.1419 - acc: 0.0000e+00\n",
      "Epoch 24/30\n",
      "5/5 - 0s - loss: 0.1392 - acc: 0.0000e+00\n",
      "Epoch 25/30\n",
      "5/5 - 0s - loss: 0.1353 - acc: 0.0000e+00\n",
      "Epoch 26/30\n",
      "5/5 - 0s - loss: 0.1317 - acc: 0.0000e+00\n",
      "Epoch 27/30\n",
      "5/5 - 0s - loss: 0.1296 - acc: 0.0000e+00\n",
      "Epoch 28/30\n",
      "5/5 - 0s - loss: 0.1293 - acc: 0.0000e+00\n",
      "Epoch 29/30\n",
      "5/5 - 0s - loss: 0.1305 - acc: 0.0000e+00\n",
      "Epoch 30/30\n",
      "5/5 - 0s - loss: 0.1320 - acc: 0.0000e+00\n"
     ]
    },
    {
     "data": {
      "text/plain": [
       "<tensorflow.python.keras.callbacks.History at 0x20f632d7a48>"
      ]
     },
     "execution_count": 117,
     "metadata": {},
     "output_type": "execute_result"
    }
   ],
   "source": [
    "sli.fit(x42,y42, batch_size=5, epochs=30, shuffle=True, verbose=2)"
   ]
  },
  {
   "cell_type": "code",
   "execution_count": 118,
   "metadata": {},
   "outputs": [
    {
     "name": "stdout",
     "output_type": "stream",
     "text": [
      "Epoch 1/30\n",
      "5/5 - 0s - loss: 0.1217 - acc: 0.0000e+00\n",
      "Epoch 2/30\n",
      "5/5 - 0s - loss: 0.1203 - acc: 0.0000e+00\n",
      "Epoch 3/30\n",
      "5/5 - 0s - loss: 0.1158 - acc: 0.0000e+00\n",
      "Epoch 4/30\n",
      "5/5 - 0s - loss: 0.1098 - acc: 0.0000e+00\n",
      "Epoch 5/30\n",
      "5/5 - 0s - loss: 0.1039 - acc: 0.0000e+00\n",
      "Epoch 6/30\n",
      "5/5 - 0s - loss: 0.0998 - acc: 0.0000e+00\n",
      "Epoch 7/30\n",
      "5/5 - 0s - loss: 0.0987 - acc: 0.0000e+00\n",
      "Epoch 8/30\n",
      "5/5 - 0s - loss: 0.1003 - acc: 0.0000e+00\n",
      "Epoch 9/30\n",
      "5/5 - 0s - loss: 0.1025 - acc: 0.0000e+00\n",
      "Epoch 10/30\n",
      "5/5 - 0s - loss: 0.1037 - acc: 0.0000e+00\n",
      "Epoch 11/30\n",
      "5/5 - 0s - loss: 0.1026 - acc: 0.0000e+00\n",
      "Epoch 12/30\n",
      "5/5 - 0s - loss: 0.0997 - acc: 0.0000e+00\n",
      "Epoch 13/30\n",
      "5/5 - 0s - loss: 0.0959 - acc: 0.0000e+00\n",
      "Epoch 14/30\n",
      "5/5 - 0s - loss: 0.0925 - acc: 0.0000e+00\n",
      "Epoch 15/30\n",
      "5/5 - 0s - loss: 0.0906 - acc: 0.0000e+00\n",
      "Epoch 16/30\n",
      "5/5 - 0s - loss: 0.0900 - acc: 0.0000e+00\n",
      "Epoch 17/30\n",
      "5/5 - 0s - loss: 0.0903 - acc: 0.0000e+00\n",
      "Epoch 18/30\n",
      "5/5 - 0s - loss: 0.0906 - acc: 0.0000e+00\n",
      "Epoch 19/30\n",
      "5/5 - 0s - loss: 0.0901 - acc: 0.0000e+00\n",
      "Epoch 20/30\n",
      "5/5 - 0s - loss: 0.0887 - acc: 0.0000e+00\n",
      "Epoch 21/30\n",
      "5/5 - 0s - loss: 0.0867 - acc: 0.0000e+00\n",
      "Epoch 22/30\n",
      "5/5 - 0s - loss: 0.0848 - acc: 0.0000e+00\n",
      "Epoch 23/30\n",
      "5/5 - 0s - loss: 0.0834 - acc: 0.0000e+00\n",
      "Epoch 24/30\n",
      "5/5 - 0s - loss: 0.0827 - acc: 0.0000e+00\n",
      "Epoch 25/30\n",
      "5/5 - 0s - loss: 0.0825 - acc: 0.0000e+00\n",
      "Epoch 26/30\n",
      "5/5 - 0s - loss: 0.0824 - acc: 0.0000e+00\n",
      "Epoch 27/30\n",
      "5/5 - 0s - loss: 0.0819 - acc: 0.0000e+00\n",
      "Epoch 28/30\n",
      "5/5 - 0s - loss: 0.0810 - acc: 0.0000e+00\n",
      "Epoch 29/30\n",
      "5/5 - 0s - loss: 0.0798 - acc: 0.0000e+00\n",
      "Epoch 30/30\n",
      "5/5 - 0s - loss: 0.0787 - acc: 0.0000e+00\n"
     ]
    },
    {
     "data": {
      "text/plain": [
       "<tensorflow.python.keras.callbacks.History at 0x20f6321fbc8>"
      ]
     },
     "execution_count": 118,
     "metadata": {},
     "output_type": "execute_result"
    }
   ],
   "source": [
    "sli.fit(x43,y43, batch_size=5, epochs=30, shuffle=True, verbose=2)"
   ]
  },
  {
   "cell_type": "code",
   "execution_count": 119,
   "metadata": {},
   "outputs": [
    {
     "name": "stdout",
     "output_type": "stream",
     "text": [
      "Epoch 1/30\n",
      "5/5 - 0s - loss: 0.0890 - acc: 0.2000\n",
      "Epoch 2/30\n",
      "5/5 - 0s - loss: 0.0845 - acc: 0.2000\n",
      "Epoch 3/30\n",
      "5/5 - 0s - loss: 0.0740 - acc: 0.2000\n",
      "Epoch 4/30\n",
      "5/5 - 0s - loss: 0.0619 - acc: 0.2000\n",
      "Epoch 5/30\n",
      "5/5 - 0s - loss: 0.0519 - acc: 0.2000\n",
      "Epoch 6/30\n",
      "5/5 - 0s - loss: 0.0457 - acc: 0.2000\n",
      "Epoch 7/30\n",
      "5/5 - 0s - loss: 0.0431 - acc: 0.2000\n",
      "Epoch 8/30\n",
      "5/5 - 0s - loss: 0.0428 - acc: 0.2000\n",
      "Epoch 9/30\n",
      "5/5 - 0s - loss: 0.0436 - acc: 0.2000\n",
      "Epoch 10/30\n",
      "5/5 - 0s - loss: 0.0445 - acc: 0.2000\n",
      "Epoch 11/30\n",
      "5/5 - 0s - loss: 0.0449 - acc: 0.2000\n",
      "Epoch 12/30\n",
      "5/5 - 0s - loss: 0.0445 - acc: 0.2000\n",
      "Epoch 13/30\n",
      "5/5 - 0s - loss: 0.0431 - acc: 0.2000\n",
      "Epoch 14/30\n",
      "5/5 - 0s - loss: 0.0408 - acc: 0.2000\n",
      "Epoch 15/30\n",
      "5/5 - 0s - loss: 0.0376 - acc: 0.2000\n",
      "Epoch 16/30\n",
      "5/5 - 0s - loss: 0.0336 - acc: 0.2000\n",
      "Epoch 17/30\n",
      "5/5 - 0s - loss: 0.0292 - acc: 0.2000\n",
      "Epoch 18/30\n",
      "5/5 - 0s - loss: 0.0249 - acc: 0.2000\n",
      "Epoch 19/30\n",
      "5/5 - 0s - loss: 0.0212 - acc: 0.2000\n",
      "Epoch 20/30\n",
      "5/5 - 0s - loss: 0.0186 - acc: 0.2000\n",
      "Epoch 21/30\n",
      "5/5 - 0s - loss: 0.0175 - acc: 0.2000\n",
      "Epoch 22/30\n",
      "5/5 - 0s - loss: 0.0174 - acc: 0.2000\n",
      "Epoch 23/30\n",
      "5/5 - 0s - loss: 0.0178 - acc: 0.2000\n",
      "Epoch 24/30\n",
      "5/5 - 0s - loss: 0.0178 - acc: 0.2000\n",
      "Epoch 25/30\n",
      "5/5 - 0s - loss: 0.0170 - acc: 0.2000\n",
      "Epoch 26/30\n",
      "5/5 - 0s - loss: 0.0155 - acc: 0.2000\n",
      "Epoch 27/30\n",
      "5/5 - 0s - loss: 0.0135 - acc: 0.2000\n",
      "Epoch 28/30\n",
      "5/5 - 0s - loss: 0.0114 - acc: 0.2000\n",
      "Epoch 29/30\n",
      "5/5 - 0s - loss: 0.0098 - acc: 0.2000\n",
      "Epoch 30/30\n",
      "5/5 - 0s - loss: 0.0088 - acc: 0.2000\n"
     ]
    },
    {
     "data": {
      "text/plain": [
       "<tensorflow.python.keras.callbacks.History at 0x20f63290108>"
      ]
     },
     "execution_count": 119,
     "metadata": {},
     "output_type": "execute_result"
    }
   ],
   "source": [
    "sli.fit(x44,y44, batch_size=5, epochs=30, shuffle=True, verbose=2)"
   ]
  },
  {
   "cell_type": "code",
   "execution_count": 120,
   "metadata": {},
   "outputs": [
    {
     "name": "stdout",
     "output_type": "stream",
     "text": [
      "Epoch 1/30\n",
      "5/5 - 0s - loss: 0.1566 - acc: 0.2000\n",
      "Epoch 2/30\n",
      "5/5 - 0s - loss: 0.1463 - acc: 0.2000\n",
      "Epoch 3/30\n",
      "5/5 - 0s - loss: 0.1199 - acc: 0.2000\n",
      "Epoch 4/30\n",
      "5/5 - 0s - loss: 0.0868 - acc: 0.2000\n",
      "Epoch 5/30\n",
      "5/5 - 0s - loss: 0.0633 - acc: 0.2000\n",
      "Epoch 6/30\n",
      "5/5 - 0s - loss: 0.0609 - acc: 0.2000\n",
      "Epoch 7/30\n",
      "5/5 - 0s - loss: 0.0734 - acc: 0.0000e+00\n",
      "Epoch 8/30\n",
      "5/5 - 0s - loss: 0.0879 - acc: 0.0000e+00\n",
      "Epoch 9/30\n",
      "5/5 - 0s - loss: 0.0970 - acc: 0.0000e+00\n",
      "Epoch 10/30\n",
      "5/5 - 0s - loss: 0.0991 - acc: 0.0000e+00\n",
      "Epoch 11/30\n",
      "5/5 - 0s - loss: 0.0944 - acc: 0.0000e+00\n",
      "Epoch 12/30\n",
      "5/5 - 0s - loss: 0.0844 - acc: 0.0000e+00\n",
      "Epoch 13/30\n",
      "5/5 - 0s - loss: 0.0720 - acc: 0.0000e+00\n",
      "Epoch 14/30\n",
      "5/5 - 0s - loss: 0.0619 - acc: 0.2000\n",
      "Epoch 15/30\n",
      "5/5 - 0s - loss: 0.0586 - acc: 0.2000\n",
      "Epoch 16/30\n",
      "5/5 - 0s - loss: 0.0627 - acc: 0.2000\n",
      "Epoch 17/30\n",
      "5/5 - 0s - loss: 0.0700 - acc: 0.2000\n",
      "Epoch 18/30\n",
      "5/5 - 0s - loss: 0.0748 - acc: 0.2000\n",
      "Epoch 19/30\n",
      "5/5 - 0s - loss: 0.0744 - acc: 0.2000\n",
      "Epoch 20/30\n",
      "5/5 - 0s - loss: 0.0695 - acc: 0.2000\n",
      "Epoch 21/30\n",
      "5/5 - 0s - loss: 0.0631 - acc: 0.2000\n",
      "Epoch 22/30\n",
      "5/5 - 0s - loss: 0.0588 - acc: 0.2000\n",
      "Epoch 23/30\n",
      "5/5 - 0s - loss: 0.0583 - acc: 0.2000\n",
      "Epoch 24/30\n",
      "5/5 - 0s - loss: 0.0605 - acc: 0.2000\n",
      "Epoch 25/30\n",
      "5/5 - 0s - loss: 0.0634 - acc: 0.0000e+00\n",
      "Epoch 26/30\n",
      "5/5 - 0s - loss: 0.0651 - acc: 0.0000e+00\n",
      "Epoch 27/30\n",
      "5/5 - 0s - loss: 0.0648 - acc: 0.0000e+00\n",
      "Epoch 28/30\n",
      "5/5 - 0s - loss: 0.0628 - acc: 0.0000e+00\n",
      "Epoch 29/30\n",
      "5/5 - 0s - loss: 0.0602 - acc: 0.2000\n",
      "Epoch 30/30\n",
      "5/5 - 0s - loss: 0.0582 - acc: 0.2000\n"
     ]
    },
    {
     "data": {
      "text/plain": [
       "<tensorflow.python.keras.callbacks.History at 0x20f632d7808>"
      ]
     },
     "execution_count": 120,
     "metadata": {},
     "output_type": "execute_result"
    }
   ],
   "source": [
    "sli.fit(x45,y45, batch_size=5, epochs=30, shuffle=True, verbose=2)"
   ]
  },
  {
   "cell_type": "code",
   "execution_count": 121,
   "metadata": {},
   "outputs": [
    {
     "name": "stdout",
     "output_type": "stream",
     "text": [
      "Epoch 1/30\n",
      "5/5 - 0s - loss: 0.0921 - acc: 0.0000e+00\n",
      "Epoch 2/30\n",
      "5/5 - 0s - loss: 0.0811 - acc: 0.0000e+00\n",
      "Epoch 3/30\n",
      "5/5 - 0s - loss: 0.0701 - acc: 0.0000e+00\n",
      "Epoch 4/30\n",
      "5/5 - 0s - loss: 0.0635 - acc: 0.0000e+00\n",
      "Epoch 5/30\n",
      "5/5 - 0s - loss: 0.0643 - acc: 0.0000e+00\n",
      "Epoch 6/30\n",
      "5/5 - 0s - loss: 0.0705 - acc: 0.0000e+00\n",
      "Epoch 7/30\n",
      "5/5 - 0s - loss: 0.0768 - acc: 0.0000e+00\n",
      "Epoch 8/30\n",
      "5/5 - 0s - loss: 0.0789 - acc: 0.0000e+00\n",
      "Epoch 9/30\n",
      "5/5 - 0s - loss: 0.0760 - acc: 0.0000e+00\n",
      "Epoch 10/30\n",
      "5/5 - 0s - loss: 0.0701 - acc: 0.0000e+00\n",
      "Epoch 11/30\n",
      "5/5 - 0s - loss: 0.0647 - acc: 0.0000e+00\n",
      "Epoch 12/30\n",
      "5/5 - 0s - loss: 0.0624 - acc: 0.0000e+00\n",
      "Epoch 13/30\n",
      "5/5 - 0s - loss: 0.0635 - acc: 0.0000e+00\n",
      "Epoch 14/30\n",
      "5/5 - 0s - loss: 0.0662 - acc: 0.0000e+00\n",
      "Epoch 15/30\n",
      "5/5 - 0s - loss: 0.0685 - acc: 0.0000e+00\n",
      "Epoch 16/30\n",
      "5/5 - 0s - loss: 0.0691 - acc: 0.0000e+00\n",
      "Epoch 17/30\n",
      "5/5 - 0s - loss: 0.0679 - acc: 0.0000e+00\n",
      "Epoch 18/30\n",
      "5/5 - 0s - loss: 0.0656 - acc: 0.0000e+00\n",
      "Epoch 19/30\n",
      "5/5 - 0s - loss: 0.0632 - acc: 0.0000e+00\n",
      "Epoch 20/30\n",
      "5/5 - 0s - loss: 0.0618 - acc: 0.0000e+00\n",
      "Epoch 21/30\n",
      "5/5 - 0s - loss: 0.0619 - acc: 0.0000e+00\n",
      "Epoch 22/30\n",
      "5/5 - 0s - loss: 0.0630 - acc: 0.0000e+00\n",
      "Epoch 23/30\n",
      "5/5 - 0s - loss: 0.0641 - acc: 0.0000e+00\n",
      "Epoch 24/30\n",
      "5/5 - 0s - loss: 0.0644 - acc: 0.0000e+00\n",
      "Epoch 25/30\n",
      "5/5 - 0s - loss: 0.0638 - acc: 0.0000e+00\n",
      "Epoch 26/30\n",
      "5/5 - 0s - loss: 0.0626 - acc: 0.0000e+00\n",
      "Epoch 27/30\n",
      "5/5 - 0s - loss: 0.0615 - acc: 0.0000e+00\n",
      "Epoch 28/30\n",
      "5/5 - 0s - loss: 0.0610 - acc: 0.0000e+00\n",
      "Epoch 29/30\n",
      "5/5 - 0s - loss: 0.0612 - acc: 0.0000e+00\n",
      "Epoch 30/30\n",
      "5/5 - 0s - loss: 0.0616 - acc: 0.0000e+00\n"
     ]
    },
    {
     "data": {
      "text/plain": [
       "<tensorflow.python.keras.callbacks.History at 0x20f632dac88>"
      ]
     },
     "execution_count": 121,
     "metadata": {},
     "output_type": "execute_result"
    }
   ],
   "source": [
    "sli.fit(x46,y46, batch_size=5, epochs=30, shuffle=True, verbose=2)"
   ]
  },
  {
   "cell_type": "code",
   "execution_count": 122,
   "metadata": {},
   "outputs": [
    {
     "name": "stdout",
     "output_type": "stream",
     "text": [
      "Epoch 1/30\n",
      "5/5 - 0s - loss: 0.0608 - acc: 0.0000e+00\n",
      "Epoch 2/30\n",
      "5/5 - 0s - loss: 0.0606 - acc: 0.0000e+00\n",
      "Epoch 3/30\n",
      "5/5 - 0s - loss: 0.0597 - acc: 0.0000e+00\n",
      "Epoch 4/30\n",
      "5/5 - 0s - loss: 0.0583 - acc: 0.0000e+00\n",
      "Epoch 5/30\n",
      "5/5 - 0s - loss: 0.0565 - acc: 0.0000e+00\n",
      "Epoch 6/30\n",
      "5/5 - 0s - loss: 0.0545 - acc: 0.0000e+00\n",
      "Epoch 7/30\n",
      "5/5 - 0s - loss: 0.0525 - acc: 0.0000e+00\n",
      "Epoch 8/30\n",
      "5/5 - 0s - loss: 0.0504 - acc: 0.0000e+00\n",
      "Epoch 9/30\n",
      "5/5 - 0s - loss: 0.0484 - acc: 0.0000e+00\n",
      "Epoch 10/30\n",
      "5/5 - 0s - loss: 0.0465 - acc: 0.0000e+00\n",
      "Epoch 11/30\n",
      "5/5 - 0s - loss: 0.0447 - acc: 0.0000e+00\n",
      "Epoch 12/30\n",
      "5/5 - 0s - loss: 0.0430 - acc: 0.0000e+00\n",
      "Epoch 13/30\n",
      "5/5 - 0s - loss: 0.0413 - acc: 0.0000e+00\n",
      "Epoch 14/30\n",
      "5/5 - 0s - loss: 0.0397 - acc: 0.0000e+00\n",
      "Epoch 15/30\n",
      "5/5 - 0s - loss: 0.0381 - acc: 0.0000e+00\n",
      "Epoch 16/30\n",
      "5/5 - 0s - loss: 0.0367 - acc: 0.0000e+00\n",
      "Epoch 17/30\n",
      "5/5 - 0s - loss: 0.0353 - acc: 0.0000e+00\n",
      "Epoch 18/30\n",
      "5/5 - 0s - loss: 0.0340 - acc: 0.0000e+00\n",
      "Epoch 19/30\n",
      "5/5 - 0s - loss: 0.0328 - acc: 0.0000e+00\n",
      "Epoch 20/30\n",
      "5/5 - 0s - loss: 0.0318 - acc: 0.0000e+00\n",
      "Epoch 21/30\n",
      "5/5 - 0s - loss: 0.0309 - acc: 0.0000e+00\n",
      "Epoch 22/30\n",
      "5/5 - 0s - loss: 0.0302 - acc: 0.0000e+00\n",
      "Epoch 23/30\n",
      "5/5 - 0s - loss: 0.0295 - acc: 0.0000e+00\n",
      "Epoch 24/30\n",
      "5/5 - 0s - loss: 0.0289 - acc: 0.0000e+00\n",
      "Epoch 25/30\n",
      "5/5 - 0s - loss: 0.0284 - acc: 0.0000e+00\n",
      "Epoch 26/30\n",
      "5/5 - 0s - loss: 0.0279 - acc: 0.0000e+00\n",
      "Epoch 27/30\n",
      "5/5 - 0s - loss: 0.0275 - acc: 0.0000e+00\n",
      "Epoch 28/30\n",
      "5/5 - 0s - loss: 0.0271 - acc: 0.0000e+00\n",
      "Epoch 29/30\n",
      "5/5 - 0s - loss: 0.0268 - acc: 0.0000e+00\n",
      "Epoch 30/30\n",
      "5/5 - 0s - loss: 0.0265 - acc: 0.0000e+00\n"
     ]
    },
    {
     "data": {
      "text/plain": [
       "<tensorflow.python.keras.callbacks.History at 0x20f632e4e88>"
      ]
     },
     "execution_count": 122,
     "metadata": {},
     "output_type": "execute_result"
    }
   ],
   "source": [
    "sli.fit(x47,y47, batch_size=5, epochs=30, shuffle=True, verbose=2)"
   ]
  },
  {
   "cell_type": "code",
   "execution_count": 123,
   "metadata": {},
   "outputs": [
    {
     "name": "stdout",
     "output_type": "stream",
     "text": [
      "Epoch 1/30\n",
      "5/5 - 0s - loss: 0.0893 - acc: 0.0000e+00\n",
      "Epoch 2/30\n",
      "5/5 - 0s - loss: 0.0828 - acc: 0.0000e+00\n",
      "Epoch 3/30\n",
      "5/5 - 0s - loss: 0.0712 - acc: 0.0000e+00\n",
      "Epoch 4/30\n",
      "5/5 - 0s - loss: 0.0587 - acc: 0.0000e+00\n",
      "Epoch 5/30\n",
      "5/5 - 0s - loss: 0.0502 - acc: 0.0000e+00\n",
      "Epoch 6/30\n",
      "5/5 - 0s - loss: 0.0491 - acc: 0.0000e+00\n",
      "Epoch 7/30\n",
      "5/5 - 0s - loss: 0.0540 - acc: 0.0000e+00\n",
      "Epoch 8/30\n",
      "5/5 - 0s - loss: 0.0606 - acc: 0.0000e+00\n",
      "Epoch 9/30\n",
      "5/5 - 0s - loss: 0.0647 - acc: 0.0000e+00\n",
      "Epoch 10/30\n",
      "5/5 - 0s - loss: 0.0643 - acc: 0.0000e+00\n",
      "Epoch 11/30\n",
      "5/5 - 0s - loss: 0.0601 - acc: 0.0000e+00\n",
      "Epoch 12/30\n",
      "5/5 - 0s - loss: 0.0543 - acc: 0.0000e+00\n",
      "Epoch 13/30\n",
      "5/5 - 0s - loss: 0.0496 - acc: 0.0000e+00\n",
      "Epoch 14/30\n",
      "5/5 - 0s - loss: 0.0479 - acc: 0.0000e+00\n",
      "Epoch 15/30\n",
      "5/5 - 0s - loss: 0.0492 - acc: 0.0000e+00\n",
      "Epoch 16/30\n",
      "5/5 - 0s - loss: 0.0519 - acc: 0.0000e+00\n",
      "Epoch 17/30\n",
      "5/5 - 0s - loss: 0.0540 - acc: 0.0000e+00\n",
      "Epoch 18/30\n",
      "5/5 - 0s - loss: 0.0545 - acc: 0.0000e+00\n",
      "Epoch 19/30\n",
      "5/5 - 0s - loss: 0.0532 - acc: 0.0000e+00\n",
      "Epoch 20/30\n",
      "5/5 - 0s - loss: 0.0508 - acc: 0.0000e+00\n",
      "Epoch 21/30\n",
      "5/5 - 0s - loss: 0.0485 - acc: 0.0000e+00\n",
      "Epoch 22/30\n",
      "5/5 - 0s - loss: 0.0472 - acc: 0.0000e+00\n",
      "Epoch 23/30\n",
      "5/5 - 0s - loss: 0.0472 - acc: 0.0000e+00\n",
      "Epoch 24/30\n",
      "5/5 - 0s - loss: 0.0480 - acc: 0.0000e+00\n",
      "Epoch 25/30\n",
      "5/5 - 0s - loss: 0.0490 - acc: 0.0000e+00\n",
      "Epoch 26/30\n",
      "5/5 - 0s - loss: 0.0493 - acc: 0.0000e+00\n",
      "Epoch 27/30\n",
      "5/5 - 0s - loss: 0.0487 - acc: 0.0000e+00\n",
      "Epoch 28/30\n",
      "5/5 - 0s - loss: 0.0474 - acc: 0.0000e+00\n",
      "Epoch 29/30\n",
      "5/5 - 0s - loss: 0.0460 - acc: 0.0000e+00\n",
      "Epoch 30/30\n",
      "5/5 - 0s - loss: 0.0449 - acc: 0.0000e+00\n"
     ]
    },
    {
     "data": {
      "text/plain": [
       "<tensorflow.python.keras.callbacks.History at 0x20f632dae48>"
      ]
     },
     "execution_count": 123,
     "metadata": {},
     "output_type": "execute_result"
    }
   ],
   "source": [
    "sli.fit(x48,y48, batch_size=5, epochs=30, shuffle=True, verbose=2)"
   ]
  },
  {
   "cell_type": "code",
   "execution_count": 124,
   "metadata": {},
   "outputs": [
    {
     "name": "stdout",
     "output_type": "stream",
     "text": [
      "Epoch 1/30\n",
      "5/5 - 0s - loss: 0.1992 - acc: 0.0000e+00\n",
      "Epoch 2/30\n",
      "5/5 - 0s - loss: 0.1987 - acc: 0.0000e+00\n",
      "Epoch 3/30\n",
      "5/5 - 0s - loss: 0.1966 - acc: 0.0000e+00\n",
      "Epoch 4/30\n",
      "5/5 - 0s - loss: 0.1934 - acc: 0.0000e+00\n",
      "Epoch 5/30\n",
      "5/5 - 0s - loss: 0.1898 - acc: 0.0000e+00\n",
      "Epoch 6/30\n",
      "5/5 - 0s - loss: 0.1864 - acc: 0.0000e+00\n",
      "Epoch 7/30\n",
      "5/5 - 0s - loss: 0.1830 - acc: 0.0000e+00\n",
      "Epoch 8/30\n",
      "5/5 - 0s - loss: 0.1805 - acc: 0.0000e+00\n",
      "Epoch 9/30\n",
      "5/5 - 0s - loss: 0.1784 - acc: 0.0000e+00\n",
      "Epoch 10/30\n",
      "5/5 - 0s - loss: 0.1766 - acc: 0.0000e+00\n",
      "Epoch 11/30\n",
      "5/5 - 0s - loss: 0.1747 - acc: 0.0000e+00\n",
      "Epoch 12/30\n",
      "5/5 - 0s - loss: 0.1723 - acc: 0.0000e+00\n",
      "Epoch 13/30\n",
      "5/5 - 0s - loss: 0.1692 - acc: 0.0000e+00\n",
      "Epoch 14/30\n",
      "5/5 - 0s - loss: 0.1651 - acc: 0.0000e+00\n",
      "Epoch 15/30\n",
      "5/5 - 0s - loss: 0.1597 - acc: 0.0000e+00\n",
      "Epoch 16/30\n",
      "5/5 - 0s - loss: 0.1531 - acc: 0.0000e+00\n",
      "Epoch 17/30\n",
      "5/5 - 0s - loss: 0.1460 - acc: 0.0000e+00\n",
      "Epoch 18/30\n",
      "5/5 - 0s - loss: 0.1386 - acc: 0.0000e+00\n",
      "Epoch 19/30\n",
      "5/5 - 0s - loss: 0.1314 - acc: 0.0000e+00\n",
      "Epoch 20/30\n",
      "5/5 - 0s - loss: 0.1249 - acc: 0.0000e+00\n",
      "Epoch 21/30\n",
      "5/5 - 0s - loss: 0.1190 - acc: 0.0000e+00\n",
      "Epoch 22/30\n",
      "5/5 - 0s - loss: 0.1132 - acc: 0.0000e+00\n",
      "Epoch 23/30\n",
      "5/5 - 0s - loss: 0.1091 - acc: 0.0000e+00\n",
      "Epoch 24/30\n",
      "5/5 - 0s - loss: 0.1051 - acc: 0.0000e+00\n",
      "Epoch 25/30\n",
      "5/5 - 0s - loss: 0.1010 - acc: 0.0000e+00\n",
      "Epoch 26/30\n",
      "5/5 - 0s - loss: 0.0974 - acc: 0.0000e+00\n",
      "Epoch 27/30\n",
      "5/5 - 0s - loss: 0.0945 - acc: 0.0000e+00\n",
      "Epoch 28/30\n",
      "5/5 - 0s - loss: 0.0923 - acc: 0.0000e+00\n",
      "Epoch 29/30\n",
      "5/5 - 0s - loss: 0.0893 - acc: 0.0000e+00\n",
      "Epoch 30/30\n",
      "5/5 - 0s - loss: 0.0851 - acc: 0.0000e+00\n"
     ]
    },
    {
     "data": {
      "text/plain": [
       "<tensorflow.python.keras.callbacks.History at 0x20f632dac08>"
      ]
     },
     "execution_count": 124,
     "metadata": {},
     "output_type": "execute_result"
    }
   ],
   "source": [
    "sli.fit(x49,y49, batch_size=5, epochs=30, shuffle=True, verbose=2)"
   ]
  },
  {
   "cell_type": "code",
   "execution_count": 125,
   "metadata": {},
   "outputs": [
    {
     "name": "stdout",
     "output_type": "stream",
     "text": [
      "Epoch 1/30\n",
      "5/5 - 0s - loss: 0.0748 - acc: 0.0000e+00\n",
      "Epoch 2/30\n",
      "5/5 - 0s - loss: 0.0742 - acc: 0.0000e+00\n",
      "Epoch 3/30\n",
      "5/5 - 0s - loss: 0.0739 - acc: 0.0000e+00\n",
      "Epoch 4/30\n",
      "5/5 - 0s - loss: 0.0740 - acc: 0.0000e+00\n",
      "Epoch 5/30\n",
      "5/5 - 0s - loss: 0.0742 - acc: 0.0000e+00\n",
      "Epoch 6/30\n",
      "5/5 - 0s - loss: 0.0743 - acc: 0.0000e+00\n",
      "Epoch 7/30\n",
      "5/5 - 0s - loss: 0.0742 - acc: 0.0000e+00\n",
      "Epoch 8/30\n",
      "5/5 - 0s - loss: 0.0738 - acc: 0.0000e+00\n",
      "Epoch 9/30\n",
      "5/5 - 0s - loss: 0.0734 - acc: 0.0000e+00\n",
      "Epoch 10/30\n",
      "5/5 - 0s - loss: 0.0730 - acc: 0.0000e+00\n",
      "Epoch 11/30\n",
      "5/5 - 0s - loss: 0.0729 - acc: 0.0000e+00\n",
      "Epoch 12/30\n",
      "5/5 - 0s - loss: 0.0728 - acc: 0.0000e+00\n",
      "Epoch 13/30\n",
      "5/5 - 0s - loss: 0.0728 - acc: 0.0000e+00\n",
      "Epoch 14/30\n",
      "5/5 - 0s - loss: 0.0728 - acc: 0.0000e+00\n",
      "Epoch 15/30\n",
      "5/5 - 0s - loss: 0.0727 - acc: 0.0000e+00\n",
      "Epoch 16/30\n",
      "5/5 - 0s - loss: 0.0724 - acc: 0.0000e+00\n",
      "Epoch 17/30\n",
      "5/5 - 0s - loss: 0.0722 - acc: 0.0000e+00\n",
      "Epoch 18/30\n",
      "5/5 - 0s - loss: 0.0719 - acc: 0.0000e+00\n",
      "Epoch 19/30\n",
      "5/5 - 0s - loss: 0.0718 - acc: 0.0000e+00\n",
      "Epoch 20/30\n",
      "5/5 - 0s - loss: 0.0716 - acc: 0.0000e+00\n",
      "Epoch 21/30\n",
      "5/5 - 0s - loss: 0.0713 - acc: 0.0000e+00\n",
      "Epoch 22/30\n",
      "5/5 - 0s - loss: 0.0710 - acc: 0.0000e+00\n",
      "Epoch 23/30\n",
      "5/5 - 0s - loss: 0.0706 - acc: 0.0000e+00\n",
      "Epoch 24/30\n",
      "5/5 - 0s - loss: 0.0702 - acc: 0.0000e+00\n",
      "Epoch 25/30\n",
      "5/5 - 0s - loss: 0.0697 - acc: 0.0000e+00\n",
      "Epoch 26/30\n",
      "5/5 - 0s - loss: 0.0693 - acc: 0.0000e+00\n",
      "Epoch 27/30\n",
      "5/5 - 0s - loss: 0.0696 - acc: 0.0000e+00\n",
      "Epoch 28/30\n",
      "5/5 - 0s - loss: 0.0699 - acc: 0.0000e+00\n",
      "Epoch 29/30\n",
      "5/5 - 0s - loss: 0.0699 - acc: 0.0000e+00\n",
      "Epoch 30/30\n",
      "5/5 - 0s - loss: 0.0696 - acc: 0.0000e+00\n"
     ]
    },
    {
     "data": {
      "text/plain": [
       "<tensorflow.python.keras.callbacks.History at 0x20f632ee448>"
      ]
     },
     "execution_count": 125,
     "metadata": {},
     "output_type": "execute_result"
    }
   ],
   "source": [
    "sli.fit(x50,y50, batch_size=5, epochs=30, shuffle=True, verbose=2)"
   ]
  },
  {
   "cell_type": "code",
   "execution_count": 123,
   "metadata": {},
   "outputs": [
    {
     "ename": "NameError",
     "evalue": "name 'valid_set1' is not defined",
     "output_type": "error",
     "traceback": [
      "\u001b[1;31m---------------------------------------------------------------------------\u001b[0m",
      "\u001b[1;31mNameError\u001b[0m                                 Traceback (most recent call last)",
      "\u001b[1;32m<ipython-input-123-744d2212ae5d>\u001b[0m in \u001b[0;36m<module>\u001b[1;34m\u001b[0m\n\u001b[0;32m      1\u001b[0m \u001b[1;31m#running validation sets\u001b[0m\u001b[1;33m\u001b[0m\u001b[1;33m\u001b[0m\u001b[1;33m\u001b[0m\u001b[0m\n\u001b[1;32m----> 2\u001b[1;33m \u001b[0madult\u001b[0m\u001b[1;33m.\u001b[0m\u001b[0mfit\u001b[0m\u001b[1;33m(\u001b[0m\u001b[0mx51\u001b[0m\u001b[1;33m,\u001b[0m\u001b[0my51\u001b[0m\u001b[1;33m,\u001b[0m \u001b[0mvalidation_data\u001b[0m\u001b[1;33m=\u001b[0m\u001b[0mvalid_set1\u001b[0m\u001b[1;33m,\u001b[0m \u001b[0mbatch_size\u001b[0m\u001b[1;33m=\u001b[0m\u001b[1;36m5\u001b[0m\u001b[1;33m,\u001b[0m \u001b[0mepochs\u001b[0m\u001b[1;33m=\u001b[0m\u001b[1;36m10\u001b[0m\u001b[1;33m,\u001b[0m \u001b[0mshuffle\u001b[0m\u001b[1;33m=\u001b[0m\u001b[1;32mTrue\u001b[0m\u001b[1;33m,\u001b[0m \u001b[0mverbose\u001b[0m\u001b[1;33m=\u001b[0m\u001b[1;36m2\u001b[0m\u001b[1;33m)\u001b[0m\u001b[1;33m\u001b[0m\u001b[1;33m\u001b[0m\u001b[0m\n\u001b[0m",
      "\u001b[1;31mNameError\u001b[0m: name 'valid_set1' is not defined"
     ]
    }
   ],
   "source": [
    "#running validation sets\n",
    "adult.fit(x51,y51, validation_data=valid_set1, batch_size=5, epochs=10, shuffle=True, verbose=2)"
   ]
  },
  {
   "cell_type": "code",
   "execution_count": 126,
   "metadata": {},
   "outputs": [
    {
     "name": "stdout",
     "output_type": "stream",
     "text": [
      "Train on 5 samples, validate on 5 samples\n",
      "Epoch 1/30\n",
      "5/5 - 0s - loss: 0.1423 - acc: 0.2000 - val_loss: 0.0797 - val_acc: 0.0000e+00\n",
      "Epoch 2/30\n",
      "5/5 - 0s - loss: 0.1305 - acc: 0.2000 - val_loss: 0.0993 - val_acc: 0.0000e+00\n",
      "Epoch 3/30\n",
      "5/5 - 0s - loss: 0.1102 - acc: 0.2000 - val_loss: 0.1268 - val_acc: 0.0000e+00\n",
      "Epoch 4/30\n",
      "5/5 - 0s - loss: 0.0877 - acc: 0.2000 - val_loss: 0.1571 - val_acc: 0.0000e+00\n",
      "Epoch 5/30\n",
      "5/5 - 0s - loss: 0.0720 - acc: 0.2000 - val_loss: 0.1837 - val_acc: 0.0000e+00\n",
      "Epoch 6/30\n",
      "5/5 - 0s - loss: 0.0697 - acc: 0.2000 - val_loss: 0.2027 - val_acc: 0.0000e+00\n",
      "Epoch 7/30\n",
      "5/5 - 0s - loss: 0.0787 - acc: 0.0000e+00 - val_loss: 0.2140 - val_acc: 0.0000e+00\n",
      "Epoch 8/30\n",
      "5/5 - 0s - loss: 0.0900 - acc: 0.0000e+00 - val_loss: 0.2189 - val_acc: 0.0000e+00\n",
      "Epoch 9/30\n",
      "5/5 - 0s - loss: 0.0968 - acc: 0.0000e+00 - val_loss: 0.2186 - val_acc: 0.0000e+00\n",
      "Epoch 10/30\n",
      "5/5 - 0s - loss: 0.0966 - acc: 0.0000e+00 - val_loss: 0.2135 - val_acc: 0.0000e+00\n",
      "Epoch 11/30\n",
      "5/5 - 0s - loss: 0.0901 - acc: 0.0000e+00 - val_loss: 0.2037 - val_acc: 0.0000e+00\n",
      "Epoch 12/30\n",
      "5/5 - 0s - loss: 0.0801 - acc: 0.0000e+00 - val_loss: 0.1894 - val_acc: 0.0000e+00\n",
      "Epoch 13/30\n",
      "5/5 - 0s - loss: 0.0707 - acc: 0.2000 - val_loss: 0.1719 - val_acc: 0.0000e+00\n",
      "Epoch 14/30\n",
      "5/5 - 0s - loss: 0.0662 - acc: 0.2000 - val_loss: 0.1537 - val_acc: 0.0000e+00\n",
      "Epoch 15/30\n",
      "5/5 - 0s - loss: 0.0675 - acc: 0.2000 - val_loss: 0.1383 - val_acc: 0.0000e+00\n",
      "Epoch 16/30\n",
      "5/5 - 0s - loss: 0.0721 - acc: 0.2000 - val_loss: 0.1282 - val_acc: 0.0000e+00\n",
      "Epoch 17/30\n",
      "5/5 - 0s - loss: 0.0762 - acc: 0.2000 - val_loss: 0.1245 - val_acc: 0.0000e+00\n",
      "Epoch 18/30\n",
      "5/5 - 0s - loss: 0.0775 - acc: 0.2000 - val_loss: 0.1271 - val_acc: 0.0000e+00\n",
      "Epoch 19/30\n",
      "5/5 - 0s - loss: 0.0755 - acc: 0.2000 - val_loss: 0.1349 - val_acc: 0.0000e+00\n",
      "Epoch 20/30\n",
      "5/5 - 0s - loss: 0.0712 - acc: 0.2000 - val_loss: 0.1461 - val_acc: 0.0000e+00\n",
      "Epoch 21/30\n",
      "5/5 - 0s - loss: 0.0667 - acc: 0.2000 - val_loss: 0.1586 - val_acc: 0.0000e+00\n",
      "Epoch 22/30\n",
      "5/5 - 0s - loss: 0.0639 - acc: 0.2000 - val_loss: 0.1701 - val_acc: 0.0000e+00\n",
      "Epoch 23/30\n",
      "5/5 - 0s - loss: 0.0636 - acc: 0.2000 - val_loss: 0.1790 - val_acc: 0.0000e+00\n",
      "Epoch 24/30\n",
      "5/5 - 0s - loss: 0.0651 - acc: 0.2000 - val_loss: 0.1846 - val_acc: 0.0000e+00\n",
      "Epoch 25/30\n",
      "5/5 - 0s - loss: 0.0669 - acc: 0.2000 - val_loss: 0.1867 - val_acc: 0.0000e+00\n",
      "Epoch 26/30\n",
      "5/5 - 0s - loss: 0.0677 - acc: 0.2000 - val_loss: 0.1854 - val_acc: 0.0000e+00\n",
      "Epoch 27/30\n",
      "5/5 - 0s - loss: 0.0670 - acc: 0.2000 - val_loss: 0.1812 - val_acc: 0.0000e+00\n",
      "Epoch 28/30\n",
      "5/5 - 0s - loss: 0.0650 - acc: 0.2000 - val_loss: 0.1746 - val_acc: 0.0000e+00\n",
      "Epoch 29/30\n",
      "5/5 - 0s - loss: 0.0628 - acc: 0.2000 - val_loss: 0.1667 - val_acc: 0.0000e+00\n",
      "Epoch 30/30\n",
      "5/5 - 0s - loss: 0.0614 - acc: 0.2000 - val_loss: 0.1585 - val_acc: 0.0000e+00\n"
     ]
    },
    {
     "data": {
      "text/plain": [
       "<tensorflow.python.keras.callbacks.History at 0x20f62e70848>"
      ]
     },
     "execution_count": 126,
     "metadata": {},
     "output_type": "execute_result"
    }
   ],
   "source": [
    "sli.fit(x52,y52, validation_data=valid_set2, batch_size=5, epochs=30, shuffle=True, verbose=2)"
   ]
  },
  {
   "cell_type": "code",
   "execution_count": 127,
   "metadata": {},
   "outputs": [
    {
     "name": "stdout",
     "output_type": "stream",
     "text": [
      "Train on 5 samples, validate on 5 samples\n",
      "Epoch 1/10\n",
      "5/5 - 0s - loss: 0.1630 - acc: 0.0000e+00 - val_loss: 0.0996 - val_acc: 0.0000e+00\n",
      "Epoch 2/10\n",
      "5/5 - 0s - loss: 0.1531 - acc: 0.0000e+00 - val_loss: 0.0823 - val_acc: 0.0000e+00\n",
      "Epoch 3/10\n",
      "5/5 - 0s - loss: 0.1383 - acc: 0.0000e+00 - val_loss: 0.0616 - val_acc: 0.0000e+00\n",
      "Epoch 4/10\n",
      "5/5 - 0s - loss: 0.1192 - acc: 0.0000e+00 - val_loss: 0.0414 - val_acc: 0.0000e+00\n",
      "Epoch 5/10\n",
      "5/5 - 0s - loss: 0.0994 - acc: 0.0000e+00 - val_loss: 0.0270 - val_acc: 0.0000e+00\n",
      "Epoch 6/10\n",
      "5/5 - 0s - loss: 0.0871 - acc: 0.0000e+00 - val_loss: 0.0217 - val_acc: 0.0000e+00\n",
      "Epoch 7/10\n",
      "5/5 - 0s - loss: 0.0890 - acc: 0.0000e+00 - val_loss: 0.0227 - val_acc: 0.0000e+00\n",
      "Epoch 8/10\n",
      "5/5 - 0s - loss: 0.1010 - acc: 0.0000e+00 - val_loss: 0.0249 - val_acc: 0.0000e+00\n",
      "Epoch 9/10\n",
      "5/5 - 0s - loss: 0.1105 - acc: 0.0000e+00 - val_loss: 0.0252 - val_acc: 0.0000e+00\n",
      "Epoch 10/10\n",
      "5/5 - 0s - loss: 0.1092 - acc: 0.0000e+00 - val_loss: 0.0234 - val_acc: 0.0000e+00\n"
     ]
    },
    {
     "data": {
      "text/plain": [
       "<tensorflow.python.keras.callbacks.History at 0x20f632f9b88>"
      ]
     },
     "execution_count": 127,
     "metadata": {},
     "output_type": "execute_result"
    }
   ],
   "source": [
    "sli.fit(x53,y53, validation_data=valid_set1, batch_size=5, epochs=10, shuffle=True, verbose=2)"
   ]
  },
  {
   "cell_type": "code",
   "execution_count": 528,
   "metadata": {},
   "outputs": [
    {
     "name": "stdout",
     "output_type": "stream",
     "text": [
      "Train on 5 samples, validate on 5 samples\n",
      "Epoch 1/30\n",
      "5/5 - 0s - loss: 0.2206 - acc: 0.0000e+00 - val_loss: 0.2308 - val_acc: 0.0000e+00\n",
      "Epoch 2/30\n",
      "5/5 - 0s - loss: 0.2203 - acc: 0.0000e+00 - val_loss: 0.2257 - val_acc: 0.0000e+00\n",
      "Epoch 3/30\n",
      "5/5 - 0s - loss: 0.2192 - acc: 0.0000e+00 - val_loss: 0.2208 - val_acc: 0.0000e+00\n",
      "Epoch 4/30\n",
      "5/5 - 0s - loss: 0.2175 - acc: 0.0000e+00 - val_loss: 0.2160 - val_acc: 0.0000e+00\n",
      "Epoch 5/30\n",
      "5/5 - 0s - loss: 0.2154 - acc: 0.0000e+00 - val_loss: 0.2128 - val_acc: 0.0000e+00\n",
      "Epoch 6/30\n",
      "5/5 - 0s - loss: 0.2130 - acc: 0.0000e+00 - val_loss: 0.2130 - val_acc: 0.0000e+00\n",
      "Epoch 7/30\n",
      "5/5 - 0s - loss: 0.2104 - acc: 0.0000e+00 - val_loss: 0.2128 - val_acc: 0.0000e+00\n",
      "Epoch 8/30\n",
      "5/5 - 0s - loss: 0.2077 - acc: 0.0000e+00 - val_loss: 0.2125 - val_acc: 0.0000e+00\n",
      "Epoch 9/30\n",
      "5/5 - 0s - loss: 0.2049 - acc: 0.0000e+00 - val_loss: 0.2125 - val_acc: 0.0000e+00\n",
      "Epoch 10/30\n",
      "5/5 - 0s - loss: 0.2020 - acc: 0.0000e+00 - val_loss: 0.2128 - val_acc: 0.0000e+00\n",
      "Epoch 11/30\n",
      "5/5 - 0s - loss: 0.1992 - acc: 0.0000e+00 - val_loss: 0.2128 - val_acc: 0.0000e+00\n",
      "Epoch 12/30\n",
      "5/5 - 0s - loss: 0.1965 - acc: 0.0000e+00 - val_loss: 0.2127 - val_acc: 0.0000e+00\n",
      "Epoch 13/30\n",
      "5/5 - 0s - loss: 0.2001 - acc: 0.0000e+00 - val_loss: 0.2124 - val_acc: 0.0000e+00\n",
      "Epoch 14/30\n",
      "5/5 - 0s - loss: 0.2025 - acc: 0.0000e+00 - val_loss: 0.2120 - val_acc: 0.0000e+00\n",
      "Epoch 15/30\n",
      "5/5 - 0s - loss: 0.2028 - acc: 0.0000e+00 - val_loss: 0.2115 - val_acc: 0.0000e+00\n",
      "Epoch 16/30\n",
      "5/5 - 0s - loss: 0.2010 - acc: 0.0000e+00 - val_loss: 0.2110 - val_acc: 0.0000e+00\n",
      "Epoch 17/30\n",
      "5/5 - 0s - loss: 0.1973 - acc: 0.0000e+00 - val_loss: 0.2103 - val_acc: 0.0000e+00\n",
      "Epoch 18/30\n",
      "5/5 - 0s - loss: 0.1918 - acc: 0.0000e+00 - val_loss: 0.2094 - val_acc: 0.0000e+00\n",
      "Epoch 19/30\n",
      "5/5 - 0s - loss: 0.1868 - acc: 0.0000e+00 - val_loss: 0.2097 - val_acc: 0.0000e+00\n",
      "Epoch 20/30\n",
      "5/5 - 0s - loss: 0.1859 - acc: 0.0000e+00 - val_loss: 0.2099 - val_acc: 0.0000e+00\n",
      "Epoch 21/30\n",
      "5/5 - 0s - loss: 0.1846 - acc: 0.0000e+00 - val_loss: 0.2100 - val_acc: 0.0000e+00\n",
      "Epoch 22/30\n",
      "5/5 - 0s - loss: 0.1829 - acc: 0.0000e+00 - val_loss: 0.2100 - val_acc: 0.0000e+00\n",
      "Epoch 23/30\n",
      "5/5 - 0s - loss: 0.1810 - acc: 0.0000e+00 - val_loss: 0.2099 - val_acc: 0.0000e+00\n",
      "Epoch 24/30\n",
      "5/5 - 0s - loss: 0.1787 - acc: 0.0000e+00 - val_loss: 0.2098 - val_acc: 0.0000e+00\n",
      "Epoch 25/30\n",
      "5/5 - 0s - loss: 0.1762 - acc: 0.0000e+00 - val_loss: 0.2096 - val_acc: 0.0000e+00\n",
      "Epoch 26/30\n",
      "5/5 - 0s - loss: 0.1735 - acc: 0.0000e+00 - val_loss: 0.2094 - val_acc: 0.0000e+00\n",
      "Epoch 27/30\n",
      "5/5 - 0s - loss: 0.1705 - acc: 0.0000e+00 - val_loss: 0.2091 - val_acc: 0.0000e+00\n",
      "Epoch 28/30\n",
      "5/5 - 0s - loss: 0.1672 - acc: 0.0000e+00 - val_loss: 0.2088 - val_acc: 0.0000e+00\n",
      "Epoch 29/30\n",
      "5/5 - 0s - loss: 0.1638 - acc: 0.0000e+00 - val_loss: 0.2085 - val_acc: 0.0000e+00\n",
      "Epoch 30/30\n",
      "5/5 - 0s - loss: 0.1601 - acc: 0.0000e+00 - val_loss: 0.2081 - val_acc: 0.0000e+00\n"
     ]
    },
    {
     "data": {
      "text/plain": [
       "<tensorflow.python.keras.callbacks.History at 0x1ef26d52208>"
      ]
     },
     "execution_count": 528,
     "metadata": {},
     "output_type": "execute_result"
    }
   ],
   "source": [
    "slig.fit(x55,y55, validation_data=valid_set3, batch_size=5, epochs=30, shuffle=True, verbose=2)"
   ]
  },
  {
   "cell_type": "code",
   "execution_count": 128,
   "metadata": {},
   "outputs": [
    {
     "name": "stdout",
     "output_type": "stream",
     "text": [
      "Train on 5 samples, validate on 5 samples\n",
      "Epoch 1/30\n",
      "5/5 - 0s - loss: 0.1658 - acc: 0.0000e+00 - val_loss: 0.1214 - val_acc: 0.0000e+00\n",
      "Epoch 2/30\n",
      "5/5 - 0s - loss: 0.1395 - acc: 0.0000e+00 - val_loss: 0.0896 - val_acc: 0.0000e+00\n",
      "Epoch 3/30\n",
      "5/5 - 0s - loss: 0.1037 - acc: 0.0000e+00 - val_loss: 0.0701 - val_acc: 0.0000e+00\n",
      "Epoch 4/30\n",
      "5/5 - 0s - loss: 0.0664 - acc: 0.0000e+00 - val_loss: 0.0728 - val_acc: 0.0000e+00\n",
      "Epoch 5/30\n",
      "5/5 - 0s - loss: 0.0431 - acc: 0.0000e+00 - val_loss: 0.0927 - val_acc: 0.0000e+00\n",
      "Epoch 6/30\n",
      "5/5 - 0s - loss: 0.0450 - acc: 0.0000e+00 - val_loss: 0.1150 - val_acc: 0.0000e+00\n",
      "Epoch 7/30\n",
      "5/5 - 0s - loss: 0.0629 - acc: 0.0000e+00 - val_loss: 0.1308 - val_acc: 0.0000e+00\n",
      "Epoch 8/30\n",
      "5/5 - 0s - loss: 0.0802 - acc: 0.0000e+00 - val_loss: 0.1384 - val_acc: 0.0000e+00\n",
      "Epoch 9/30\n",
      "5/5 - 0s - loss: 0.0896 - acc: 0.0000e+00 - val_loss: 0.1389 - val_acc: 0.0000e+00\n",
      "Epoch 10/30\n",
      "5/5 - 0s - loss: 0.0900 - acc: 0.0000e+00 - val_loss: 0.1328 - val_acc: 0.0000e+00\n",
      "Epoch 11/30\n",
      "5/5 - 0s - loss: 0.0823 - acc: 0.0000e+00 - val_loss: 0.1212 - val_acc: 0.0000e+00\n",
      "Epoch 12/30\n",
      "5/5 - 0s - loss: 0.0702 - acc: 0.0000e+00 - val_loss: 0.1052 - val_acc: 0.0000e+00\n",
      "Epoch 13/30\n",
      "5/5 - 0s - loss: 0.0548 - acc: 0.0000e+00 - val_loss: 0.0877 - val_acc: 0.0000e+00\n",
      "Epoch 14/30\n",
      "5/5 - 0s - loss: 0.0418 - acc: 0.0000e+00 - val_loss: 0.0734 - val_acc: 0.0000e+00\n",
      "Epoch 15/30\n",
      "5/5 - 0s - loss: 0.0368 - acc: 0.0000e+00 - val_loss: 0.0655 - val_acc: 0.0000e+00\n",
      "Epoch 16/30\n",
      "5/5 - 0s - loss: 0.0407 - acc: 0.0000e+00 - val_loss: 0.0636 - val_acc: 0.0000e+00\n",
      "Epoch 17/30\n",
      "5/5 - 0s - loss: 0.0487 - acc: 0.0000e+00 - val_loss: 0.0644 - val_acc: 0.0000e+00\n",
      "Epoch 18/30\n",
      "5/5 - 0s - loss: 0.0552 - acc: 0.0000e+00 - val_loss: 0.0647 - val_acc: 0.0000e+00\n",
      "Epoch 19/30\n",
      "5/5 - 0s - loss: 0.0569 - acc: 0.0000e+00 - val_loss: 0.0637 - val_acc: 0.0000e+00\n",
      "Epoch 20/30\n",
      "5/5 - 0s - loss: 0.0534 - acc: 0.0000e+00 - val_loss: 0.0627 - val_acc: 0.0000e+00\n",
      "Epoch 21/30\n",
      "5/5 - 0s - loss: 0.0466 - acc: 0.0000e+00 - val_loss: 0.0636 - val_acc: 0.0000e+00\n",
      "Epoch 22/30\n",
      "5/5 - 0s - loss: 0.0399 - acc: 0.0000e+00 - val_loss: 0.0675 - val_acc: 0.0000e+00\n",
      "Epoch 23/30\n",
      "5/5 - 0s - loss: 0.0361 - acc: 0.0000e+00 - val_loss: 0.0736 - val_acc: 0.0000e+00\n",
      "Epoch 24/30\n",
      "5/5 - 0s - loss: 0.0363 - acc: 0.0000e+00 - val_loss: 0.0801 - val_acc: 0.0000e+00\n",
      "Epoch 25/30\n",
      "5/5 - 0s - loss: 0.0392 - acc: 0.0000e+00 - val_loss: 0.0848 - val_acc: 0.0000e+00\n",
      "Epoch 26/30\n",
      "5/5 - 0s - loss: 0.0424 - acc: 0.0000e+00 - val_loss: 0.0868 - val_acc: 0.0000e+00\n",
      "Epoch 27/30\n",
      "5/5 - 0s - loss: 0.0439 - acc: 0.0000e+00 - val_loss: 0.0858 - val_acc: 0.0000e+00\n",
      "Epoch 28/30\n",
      "5/5 - 0s - loss: 0.0431 - acc: 0.0000e+00 - val_loss: 0.0823 - val_acc: 0.0000e+00\n",
      "Epoch 29/30\n",
      "5/5 - 0s - loss: 0.0405 - acc: 0.0000e+00 - val_loss: 0.0774 - val_acc: 0.0000e+00\n",
      "Epoch 30/30\n",
      "5/5 - 0s - loss: 0.0375 - acc: 0.0000e+00 - val_loss: 0.0722 - val_acc: 0.0000e+00\n"
     ]
    },
    {
     "data": {
      "text/plain": [
       "<tensorflow.python.keras.callbacks.History at 0x20f632c00c8>"
      ]
     },
     "execution_count": 128,
     "metadata": {},
     "output_type": "execute_result"
    }
   ],
   "source": [
    "sli.fit(x58,y58, validation_data=valid_set4, batch_size=5, epochs=30, shuffle=True, verbose=2)"
   ]
  },
  {
   "cell_type": "code",
   "execution_count": 129,
   "metadata": {},
   "outputs": [
    {
     "name": "stdout",
     "output_type": "stream",
     "text": [
      "Train on 5 samples, validate on 5 samples\n",
      "Epoch 1/30\n",
      "5/5 - 0s - loss: 0.0508 - acc: 0.0000e+00 - val_loss: 0.1677 - val_acc: 0.0000e+00\n",
      "Epoch 2/30\n",
      "5/5 - 0s - loss: 0.0377 - acc: 0.0000e+00 - val_loss: 0.1660 - val_acc: 0.0000e+00\n",
      "Epoch 3/30\n",
      "5/5 - 0s - loss: 0.0240 - acc: 0.0000e+00 - val_loss: 0.1684 - val_acc: 0.0000e+00\n",
      "Epoch 4/30\n",
      "5/5 - 0s - loss: 0.0147 - acc: 0.0000e+00 - val_loss: 0.1752 - val_acc: 0.0000e+00\n",
      "Epoch 5/30\n",
      "5/5 - 0s - loss: 0.0133 - acc: 0.0000e+00 - val_loss: 0.1839 - val_acc: 0.0000e+00\n",
      "Epoch 6/30\n",
      "5/5 - 0s - loss: 0.0188 - acc: 0.0000e+00 - val_loss: 0.1913 - val_acc: 0.0000e+00\n",
      "Epoch 7/30\n",
      "5/5 - 0s - loss: 0.0262 - acc: 0.0000e+00 - val_loss: 0.1951 - val_acc: 0.0000e+00\n",
      "Epoch 8/30\n",
      "5/5 - 0s - loss: 0.0306 - acc: 0.0000e+00 - val_loss: 0.1948 - val_acc: 0.0000e+00\n",
      "Epoch 9/30\n",
      "5/5 - 0s - loss: 0.0298 - acc: 0.0000e+00 - val_loss: 0.1907 - val_acc: 0.0000e+00\n",
      "Epoch 10/30\n",
      "5/5 - 0s - loss: 0.0243 - acc: 0.0000e+00 - val_loss: 0.1841 - val_acc: 0.0000e+00\n",
      "Epoch 11/30\n",
      "5/5 - 0s - loss: 0.0173 - acc: 0.0000e+00 - val_loss: 0.1766 - val_acc: 0.0000e+00\n",
      "Epoch 12/30\n",
      "5/5 - 0s - loss: 0.0120 - acc: 0.0000e+00 - val_loss: 0.1699 - val_acc: 0.0000e+00\n",
      "Epoch 13/30\n",
      "5/5 - 0s - loss: 0.0102 - acc: 0.0000e+00 - val_loss: 0.1650 - val_acc: 0.0000e+00\n",
      "Epoch 14/30\n",
      "5/5 - 0s - loss: 0.0115 - acc: 0.0000e+00 - val_loss: 0.1620 - val_acc: 0.0000e+00\n",
      "Epoch 15/30\n",
      "5/5 - 0s - loss: 0.0142 - acc: 0.0000e+00 - val_loss: 0.1603 - val_acc: 0.0000e+00\n",
      "Epoch 16/30\n",
      "5/5 - 0s - loss: 0.0164 - acc: 0.0000e+00 - val_loss: 0.1597 - val_acc: 0.0000e+00\n",
      "Epoch 17/30\n",
      "5/5 - 0s - loss: 0.0168 - acc: 0.0000e+00 - val_loss: 0.1599 - val_acc: 0.0000e+00\n",
      "Epoch 18/30\n",
      "5/5 - 0s - loss: 0.0154 - acc: 0.0000e+00 - val_loss: 0.1609 - val_acc: 0.0000e+00\n",
      "Epoch 19/30\n",
      "5/5 - 0s - loss: 0.0128 - acc: 0.0000e+00 - val_loss: 0.1632 - val_acc: 0.0000e+00\n",
      "Epoch 20/30\n",
      "5/5 - 0s - loss: 0.0101 - acc: 0.0000e+00 - val_loss: 0.1668 - val_acc: 0.0000e+00\n",
      "Epoch 21/30\n",
      "5/5 - 0s - loss: 0.0082 - acc: 0.0000e+00 - val_loss: 0.1710 - val_acc: 0.0000e+00\n",
      "Epoch 22/30\n",
      "5/5 - 0s - loss: 0.0078 - acc: 0.0000e+00 - val_loss: 0.1750 - val_acc: 0.0000e+00\n",
      "Epoch 23/30\n",
      "5/5 - 0s - loss: 0.0084 - acc: 0.0000e+00 - val_loss: 0.1781 - val_acc: 0.0000e+00\n",
      "Epoch 24/30\n",
      "5/5 - 0s - loss: 0.0094 - acc: 0.0000e+00 - val_loss: 0.1797 - val_acc: 0.0000e+00\n",
      "Epoch 25/30\n",
      "5/5 - 0s - loss: 0.0100 - acc: 0.0000e+00 - val_loss: 0.1796 - val_acc: 0.0000e+00\n",
      "Epoch 26/30\n",
      "5/5 - 0s - loss: 0.0099 - acc: 0.0000e+00 - val_loss: 0.1779 - val_acc: 0.0000e+00\n",
      "Epoch 27/30\n",
      "5/5 - 0s - loss: 0.0090 - acc: 0.0000e+00 - val_loss: 0.1750 - val_acc: 0.0000e+00\n",
      "Epoch 28/30\n",
      "5/5 - 0s - loss: 0.0078 - acc: 0.0000e+00 - val_loss: 0.1714 - val_acc: 0.0000e+00\n",
      "Epoch 29/30\n",
      "5/5 - 0s - loss: 0.0068 - acc: 0.0000e+00 - val_loss: 0.1678 - val_acc: 0.0000e+00\n",
      "Epoch 30/30\n",
      "5/5 - 0s - loss: 0.0062 - acc: 0.0000e+00 - val_loss: 0.1645 - val_acc: 0.0000e+00\n"
     ]
    },
    {
     "data": {
      "text/plain": [
       "<tensorflow.python.keras.callbacks.History at 0x20f632b0948>"
      ]
     },
     "execution_count": 129,
     "metadata": {},
     "output_type": "execute_result"
    }
   ],
   "source": [
    "sli.fit(x59,y59, validation_data=valid_set5, batch_size=5, epochs=30, shuffle=True, verbose=2)"
   ]
  },
  {
   "cell_type": "code",
   "execution_count": 130,
   "metadata": {},
   "outputs": [
    {
     "name": "stdout",
     "output_type": "stream",
     "text": [
      "Train on 5 samples, validate on 5 samples\n",
      "Epoch 1/30\n",
      "5/5 - 0s - loss: 0.0942 - acc: 0.0000e+00 - val_loss: 0.2190 - val_acc: 0.0000e+00\n",
      "Epoch 2/30\n",
      "5/5 - 0s - loss: 0.0912 - acc: 0.0000e+00 - val_loss: 0.2153 - val_acc: 0.0000e+00\n",
      "Epoch 3/30\n",
      "5/5 - 0s - loss: 0.0885 - acc: 0.0000e+00 - val_loss: 0.2120 - val_acc: 0.0000e+00\n",
      "Epoch 4/30\n",
      "5/5 - 0s - loss: 0.0869 - acc: 0.0000e+00 - val_loss: 0.2095 - val_acc: 0.0000e+00\n",
      "Epoch 5/30\n",
      "5/5 - 0s - loss: 0.0865 - acc: 0.0000e+00 - val_loss: 0.2079 - val_acc: 0.0000e+00\n",
      "Epoch 6/30\n",
      "5/5 - 0s - loss: 0.0872 - acc: 0.0000e+00 - val_loss: 0.2069 - val_acc: 0.0000e+00\n",
      "Epoch 7/30\n",
      "5/5 - 0s - loss: 0.0882 - acc: 0.0000e+00 - val_loss: 0.2064 - val_acc: 0.0000e+00\n",
      "Epoch 8/30\n",
      "5/5 - 0s - loss: 0.0891 - acc: 0.0000e+00 - val_loss: 0.2063 - val_acc: 0.0000e+00\n",
      "Epoch 9/30\n",
      "5/5 - 0s - loss: 0.0895 - acc: 0.0000e+00 - val_loss: 0.2064 - val_acc: 0.0000e+00\n",
      "Epoch 10/30\n",
      "5/5 - 0s - loss: 0.0891 - acc: 0.0000e+00 - val_loss: 0.2067 - val_acc: 0.0000e+00\n",
      "Epoch 11/30\n",
      "5/5 - 0s - loss: 0.0881 - acc: 0.0000e+00 - val_loss: 0.2074 - val_acc: 0.0000e+00\n",
      "Epoch 12/30\n",
      "5/5 - 0s - loss: 0.0869 - acc: 0.0000e+00 - val_loss: 0.2083 - val_acc: 0.0000e+00\n",
      "Epoch 13/30\n",
      "5/5 - 0s - loss: 0.0858 - acc: 0.0000e+00 - val_loss: 0.2095 - val_acc: 0.0000e+00\n",
      "Epoch 14/30\n",
      "5/5 - 0s - loss: 0.0849 - acc: 0.0000e+00 - val_loss: 0.2109 - val_acc: 0.0000e+00\n",
      "Epoch 15/30\n",
      "5/5 - 0s - loss: 0.0846 - acc: 0.0000e+00 - val_loss: 0.2123 - val_acc: 0.0000e+00\n",
      "Epoch 16/30\n",
      "5/5 - 0s - loss: 0.0846 - acc: 0.0000e+00 - val_loss: 0.2136 - val_acc: 0.0000e+00\n",
      "Epoch 17/30\n",
      "5/5 - 0s - loss: 0.0847 - acc: 0.0000e+00 - val_loss: 0.2144 - val_acc: 0.0000e+00\n",
      "Epoch 18/30\n",
      "5/5 - 0s - loss: 0.0848 - acc: 0.0000e+00 - val_loss: 0.2148 - val_acc: 0.0000e+00\n",
      "Epoch 19/30\n",
      "5/5 - 0s - loss: 0.0847 - acc: 0.0000e+00 - val_loss: 0.2146 - val_acc: 0.0000e+00\n",
      "Epoch 20/30\n",
      "5/5 - 0s - loss: 0.0842 - acc: 0.0000e+00 - val_loss: 0.2140 - val_acc: 0.0000e+00\n",
      "Epoch 21/30\n",
      "5/5 - 0s - loss: 0.0835 - acc: 0.0000e+00 - val_loss: 0.2131 - val_acc: 0.0000e+00\n",
      "Epoch 22/30\n",
      "5/5 - 0s - loss: 0.0828 - acc: 0.0000e+00 - val_loss: 0.2122 - val_acc: 0.0000e+00\n",
      "Epoch 23/30\n",
      "5/5 - 0s - loss: 0.0821 - acc: 0.0000e+00 - val_loss: 0.2113 - val_acc: 0.0000e+00\n",
      "Epoch 24/30\n",
      "5/5 - 0s - loss: 0.0816 - acc: 0.0000e+00 - val_loss: 0.2106 - val_acc: 0.0000e+00\n",
      "Epoch 25/30\n",
      "5/5 - 0s - loss: 0.0812 - acc: 0.0000e+00 - val_loss: 0.2101 - val_acc: 0.0000e+00\n",
      "Epoch 26/30\n",
      "5/5 - 0s - loss: 0.0811 - acc: 0.0000e+00 - val_loss: 0.2098 - val_acc: 0.0000e+00\n",
      "Epoch 27/30\n",
      "5/5 - 0s - loss: 0.0810 - acc: 0.0000e+00 - val_loss: 0.2097 - val_acc: 0.0000e+00\n",
      "Epoch 28/30\n",
      "5/5 - 0s - loss: 0.0809 - acc: 0.0000e+00 - val_loss: 0.2098 - val_acc: 0.0000e+00\n",
      "Epoch 29/30\n",
      "5/5 - 0s - loss: 0.0807 - acc: 0.0000e+00 - val_loss: 0.2099 - val_acc: 0.0000e+00\n",
      "Epoch 30/30\n",
      "5/5 - 0s - loss: 0.0803 - acc: 0.0000e+00 - val_loss: 0.2102 - val_acc: 0.0000e+00\n"
     ]
    },
    {
     "data": {
      "text/plain": [
       "<tensorflow.python.keras.callbacks.History at 0x20f632daa48>"
      ]
     },
     "execution_count": 130,
     "metadata": {},
     "output_type": "execute_result"
    }
   ],
   "source": [
    "sli.fit(x60,y60, validation_data=valid_set6, batch_size=5, epochs=30, shuffle=True, verbose=2)"
   ]
  },
  {
   "cell_type": "code",
   "execution_count": 532,
   "metadata": {},
   "outputs": [
    {
     "name": "stdout",
     "output_type": "stream",
     "text": [
      "Train on 5 samples, validate on 5 samples\n",
      "Epoch 1/30\n",
      "5/5 - 0s - loss: 0.4367 - acc: 0.0000e+00 - val_loss: 0.1942 - val_acc: 0.2000\n",
      "Epoch 2/30\n",
      "5/5 - 0s - loss: 0.4339 - acc: 0.0000e+00 - val_loss: 0.1915 - val_acc: 0.2000\n",
      "Epoch 3/30\n",
      "5/5 - 0s - loss: 0.4283 - acc: 0.0000e+00 - val_loss: 0.1936 - val_acc: 0.2000\n",
      "Epoch 4/30\n",
      "5/5 - 0s - loss: 0.4199 - acc: 0.0000e+00 - val_loss: 0.1973 - val_acc: 0.2000\n",
      "Epoch 5/30\n",
      "5/5 - 0s - loss: 0.4090 - acc: 0.0000e+00 - val_loss: 0.2020 - val_acc: 0.2000\n",
      "Epoch 6/30\n",
      "5/5 - 0s - loss: 0.3957 - acc: 0.0000e+00 - val_loss: 0.2078 - val_acc: 0.2000\n",
      "Epoch 7/30\n",
      "5/5 - 0s - loss: 0.3800 - acc: 0.0000e+00 - val_loss: 0.2146 - val_acc: 0.2000\n",
      "Epoch 8/30\n",
      "5/5 - 0s - loss: 0.3622 - acc: 0.0000e+00 - val_loss: 0.2224 - val_acc: 0.2000\n",
      "Epoch 9/30\n",
      "5/5 - 0s - loss: 0.3427 - acc: 0.0000e+00 - val_loss: 0.2311 - val_acc: 0.2000\n",
      "Epoch 10/30\n",
      "5/5 - 0s - loss: 0.3218 - acc: 0.0000e+00 - val_loss: 0.2406 - val_acc: 0.2000\n",
      "Epoch 11/30\n",
      "5/5 - 0s - loss: 0.3087 - acc: 0.0000e+00 - val_loss: 0.2493 - val_acc: 0.2000\n",
      "Epoch 12/30\n",
      "5/5 - 0s - loss: 0.3082 - acc: 0.0000e+00 - val_loss: 0.2571 - val_acc: 0.0000e+00\n",
      "Epoch 13/30\n",
      "5/5 - 0s - loss: 0.3080 - acc: 0.0000e+00 - val_loss: 0.2641 - val_acc: 0.0000e+00\n",
      "Epoch 14/30\n",
      "5/5 - 0s - loss: 0.3079 - acc: 0.0000e+00 - val_loss: 0.2702 - val_acc: 0.0000e+00\n",
      "Epoch 15/30\n",
      "5/5 - 0s - loss: 0.3079 - acc: 0.0000e+00 - val_loss: 0.2755 - val_acc: 0.0000e+00\n",
      "Epoch 16/30\n",
      "5/5 - 0s - loss: 0.3078 - acc: 0.0000e+00 - val_loss: 0.2802 - val_acc: 0.0000e+00\n",
      "Epoch 17/30\n",
      "5/5 - 0s - loss: 0.3078 - acc: 0.0000e+00 - val_loss: 0.2843 - val_acc: 0.0000e+00\n",
      "Epoch 18/30\n",
      "5/5 - 0s - loss: 0.3077 - acc: 0.0000e+00 - val_loss: 0.2878 - val_acc: 0.0000e+00\n",
      "Epoch 19/30\n",
      "5/5 - 0s - loss: 0.3075 - acc: 0.0000e+00 - val_loss: 0.2909 - val_acc: 0.0000e+00\n",
      "Epoch 20/30\n",
      "5/5 - 0s - loss: 0.3074 - acc: 0.0000e+00 - val_loss: 0.2936 - val_acc: 0.0000e+00\n",
      "Epoch 21/30\n",
      "5/5 - 0s - loss: 0.3072 - acc: 0.0000e+00 - val_loss: 0.2960 - val_acc: 0.0000e+00\n",
      "Epoch 22/30\n",
      "5/5 - 0s - loss: 0.3070 - acc: 0.0000e+00 - val_loss: 0.2981 - val_acc: 0.0000e+00\n",
      "Epoch 23/30\n",
      "5/5 - 0s - loss: 0.3069 - acc: 0.0000e+00 - val_loss: 0.3000 - val_acc: 0.0000e+00\n",
      "Epoch 24/30\n",
      "5/5 - 0s - loss: 0.3066 - acc: 0.0000e+00 - val_loss: 0.3016 - val_acc: 0.0000e+00\n",
      "Epoch 25/30\n",
      "5/5 - 0s - loss: 0.3064 - acc: 0.0000e+00 - val_loss: 0.3030 - val_acc: 0.0000e+00\n",
      "Epoch 26/30\n",
      "5/5 - 0s - loss: 0.3062 - acc: 0.0000e+00 - val_loss: 0.3041 - val_acc: 0.0000e+00\n",
      "Epoch 27/30\n",
      "5/5 - 0s - loss: 0.3067 - acc: 0.0000e+00 - val_loss: 0.3048 - val_acc: 0.0000e+00\n",
      "Epoch 28/30\n",
      "5/5 - 0s - loss: 0.3069 - acc: 0.0000e+00 - val_loss: 0.3053 - val_acc: 0.0000e+00\n",
      "Epoch 29/30\n",
      "5/5 - 0s - loss: 0.3069 - acc: 0.0000e+00 - val_loss: 0.3055 - val_acc: 0.0000e+00\n",
      "Epoch 30/30\n",
      "5/5 - 0s - loss: 0.3068 - acc: 0.0000e+00 - val_loss: 0.3054 - val_acc: 0.0000e+00\n"
     ]
    },
    {
     "data": {
      "text/plain": [
       "<tensorflow.python.keras.callbacks.History at 0x1ef26d5ee08>"
      ]
     },
     "execution_count": 532,
     "metadata": {},
     "output_type": "execute_result"
    }
   ],
   "source": [
    "slig.fit(x61,y61, validation_data=valid_set7, batch_size=5, epochs=30, shuffle=True, verbose=2)"
   ]
  },
  {
   "cell_type": "code",
   "execution_count": 131,
   "metadata": {},
   "outputs": [
    {
     "name": "stdout",
     "output_type": "stream",
     "text": [
      "Train on 5 samples, validate on 5 samples\n",
      "Epoch 1/30\n",
      "5/5 - 0s - loss: 0.0712 - acc: 0.0000e+00 - val_loss: 0.0816 - val_acc: 0.0000e+00\n",
      "Epoch 2/30\n",
      "5/5 - 0s - loss: 0.0712 - acc: 0.0000e+00 - val_loss: 0.0809 - val_acc: 0.0000e+00\n",
      "Epoch 3/30\n",
      "5/5 - 0s - loss: 0.0710 - acc: 0.0000e+00 - val_loss: 0.0803 - val_acc: 0.0000e+00\n",
      "Epoch 4/30\n",
      "5/5 - 0s - loss: 0.0709 - acc: 0.0000e+00 - val_loss: 0.0800 - val_acc: 0.0000e+00\n",
      "Epoch 5/30\n",
      "5/5 - 0s - loss: 0.0707 - acc: 0.0000e+00 - val_loss: 0.0797 - val_acc: 0.0000e+00\n",
      "Epoch 6/30\n",
      "5/5 - 0s - loss: 0.0705 - acc: 0.0000e+00 - val_loss: 0.0797 - val_acc: 0.0000e+00\n",
      "Epoch 7/30\n",
      "5/5 - 0s - loss: 0.0702 - acc: 0.0000e+00 - val_loss: 0.0797 - val_acc: 0.0000e+00\n",
      "Epoch 8/30\n",
      "5/5 - 0s - loss: 0.0699 - acc: 0.0000e+00 - val_loss: 0.0799 - val_acc: 0.0000e+00\n",
      "Epoch 9/30\n",
      "5/5 - 0s - loss: 0.0696 - acc: 0.0000e+00 - val_loss: 0.0800 - val_acc: 0.0000e+00\n",
      "Epoch 10/30\n",
      "5/5 - 0s - loss: 0.0693 - acc: 0.0000e+00 - val_loss: 0.0802 - val_acc: 0.0000e+00\n",
      "Epoch 11/30\n",
      "5/5 - 0s - loss: 0.0690 - acc: 0.0000e+00 - val_loss: 0.0803 - val_acc: 0.0000e+00\n",
      "Epoch 12/30\n",
      "5/5 - 0s - loss: 0.0686 - acc: 0.0000e+00 - val_loss: 0.0804 - val_acc: 0.0000e+00\n",
      "Epoch 13/30\n",
      "5/5 - 0s - loss: 0.0683 - acc: 0.0000e+00 - val_loss: 0.0804 - val_acc: 0.0000e+00\n",
      "Epoch 14/30\n",
      "5/5 - 0s - loss: 0.0679 - acc: 0.0000e+00 - val_loss: 0.0803 - val_acc: 0.0000e+00\n",
      "Epoch 15/30\n",
      "5/5 - 0s - loss: 0.0675 - acc: 0.0000e+00 - val_loss: 0.0802 - val_acc: 0.0000e+00\n",
      "Epoch 16/30\n",
      "5/5 - 0s - loss: 0.0671 - acc: 0.0000e+00 - val_loss: 0.0801 - val_acc: 0.0000e+00\n",
      "Epoch 17/30\n",
      "5/5 - 0s - loss: 0.0667 - acc: 0.0000e+00 - val_loss: 0.0799 - val_acc: 0.0000e+00\n",
      "Epoch 18/30\n",
      "5/5 - 0s - loss: 0.0663 - acc: 0.0000e+00 - val_loss: 0.0798 - val_acc: 0.0000e+00\n",
      "Epoch 19/30\n",
      "5/5 - 0s - loss: 0.0659 - acc: 0.0000e+00 - val_loss: 0.0797 - val_acc: 0.0000e+00\n",
      "Epoch 20/30\n",
      "5/5 - 0s - loss: 0.0655 - acc: 0.0000e+00 - val_loss: 0.0796 - val_acc: 0.0000e+00\n",
      "Epoch 21/30\n",
      "5/5 - 0s - loss: 0.0652 - acc: 0.0000e+00 - val_loss: 0.0796 - val_acc: 0.0000e+00\n",
      "Epoch 22/30\n",
      "5/5 - 0s - loss: 0.0649 - acc: 0.0000e+00 - val_loss: 0.0796 - val_acc: 0.0000e+00\n",
      "Epoch 23/30\n",
      "5/5 - 0s - loss: 0.0646 - acc: 0.0000e+00 - val_loss: 0.0797 - val_acc: 0.0000e+00\n",
      "Epoch 24/30\n",
      "5/5 - 0s - loss: 0.0643 - acc: 0.0000e+00 - val_loss: 0.0797 - val_acc: 0.0000e+00\n",
      "Epoch 25/30\n",
      "5/5 - 0s - loss: 0.0640 - acc: 0.0000e+00 - val_loss: 0.0798 - val_acc: 0.0000e+00\n",
      "Epoch 26/30\n",
      "5/5 - 0s - loss: 0.0637 - acc: 0.0000e+00 - val_loss: 0.0798 - val_acc: 0.0000e+00\n",
      "Epoch 27/30\n",
      "5/5 - 0s - loss: 0.0635 - acc: 0.0000e+00 - val_loss: 0.0798 - val_acc: 0.0000e+00\n",
      "Epoch 28/30\n",
      "5/5 - 0s - loss: 0.0632 - acc: 0.0000e+00 - val_loss: 0.0798 - val_acc: 0.0000e+00\n",
      "Epoch 29/30\n",
      "5/5 - 0s - loss: 0.0629 - acc: 0.0000e+00 - val_loss: 0.0798 - val_acc: 0.0000e+00\n",
      "Epoch 30/30\n",
      "5/5 - 0s - loss: 0.0625 - acc: 0.0000e+00 - val_loss: 0.0798 - val_acc: 0.0000e+00\n"
     ]
    },
    {
     "data": {
      "text/plain": [
       "<tensorflow.python.keras.callbacks.History at 0x20f62e70dc8>"
      ]
     },
     "execution_count": 131,
     "metadata": {},
     "output_type": "execute_result"
    }
   ],
   "source": [
    "sli.fit(x62,y62, validation_data=valid_set8, batch_size=5, epochs=30, shuffle=True, verbose=2)"
   ]
  },
  {
   "cell_type": "code",
   "execution_count": 132,
   "metadata": {},
   "outputs": [
    {
     "name": "stdout",
     "output_type": "stream",
     "text": [
      "Train on 5 samples, validate on 5 samples\n",
      "Epoch 1/30\n",
      "5/5 - 0s - loss: 0.1155 - acc: 0.0000e+00 - val_loss: 0.1546 - val_acc: 0.0000e+00\n",
      "Epoch 2/30\n",
      "5/5 - 0s - loss: 0.1144 - acc: 0.0000e+00 - val_loss: 0.1502 - val_acc: 0.0000e+00\n",
      "Epoch 3/30\n",
      "5/5 - 0s - loss: 0.1127 - acc: 0.0000e+00 - val_loss: 0.1446 - val_acc: 0.0000e+00\n",
      "Epoch 4/30\n",
      "5/5 - 0s - loss: 0.1111 - acc: 0.0000e+00 - val_loss: 0.1387 - val_acc: 0.0000e+00\n",
      "Epoch 5/30\n",
      "5/5 - 0s - loss: 0.1102 - acc: 0.0000e+00 - val_loss: 0.1334 - val_acc: 0.0000e+00\n",
      "Epoch 6/30\n",
      "5/5 - 0s - loss: 0.1101 - acc: 0.0000e+00 - val_loss: 0.1296 - val_acc: 0.0000e+00\n",
      "Epoch 7/30\n",
      "5/5 - 0s - loss: 0.1103 - acc: 0.0000e+00 - val_loss: 0.1278 - val_acc: 0.0000e+00\n",
      "Epoch 8/30\n",
      "5/5 - 0s - loss: 0.1101 - acc: 0.0000e+00 - val_loss: 0.1281 - val_acc: 0.0000e+00\n",
      "Epoch 9/30\n",
      "5/5 - 0s - loss: 0.1094 - acc: 0.0000e+00 - val_loss: 0.1300 - val_acc: 0.0000e+00\n",
      "Epoch 10/30\n",
      "5/5 - 0s - loss: 0.1082 - acc: 0.0000e+00 - val_loss: 0.1330 - val_acc: 0.0000e+00\n",
      "Epoch 11/30\n",
      "5/5 - 0s - loss: 0.1069 - acc: 0.0000e+00 - val_loss: 0.1363 - val_acc: 0.0000e+00\n",
      "Epoch 12/30\n",
      "5/5 - 0s - loss: 0.1061 - acc: 0.0000e+00 - val_loss: 0.1392 - val_acc: 0.0000e+00\n",
      "Epoch 13/30\n",
      "5/5 - 0s - loss: 0.1057 - acc: 0.0000e+00 - val_loss: 0.1411 - val_acc: 0.0000e+00\n",
      "Epoch 14/30\n",
      "5/5 - 0s - loss: 0.1055 - acc: 0.0000e+00 - val_loss: 0.1416 - val_acc: 0.0000e+00\n",
      "Epoch 15/30\n",
      "5/5 - 0s - loss: 0.1052 - acc: 0.0000e+00 - val_loss: 0.1408 - val_acc: 0.0000e+00\n",
      "Epoch 16/30\n",
      "5/5 - 0s - loss: 0.1046 - acc: 0.0000e+00 - val_loss: 0.1387 - val_acc: 0.0000e+00\n",
      "Epoch 17/30\n",
      "5/5 - 0s - loss: 0.1038 - acc: 0.0000e+00 - val_loss: 0.1357 - val_acc: 0.0000e+00\n",
      "Epoch 18/30\n",
      "5/5 - 0s - loss: 0.1029 - acc: 0.0000e+00 - val_loss: 0.1323 - val_acc: 0.0000e+00\n",
      "Epoch 19/30\n",
      "5/5 - 0s - loss: 0.1022 - acc: 0.0000e+00 - val_loss: 0.1292 - val_acc: 0.0000e+00\n",
      "Epoch 20/30\n",
      "5/5 - 0s - loss: 0.1018 - acc: 0.0000e+00 - val_loss: 0.1268 - val_acc: 0.0000e+00\n",
      "Epoch 21/30\n",
      "5/5 - 0s - loss: 0.1015 - acc: 0.0000e+00 - val_loss: 0.1254 - val_acc: 0.0000e+00\n",
      "Epoch 22/30\n",
      "5/5 - 0s - loss: 0.1013 - acc: 0.0000e+00 - val_loss: 0.1250 - val_acc: 0.0000e+00\n",
      "Epoch 23/30\n",
      "5/5 - 0s - loss: 0.1009 - acc: 0.0000e+00 - val_loss: 0.1259 - val_acc: 0.0000e+00\n",
      "Epoch 24/30\n",
      "5/5 - 0s - loss: 0.1005 - acc: 0.0000e+00 - val_loss: 0.1275 - val_acc: 0.0000e+00\n",
      "Epoch 25/30\n",
      "5/5 - 0s - loss: 0.0999 - acc: 0.0000e+00 - val_loss: 0.1295 - val_acc: 0.0000e+00\n",
      "Epoch 26/30\n",
      "5/5 - 0s - loss: 0.0995 - acc: 0.0000e+00 - val_loss: 0.1314 - val_acc: 0.0000e+00\n",
      "Epoch 27/30\n",
      "5/5 - 0s - loss: 0.0992 - acc: 0.0000e+00 - val_loss: 0.1329 - val_acc: 0.0000e+00\n",
      "Epoch 28/30\n",
      "5/5 - 0s - loss: 0.0990 - acc: 0.0000e+00 - val_loss: 0.1338 - val_acc: 0.0000e+00\n",
      "Epoch 29/30\n",
      "5/5 - 0s - loss: 0.0989 - acc: 0.0000e+00 - val_loss: 0.1339 - val_acc: 0.0000e+00\n",
      "Epoch 30/30\n",
      "5/5 - 0s - loss: 0.0986 - acc: 0.0000e+00 - val_loss: 0.1333 - val_acc: 0.0000e+00\n"
     ]
    },
    {
     "data": {
      "text/plain": [
       "<tensorflow.python.keras.callbacks.History at 0x20f632b0648>"
      ]
     },
     "execution_count": 132,
     "metadata": {},
     "output_type": "execute_result"
    }
   ],
   "source": [
    "sli.fit(x63,y63, validation_data=valid_set9, batch_size=5, epochs=30, shuffle=True, verbose=2)"
   ]
  },
  {
   "cell_type": "code",
   "execution_count": 189,
   "metadata": {},
   "outputs": [],
   "source": [
    "#imports for confusion matrix\n",
    "%matplotlib inline\n",
    "from sklearn.metrics import confusion_matrix\n",
    "import itertools"
   ]
  },
  {
   "cell_type": "code",
   "execution_count": 190,
   "metadata": {},
   "outputs": [],
   "source": [
    "def plot_confusion_matrix(cm, classes,\n",
    "                        normalize=False,\n",
    "                        title='Confusion matrix',\n",
    "                        cmap=plt.cm.Blues):\n",
    "    \"\"\"\n",
    "    This function prints and plots the confusion matrix.\n",
    "    Normalization can be applied by setting `normalize=True`.\n",
    "    \"\"\"\n",
    "    plt.imshow(cm, interpolation='nearest', cmap=cmap)\n",
    "    plt.title(title)\n",
    "    plt.colorbar()\n",
    "    tick_marks = np.arange(len(classes))\n",
    "    plt.xticks(tick_marks, classes, rotation=45)\n",
    "    plt.yticks(tick_marks, classes)\n",
    "\n",
    "    if normalize:\n",
    "        cm = cm.astype('float') / cm.sum(axis=1)[:, np.newaxis]\n",
    "        print(\"Normalized confusion matrix\")\n",
    "    else:\n",
    "        print('Confusion matrix, without normalization')\n",
    "\n",
    "    print(cm)\n",
    "\n",
    "    thresh = cm.max() / 2.\n",
    "    for i, j in itertools.product(range(cm.shape[0]), range(cm.shape[1])):\n",
    "        plt.text(j, i, cm[i, j],\n",
    "            horizontalalignment=\"center\",\n",
    "            color=\"white\" if cm[i, j] > thresh else \"black\")\n",
    "\n",
    "    plt.tight_layout()\n",
    "    plt.ylabel('True label')\n",
    "    plt.xlabel('Predicted label')"
   ]
  },
  {
   "cell_type": "code",
   "execution_count": 169,
   "metadata": {},
   "outputs": [
    {
     "data": {
      "text/plain": [
       "0    0.82\n",
       "1    0.62\n",
       "2    0.21\n",
       "3    0.06\n",
       "4    0.06\n",
       "Name: points, dtype: float64"
      ]
     },
     "execution_count": 169,
     "metadata": {},
     "output_type": "execute_result"
    }
   ],
   "source": [
    "y28"
   ]
  },
  {
   "cell_type": "code",
   "execution_count": 174,
   "metadata": {},
   "outputs": [
    {
     "data": {
      "text/plain": [
       "array([[0.4889611 ],\n",
       "       [0.08221336],\n",
       "       [0.22875862],\n",
       "       [0.32455853],\n",
       "       [0.1718285 ]], dtype=float32)"
      ]
     },
     "execution_count": 174,
     "metadata": {},
     "output_type": "execute_result"
    }
   ],
   "source": [
    "predictions = sli.predict(x60, batch_size=5, verbose=0)\n",
    "rounded_predictions = np.argmax(predictions, axis=-1)\n",
    "y_pred = rounded_predictions\n",
    "y_true = y43\n",
    "y_pred\n",
    "predictions"
   ]
  },
  {
   "cell_type": "code",
   "execution_count": 175,
   "metadata": {},
   "outputs": [],
   "source": [
    "#saving the weights from the trained network\n",
    "import os.path\n",
    "sli.save('final_model.h5')"
   ]
  },
  {
   "cell_type": "code",
   "execution_count": null,
   "metadata": {},
   "outputs": [],
   "source": []
  }
 ],
 "metadata": {
  "kernelspec": {
   "display_name": "Python 3",
   "language": "python",
   "name": "python3"
  },
  "language_info": {
   "codemirror_mode": {
    "name": "ipython",
    "version": 3
   },
   "file_extension": ".py",
   "mimetype": "text/x-python",
   "name": "python",
   "nbconvert_exporter": "python",
   "pygments_lexer": "ipython3",
   "version": "3.7.9"
  }
 },
 "nbformat": 4,
 "nbformat_minor": 4
}
