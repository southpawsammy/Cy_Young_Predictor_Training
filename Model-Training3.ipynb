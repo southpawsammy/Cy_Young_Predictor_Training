{
 "cells": [
  {
   "cell_type": "code",
   "execution_count": 1,
   "metadata": {},
   "outputs": [],
   "source": [
    "import tensorflow as tf\n",
    "from tensorflow import keras\n",
    "from tensorflow.keras.models import Sequential\n",
    "from tensorflow.keras.layers import Activation, Dense\n",
    "from tensorflow.keras.optimizers import Adam\n",
    "import pandas as pd\n",
    "import numpy as np\n",
    "from collections import Counter\n",
    "from sklearn.model_selection import train_test_split\n",
    "from imblearn.over_sampling import SMOTE\n",
    "import matplotlib.pyplot as plt\n",
    "import seaborn as sns\n",
    "from sklearn.preprocessing import MinMaxScaler"
   ]
  },
  {
   "cell_type": "code",
   "execution_count": 380,
   "metadata": {},
   "outputs": [],
   "source": [
    "# define the keras cy\n",
    "a = Sequential()\n",
    "a.add(Dense(8, input_dim=18, activation='relu'))\n",
    "a.add(Dense(16, activation='relu'))\n",
    "a.add(Dense(16, activation='relu'))\n",
    "a.add(Dense(32, activation='relu'))\n",
    "a.add(Dense(32, activation='relu'))\n",
    "a.add(Dense(32, activation='relu'))\n",
    "a.add(Dense(32, activation='relu'))\n",
    "a.add(Dense(64, activation='relu'))\n",
    "a.add(Dense(64, activation='relu'))\n",
    "a.add(Dense(80, activation='relu'))\n",
    "a.add(Dense(101, activation='softmax'))\n",
    "\n",
    "#compile\n",
    "a.compile(loss='sparse_categorical_crossentropy',\n",
    "              optimizer=Adam(learning_rate=0.0001),\n",
    "              metrics=['SparseTopKCategoricalAccuracy'])"
   ]
  },
  {
   "cell_type": "code",
   "execution_count": 359,
   "metadata": {},
   "outputs": [
    {
     "name": "stdout",
     "output_type": "stream",
     "text": [
      "Model: \"sequential_5\"\n",
      "_________________________________________________________________\n",
      "Layer (type)                 Output Shape              Param #   \n",
      "=================================================================\n",
      "dense_31 (Dense)             (None, 8)                 152       \n",
      "_________________________________________________________________\n",
      "dense_32 (Dense)             (None, 16)                144       \n",
      "_________________________________________________________________\n",
      "dense_33 (Dense)             (None, 16)                272       \n",
      "_________________________________________________________________\n",
      "dense_34 (Dense)             (None, 32)                544       \n",
      "_________________________________________________________________\n",
      "dense_35 (Dense)             (None, 32)                1056      \n",
      "_________________________________________________________________\n",
      "dense_36 (Dense)             (None, 32)                1056      \n",
      "_________________________________________________________________\n",
      "dense_37 (Dense)             (None, 32)                1056      \n",
      "_________________________________________________________________\n",
      "dense_38 (Dense)             (None, 64)                2112      \n",
      "_________________________________________________________________\n",
      "dense_39 (Dense)             (None, 64)                4160      \n",
      "_________________________________________________________________\n",
      "dense_40 (Dense)             (None, 80)                5200      \n",
      "_________________________________________________________________\n",
      "dense_41 (Dense)             (None, 101)               8181      \n",
      "=================================================================\n",
      "Total params: 23,933\n",
      "Trainable params: 23,933\n",
      "Non-trainable params: 0\n",
      "_________________________________________________________________\n"
     ]
    }
   ],
   "source": [
    "al.summary()"
   ]
  },
  {
   "cell_type": "code",
   "execution_count": 6,
   "metadata": {},
   "outputs": [],
   "source": [
    "#setup for data model to be trained\n",
    "ja=pd.read_csv('Training Data1/Jake_Arrieta.csv')\n",
    "ja=ja.drop('team', axis=1)\n",
    "ja=ja.drop('league', axis=1)\n",
    "ja=ja.drop('nameFirst', axis=1)\n",
    "ja=ja.drop('nameLast', axis=1)\n",
    "ja=ja.drop('yearID', axis=1)\n",
    "x = ja.drop('points', axis=1)\n",
    "y = ja['points']"
   ]
  },
  {
   "cell_type": "code",
   "execution_count": 7,
   "metadata": {},
   "outputs": [],
   "source": [
    "bz=pd.read_csv('Training Data1/Barry_Zito.csv')\n",
    "bz=bz.drop('team', axis=1)\n",
    "bz=bz.drop('league', axis=1)\n",
    "bz=bz.drop('nameFirst', axis=1)\n",
    "bz=bz.drop('nameLast', axis=1)\n",
    "bz=bz.drop('yearID', axis=1)\n",
    "x1 = bz.drop('points', axis=1)\n",
    "y1 = bz['points']"
   ]
  },
  {
   "cell_type": "code",
   "execution_count": 9,
   "metadata": {},
   "outputs": [],
   "source": [
    "bc=pd.read_csv('Training Data1/Bartolo_Colon.csv')\n",
    "bc=bc.drop('team', axis=1)\n",
    "bc=bc.drop('league', axis=1)\n",
    "bc=bc.drop('nameFirst', axis=1)\n",
    "bc=bc.drop('nameLast', axis=1)\n",
    "bc=bc.drop('yearID', axis=1)\n",
    "x2 = bc.drop('points', axis=1)\n",
    "y2 = bc['points']"
   ]
  },
  {
   "cell_type": "code",
   "execution_count": 10,
   "metadata": {},
   "outputs": [],
   "source": [
    "bw=pd.read_csv('Training Data1/Bob_Welch.csv')\n",
    "bw=bw.drop('team', axis=1)\n",
    "bw=bw.drop('league', axis=1)\n",
    "bw=bw.drop('nameFirst', axis=1)\n",
    "bw=bw.drop('nameLast', axis=1)\n",
    "bw=bw.drop('yearID', axis=1)\n",
    "x3 = bw.drop('points', axis=1)\n",
    "y3 = bw['points']"
   ]
  },
  {
   "cell_type": "code",
   "execution_count": 11,
   "metadata": {},
   "outputs": [],
   "source": [
    "bw1=pd.read_csv('Training Data1/Brandon_Webb.csv')\n",
    "bw1=bw1.drop('team', axis=1)\n",
    "bw1=bw1.drop('league', axis=1)\n",
    "bw1=bw1.drop('nameFirst', axis=1)\n",
    "bw1=bw1.drop('nameLast', axis=1)\n",
    "bw1=bw1.drop('yearID', axis=1)\n",
    "x4 = bw1.drop('points', axis=1)\n",
    "y4 = bw1['points']"
   ]
  },
  {
   "cell_type": "code",
   "execution_count": 12,
   "metadata": {},
   "outputs": [],
   "source": [
    "bs1=pd.read_csv('Training Data1/Bret_Saberhagen(1989).csv')\n",
    "bs1=bs1.drop('team', axis=1)\n",
    "bs1=bs1.drop('league', axis=1)\n",
    "bs1=bs1.drop('nameFirst', axis=1)\n",
    "bs1=bs1.drop('nameLast', axis=1)\n",
    "bs1=bs1.drop('yearID', axis=1)\n",
    "x6 = bs1.drop('points', axis=1)\n",
    "y6 = bs1['points']"
   ]
  },
  {
   "cell_type": "code",
   "execution_count": 13,
   "metadata": {},
   "outputs": [],
   "source": [
    "bs2=pd.read_csv('Training Data1/Bruce_Sutter.csv')\n",
    "bs2=bs2.drop('team', axis=1)\n",
    "bs2=bs2.drop('league', axis=1)\n",
    "bs2=bs2.drop('nameFirst', axis=1)\n",
    "bs2=bs2.drop('nameLast', axis=1)\n",
    "bs2=bs2.drop('yearID', axis=1)\n",
    "x7 = bs2.drop('points', axis=1)\n",
    "y7 = bs2['points']"
   ]
  },
  {
   "cell_type": "code",
   "execution_count": 14,
   "metadata": {},
   "outputs": [],
   "source": [
    "cs=pd.read_csv('Training Data1/CC_Sabathia.csv')\n",
    "cs=cs.drop('team', axis=1)\n",
    "cs=cs.drop('league', axis=1)\n",
    "cs=cs.drop('nameFirst', axis=1)\n",
    "cs=cs.drop('nameLast', axis=1)\n",
    "cs=cs.drop('yearID', axis=1)\n",
    "x8 = cs.drop('points', axis=1)\n",
    "y8 = cs['points']"
   ]
  },
  {
   "cell_type": "code",
   "execution_count": 15,
   "metadata": {},
   "outputs": [],
   "source": [
    "cc=pd.read_csv('Training Data1/Chris_Carpenter.csv')\n",
    "cc=cc.drop('team', axis=1)\n",
    "cc=cc.drop('league', axis=1)\n",
    "cc=cc.drop('nameFirst', axis=1)\n",
    "cc=cc.drop('nameLast', axis=1)\n",
    "cc=cc.drop('yearID', axis=1)\n",
    "x9 = cc.drop('points', axis=1)\n",
    "y9 = cc['points']"
   ]
  },
  {
   "cell_type": "code",
   "execution_count": 16,
   "metadata": {},
   "outputs": [],
   "source": [
    "ck1=pd.read_csv('Training Data1/Clayton_Kershaw(2011).csv')\n",
    "ck1=ck1.drop('team', axis=1)\n",
    "ck1=ck1.drop('league', axis=1)\n",
    "ck1=ck1.drop('nameFirst', axis=1)\n",
    "ck1=ck1.drop('nameLast', axis=1)\n",
    "ck1=ck1.drop('yearID', axis=1)\n",
    "x10 = ck1.drop('points', axis=1)\n",
    "y10 = ck1['points']"
   ]
  },
  {
   "cell_type": "code",
   "execution_count": 17,
   "metadata": {},
   "outputs": [],
   "source": [
    "ck2=pd.read_csv('Training Data1/Clayton_Kershaw(2013).csv')\n",
    "ck2=ck2.drop('team', axis=1)\n",
    "ck2=ck2.drop('league', axis=1)\n",
    "ck2=ck2.drop('nameFirst', axis=1)\n",
    "ck2=ck2.drop('nameLast', axis=1)\n",
    "ck2=ck2.drop('yearID', axis=1)\n",
    "x11 = ck2.drop('points', axis=1)\n",
    "y11 = ck2['points']"
   ]
  },
  {
   "cell_type": "code",
   "execution_count": 18,
   "metadata": {},
   "outputs": [],
   "source": [
    "ck3=pd.read_csv('Training Data1/Clayton_Kershaw(2014).csv')\n",
    "ck3=ck3.drop('team', axis=1)\n",
    "ck3=ck3.drop('league', axis=1)\n",
    "ck3=ck3.drop('nameFirst', axis=1)\n",
    "ck3=ck3.drop('nameLast', axis=1)\n",
    "ck3=ck3.drop('yearID', axis=1)\n",
    "x12 = ck3.drop('points', axis=1)\n",
    "y12 = ck3['points']"
   ]
  },
  {
   "cell_type": "code",
   "execution_count": 19,
   "metadata": {},
   "outputs": [],
   "source": [
    "ck4=pd.read_csv('Training Data1/Corey_Kluber(2014).csv')\n",
    "ck4=ck4.drop('team', axis=1)\n",
    "ck4=ck4.drop('league', axis=1)\n",
    "ck4=ck4.drop('nameFirst', axis=1)\n",
    "ck4=ck4.drop('nameLast', axis=1)\n",
    "ck4=ck4.drop('yearID', axis=1)\n",
    "x13 = ck4.drop('points', axis=1)\n",
    "y13 = ck4['points']"
   ]
  },
  {
   "cell_type": "code",
   "execution_count": 20,
   "metadata": {},
   "outputs": [],
   "source": [
    "dc=pd.read_csv('Training Data1/David_Cone.csv')\n",
    "dc=dc.drop('team', axis=1)\n",
    "dc=dc.drop('league', axis=1)\n",
    "dc=dc.drop('nameFirst', axis=1)\n",
    "dc=dc.drop('nameLast', axis=1)\n",
    "dc=dc.drop('yearID', axis=1)\n",
    "x16 = dc.drop('points', axis=1)\n",
    "y16 = dc['points']"
   ]
  },
  {
   "cell_type": "code",
   "execution_count": 21,
   "metadata": {},
   "outputs": [],
   "source": [
    "dd=pd.read_csv('Training Data1/Doug_Drabek.csv')\n",
    "dd=dd.drop('team', axis=1)\n",
    "dd=dd.drop('league', axis=1)\n",
    "dd=dd.drop('nameFirst', axis=1)\n",
    "dd=dd.drop('nameLast', axis=1)\n",
    "dd=dd.drop('yearID', axis=1)\n",
    "x17 = dd.drop('points', axis=1)\n",
    "y17 = dd['points']"
   ]
  },
  {
   "cell_type": "code",
   "execution_count": 22,
   "metadata": {},
   "outputs": [],
   "source": [
    "dg=pd.read_csv('Training Data1/Dwight_Gooden.csv')\n",
    "dg=dg.drop('team', axis=1)\n",
    "dg=dg.drop('league', axis=1)\n",
    "dg=dg.drop('nameFirst', axis=1)\n",
    "dg=dg.drop('nameLast', axis=1)\n",
    "dg=dg.drop('yearID', axis=1)\n",
    "x18 = dg.drop('points', axis=1)\n",
    "y18 = dg['points']"
   ]
  },
  {
   "cell_type": "code",
   "execution_count": 23,
   "metadata": {},
   "outputs": [
    {
     "ename": "FileNotFoundError",
     "evalue": "[Errno 2] File Training Data1/Eric_Gagne.csv does not exist: 'Training Data1/Eric_Gagne.csv'",
     "output_type": "error",
     "traceback": [
      "\u001b[1;31m---------------------------------------------------------------------------\u001b[0m",
      "\u001b[1;31mFileNotFoundError\u001b[0m                         Traceback (most recent call last)",
      "\u001b[1;32m<ipython-input-23-2322d702f4ce>\u001b[0m in \u001b[0;36m<module>\u001b[1;34m\u001b[0m\n\u001b[1;32m----> 1\u001b[1;33m \u001b[0meg\u001b[0m\u001b[1;33m=\u001b[0m\u001b[0mpd\u001b[0m\u001b[1;33m.\u001b[0m\u001b[0mread_csv\u001b[0m\u001b[1;33m(\u001b[0m\u001b[1;34m'Training Data1/Eric_Gagne.csv'\u001b[0m\u001b[1;33m)\u001b[0m\u001b[1;33m\u001b[0m\u001b[1;33m\u001b[0m\u001b[0m\n\u001b[0m\u001b[0;32m      2\u001b[0m \u001b[0meg\u001b[0m\u001b[1;33m=\u001b[0m\u001b[0meg\u001b[0m\u001b[1;33m.\u001b[0m\u001b[0mdrop\u001b[0m\u001b[1;33m(\u001b[0m\u001b[1;34m'team'\u001b[0m\u001b[1;33m,\u001b[0m \u001b[0maxis\u001b[0m\u001b[1;33m=\u001b[0m\u001b[1;36m1\u001b[0m\u001b[1;33m)\u001b[0m\u001b[1;33m\u001b[0m\u001b[1;33m\u001b[0m\u001b[0m\n\u001b[0;32m      3\u001b[0m \u001b[0meg\u001b[0m\u001b[1;33m=\u001b[0m\u001b[0meg\u001b[0m\u001b[1;33m.\u001b[0m\u001b[0mdrop\u001b[0m\u001b[1;33m(\u001b[0m\u001b[1;34m'league'\u001b[0m\u001b[1;33m,\u001b[0m \u001b[0maxis\u001b[0m\u001b[1;33m=\u001b[0m\u001b[1;36m1\u001b[0m\u001b[1;33m)\u001b[0m\u001b[1;33m\u001b[0m\u001b[1;33m\u001b[0m\u001b[0m\n\u001b[0;32m      4\u001b[0m \u001b[0meg\u001b[0m\u001b[1;33m=\u001b[0m\u001b[0meg\u001b[0m\u001b[1;33m.\u001b[0m\u001b[0mdrop\u001b[0m\u001b[1;33m(\u001b[0m\u001b[1;34m'nameFirst'\u001b[0m\u001b[1;33m,\u001b[0m \u001b[0maxis\u001b[0m\u001b[1;33m=\u001b[0m\u001b[1;36m1\u001b[0m\u001b[1;33m)\u001b[0m\u001b[1;33m\u001b[0m\u001b[1;33m\u001b[0m\u001b[0m\n\u001b[0;32m      5\u001b[0m \u001b[0meg\u001b[0m\u001b[1;33m=\u001b[0m\u001b[0meg\u001b[0m\u001b[1;33m.\u001b[0m\u001b[0mdrop\u001b[0m\u001b[1;33m(\u001b[0m\u001b[1;34m'nameLast'\u001b[0m\u001b[1;33m,\u001b[0m \u001b[0maxis\u001b[0m\u001b[1;33m=\u001b[0m\u001b[1;36m1\u001b[0m\u001b[1;33m)\u001b[0m\u001b[1;33m\u001b[0m\u001b[1;33m\u001b[0m\u001b[0m\n",
      "\u001b[1;32m~\\anaconda3\\lib\\site-packages\\pandas\\io\\parsers.py\u001b[0m in \u001b[0;36mparser_f\u001b[1;34m(filepath_or_buffer, sep, delimiter, header, names, index_col, usecols, squeeze, prefix, mangle_dupe_cols, dtype, engine, converters, true_values, false_values, skipinitialspace, skiprows, skipfooter, nrows, na_values, keep_default_na, na_filter, verbose, skip_blank_lines, parse_dates, infer_datetime_format, keep_date_col, date_parser, dayfirst, cache_dates, iterator, chunksize, compression, thousands, decimal, lineterminator, quotechar, quoting, doublequote, escapechar, comment, encoding, dialect, error_bad_lines, warn_bad_lines, delim_whitespace, low_memory, memory_map, float_precision)\u001b[0m\n\u001b[0;32m    674\u001b[0m         )\n\u001b[0;32m    675\u001b[0m \u001b[1;33m\u001b[0m\u001b[0m\n\u001b[1;32m--> 676\u001b[1;33m         \u001b[1;32mreturn\u001b[0m \u001b[0m_read\u001b[0m\u001b[1;33m(\u001b[0m\u001b[0mfilepath_or_buffer\u001b[0m\u001b[1;33m,\u001b[0m \u001b[0mkwds\u001b[0m\u001b[1;33m)\u001b[0m\u001b[1;33m\u001b[0m\u001b[1;33m\u001b[0m\u001b[0m\n\u001b[0m\u001b[0;32m    677\u001b[0m \u001b[1;33m\u001b[0m\u001b[0m\n\u001b[0;32m    678\u001b[0m     \u001b[0mparser_f\u001b[0m\u001b[1;33m.\u001b[0m\u001b[0m__name__\u001b[0m \u001b[1;33m=\u001b[0m \u001b[0mname\u001b[0m\u001b[1;33m\u001b[0m\u001b[1;33m\u001b[0m\u001b[0m\n",
      "\u001b[1;32m~\\anaconda3\\lib\\site-packages\\pandas\\io\\parsers.py\u001b[0m in \u001b[0;36m_read\u001b[1;34m(filepath_or_buffer, kwds)\u001b[0m\n\u001b[0;32m    446\u001b[0m \u001b[1;33m\u001b[0m\u001b[0m\n\u001b[0;32m    447\u001b[0m     \u001b[1;31m# Create the parser.\u001b[0m\u001b[1;33m\u001b[0m\u001b[1;33m\u001b[0m\u001b[1;33m\u001b[0m\u001b[0m\n\u001b[1;32m--> 448\u001b[1;33m     \u001b[0mparser\u001b[0m \u001b[1;33m=\u001b[0m \u001b[0mTextFileReader\u001b[0m\u001b[1;33m(\u001b[0m\u001b[0mfp_or_buf\u001b[0m\u001b[1;33m,\u001b[0m \u001b[1;33m**\u001b[0m\u001b[0mkwds\u001b[0m\u001b[1;33m)\u001b[0m\u001b[1;33m\u001b[0m\u001b[1;33m\u001b[0m\u001b[0m\n\u001b[0m\u001b[0;32m    449\u001b[0m \u001b[1;33m\u001b[0m\u001b[0m\n\u001b[0;32m    450\u001b[0m     \u001b[1;32mif\u001b[0m \u001b[0mchunksize\u001b[0m \u001b[1;32mor\u001b[0m \u001b[0miterator\u001b[0m\u001b[1;33m:\u001b[0m\u001b[1;33m\u001b[0m\u001b[1;33m\u001b[0m\u001b[0m\n",
      "\u001b[1;32m~\\anaconda3\\lib\\site-packages\\pandas\\io\\parsers.py\u001b[0m in \u001b[0;36m__init__\u001b[1;34m(self, f, engine, **kwds)\u001b[0m\n\u001b[0;32m    878\u001b[0m             \u001b[0mself\u001b[0m\u001b[1;33m.\u001b[0m\u001b[0moptions\u001b[0m\u001b[1;33m[\u001b[0m\u001b[1;34m\"has_index_names\"\u001b[0m\u001b[1;33m]\u001b[0m \u001b[1;33m=\u001b[0m \u001b[0mkwds\u001b[0m\u001b[1;33m[\u001b[0m\u001b[1;34m\"has_index_names\"\u001b[0m\u001b[1;33m]\u001b[0m\u001b[1;33m\u001b[0m\u001b[1;33m\u001b[0m\u001b[0m\n\u001b[0;32m    879\u001b[0m \u001b[1;33m\u001b[0m\u001b[0m\n\u001b[1;32m--> 880\u001b[1;33m         \u001b[0mself\u001b[0m\u001b[1;33m.\u001b[0m\u001b[0m_make_engine\u001b[0m\u001b[1;33m(\u001b[0m\u001b[0mself\u001b[0m\u001b[1;33m.\u001b[0m\u001b[0mengine\u001b[0m\u001b[1;33m)\u001b[0m\u001b[1;33m\u001b[0m\u001b[1;33m\u001b[0m\u001b[0m\n\u001b[0m\u001b[0;32m    881\u001b[0m \u001b[1;33m\u001b[0m\u001b[0m\n\u001b[0;32m    882\u001b[0m     \u001b[1;32mdef\u001b[0m \u001b[0mclose\u001b[0m\u001b[1;33m(\u001b[0m\u001b[0mself\u001b[0m\u001b[1;33m)\u001b[0m\u001b[1;33m:\u001b[0m\u001b[1;33m\u001b[0m\u001b[1;33m\u001b[0m\u001b[0m\n",
      "\u001b[1;32m~\\anaconda3\\lib\\site-packages\\pandas\\io\\parsers.py\u001b[0m in \u001b[0;36m_make_engine\u001b[1;34m(self, engine)\u001b[0m\n\u001b[0;32m   1112\u001b[0m     \u001b[1;32mdef\u001b[0m \u001b[0m_make_engine\u001b[0m\u001b[1;33m(\u001b[0m\u001b[0mself\u001b[0m\u001b[1;33m,\u001b[0m \u001b[0mengine\u001b[0m\u001b[1;33m=\u001b[0m\u001b[1;34m\"c\"\u001b[0m\u001b[1;33m)\u001b[0m\u001b[1;33m:\u001b[0m\u001b[1;33m\u001b[0m\u001b[1;33m\u001b[0m\u001b[0m\n\u001b[0;32m   1113\u001b[0m         \u001b[1;32mif\u001b[0m \u001b[0mengine\u001b[0m \u001b[1;33m==\u001b[0m \u001b[1;34m\"c\"\u001b[0m\u001b[1;33m:\u001b[0m\u001b[1;33m\u001b[0m\u001b[1;33m\u001b[0m\u001b[0m\n\u001b[1;32m-> 1114\u001b[1;33m             \u001b[0mself\u001b[0m\u001b[1;33m.\u001b[0m\u001b[0m_engine\u001b[0m \u001b[1;33m=\u001b[0m \u001b[0mCParserWrapper\u001b[0m\u001b[1;33m(\u001b[0m\u001b[0mself\u001b[0m\u001b[1;33m.\u001b[0m\u001b[0mf\u001b[0m\u001b[1;33m,\u001b[0m \u001b[1;33m**\u001b[0m\u001b[0mself\u001b[0m\u001b[1;33m.\u001b[0m\u001b[0moptions\u001b[0m\u001b[1;33m)\u001b[0m\u001b[1;33m\u001b[0m\u001b[1;33m\u001b[0m\u001b[0m\n\u001b[0m\u001b[0;32m   1115\u001b[0m         \u001b[1;32melse\u001b[0m\u001b[1;33m:\u001b[0m\u001b[1;33m\u001b[0m\u001b[1;33m\u001b[0m\u001b[0m\n\u001b[0;32m   1116\u001b[0m             \u001b[1;32mif\u001b[0m \u001b[0mengine\u001b[0m \u001b[1;33m==\u001b[0m \u001b[1;34m\"python\"\u001b[0m\u001b[1;33m:\u001b[0m\u001b[1;33m\u001b[0m\u001b[1;33m\u001b[0m\u001b[0m\n",
      "\u001b[1;32m~\\anaconda3\\lib\\site-packages\\pandas\\io\\parsers.py\u001b[0m in \u001b[0;36m__init__\u001b[1;34m(self, src, **kwds)\u001b[0m\n\u001b[0;32m   1889\u001b[0m         \u001b[0mkwds\u001b[0m\u001b[1;33m[\u001b[0m\u001b[1;34m\"usecols\"\u001b[0m\u001b[1;33m]\u001b[0m \u001b[1;33m=\u001b[0m \u001b[0mself\u001b[0m\u001b[1;33m.\u001b[0m\u001b[0musecols\u001b[0m\u001b[1;33m\u001b[0m\u001b[1;33m\u001b[0m\u001b[0m\n\u001b[0;32m   1890\u001b[0m \u001b[1;33m\u001b[0m\u001b[0m\n\u001b[1;32m-> 1891\u001b[1;33m         \u001b[0mself\u001b[0m\u001b[1;33m.\u001b[0m\u001b[0m_reader\u001b[0m \u001b[1;33m=\u001b[0m \u001b[0mparsers\u001b[0m\u001b[1;33m.\u001b[0m\u001b[0mTextReader\u001b[0m\u001b[1;33m(\u001b[0m\u001b[0msrc\u001b[0m\u001b[1;33m,\u001b[0m \u001b[1;33m**\u001b[0m\u001b[0mkwds\u001b[0m\u001b[1;33m)\u001b[0m\u001b[1;33m\u001b[0m\u001b[1;33m\u001b[0m\u001b[0m\n\u001b[0m\u001b[0;32m   1892\u001b[0m         \u001b[0mself\u001b[0m\u001b[1;33m.\u001b[0m\u001b[0munnamed_cols\u001b[0m \u001b[1;33m=\u001b[0m \u001b[0mself\u001b[0m\u001b[1;33m.\u001b[0m\u001b[0m_reader\u001b[0m\u001b[1;33m.\u001b[0m\u001b[0munnamed_cols\u001b[0m\u001b[1;33m\u001b[0m\u001b[1;33m\u001b[0m\u001b[0m\n\u001b[0;32m   1893\u001b[0m \u001b[1;33m\u001b[0m\u001b[0m\n",
      "\u001b[1;32mpandas\\_libs\\parsers.pyx\u001b[0m in \u001b[0;36mpandas._libs.parsers.TextReader.__cinit__\u001b[1;34m()\u001b[0m\n",
      "\u001b[1;32mpandas\\_libs\\parsers.pyx\u001b[0m in \u001b[0;36mpandas._libs.parsers.TextReader._setup_parser_source\u001b[1;34m()\u001b[0m\n",
      "\u001b[1;31mFileNotFoundError\u001b[0m: [Errno 2] File Training Data1/Eric_Gagne.csv does not exist: 'Training Data1/Eric_Gagne.csv'"
     ]
    }
   ],
   "source": [
    "eg=pd.read_csv('Training Data1/Eric_Gagne.csv')\n",
    "eg=eg.drop('team', axis=1)\n",
    "eg=eg.drop('league', axis=1)\n",
    "eg=eg.drop('nameFirst', axis=1)\n",
    "eg=eg.drop('nameLast', axis=1)\n",
    "eg=eg.drop('yearID', axis=1)\n",
    "x19 = eg.drop('points', axis=1)\n",
    "y19 = eg['points']"
   ]
  },
  {
   "cell_type": "code",
   "execution_count": 24,
   "metadata": {},
   "outputs": [],
   "source": [
    "fh=pd.read_csv('Training Data1/Felix_Hernandez.csv')\n",
    "fh=fh.drop('team', axis=1)\n",
    "fh=fh.drop('league', axis=1)\n",
    "fh=fh.drop('nameFirst', axis=1)\n",
    "fh=fh.drop('nameLast', axis=1)\n",
    "fh=fh.drop('yearID', axis=1)\n",
    "x20 = fh.drop('points', axis=1)\n",
    "y20 = fh['points']"
   ]
  },
  {
   "cell_type": "code",
   "execution_count": 25,
   "metadata": {},
   "outputs": [],
   "source": [
    "fv=pd.read_csv('Training Data1/Fernando_Valenzuela.csv')\n",
    "fv=fv.drop('team', axis=1)\n",
    "fv=fv.drop('league', axis=1)\n",
    "fv=fv.drop('nameFirst', axis=1)\n",
    "fv=fv.drop('nameLast', axis=1)\n",
    "fv=fv.drop('yearID', axis=1)\n",
    "x21 = fv.drop('points', axis=1)\n",
    "y21 = fv['points']"
   ]
  },
  {
   "cell_type": "code",
   "execution_count": 27,
   "metadata": {},
   "outputs": [],
   "source": [
    "gp=pd.read_csv('Training Data1/Gaylord_Perry.csv')\n",
    "gp=gp.drop('team', axis=1)\n",
    "gp=gp.drop('league', axis=1)\n",
    "gp=gp.drop('nameFirst', axis=1)\n",
    "gp=gp.drop('nameLast', axis=1)\n",
    "gp=gp.drop('yearID', axis=1)\n",
    "x22 = gp.drop('points', axis=1)\n",
    "y22 = gp['points']"
   ]
  },
  {
   "cell_type": "code",
   "execution_count": 28,
   "metadata": {},
   "outputs": [],
   "source": [
    "gm=pd.read_csv('Training Data1/Greg_Maddux(1993).csv')\n",
    "gm=gm.drop('team', axis=1)\n",
    "gm=gm.drop('league', axis=1)\n",
    "gm=gm.drop('nameFirst', axis=1)\n",
    "gm=gm.drop('nameLast', axis=1)\n",
    "gm=gm.drop('yearID', axis=1)\n",
    "x23 = gm.drop('points', axis=1)\n",
    "y23 = gm['points']"
   ]
  },
  {
   "cell_type": "code",
   "execution_count": 29,
   "metadata": {},
   "outputs": [],
   "source": [
    "gm1=pd.read_csv('Training Data1/Greg_Maddux(1994).csv')\n",
    "gm1=gm1.drop('team', axis=1)\n",
    "gm1=gm1.drop('league', axis=1)\n",
    "gm1=gm1.drop('nameFirst', axis=1)\n",
    "gm1=gm1.drop('nameLast', axis=1)\n",
    "gm1=gm1.drop('yearID', axis=1)\n",
    "x24 = gm1.drop('points', axis=1)\n",
    "y24 = gm1['points']"
   ]
  },
  {
   "cell_type": "code",
   "execution_count": 30,
   "metadata": {},
   "outputs": [],
   "source": [
    "gm2=pd.read_csv('Training Data1/Greg_Maddux(1995).csv')\n",
    "gm2=gm2.drop('team', axis=1)\n",
    "gm2=gm2.drop('league', axis=1)\n",
    "gm2=gm2.drop('nameFirst', axis=1)\n",
    "gm2=gm2.drop('nameLast', axis=1)\n",
    "gm2=gm2.drop('yearID', axis=1)\n",
    "x25 = gm2.drop('points', axis=1)\n",
    "y25 = gm2['points']"
   ]
  },
  {
   "cell_type": "code",
   "execution_count": 31,
   "metadata": {},
   "outputs": [],
   "source": [
    "jm=pd.read_csv('Training Data1/Jack_McDowell.csv')\n",
    "jm=jm.drop('team', axis=1)\n",
    "jm=jm.drop('league', axis=1)\n",
    "jm=jm.drop('nameFirst', axis=1)\n",
    "jm=jm.drop('nameLast', axis=1)\n",
    "jm=jm.drop('yearID', axis=1)\n",
    "x26 = jm.drop('points', axis=1)\n",
    "y26 = jm['points']"
   ]
  },
  {
   "cell_type": "code",
   "execution_count": 32,
   "metadata": {},
   "outputs": [],
   "source": [
    "jp=pd.read_csv('Training Data1/Jake_Peavy.csv')\n",
    "jp=jp.drop('team', axis=1)\n",
    "jp=jp.drop('league', axis=1)\n",
    "jp=jp.drop('nameFirst', axis=1)\n",
    "jp=jp.drop('nameLast', axis=1)\n",
    "jp=jp.drop('yearID', axis=1)\n",
    "x27 = jp.drop('points', axis=1)\n",
    "y27 = jp['points']"
   ]
  },
  {
   "cell_type": "code",
   "execution_count": 33,
   "metadata": {},
   "outputs": [],
   "source": [
    "jp1=pd.read_csv('Training Data1/Jim_Palmer(1975).csv')\n",
    "jp1=jp1.drop('team', axis=1)\n",
    "jp1=jp1.drop('league', axis=1)\n",
    "jp1=jp1.drop('nameFirst', axis=1)\n",
    "jp1=jp1.drop('nameLast', axis=1)\n",
    "jp1=jp1.drop('yearID', axis=1)\n",
    "x28 = jp1.drop('points', axis=1)\n",
    "y28 = jp1['points']"
   ]
  },
  {
   "cell_type": "code",
   "execution_count": 34,
   "metadata": {},
   "outputs": [],
   "source": [
    "js=pd.read_csv('Training Data1/Johan_Santana(2006).csv')\n",
    "js=js.drop('team', axis=1)\n",
    "js=js.drop('league', axis=1)\n",
    "js=js.drop('nameFirst', axis=1)\n",
    "js=js.drop('nameLast', axis=1)\n",
    "js=js.drop('yearID', axis=1)\n",
    "x29 = js.drop('points', axis=1)\n",
    "y29 = js['points']"
   ]
  },
  {
   "cell_type": "code",
   "execution_count": 35,
   "metadata": {},
   "outputs": [],
   "source": [
    "jd=pd.read_csv('Training Data1/John_Denny.csv')\n",
    "jd=jd.drop('team', axis=1)\n",
    "jd=jd.drop('league', axis=1)\n",
    "jd=jd.drop('nameFirst', axis=1)\n",
    "jd=jd.drop('nameLast', axis=1)\n",
    "jd=jd.drop('yearID', axis=1)\n",
    "x30 = jd.drop('points', axis=1)\n",
    "y30 = jd['points']"
   ]
  },
  {
   "cell_type": "code",
   "execution_count": 36,
   "metadata": {},
   "outputs": [],
   "source": [
    "jv=pd.read_csv('Training Data1/Justin_Verlander.csv')\n",
    "jv=jv.drop('team', axis=1)\n",
    "jv=jv.drop('league', axis=1)\n",
    "jv=jv.drop('nameFirst', axis=1)\n",
    "jv=jv.drop('nameLast', axis=1)\n",
    "jv=jv.drop('yearID', axis=1)\n",
    "x31 = jv.drop('points', axis=1)\n",
    "y31 = jv['points']"
   ]
  },
  {
   "cell_type": "code",
   "execution_count": 37,
   "metadata": {},
   "outputs": [],
   "source": [
    "lh=pd.read_csv('Training Data1/LaMarr_Hoyt.csv')\n",
    "lh=lh.drop('team', axis=1)\n",
    "lh=lh.drop('league', axis=1)\n",
    "lh=lh.drop('nameFirst', axis=1)\n",
    "lh=lh.drop('nameLast', axis=1)\n",
    "lh=lh.drop('yearID', axis=1)\n",
    "x32 = lh.drop('points', axis=1)\n",
    "y32 = lh['points']"
   ]
  },
  {
   "cell_type": "code",
   "execution_count": 38,
   "metadata": {},
   "outputs": [],
   "source": [
    "md=pd.read_csv('Training Data1/Mark_Davis.csv')\n",
    "md=md.drop('team', axis=1)\n",
    "md=md.drop('league', axis=1)\n",
    "md=md.drop('nameFirst', axis=1)\n",
    "md=md.drop('nameLast', axis=1)\n",
    "md=md.drop('yearID', axis=1)\n",
    "x33 = md.drop('points', axis=1)\n",
    "y33 = md['points']"
   ]
  },
  {
   "cell_type": "code",
   "execution_count": 39,
   "metadata": {},
   "outputs": [],
   "source": [
    "ms=pd.read_csv('Training Data1/Max_Scherzer(2013).csv')\n",
    "ms=ms.drop('team', axis=1)\n",
    "ms=ms.drop('league', axis=1)\n",
    "ms=ms.drop('nameFirst', axis=1)\n",
    "ms=ms.drop('nameLast', axis=1)\n",
    "ms=ms.drop('yearID', axis=1)\n",
    "x34 = ms.drop('points', axis=1)\n",
    "y34 = ms['points']"
   ]
  },
  {
   "cell_type": "code",
   "execution_count": 40,
   "metadata": {},
   "outputs": [],
   "source": [
    "mf=pd.read_csv('Training Data1/Mike_Flanagan.csv')\n",
    "mf=mf.drop('team', axis=1)\n",
    "mf=mf.drop('league', axis=1)\n",
    "mf=mf.drop('nameFirst', axis=1)\n",
    "mf=mf.drop('nameLast', axis=1)\n",
    "mf=mf.drop('yearID', axis=1)\n",
    "x36 = mf.drop('points', axis=1)\n",
    "y36 = mf['points']"
   ]
  },
  {
   "cell_type": "code",
   "execution_count": 41,
   "metadata": {},
   "outputs": [],
   "source": [
    "ms2=pd.read_csv('Training Data1/Mike_Scott.csv')\n",
    "ms2=ms2.drop('team', axis=1)\n",
    "ms2=ms2.drop('league', axis=1)\n",
    "ms2=ms2.drop('nameFirst', axis=1)\n",
    "ms2=ms2.drop('nameLast', axis=1)\n",
    "ms2=ms2.drop('yearID', axis=1)\n",
    "x37 = ms2.drop('points', axis=1)\n",
    "y37 = ms2['points']"
   ]
  },
  {
   "cell_type": "code",
   "execution_count": 42,
   "metadata": {},
   "outputs": [],
   "source": [
    "pm=pd.read_csv('Training Data1/Pedro_Martinez(1997).csv')\n",
    "pm=pm.drop('team', axis=1)\n",
    "pm=pm.drop('league', axis=1)\n",
    "pm=pm.drop('nameFirst', axis=1)\n",
    "pm=pm.drop('nameLast', axis=1)\n",
    "pm=pm.drop('yearID', axis=1)\n",
    "x38 = pm.drop('points', axis=1)\n",
    "y38 = pm['points']"
   ]
  },
  {
   "cell_type": "code",
   "execution_count": 43,
   "metadata": {},
   "outputs": [],
   "source": [
    "pm1=pd.read_csv('Training Data1/Pedro_Martinez(1999).csv')\n",
    "pm1=pm1.drop('team', axis=1)\n",
    "pm1=pm1.drop('league', axis=1)\n",
    "pm1=pm1.drop('nameFirst', axis=1)\n",
    "pm1=pm1.drop('nameLast', axis=1)\n",
    "pm1=pm1.drop('yearID', axis=1)\n",
    "x39 = pm1.drop('points', axis=1)\n",
    "y39 = pm1['points']"
   ]
  },
  {
   "cell_type": "code",
   "execution_count": 44,
   "metadata": {},
   "outputs": [],
   "source": [
    "pv=pd.read_csv('Training Data1/Pete_Vuckovich.csv')\n",
    "pv=pv.drop('team', axis=1)\n",
    "pv=pv.drop('league', axis=1)\n",
    "pv=pv.drop('nameFirst', axis=1)\n",
    "pv=pv.drop('nameLast', axis=1)\n",
    "pv=pv.drop('yearID', axis=1)\n",
    "x40 = pv.drop('points', axis=1)\n",
    "y40 = pv['points']"
   ]
  },
  {
   "cell_type": "code",
   "execution_count": 45,
   "metadata": {},
   "outputs": [],
   "source": [
    "rj1=pd.read_csv('Training Data1/Randy_Johnson(1999).csv')\n",
    "rj1=rj1.drop('team', axis=1)\n",
    "rj1=rj1.drop('league', axis=1)\n",
    "rj1=rj1.drop('nameFirst', axis=1)\n",
    "rj1=rj1.drop('nameLast', axis=1)\n",
    "rj1=rj1.drop('yearID', axis=1)\n",
    "x42 = rj1.drop('points', axis=1)\n",
    "y42 = rj1['points']"
   ]
  },
  {
   "cell_type": "code",
   "execution_count": 46,
   "metadata": {},
   "outputs": [],
   "source": [
    "rj2=pd.read_csv('Training Data1/Randy_Johnson(2001).csv')\n",
    "rj2=rj2.drop('team', axis=1)\n",
    "rj2=rj2.drop('league', axis=1)\n",
    "rj2=rj2.drop('nameFirst', axis=1)\n",
    "rj2=rj2.drop('nameLast', axis=1)\n",
    "rj2=rj2.drop('yearID', axis=1)\n",
    "x43 = rj2.drop('points', axis=1)\n",
    "y43 = rj2['points']"
   ]
  },
  {
   "cell_type": "code",
   "execution_count": 47,
   "metadata": {},
   "outputs": [],
   "source": [
    "rj3=pd.read_csv('Training Data1/Randy_Johnson(2002).csv')\n",
    "rj3=rj3.drop('team', axis=1)\n",
    "rj3=rj3.drop('league', axis=1)\n",
    "rj3=rj3.drop('nameFirst', axis=1)\n",
    "rj3=rj3.drop('nameLast', axis=1)\n",
    "rj3=rj3.drop('yearID', axis=1)\n",
    "x44 = rj3.drop('points', axis=1)\n",
    "y44 = rj3['points']"
   ]
  },
  {
   "cell_type": "code",
   "execution_count": 48,
   "metadata": {},
   "outputs": [],
   "source": [
    "rc=pd.read_csv('Training Data1/Roger_Clemens(1986).csv')\n",
    "rc=rc.drop('team', axis=1)\n",
    "rc=rc.drop('league', axis=1)\n",
    "rc=rc.drop('nameFirst', axis=1)\n",
    "rc=rc.drop('nameLast', axis=1)\n",
    "rc=rc.drop('yearID', axis=1)\n",
    "x45 = rc.drop('points', axis=1)\n",
    "y45 = rc['points']"
   ]
  },
  {
   "cell_type": "code",
   "execution_count": 49,
   "metadata": {},
   "outputs": [],
   "source": [
    "rc5=pd.read_csv('Training Data1/Roger_Clemens(1987).csv')\n",
    "rc5=rc5.drop('team', axis=1)\n",
    "rc5=rc5.drop('league', axis=1)\n",
    "rc5=rc5.drop('nameFirst', axis=1)\n",
    "rc5=rc5.drop('nameLast', axis=1)\n",
    "rc5=rc5.drop('yearID', axis=1)\n",
    "x46 = rc5.drop('points', axis=1)\n",
    "y46 = rc5['points']"
   ]
  },
  {
   "cell_type": "code",
   "execution_count": 50,
   "metadata": {},
   "outputs": [],
   "source": [
    "rc1=pd.read_csv('Training Data1/Roger_Clemens(1991).csv')\n",
    "rc1=rc1.drop('team', axis=1)\n",
    "rc1=rc1.drop('league', axis=1)\n",
    "rc1=rc1.drop('nameFirst', axis=1)\n",
    "rc1=rc1.drop('nameLast', axis=1)\n",
    "rc1=rc1.drop('yearID', axis=1)\n",
    "x47 = rc1.drop('points', axis=1)\n",
    "y47 = rc1['points']"
   ]
  },
  {
   "cell_type": "code",
   "execution_count": 51,
   "metadata": {},
   "outputs": [],
   "source": [
    "rc2=pd.read_csv('Training Data1/Roger_Clemens(1997).csv')\n",
    "rc2=rc2.drop('team', axis=1)\n",
    "rc2=rc2.drop('league', axis=1)\n",
    "rc2=rc2.drop('nameFirst', axis=1)\n",
    "rc2=rc2.drop('nameLast', axis=1)\n",
    "rc2=rc2.drop('yearID', axis=1)\n",
    "x48 = rc2.drop('points', axis=1)\n",
    "y48 = rc2['points']"
   ]
  },
  {
   "cell_type": "code",
   "execution_count": 52,
   "metadata": {},
   "outputs": [],
   "source": [
    "rc3=pd.read_csv('Training Data1/Roger_Clemens(1998).csv')\n",
    "rc3=rc3.drop('team', axis=1)\n",
    "rc3=rc3.drop('league', axis=1)\n",
    "rc3=rc3.drop('nameFirst', axis=1)\n",
    "rc3=rc3.drop('nameLast', axis=1)\n",
    "rc3=rc3.drop('yearID', axis=1)\n",
    "x49 = rc3.drop('points', axis=1)\n",
    "y49 = rc3['points']"
   ]
  },
  {
   "cell_type": "code",
   "execution_count": 53,
   "metadata": {},
   "outputs": [],
   "source": [
    "rc4=pd.read_csv('Training Data1/Roger_Clemens(2001).csv')\n",
    "rc4=rc4.drop('team', axis=1)\n",
    "rc4=rc4.drop('league', axis=1)\n",
    "rc4=rc4.drop('nameFirst', axis=1)\n",
    "rc4=rc4.drop('nameLast', axis=1)\n",
    "rc4=rc4.drop('yearID', axis=1)\n",
    "x50 = rc4.drop('points', axis=1)\n",
    "y50 = rc4['points']"
   ]
  },
  {
   "cell_type": "code",
   "execution_count": 54,
   "metadata": {},
   "outputs": [],
   "source": [
    "rf=pd.read_csv('Training Data1/Rollie_Fingers.csv')\n",
    "rf=rf.drop('team', axis=1)\n",
    "rf=rf.drop('league', axis=1)\n",
    "rf=rf.drop('nameFirst', axis=1)\n",
    "rf=rf.drop('nameLast', axis=1)\n",
    "rf=rf.drop('yearID', axis=1)\n",
    "x51 = rf.drop('points', axis=1)\n",
    "y51 = rf['points']"
   ]
  },
  {
   "cell_type": "code",
   "execution_count": 55,
   "metadata": {},
   "outputs": [],
   "source": [
    "rg=pd.read_csv('Training Data1/Ron_Guidry.csv')\n",
    "rg=rg.drop('team', axis=1)\n",
    "rg=rg.drop('league', axis=1)\n",
    "rg=rg.drop('nameFirst', axis=1)\n",
    "rg=rg.drop('nameLast', axis=1)\n",
    "rg=rg.drop('yearID', axis=1)\n",
    "x52 = rg.drop('points', axis=1)\n",
    "y52 = rg['points']"
   ]
  },
  {
   "cell_type": "code",
   "execution_count": 56,
   "metadata": {},
   "outputs": [],
   "source": [
    "rh=pd.read_csv('Training Data1/Roy_Halladay(2003).csv')\n",
    "rh=rh.drop('team', axis=1)\n",
    "rh=rh.drop('league', axis=1)\n",
    "rh=rh.drop('nameFirst', axis=1)\n",
    "rh=rh.drop('nameLast', axis=1)\n",
    "rh=rh.drop('yearID', axis=1)\n",
    "x53 = rh.drop('points', axis=1)\n",
    "y53 = rh['points']"
   ]
  },
  {
   "cell_type": "code",
   "execution_count": 57,
   "metadata": {},
   "outputs": [],
   "source": [
    "sl=pd.read_csv('Training Data1/Sparky_Lyle.csv')\n",
    "sl=sl.drop('team', axis=1)\n",
    "sl=sl.drop('league', axis=1)\n",
    "sl=sl.drop('nameFirst', axis=1)\n",
    "sl=sl.drop('nameLast', axis=1)\n",
    "sl=sl.drop('yearID', axis=1)\n",
    "x55 = sl.drop('points', axis=1)\n",
    "y55 = sl['points']"
   ]
  },
  {
   "cell_type": "code",
   "execution_count": 58,
   "metadata": {},
   "outputs": [],
   "source": [
    "sc1=pd.read_csv('Training Data1/Steve_Carlton(1982).csv')\n",
    "sc1=sc1.drop('team', axis=1)\n",
    "sc1=sc1.drop('league', axis=1)\n",
    "sc1=sc1.drop('nameFirst', axis=1)\n",
    "sc1=sc1.drop('nameLast', axis=1)\n",
    "sc1=sc1.drop('yearID', axis=1)\n",
    "x58 = sc1.drop('points', axis=1)\n",
    "y58 = sc1['points']"
   ]
  },
  {
   "cell_type": "code",
   "execution_count": 59,
   "metadata": {},
   "outputs": [],
   "source": [
    "tl=pd.read_csv('Training Data1/Tim_Lincecum(2009).csv')\n",
    "tl=tl.drop('team', axis=1)\n",
    "tl=tl.drop('league', axis=1)\n",
    "tl=tl.drop('nameFirst', axis=1)\n",
    "tl=tl.drop('nameLast', axis=1)\n",
    "tl=tl.drop('yearID', axis=1)\n",
    "x59 = tl.drop('points', axis=1)\n",
    "y59 = tl['points']"
   ]
  },
  {
   "cell_type": "code",
   "execution_count": 60,
   "metadata": {},
   "outputs": [],
   "source": [
    "tg=pd.read_csv('Training Data1/Tom_Glavine(1991).csv')\n",
    "tg=tg.drop('team', axis=1)\n",
    "tg=tg.drop('league', axis=1)\n",
    "tg=tg.drop('nameFirst', axis=1)\n",
    "tg=tg.drop('nameLast', axis=1)\n",
    "tg=tg.drop('yearID', axis=1)\n",
    "x60 = tg.drop('points', axis=1)\n",
    "y60 = tg['points']"
   ]
  },
  {
   "cell_type": "code",
   "execution_count": 61,
   "metadata": {},
   "outputs": [],
   "source": [
    "tg1=pd.read_csv('Training Data1/Tom_Glavine(1998).csv')\n",
    "tg1=tg1.drop('team', axis=1)\n",
    "tg1=tg1.drop('league', axis=1)\n",
    "tg1=tg1.drop('nameFirst', axis=1)\n",
    "tg1=tg1.drop('nameLast', axis=1)\n",
    "tg1=tg1.drop('yearID', axis=1)\n",
    "x61 = tg1.drop('points', axis=1)\n",
    "y61 = tg1['points']"
   ]
  },
  {
   "cell_type": "code",
   "execution_count": 64,
   "metadata": {},
   "outputs": [],
   "source": [
    "ts=pd.read_csv('Training Data1/Tom_Seaver.csv')\n",
    "ts=ts.drop('team', axis=1)\n",
    "ts=ts.drop('league', axis=1)\n",
    "ts=ts.drop('nameFirst', axis=1)\n",
    "ts=ts.drop('nameLast', axis=1)\n",
    "ts=ts.drop('yearID', axis=1)\n",
    "x62 = ts.drop('points', axis=1)\n",
    "y62 = ts['points']"
   ]
  },
  {
   "cell_type": "code",
   "execution_count": 63,
   "metadata": {},
   "outputs": [],
   "source": [
    "#64th and final primed dataset to train the model\n",
    "zg=pd.read_csv('Training Data1/Zack_Greinke.csv')\n",
    "zg=zg.drop('team', axis=1)\n",
    "zg=zg.drop('league', axis=1)\n",
    "zg=zg.drop('nameFirst', axis=1)\n",
    "zg=zg.drop('nameLast', axis=1)\n",
    "zg=zg.drop('yearID', axis=1)\n",
    "x63 = zg.drop('points', axis=1)\n",
    "y63 = zg['points']"
   ]
  },
  {
   "cell_type": "code",
   "execution_count": 65,
   "metadata": {},
   "outputs": [],
   "source": [
    "#Making validations sets out of designated testing data\n",
    "cl=pd.read_csv('Testing Data1/Cliff_Lee.csv')\n",
    "cl=cl.drop('team', axis=1)\n",
    "cl=cl.drop('league', axis=1)\n",
    "cl=cl.drop('nameFirst', axis=1)\n",
    "cl=cl.drop('nameLast', axis=1)\n",
    "cl=cl.drop('yearID', axis=1)\n",
    "valid_set1 = (cl.drop('points', axis=1),cl['points'])"
   ]
  },
  {
   "cell_type": "code",
   "execution_count": 66,
   "metadata": {},
   "outputs": [],
   "source": [
    "dp=pd.read_csv('Testing Data1/David_Price.csv')\n",
    "dp=dp.drop('team', axis=1)\n",
    "dp=dp.drop('league', axis=1)\n",
    "dp=dp.drop('nameFirst', axis=1)\n",
    "dp=dp.drop('nameLast', axis=1)\n",
    "dp=dp.drop('yearID', axis=1)\n",
    "valid_set2 = (dp.drop('points', axis=1),dp['points'])"
   ]
  },
  {
   "cell_type": "code",
   "execution_count": 67,
   "metadata": {},
   "outputs": [],
   "source": [
    "de=pd.read_csv('Testing Data1/Dennis_Eckersley.csv')\n",
    "de=de.drop('team', axis=1)\n",
    "de=de.drop('league', axis=1)\n",
    "de=de.drop('nameFirst', axis=1)\n",
    "de=de.drop('nameLast', axis=1)\n",
    "de=de.drop('yearID', axis=1)\n",
    "valid_set3 = (de.drop('points', axis=1),de['points'])"
   ]
  },
  {
   "cell_type": "code",
   "execution_count": 68,
   "metadata": {},
   "outputs": [],
   "source": [
    "fv1=pd.read_csv('Testing Data1/Frank_Viola.csv')\n",
    "fv1=fv1.drop('team', axis=1)\n",
    "fv1=fv1.drop('league', axis=1)\n",
    "fv1=fv1.drop('nameFirst', axis=1)\n",
    "fv1=fv1.drop('nameLast', axis=1)\n",
    "fv1=fv1.drop('yearID', axis=1)\n",
    "valid_set4 = (fv1.drop('points', axis=1),fv1['points'])"
   ]
  },
  {
   "cell_type": "code",
   "execution_count": 69,
   "metadata": {},
   "outputs": [],
   "source": [
    "gm3=pd.read_csv('Testing Data1/Greg_Maddux(1992).csv')\n",
    "gm3=gm3.drop('team', axis=1)\n",
    "gm3=gm3.drop('league', axis=1)\n",
    "gm3=gm3.drop('nameFirst', axis=1)\n",
    "gm3=gm3.drop('nameLast', axis=1)\n",
    "gm3=gm3.drop('yearID', axis=1)\n",
    "valid_set5 = (gm3.drop('points', axis=1),gm3['points'])"
   ]
  },
  {
   "cell_type": "code",
   "execution_count": 70,
   "metadata": {},
   "outputs": [],
   "source": [
    "jp2=pd.read_csv('Testing Data1/Jim_Palmer(1976).csv')\n",
    "jp2=jp2.drop('team', axis=1)\n",
    "jp2=jp2.drop('league', axis=1)\n",
    "jp2=jp2.drop('nameFirst', axis=1)\n",
    "jp2=jp2.drop('nameLast', axis=1)\n",
    "jp2=jp2.drop('yearID', axis=1)\n",
    "valid_set6 = (jp2.drop('points', axis=1),jp2['points'])"
   ]
  },
  {
   "cell_type": "code",
   "execution_count": 71,
   "metadata": {},
   "outputs": [],
   "source": [
    "js1=pd.read_csv('Testing Data1/Johan_Santana(2004).csv')\n",
    "js1=js1.drop('team', axis=1)\n",
    "js1=js1.drop('league', axis=1)\n",
    "js1=js1.drop('nameFirst', axis=1)\n",
    "js1=js1.drop('nameLast', axis=1)\n",
    "js1=js1.drop('yearID', axis=1)\n",
    "valid_set7 = (js1.drop('points', axis=1),js1['points'])"
   ]
  },
  {
   "cell_type": "code",
   "execution_count": 72,
   "metadata": {},
   "outputs": [],
   "source": [
    "js2=pd.read_csv('Testing Data1/John_Smoltz.csv')\n",
    "js2=js2.drop('team', axis=1)\n",
    "js2=js2.drop('league', axis=1)\n",
    "js2=js2.drop('nameFirst', axis=1)\n",
    "js2=js2.drop('nameLast', axis=1)\n",
    "js2=js2.drop('yearID', axis=1)\n",
    "valid_set8 = (js2.drop('points', axis=1),js2['points'])"
   ]
  },
  {
   "cell_type": "code",
   "execution_count": 73,
   "metadata": {},
   "outputs": [],
   "source": [
    "ms3=pd.read_csv('Testing Data1/Max_Scherzer(2016).csv')\n",
    "ms3=ms3.drop('team', axis=1)\n",
    "ms3=ms3.drop('league', axis=1)\n",
    "ms3=ms3.drop('nameFirst', axis=1)\n",
    "ms3=ms3.drop('nameLast', axis=1)\n",
    "ms3=ms3.drop('yearID', axis=1)\n",
    "valid_set9 = (ms3.drop('points', axis=1),ms3['points'])"
   ]
  },
  {
   "cell_type": "code",
   "execution_count": 69,
   "metadata": {},
   "outputs": [],
   "source": [
    "oh=pd.read_csv('Testing Data1/Orel_Hershiser.csv')\n",
    "oh=oh.drop('team', axis=1)\n",
    "oh=oh.drop('league', axis=1)\n",
    "oh=oh.drop('nameFirst', axis=1)\n",
    "oh=oh.drop('nameLast', axis=1)\n",
    "oh=oh.drop('yearID', axis=1)\n",
    "valid_set10 = (oh.drop('points', axis=1),oh['points'])"
   ]
  },
  {
   "cell_type": "code",
   "execution_count": 74,
   "metadata": {},
   "outputs": [],
   "source": [
    "#These final 10 cases will be used for prediction and testing\n",
    "ph=pd.read_csv('Testing Data1/Pat_Hentgen.csv')\n",
    "ph=ph.drop('team', axis=1)\n",
    "ph=ph.drop('league', axis=1)\n",
    "ph=ph.drop('nameFirst', axis=1)\n",
    "ph=ph.drop('nameLast', axis=1)\n",
    "ph=ph.drop('yearID', axis=1)\n",
    "x_test1 = ph.drop('points', axis=1)\n",
    "y_test1 = ph['points']"
   ]
  },
  {
   "cell_type": "code",
   "execution_count": 75,
   "metadata": {},
   "outputs": [],
   "source": [
    "pm2=pd.read_csv('Testing Data1/Pedro_Martinez(2000).csv')\n",
    "pm2=pm2.drop('team', axis=1)\n",
    "pm2=pm2.drop('league', axis=1)\n",
    "pm2=pm2.drop('nameFirst', axis=1)\n",
    "pm2=pm2.drop('nameLast', axis=1)\n",
    "pm2=pm2.drop('yearID', axis=1)\n",
    "x_test2 = pm2.drop('points', axis=1)\n",
    "y_test2 = pm2['points']"
   ]
  },
  {
   "cell_type": "code",
   "execution_count": 76,
   "metadata": {},
   "outputs": [],
   "source": [
    "rd=pd.read_csv('Testing Data1/RA_Dickey.csv')\n",
    "rd=rd.drop('team', axis=1)\n",
    "rd=rd.drop('league', axis=1)\n",
    "rd=rd.drop('nameFirst', axis=1)\n",
    "rd=rd.drop('nameLast', axis=1)\n",
    "rd=rd.drop('yearID', axis=1)\n",
    "x_test3 = rd.drop('points', axis=1)\n",
    "y_test3 = rd['points']"
   ]
  },
  {
   "cell_type": "code",
   "execution_count": 77,
   "metadata": {},
   "outputs": [],
   "source": [
    "rj4=pd.read_csv('Testing Data1/Randy_Johnson(2000).csv')\n",
    "rj4=rj4.drop('team', axis=1)\n",
    "rj4=rj4.drop('league', axis=1)\n",
    "rj4=rj4.drop('nameFirst', axis=1)\n",
    "rj4=rj4.drop('nameLast', axis=1)\n",
    "rj4=rj4.drop('yearID', axis=1)\n",
    "x_test4 = rj4.drop('points', axis=1)\n",
    "y_test4 = rj4['points']"
   ]
  },
  {
   "cell_type": "code",
   "execution_count": 78,
   "metadata": {},
   "outputs": [],
   "source": [
    "rj5=pd.read_csv('Testing Data1/Randy_Jones.csv')\n",
    "rj5=rj5.drop('team', axis=1)\n",
    "rj5=rj5.drop('league', axis=1)\n",
    "rj5=rj5.drop('nameFirst', axis=1)\n",
    "rj5=rj5.drop('nameLast', axis=1)\n",
    "rj5=rj5.drop('yearID', axis=1)\n",
    "x_test5 = rj5.drop('points', axis=1)\n",
    "y_test5 = rj5['points']"
   ]
  },
  {
   "cell_type": "code",
   "execution_count": 79,
   "metadata": {},
   "outputs": [],
   "source": [
    "rp=pd.read_csv('Testing Data1/Rick_Porcello.csv')\n",
    "rp=rp.drop('team', axis=1)\n",
    "rp=rp.drop('league', axis=1)\n",
    "rp=rp.drop('nameFirst', axis=1)\n",
    "rp=rp.drop('nameLast', axis=1)\n",
    "rp=rp.drop('yearID', axis=1)\n",
    "x_test6 = rp.drop('points', axis=1)\n",
    "y_test6 = rp['points']"
   ]
  },
  {
   "cell_type": "code",
   "execution_count": 80,
   "metadata": {},
   "outputs": [],
   "source": [
    "rc6=pd.read_csv('Testing Data1/Roger_Clemens(2004).csv')\n",
    "rc6=rc6.drop('team', axis=1)\n",
    "rc6=rc6.drop('league', axis=1)\n",
    "rc6=rc6.drop('nameFirst', axis=1)\n",
    "rc6=rc6.drop('nameLast', axis=1)\n",
    "rc6=rc6.drop('yearID', axis=1)\n",
    "x_test7 = rc6.drop('points', axis=1)\n",
    "y_test7 = rc6['points']"
   ]
  },
  {
   "cell_type": "code",
   "execution_count": 81,
   "metadata": {},
   "outputs": [],
   "source": [
    "sc2=pd.read_csv('Testing Data1/Steve_Carlton(1980).csv')\n",
    "sc2=sc2.drop('team', axis=1)\n",
    "sc2=sc2.drop('league', axis=1)\n",
    "sc2=sc2.drop('nameFirst', axis=1)\n",
    "sc2=sc2.drop('nameLast', axis=1)\n",
    "sc2=sc2.drop('yearID', axis=1)\n",
    "x_test8 = sc2.drop('points', axis=1)\n",
    "y_test8 = sc2['points']"
   ]
  },
  {
   "cell_type": "code",
   "execution_count": 82,
   "metadata": {},
   "outputs": [],
   "source": [
    "ss=pd.read_csv('Testing Data1/Steve_Stone.csv')\n",
    "ss=ss.drop('team', axis=1)\n",
    "ss=ss.drop('league', axis=1)\n",
    "ss=ss.drop('nameFirst', axis=1)\n",
    "ss=ss.drop('nameLast', axis=1)\n",
    "ss=ss.drop('yearID', axis=1)\n",
    "x_test9 = ss.drop('points', axis=1)\n",
    "y_test9 = ss['points']"
   ]
  },
  {
   "cell_type": "code",
   "execution_count": 83,
   "metadata": {},
   "outputs": [],
   "source": [
    "tl1=pd.read_csv('Testing Data1/Tim_Lincecum(2008).csv')\n",
    "tl1=tl1.drop('team', axis=1)\n",
    "tl1=tl1.drop('league', axis=1)\n",
    "tl1=tl1.drop('nameFirst', axis=1)\n",
    "tl1=tl1.drop('nameLast', axis=1)\n",
    "tl1=tl1.drop('yearID', axis=1)\n",
    "x_test10 = tl1.drop('points', axis=1)\n",
    "y_test10 = tl1['points']"
   ]
  },
  {
   "cell_type": "code",
   "execution_count": 381,
   "metadata": {
    "scrolled": true
   },
   "outputs": [
    {
     "name": "stdout",
     "output_type": "stream",
     "text": [
      "Epoch 1/10\n",
      "5/5 - 0s - loss: 5.6496 - sparse_top_k_categorical_accuracy: 0.2000\n",
      "Epoch 2/10\n",
      "5/5 - 0s - loss: 5.5802 - sparse_top_k_categorical_accuracy: 0.2000\n",
      "Epoch 3/10\n",
      "5/5 - 0s - loss: 5.5129 - sparse_top_k_categorical_accuracy: 0.2000\n",
      "Epoch 4/10\n",
      "5/5 - 0s - loss: 5.4460 - sparse_top_k_categorical_accuracy: 0.2000\n",
      "Epoch 5/10\n",
      "5/5 - 0s - loss: 5.3833 - sparse_top_k_categorical_accuracy: 0.2000\n",
      "Epoch 6/10\n",
      "5/5 - 0s - loss: 5.3242 - sparse_top_k_categorical_accuracy: 0.2000\n",
      "Epoch 7/10\n",
      "5/5 - 0s - loss: 5.2679 - sparse_top_k_categorical_accuracy: 0.2000\n",
      "Epoch 8/10\n",
      "5/5 - 0s - loss: 5.2136 - sparse_top_k_categorical_accuracy: 0.2000\n",
      "Epoch 9/10\n",
      "5/5 - 0s - loss: 5.1620 - sparse_top_k_categorical_accuracy: 0.2000\n",
      "Epoch 10/10\n",
      "5/5 - 0s - loss: 5.1135 - sparse_top_k_categorical_accuracy: 0.2000\n"
     ]
    },
    {
     "data": {
      "text/plain": [
       "<tensorflow.python.keras.callbacks.History at 0x1dc53fd4288>"
      ]
     },
     "execution_count": 381,
     "metadata": {},
     "output_type": "execute_result"
    }
   ],
   "source": [
    "#Now the model will trained using the cases defined earlier\n",
    "a.fit(x,y, batch_size=5, epochs=10, shuffle=True, verbose=2)"
   ]
  },
  {
   "cell_type": "code",
   "execution_count": 382,
   "metadata": {},
   "outputs": [
    {
     "name": "stdout",
     "output_type": "stream",
     "text": [
      "Epoch 1/10\n",
      "5/5 - 0s - loss: 4.1760 - sparse_top_k_categorical_accuracy: 0.2000\n",
      "Epoch 2/10\n",
      "5/5 - 0s - loss: 4.1677 - sparse_top_k_categorical_accuracy: 0.2000\n",
      "Epoch 3/10\n",
      "5/5 - 0s - loss: 4.1535 - sparse_top_k_categorical_accuracy: 0.2000\n",
      "Epoch 4/10\n",
      "5/5 - 0s - loss: 4.1354 - sparse_top_k_categorical_accuracy: 0.2000\n",
      "Epoch 5/10\n",
      "5/5 - 0s - loss: 4.1161 - sparse_top_k_categorical_accuracy: 0.2000\n",
      "Epoch 6/10\n",
      "5/5 - 0s - loss: 4.0956 - sparse_top_k_categorical_accuracy: 0.4000\n",
      "Epoch 7/10\n",
      "5/5 - 0s - loss: 4.0741 - sparse_top_k_categorical_accuracy: 0.4000\n",
      "Epoch 8/10\n",
      "5/5 - 0s - loss: 4.0514 - sparse_top_k_categorical_accuracy: 0.4000\n",
      "Epoch 9/10\n",
      "5/5 - 0s - loss: 4.0276 - sparse_top_k_categorical_accuracy: 0.4000\n",
      "Epoch 10/10\n",
      "5/5 - 0s - loss: 4.0030 - sparse_top_k_categorical_accuracy: 0.4000\n"
     ]
    },
    {
     "data": {
      "text/plain": [
       "<tensorflow.python.keras.callbacks.History at 0x1dc54058d88>"
      ]
     },
     "execution_count": 382,
     "metadata": {},
     "output_type": "execute_result"
    }
   ],
   "source": [
    "a.fit(x1,y1, batch_size=5, epochs=10, shuffle=True, verbose=2)"
   ]
  },
  {
   "cell_type": "code",
   "execution_count": 383,
   "metadata": {},
   "outputs": [
    {
     "name": "stdout",
     "output_type": "stream",
     "text": [
      "Epoch 1/10\n",
      "5/5 - 0s - loss: 5.1880 - sparse_top_k_categorical_accuracy: 0.0000e+00\n",
      "Epoch 2/10\n",
      "5/5 - 0s - loss: 5.1836 - sparse_top_k_categorical_accuracy: 0.0000e+00\n",
      "Epoch 3/10\n",
      "5/5 - 0s - loss: 5.1751 - sparse_top_k_categorical_accuracy: 0.0000e+00\n",
      "Epoch 4/10\n",
      "5/5 - 0s - loss: 5.1639 - sparse_top_k_categorical_accuracy: 0.0000e+00\n",
      "Epoch 5/10\n",
      "5/5 - 0s - loss: 5.1502 - sparse_top_k_categorical_accuracy: 0.0000e+00\n",
      "Epoch 6/10\n",
      "5/5 - 0s - loss: 5.1341 - sparse_top_k_categorical_accuracy: 0.0000e+00\n",
      "Epoch 7/10\n",
      "5/5 - 0s - loss: 5.1161 - sparse_top_k_categorical_accuracy: 0.0000e+00\n",
      "Epoch 8/10\n",
      "5/5 - 0s - loss: 5.0969 - sparse_top_k_categorical_accuracy: 0.0000e+00\n",
      "Epoch 9/10\n",
      "5/5 - 0s - loss: 5.0770 - sparse_top_k_categorical_accuracy: 0.0000e+00\n",
      "Epoch 10/10\n",
      "5/5 - 0s - loss: 5.0571 - sparse_top_k_categorical_accuracy: 0.0000e+00\n"
     ]
    },
    {
     "data": {
      "text/plain": [
       "<tensorflow.python.keras.callbacks.History at 0x1dc536ca4c8>"
      ]
     },
     "execution_count": 383,
     "metadata": {},
     "output_type": "execute_result"
    }
   ],
   "source": [
    "a.fit(x2,y2, batch_size=5, epochs=10, shuffle=True, verbose=2)"
   ]
  },
  {
   "cell_type": "code",
   "execution_count": 384,
   "metadata": {},
   "outputs": [
    {
     "name": "stdout",
     "output_type": "stream",
     "text": [
      "Epoch 1/10\n",
      "5/5 - 0s - loss: 4.4360 - sparse_top_k_categorical_accuracy: 0.0000e+00\n",
      "Epoch 2/10\n",
      "5/5 - 0s - loss: 4.4300 - sparse_top_k_categorical_accuracy: 0.0000e+00\n",
      "Epoch 3/10\n",
      "5/5 - 0s - loss: 4.4219 - sparse_top_k_categorical_accuracy: 0.0000e+00\n",
      "Epoch 4/10\n",
      "5/5 - 0s - loss: 4.4123 - sparse_top_k_categorical_accuracy: 0.0000e+00\n",
      "Epoch 5/10\n",
      "5/5 - 0s - loss: 4.4015 - sparse_top_k_categorical_accuracy: 0.0000e+00\n",
      "Epoch 6/10\n",
      "5/5 - 0s - loss: 4.3894 - sparse_top_k_categorical_accuracy: 0.0000e+00\n",
      "Epoch 7/10\n",
      "5/5 - 0s - loss: 4.3766 - sparse_top_k_categorical_accuracy: 0.0000e+00\n",
      "Epoch 8/10\n",
      "5/5 - 0s - loss: 4.3634 - sparse_top_k_categorical_accuracy: 0.0000e+00\n",
      "Epoch 9/10\n",
      "5/5 - 0s - loss: 4.3499 - sparse_top_k_categorical_accuracy: 0.0000e+00\n",
      "Epoch 10/10\n",
      "5/5 - 0s - loss: 4.3356 - sparse_top_k_categorical_accuracy: 0.0000e+00\n"
     ]
    },
    {
     "data": {
      "text/plain": [
       "<tensorflow.python.keras.callbacks.History at 0x1dc5411b7c8>"
      ]
     },
     "execution_count": 384,
     "metadata": {},
     "output_type": "execute_result"
    }
   ],
   "source": [
    "a.fit(x3,y3, batch_size=5, epochs=10, shuffle=True, verbose=2)"
   ]
  },
  {
   "cell_type": "code",
   "execution_count": 385,
   "metadata": {},
   "outputs": [
    {
     "name": "stdout",
     "output_type": "stream",
     "text": [
      "Epoch 1/10\n",
      "5/5 - 0s - loss: 5.0549 - sparse_top_k_categorical_accuracy: 0.0000e+00\n",
      "Epoch 2/10\n",
      "5/5 - 0s - loss: 5.0484 - sparse_top_k_categorical_accuracy: 0.0000e+00\n",
      "Epoch 3/10\n",
      "5/5 - 0s - loss: 5.0369 - sparse_top_k_categorical_accuracy: 0.0000e+00\n",
      "Epoch 4/10\n",
      "5/5 - 0s - loss: 5.0218 - sparse_top_k_categorical_accuracy: 0.0000e+00\n",
      "Epoch 5/10\n",
      "5/5 - 0s - loss: 5.0037 - sparse_top_k_categorical_accuracy: 0.0000e+00\n",
      "Epoch 6/10\n",
      "5/5 - 0s - loss: 4.9818 - sparse_top_k_categorical_accuracy: 0.0000e+00\n",
      "Epoch 7/10\n",
      "5/5 - 0s - loss: 4.9567 - sparse_top_k_categorical_accuracy: 0.0000e+00\n",
      "Epoch 8/10\n",
      "5/5 - 0s - loss: 4.9319 - sparse_top_k_categorical_accuracy: 0.0000e+00\n",
      "Epoch 9/10\n",
      "5/5 - 0s - loss: 4.9078 - sparse_top_k_categorical_accuracy: 0.0000e+00\n",
      "Epoch 10/10\n",
      "5/5 - 0s - loss: 4.8851 - sparse_top_k_categorical_accuracy: 0.0000e+00\n"
     ]
    },
    {
     "data": {
      "text/plain": [
       "<tensorflow.python.keras.callbacks.History at 0x1dc54122ac8>"
      ]
     },
     "execution_count": 385,
     "metadata": {},
     "output_type": "execute_result"
    }
   ],
   "source": [
    "a.fit(x4,y4, batch_size=5, epochs=10, shuffle=True, verbose=2)"
   ]
  },
  {
   "cell_type": "code",
   "execution_count": 386,
   "metadata": {},
   "outputs": [
    {
     "name": "stdout",
     "output_type": "stream",
     "text": [
      "Epoch 1/10\n",
      "5/5 - 0s - loss: 5.1316 - sparse_top_k_categorical_accuracy: 0.0000e+00\n",
      "Epoch 2/10\n",
      "5/5 - 0s - loss: 5.0976 - sparse_top_k_categorical_accuracy: 0.0000e+00\n",
      "Epoch 3/10\n",
      "5/5 - 0s - loss: 5.0610 - sparse_top_k_categorical_accuracy: 0.0000e+00\n",
      "Epoch 4/10\n",
      "5/5 - 0s - loss: 5.0256 - sparse_top_k_categorical_accuracy: 0.0000e+00\n",
      "Epoch 5/10\n",
      "5/5 - 0s - loss: 4.9888 - sparse_top_k_categorical_accuracy: 0.0000e+00\n",
      "Epoch 6/10\n",
      "5/5 - 0s - loss: 4.9509 - sparse_top_k_categorical_accuracy: 0.0000e+00\n",
      "Epoch 7/10\n",
      "5/5 - 0s - loss: 4.9144 - sparse_top_k_categorical_accuracy: 0.0000e+00\n",
      "Epoch 8/10\n",
      "5/5 - 0s - loss: 4.8782 - sparse_top_k_categorical_accuracy: 0.0000e+00\n",
      "Epoch 9/10\n",
      "5/5 - 0s - loss: 4.8425 - sparse_top_k_categorical_accuracy: 0.0000e+00\n",
      "Epoch 10/10\n",
      "5/5 - 0s - loss: 4.8078 - sparse_top_k_categorical_accuracy: 0.0000e+00\n"
     ]
    },
    {
     "data": {
      "text/plain": [
       "<tensorflow.python.keras.callbacks.History at 0x1dc526a7308>"
      ]
     },
     "execution_count": 386,
     "metadata": {},
     "output_type": "execute_result"
    }
   ],
   "source": [
    "a.fit(x6,y6, batch_size=5, epochs=10, shuffle=True, verbose=2)"
   ]
  },
  {
   "cell_type": "code",
   "execution_count": 387,
   "metadata": {},
   "outputs": [
    {
     "name": "stdout",
     "output_type": "stream",
     "text": [
      "Epoch 1/10\n",
      "5/5 - 0s - loss: 4.6145 - sparse_top_k_categorical_accuracy: 0.0000e+00\n",
      "Epoch 2/10\n",
      "5/5 - 0s - loss: 4.6156 - sparse_top_k_categorical_accuracy: 0.0000e+00\n",
      "Epoch 3/10\n",
      "5/5 - 0s - loss: 4.6136 - sparse_top_k_categorical_accuracy: 0.0000e+00\n",
      "Epoch 4/10\n",
      "5/5 - 0s - loss: 4.6086 - sparse_top_k_categorical_accuracy: 0.0000e+00\n",
      "Epoch 5/10\n",
      "5/5 - 0s - loss: 4.6011 - sparse_top_k_categorical_accuracy: 0.0000e+00\n",
      "Epoch 6/10\n",
      "5/5 - 0s - loss: 4.5923 - sparse_top_k_categorical_accuracy: 0.0000e+00\n",
      "Epoch 7/10\n",
      "5/5 - 0s - loss: 4.5821 - sparse_top_k_categorical_accuracy: 0.0000e+00\n",
      "Epoch 8/10\n",
      "5/5 - 0s - loss: 4.5706 - sparse_top_k_categorical_accuracy: 0.0000e+00\n",
      "Epoch 9/10\n",
      "5/5 - 0s - loss: 4.5578 - sparse_top_k_categorical_accuracy: 0.0000e+00\n",
      "Epoch 10/10\n",
      "5/5 - 0s - loss: 4.5438 - sparse_top_k_categorical_accuracy: 0.0000e+00\n"
     ]
    },
    {
     "data": {
      "text/plain": [
       "<tensorflow.python.keras.callbacks.History at 0x1dc5411b108>"
      ]
     },
     "execution_count": 387,
     "metadata": {},
     "output_type": "execute_result"
    }
   ],
   "source": [
    "a.fit(x7,y7, batch_size=5, epochs=10, shuffle=True, verbose=2)"
   ]
  },
  {
   "cell_type": "code",
   "execution_count": 388,
   "metadata": {},
   "outputs": [
    {
     "name": "stdout",
     "output_type": "stream",
     "text": [
      "Epoch 1/10\n",
      "5/5 - 0s - loss: 4.4796 - sparse_top_k_categorical_accuracy: 0.0000e+00\n",
      "Epoch 2/10\n",
      "5/5 - 0s - loss: 4.4763 - sparse_top_k_categorical_accuracy: 0.0000e+00\n",
      "Epoch 3/10\n",
      "5/5 - 0s - loss: 4.4711 - sparse_top_k_categorical_accuracy: 0.0000e+00\n",
      "Epoch 4/10\n",
      "5/5 - 0s - loss: 4.4647 - sparse_top_k_categorical_accuracy: 0.0000e+00\n",
      "Epoch 5/10\n",
      "5/5 - 0s - loss: 4.4568 - sparse_top_k_categorical_accuracy: 0.0000e+00\n",
      "Epoch 6/10\n",
      "5/5 - 0s - loss: 4.4477 - sparse_top_k_categorical_accuracy: 0.0000e+00\n",
      "Epoch 7/10\n",
      "5/5 - 0s - loss: 4.4377 - sparse_top_k_categorical_accuracy: 0.0000e+00\n",
      "Epoch 8/10\n",
      "5/5 - 0s - loss: 4.4273 - sparse_top_k_categorical_accuracy: 0.0000e+00\n",
      "Epoch 9/10\n",
      "5/5 - 0s - loss: 4.4168 - sparse_top_k_categorical_accuracy: 0.0000e+00\n",
      "Epoch 10/10\n",
      "5/5 - 0s - loss: 4.4066 - sparse_top_k_categorical_accuracy: 0.0000e+00\n"
     ]
    },
    {
     "data": {
      "text/plain": [
       "<tensorflow.python.keras.callbacks.History at 0x1dc540d06c8>"
      ]
     },
     "execution_count": 388,
     "metadata": {},
     "output_type": "execute_result"
    }
   ],
   "source": [
    "a.fit(x8,y8, batch_size=5, epochs=10, shuffle=True, verbose=2)"
   ]
  },
  {
   "cell_type": "code",
   "execution_count": 389,
   "metadata": {},
   "outputs": [
    {
     "name": "stdout",
     "output_type": "stream",
     "text": [
      "Epoch 1/10\n",
      "5/5 - 0s - loss: 4.1164 - sparse_top_k_categorical_accuracy: 0.4000\n",
      "Epoch 2/10\n",
      "5/5 - 0s - loss: 4.1121 - sparse_top_k_categorical_accuracy: 0.4000\n",
      "Epoch 3/10\n",
      "5/5 - 0s - loss: 4.1058 - sparse_top_k_categorical_accuracy: 0.4000\n",
      "Epoch 4/10\n",
      "5/5 - 0s - loss: 4.0978 - sparse_top_k_categorical_accuracy: 0.4000\n",
      "Epoch 5/10\n",
      "5/5 - 0s - loss: 4.0885 - sparse_top_k_categorical_accuracy: 0.6000\n",
      "Epoch 6/10\n",
      "5/5 - 0s - loss: 4.0781 - sparse_top_k_categorical_accuracy: 0.6000\n",
      "Epoch 7/10\n",
      "5/5 - 0s - loss: 4.0667 - sparse_top_k_categorical_accuracy: 0.6000\n",
      "Epoch 8/10\n",
      "5/5 - 0s - loss: 4.0542 - sparse_top_k_categorical_accuracy: 0.6000\n",
      "Epoch 9/10\n",
      "5/5 - 0s - loss: 4.0408 - sparse_top_k_categorical_accuracy: 0.6000\n",
      "Epoch 10/10\n",
      "5/5 - 0s - loss: 4.0264 - sparse_top_k_categorical_accuracy: 0.6000\n"
     ]
    },
    {
     "data": {
      "text/plain": [
       "<tensorflow.python.keras.callbacks.History at 0x1dc54089dc8>"
      ]
     },
     "execution_count": 389,
     "metadata": {},
     "output_type": "execute_result"
    }
   ],
   "source": [
    "a.fit(x9,y9, batch_size=5, epochs=10, shuffle=True, verbose=2)"
   ]
  },
  {
   "cell_type": "code",
   "execution_count": 390,
   "metadata": {},
   "outputs": [
    {
     "name": "stdout",
     "output_type": "stream",
     "text": [
      "Epoch 1/10\n",
      "5/5 - 0s - loss: 4.6252 - sparse_top_k_categorical_accuracy: 0.0000e+00\n",
      "Epoch 2/10\n",
      "5/5 - 0s - loss: 4.6226 - sparse_top_k_categorical_accuracy: 0.0000e+00\n",
      "Epoch 3/10\n",
      "5/5 - 0s - loss: 4.6167 - sparse_top_k_categorical_accuracy: 0.0000e+00\n",
      "Epoch 4/10\n",
      "5/5 - 0s - loss: 4.6078 - sparse_top_k_categorical_accuracy: 0.0000e+00\n",
      "Epoch 5/10\n",
      "5/5 - 0s - loss: 4.5961 - sparse_top_k_categorical_accuracy: 0.0000e+00\n",
      "Epoch 6/10\n",
      "5/5 - 0s - loss: 4.5820 - sparse_top_k_categorical_accuracy: 0.0000e+00\n",
      "Epoch 7/10\n",
      "5/5 - 0s - loss: 4.5663 - sparse_top_k_categorical_accuracy: 0.0000e+00\n",
      "Epoch 8/10\n",
      "5/5 - 0s - loss: 4.5494 - sparse_top_k_categorical_accuracy: 0.0000e+00\n",
      "Epoch 9/10\n",
      "5/5 - 0s - loss: 4.5310 - sparse_top_k_categorical_accuracy: 0.0000e+00\n",
      "Epoch 10/10\n",
      "5/5 - 0s - loss: 4.5116 - sparse_top_k_categorical_accuracy: 0.0000e+00\n"
     ]
    },
    {
     "data": {
      "text/plain": [
       "<tensorflow.python.keras.callbacks.History at 0x1dc5411ed88>"
      ]
     },
     "execution_count": 390,
     "metadata": {},
     "output_type": "execute_result"
    }
   ],
   "source": [
    "a.fit(x10,y10, batch_size=5, epochs=10, shuffle=True, verbose=2)"
   ]
  },
  {
   "cell_type": "code",
   "execution_count": 391,
   "metadata": {},
   "outputs": [
    {
     "name": "stdout",
     "output_type": "stream",
     "text": [
      "Epoch 1/10\n",
      "5/5 - 0s - loss: 4.6735 - sparse_top_k_categorical_accuracy: 0.0000e+00\n",
      "Epoch 2/10\n",
      "5/5 - 0s - loss: 4.6718 - sparse_top_k_categorical_accuracy: 0.0000e+00\n",
      "Epoch 3/10\n",
      "5/5 - 0s - loss: 4.6669 - sparse_top_k_categorical_accuracy: 0.0000e+00\n",
      "Epoch 4/10\n",
      "5/5 - 0s - loss: 4.6601 - sparse_top_k_categorical_accuracy: 0.0000e+00\n",
      "Epoch 5/10\n",
      "5/5 - 0s - loss: 4.6517 - sparse_top_k_categorical_accuracy: 0.0000e+00\n",
      "Epoch 6/10\n",
      "5/5 - 0s - loss: 4.6419 - sparse_top_k_categorical_accuracy: 0.0000e+00\n",
      "Epoch 7/10\n",
      "5/5 - 0s - loss: 4.6308 - sparse_top_k_categorical_accuracy: 0.0000e+00\n",
      "Epoch 8/10\n",
      "5/5 - 0s - loss: 4.6185 - sparse_top_k_categorical_accuracy: 0.0000e+00\n",
      "Epoch 9/10\n",
      "5/5 - 0s - loss: 4.6052 - sparse_top_k_categorical_accuracy: 0.0000e+00\n",
      "Epoch 10/10\n",
      "5/5 - 0s - loss: 4.5912 - sparse_top_k_categorical_accuracy: 0.0000e+00\n"
     ]
    },
    {
     "data": {
      "text/plain": [
       "<tensorflow.python.keras.callbacks.History at 0x1dc5390e288>"
      ]
     },
     "execution_count": 391,
     "metadata": {},
     "output_type": "execute_result"
    }
   ],
   "source": [
    "a.fit(x11,y11, batch_size=5, epochs=10, shuffle=True, verbose=2)"
   ]
  },
  {
   "cell_type": "code",
   "execution_count": 392,
   "metadata": {},
   "outputs": [
    {
     "name": "stdout",
     "output_type": "stream",
     "text": [
      "Epoch 1/10\n",
      "5/5 - 0s - loss: 5.1828 - sparse_top_k_categorical_accuracy: 0.0000e+00\n",
      "Epoch 2/10\n",
      "5/5 - 0s - loss: 5.1723 - sparse_top_k_categorical_accuracy: 0.0000e+00\n",
      "Epoch 3/10\n",
      "5/5 - 0s - loss: 5.1562 - sparse_top_k_categorical_accuracy: 0.0000e+00\n",
      "Epoch 4/10\n",
      "5/5 - 0s - loss: 5.1359 - sparse_top_k_categorical_accuracy: 0.0000e+00\n",
      "Epoch 5/10\n",
      "5/5 - 0s - loss: 5.1122 - sparse_top_k_categorical_accuracy: 0.0000e+00\n",
      "Epoch 6/10\n",
      "5/5 - 0s - loss: 5.0848 - sparse_top_k_categorical_accuracy: 0.0000e+00\n",
      "Epoch 7/10\n",
      "5/5 - 0s - loss: 5.0543 - sparse_top_k_categorical_accuracy: 0.0000e+00\n",
      "Epoch 8/10\n",
      "5/5 - 0s - loss: 5.0240 - sparse_top_k_categorical_accuracy: 0.0000e+00\n",
      "Epoch 9/10\n",
      "5/5 - 0s - loss: 4.9979 - sparse_top_k_categorical_accuracy: 0.0000e+00\n",
      "Epoch 10/10\n",
      "5/5 - 0s - loss: 4.9764 - sparse_top_k_categorical_accuracy: 0.0000e+00\n"
     ]
    },
    {
     "data": {
      "text/plain": [
       "<tensorflow.python.keras.callbacks.History at 0x1dc5409eb48>"
      ]
     },
     "execution_count": 392,
     "metadata": {},
     "output_type": "execute_result"
    }
   ],
   "source": [
    "a.fit(x12,y12, batch_size=5, epochs=10, shuffle=True, verbose=2)"
   ]
  },
  {
   "cell_type": "code",
   "execution_count": 393,
   "metadata": {},
   "outputs": [
    {
     "name": "stdout",
     "output_type": "stream",
     "text": [
      "Epoch 1/10\n",
      "5/5 - 0s - loss: 4.5675 - sparse_top_k_categorical_accuracy: 0.0000e+00\n",
      "Epoch 2/10\n",
      "5/5 - 0s - loss: 4.5481 - sparse_top_k_categorical_accuracy: 0.0000e+00\n",
      "Epoch 3/10\n",
      "5/5 - 0s - loss: 4.5265 - sparse_top_k_categorical_accuracy: 0.0000e+00\n",
      "Epoch 4/10\n",
      "5/5 - 0s - loss: 4.5013 - sparse_top_k_categorical_accuracy: 0.2000\n",
      "Epoch 5/10\n",
      "5/5 - 0s - loss: 4.4710 - sparse_top_k_categorical_accuracy: 0.2000\n",
      "Epoch 6/10\n",
      "5/5 - 0s - loss: 4.4422 - sparse_top_k_categorical_accuracy: 0.2000\n",
      "Epoch 7/10\n",
      "5/5 - 0s - loss: 4.4114 - sparse_top_k_categorical_accuracy: 0.2000\n",
      "Epoch 8/10\n",
      "5/5 - 0s - loss: 4.3820 - sparse_top_k_categorical_accuracy: 0.2000\n",
      "Epoch 9/10\n",
      "5/5 - 0s - loss: 4.3518 - sparse_top_k_categorical_accuracy: 0.2000\n",
      "Epoch 10/10\n",
      "5/5 - 0s - loss: 4.3190 - sparse_top_k_categorical_accuracy: 0.2000\n"
     ]
    },
    {
     "data": {
      "text/plain": [
       "<tensorflow.python.keras.callbacks.History at 0x1dc54122f88>"
      ]
     },
     "execution_count": 393,
     "metadata": {},
     "output_type": "execute_result"
    }
   ],
   "source": [
    "a.fit(x13,y13, batch_size=5, epochs=10, shuffle=True, verbose=2)"
   ]
  },
  {
   "cell_type": "code",
   "execution_count": 394,
   "metadata": {},
   "outputs": [
    {
     "name": "stdout",
     "output_type": "stream",
     "text": [
      "Epoch 1/10\n",
      "5/5 - 0s - loss: 4.6223 - sparse_top_k_categorical_accuracy: 0.2000\n",
      "Epoch 2/10\n",
      "5/5 - 0s - loss: 4.6208 - sparse_top_k_categorical_accuracy: 0.2000\n",
      "Epoch 3/10\n",
      "5/5 - 0s - loss: 4.6168 - sparse_top_k_categorical_accuracy: 0.2000\n",
      "Epoch 4/10\n",
      "5/5 - 0s - loss: 4.6106 - sparse_top_k_categorical_accuracy: 0.4000\n",
      "Epoch 5/10\n",
      "5/5 - 0s - loss: 4.6040 - sparse_top_k_categorical_accuracy: 0.4000\n",
      "Epoch 6/10\n",
      "5/5 - 0s - loss: 4.5967 - sparse_top_k_categorical_accuracy: 0.4000\n",
      "Epoch 7/10\n",
      "5/5 - 0s - loss: 4.5891 - sparse_top_k_categorical_accuracy: 0.4000\n",
      "Epoch 8/10\n",
      "5/5 - 0s - loss: 4.5806 - sparse_top_k_categorical_accuracy: 0.4000\n",
      "Epoch 9/10\n",
      "5/5 - 0s - loss: 4.5722 - sparse_top_k_categorical_accuracy: 0.4000\n",
      "Epoch 10/10\n",
      "5/5 - 0s - loss: 4.5636 - sparse_top_k_categorical_accuracy: 0.4000\n"
     ]
    },
    {
     "data": {
      "text/plain": [
       "<tensorflow.python.keras.callbacks.History at 0x1dc5390e5c8>"
      ]
     },
     "execution_count": 394,
     "metadata": {},
     "output_type": "execute_result"
    }
   ],
   "source": [
    "a.fit(x16,y16, batch_size=5, epochs=10, shuffle=True, verbose=2)"
   ]
  },
  {
   "cell_type": "code",
   "execution_count": 395,
   "metadata": {},
   "outputs": [
    {
     "name": "stdout",
     "output_type": "stream",
     "text": [
      "Epoch 1/10\n",
      "5/5 - 0s - loss: 4.8434 - sparse_top_k_categorical_accuracy: 0.2000\n",
      "Epoch 2/10\n",
      "5/5 - 0s - loss: 4.8417 - sparse_top_k_categorical_accuracy: 0.2000\n",
      "Epoch 3/10\n",
      "5/5 - 0s - loss: 4.8354 - sparse_top_k_categorical_accuracy: 0.2000\n",
      "Epoch 4/10\n",
      "5/5 - 0s - loss: 4.8249 - sparse_top_k_categorical_accuracy: 0.2000\n",
      "Epoch 5/10\n",
      "5/5 - 0s - loss: 4.8110 - sparse_top_k_categorical_accuracy: 0.2000\n",
      "Epoch 6/10\n",
      "5/5 - 0s - loss: 4.7945 - sparse_top_k_categorical_accuracy: 0.2000\n",
      "Epoch 7/10\n",
      "5/5 - 0s - loss: 4.7763 - sparse_top_k_categorical_accuracy: 0.2000\n",
      "Epoch 8/10\n",
      "5/5 - 0s - loss: 4.7564 - sparse_top_k_categorical_accuracy: 0.2000\n",
      "Epoch 9/10\n",
      "5/5 - 0s - loss: 4.7360 - sparse_top_k_categorical_accuracy: 0.2000\n",
      "Epoch 10/10\n",
      "5/5 - 0s - loss: 4.7150 - sparse_top_k_categorical_accuracy: 0.2000\n"
     ]
    },
    {
     "data": {
      "text/plain": [
       "<tensorflow.python.keras.callbacks.History at 0x1dc54122c08>"
      ]
     },
     "execution_count": 395,
     "metadata": {},
     "output_type": "execute_result"
    }
   ],
   "source": [
    "a.fit(x17,y17, batch_size=5, epochs=10, shuffle=True, verbose=2)"
   ]
  },
  {
   "cell_type": "code",
   "execution_count": 396,
   "metadata": {},
   "outputs": [
    {
     "name": "stdout",
     "output_type": "stream",
     "text": [
      "Epoch 1/10\n",
      "5/5 - 0s - loss: 4.5908 - sparse_top_k_categorical_accuracy: 0.0000e+00\n",
      "Epoch 2/10\n",
      "5/5 - 0s - loss: 4.5814 - sparse_top_k_categorical_accuracy: 0.0000e+00\n",
      "Epoch 3/10\n",
      "5/5 - 0s - loss: 4.5679 - sparse_top_k_categorical_accuracy: 0.0000e+00\n",
      "Epoch 4/10\n",
      "5/5 - 0s - loss: 4.5539 - sparse_top_k_categorical_accuracy: 0.0000e+00\n",
      "Epoch 5/10\n",
      "5/5 - 0s - loss: 4.5390 - sparse_top_k_categorical_accuracy: 0.0000e+00\n",
      "Epoch 6/10\n",
      "5/5 - 0s - loss: 4.5215 - sparse_top_k_categorical_accuracy: 0.0000e+00\n",
      "Epoch 7/10\n",
      "5/5 - 0s - loss: 4.5055 - sparse_top_k_categorical_accuracy: 0.2000\n",
      "Epoch 8/10\n",
      "5/5 - 0s - loss: 4.4887 - sparse_top_k_categorical_accuracy: 0.2000\n",
      "Epoch 9/10\n",
      "5/5 - 0s - loss: 4.4715 - sparse_top_k_categorical_accuracy: 0.2000\n",
      "Epoch 10/10\n",
      "5/5 - 0s - loss: 4.4546 - sparse_top_k_categorical_accuracy: 0.2000\n"
     ]
    },
    {
     "data": {
      "text/plain": [
       "<tensorflow.python.keras.callbacks.History at 0x1dc5411ba48>"
      ]
     },
     "execution_count": 396,
     "metadata": {},
     "output_type": "execute_result"
    }
   ],
   "source": [
    "a.fit(x18,y18, batch_size=5, epochs=10, shuffle=True, verbose=2)"
   ]
  },
  {
   "cell_type": "code",
   "execution_count": 100,
   "metadata": {},
   "outputs": [
    {
     "ename": "NameError",
     "evalue": "name 'x19' is not defined",
     "output_type": "error",
     "traceback": [
      "\u001b[1;31m---------------------------------------------------------------------------\u001b[0m",
      "\u001b[1;31mNameError\u001b[0m                                 Traceback (most recent call last)",
      "\u001b[1;32m<ipython-input-100-12c5cbb90ba2>\u001b[0m in \u001b[0;36m<module>\u001b[1;34m\u001b[0m\n\u001b[1;32m----> 1\u001b[1;33m \u001b[0malbert\u001b[0m\u001b[1;33m.\u001b[0m\u001b[0mfit\u001b[0m\u001b[1;33m(\u001b[0m\u001b[0mx19\u001b[0m\u001b[1;33m,\u001b[0m\u001b[0my19\u001b[0m\u001b[1;33m,\u001b[0m \u001b[0mbatch_size\u001b[0m\u001b[1;33m=\u001b[0m\u001b[1;36m5\u001b[0m\u001b[1;33m,\u001b[0m \u001b[0mepochs\u001b[0m\u001b[1;33m=\u001b[0m\u001b[1;36m100\u001b[0m\u001b[1;33m,\u001b[0m \u001b[0mshuffle\u001b[0m\u001b[1;33m=\u001b[0m\u001b[1;32mTrue\u001b[0m\u001b[1;33m,\u001b[0m \u001b[0mverbose\u001b[0m\u001b[1;33m=\u001b[0m\u001b[1;36m2\u001b[0m\u001b[1;33m)\u001b[0m\u001b[1;33m\u001b[0m\u001b[1;33m\u001b[0m\u001b[0m\n\u001b[0m",
      "\u001b[1;31mNameError\u001b[0m: name 'x19' is not defined"
     ]
    }
   ],
   "source": [
    "albert.fit(x19,y19, batch_size=5, epochs=100, shuffle=True, verbose=2)"
   ]
  },
  {
   "cell_type": "code",
   "execution_count": 397,
   "metadata": {},
   "outputs": [
    {
     "name": "stdout",
     "output_type": "stream",
     "text": [
      "Epoch 1/10\n",
      "5/5 - 0s - loss: 4.4796 - sparse_top_k_categorical_accuracy: 0.0000e+00\n",
      "Epoch 2/10\n",
      "5/5 - 0s - loss: 4.4773 - sparse_top_k_categorical_accuracy: 0.0000e+00\n",
      "Epoch 3/10\n",
      "5/5 - 0s - loss: 4.4705 - sparse_top_k_categorical_accuracy: 0.0000e+00\n",
      "Epoch 4/10\n",
      "5/5 - 0s - loss: 4.4610 - sparse_top_k_categorical_accuracy: 0.0000e+00\n",
      "Epoch 5/10\n",
      "5/5 - 0s - loss: 4.4496 - sparse_top_k_categorical_accuracy: 0.0000e+00\n",
      "Epoch 6/10\n",
      "5/5 - 0s - loss: 4.4366 - sparse_top_k_categorical_accuracy: 0.0000e+00\n",
      "Epoch 7/10\n",
      "5/5 - 0s - loss: 4.4217 - sparse_top_k_categorical_accuracy: 0.0000e+00\n",
      "Epoch 8/10\n",
      "5/5 - 0s - loss: 4.4057 - sparse_top_k_categorical_accuracy: 0.0000e+00\n",
      "Epoch 9/10\n",
      "5/5 - 0s - loss: 4.3889 - sparse_top_k_categorical_accuracy: 0.0000e+00\n",
      "Epoch 10/10\n",
      "5/5 - 0s - loss: 4.3714 - sparse_top_k_categorical_accuracy: 0.0000e+00\n"
     ]
    },
    {
     "data": {
      "text/plain": [
       "<tensorflow.python.keras.callbacks.History at 0x1dc5411bd48>"
      ]
     },
     "execution_count": 397,
     "metadata": {},
     "output_type": "execute_result"
    }
   ],
   "source": [
    "a.fit(x20,y20, batch_size=5, epochs=10, shuffle=True, verbose=2)"
   ]
  },
  {
   "cell_type": "code",
   "execution_count": 398,
   "metadata": {},
   "outputs": [
    {
     "name": "stdout",
     "output_type": "stream",
     "text": [
      "Epoch 1/10\n",
      "5/5 - 0s - loss: 4.7494 - sparse_top_k_categorical_accuracy: 0.2000\n",
      "Epoch 2/10\n",
      "5/5 - 0s - loss: 4.7466 - sparse_top_k_categorical_accuracy: 0.2000\n",
      "Epoch 3/10\n",
      "5/5 - 0s - loss: 4.7414 - sparse_top_k_categorical_accuracy: 0.2000\n",
      "Epoch 4/10\n",
      "5/5 - 0s - loss: 4.7345 - sparse_top_k_categorical_accuracy: 0.2000\n",
      "Epoch 5/10\n",
      "5/5 - 0s - loss: 4.7267 - sparse_top_k_categorical_accuracy: 0.2000\n",
      "Epoch 6/10\n",
      "5/5 - 0s - loss: 4.7170 - sparse_top_k_categorical_accuracy: 0.2000\n",
      "Epoch 7/10\n",
      "5/5 - 0s - loss: 4.7062 - sparse_top_k_categorical_accuracy: 0.2000\n",
      "Epoch 8/10\n",
      "5/5 - 0s - loss: 4.6945 - sparse_top_k_categorical_accuracy: 0.2000\n",
      "Epoch 9/10\n",
      "5/5 - 0s - loss: 4.6818 - sparse_top_k_categorical_accuracy: 0.2000\n",
      "Epoch 10/10\n",
      "5/5 - 0s - loss: 4.6683 - sparse_top_k_categorical_accuracy: 0.2000\n"
     ]
    },
    {
     "data": {
      "text/plain": [
       "<tensorflow.python.keras.callbacks.History at 0x1dc50c1f108>"
      ]
     },
     "execution_count": 398,
     "metadata": {},
     "output_type": "execute_result"
    }
   ],
   "source": [
    "a.fit(x21,y21, batch_size=5, epochs=10, shuffle=True, verbose=2)"
   ]
  },
  {
   "cell_type": "code",
   "execution_count": 400,
   "metadata": {},
   "outputs": [
    {
     "name": "stdout",
     "output_type": "stream",
     "text": [
      "Epoch 1/10\n",
      "5/5 - 0s - loss: 4.9654 - sparse_top_k_categorical_accuracy: 0.0000e+00\n",
      "Epoch 2/10\n",
      "5/5 - 0s - loss: 4.9616 - sparse_top_k_categorical_accuracy: 0.0000e+00\n",
      "Epoch 3/10\n",
      "5/5 - 0s - loss: 4.9528 - sparse_top_k_categorical_accuracy: 0.0000e+00\n",
      "Epoch 4/10\n",
      "5/5 - 0s - loss: 4.9409 - sparse_top_k_categorical_accuracy: 0.0000e+00\n",
      "Epoch 5/10\n",
      "5/5 - 0s - loss: 4.9262 - sparse_top_k_categorical_accuracy: 0.0000e+00\n",
      "Epoch 6/10\n",
      "5/5 - 0s - loss: 4.9086 - sparse_top_k_categorical_accuracy: 0.0000e+00\n",
      "Epoch 7/10\n",
      "5/5 - 0s - loss: 4.8890 - sparse_top_k_categorical_accuracy: 0.0000e+00\n",
      "Epoch 8/10\n",
      "5/5 - 0s - loss: 4.8678 - sparse_top_k_categorical_accuracy: 0.0000e+00\n",
      "Epoch 9/10\n",
      "5/5 - 0s - loss: 4.8452 - sparse_top_k_categorical_accuracy: 0.0000e+00\n",
      "Epoch 10/10\n",
      "5/5 - 0s - loss: 4.8224 - sparse_top_k_categorical_accuracy: 0.0000e+00\n"
     ]
    },
    {
     "data": {
      "text/plain": [
       "<tensorflow.python.keras.callbacks.History at 0x1dc540deac8>"
      ]
     },
     "execution_count": 400,
     "metadata": {},
     "output_type": "execute_result"
    }
   ],
   "source": [
    "a.fit(x22,y22, batch_size=5, epochs=10, shuffle=True, verbose=2)"
   ]
  },
  {
   "cell_type": "code",
   "execution_count": 401,
   "metadata": {},
   "outputs": [
    {
     "name": "stdout",
     "output_type": "stream",
     "text": [
      "Epoch 1/10\n",
      "5/5 - 0s - loss: 4.4601 - sparse_top_k_categorical_accuracy: 0.0000e+00\n",
      "Epoch 2/10\n",
      "5/5 - 0s - loss: 4.4639 - sparse_top_k_categorical_accuracy: 0.0000e+00\n",
      "Epoch 3/10\n",
      "5/5 - 0s - loss: 4.4621 - sparse_top_k_categorical_accuracy: 0.0000e+00\n",
      "Epoch 4/10\n",
      "5/5 - 0s - loss: 4.4555 - sparse_top_k_categorical_accuracy: 0.0000e+00\n",
      "Epoch 5/10\n",
      "5/5 - 0s - loss: 4.4456 - sparse_top_k_categorical_accuracy: 0.0000e+00\n",
      "Epoch 6/10\n",
      "5/5 - 0s - loss: 4.4330 - sparse_top_k_categorical_accuracy: 0.0000e+00\n",
      "Epoch 7/10\n",
      "5/5 - 0s - loss: 4.4180 - sparse_top_k_categorical_accuracy: 0.0000e+00\n",
      "Epoch 8/10\n",
      "5/5 - 0s - loss: 4.4008 - sparse_top_k_categorical_accuracy: 0.0000e+00\n",
      "Epoch 9/10\n",
      "5/5 - 0s - loss: 4.3810 - sparse_top_k_categorical_accuracy: 0.0000e+00\n",
      "Epoch 10/10\n",
      "5/5 - 0s - loss: 4.3592 - sparse_top_k_categorical_accuracy: 0.0000e+00\n"
     ]
    },
    {
     "data": {
      "text/plain": [
       "<tensorflow.python.keras.callbacks.History at 0x1dc54051048>"
      ]
     },
     "execution_count": 401,
     "metadata": {},
     "output_type": "execute_result"
    }
   ],
   "source": [
    "a.fit(x23,y23, batch_size=5, epochs=10, shuffle=True, verbose=2)"
   ]
  },
  {
   "cell_type": "code",
   "execution_count": 402,
   "metadata": {},
   "outputs": [
    {
     "name": "stdout",
     "output_type": "stream",
     "text": [
      "Epoch 1/10\n",
      "5/5 - 0s - loss: 4.7430 - sparse_top_k_categorical_accuracy: 0.0000e+00\n",
      "Epoch 2/10\n",
      "5/5 - 0s - loss: 4.7394 - sparse_top_k_categorical_accuracy: 0.0000e+00\n",
      "Epoch 3/10\n",
      "5/5 - 0s - loss: 4.7341 - sparse_top_k_categorical_accuracy: 0.0000e+00\n",
      "Epoch 4/10\n",
      "5/5 - 0s - loss: 4.7269 - sparse_top_k_categorical_accuracy: 0.0000e+00\n",
      "Epoch 5/10\n",
      "5/5 - 0s - loss: 4.7180 - sparse_top_k_categorical_accuracy: 0.0000e+00\n",
      "Epoch 6/10\n",
      "5/5 - 0s - loss: 4.7077 - sparse_top_k_categorical_accuracy: 0.2000\n",
      "Epoch 7/10\n",
      "5/5 - 0s - loss: 4.6965 - sparse_top_k_categorical_accuracy: 0.2000\n",
      "Epoch 8/10\n",
      "5/5 - 0s - loss: 4.6855 - sparse_top_k_categorical_accuracy: 0.2000\n",
      "Epoch 9/10\n",
      "5/5 - 0s - loss: 4.6742 - sparse_top_k_categorical_accuracy: 0.2000\n",
      "Epoch 10/10\n",
      "5/5 - 0s - loss: 4.6627 - sparse_top_k_categorical_accuracy: 0.2000\n"
     ]
    },
    {
     "data": {
      "text/plain": [
       "<tensorflow.python.keras.callbacks.History at 0x1dc540fc308>"
      ]
     },
     "execution_count": 402,
     "metadata": {},
     "output_type": "execute_result"
    }
   ],
   "source": [
    "a.fit(x24,y24, batch_size=5, epochs=10, shuffle=True, verbose=2)"
   ]
  },
  {
   "cell_type": "code",
   "execution_count": 403,
   "metadata": {},
   "outputs": [
    {
     "name": "stdout",
     "output_type": "stream",
     "text": [
      "Epoch 1/10\n",
      "5/5 - 0s - loss: 4.3203 - sparse_top_k_categorical_accuracy: 0.2000\n",
      "Epoch 2/10\n",
      "5/5 - 0s - loss: 4.3135 - sparse_top_k_categorical_accuracy: 0.2000\n",
      "Epoch 3/10\n",
      "5/5 - 0s - loss: 4.3043 - sparse_top_k_categorical_accuracy: 0.2000\n",
      "Epoch 4/10\n",
      "5/5 - 0s - loss: 4.2934 - sparse_top_k_categorical_accuracy: 0.2000\n",
      "Epoch 5/10\n",
      "5/5 - 0s - loss: 4.2812 - sparse_top_k_categorical_accuracy: 0.2000\n",
      "Epoch 6/10\n",
      "5/5 - 0s - loss: 4.2679 - sparse_top_k_categorical_accuracy: 0.2000\n",
      "Epoch 7/10\n",
      "5/5 - 0s - loss: 4.2537 - sparse_top_k_categorical_accuracy: 0.2000\n",
      "Epoch 8/10\n",
      "5/5 - 0s - loss: 4.2388 - sparse_top_k_categorical_accuracy: 0.2000\n",
      "Epoch 9/10\n",
      "5/5 - 0s - loss: 4.2232 - sparse_top_k_categorical_accuracy: 0.2000\n",
      "Epoch 10/10\n",
      "5/5 - 0s - loss: 4.2073 - sparse_top_k_categorical_accuracy: 0.2000\n"
     ]
    },
    {
     "data": {
      "text/plain": [
       "<tensorflow.python.keras.callbacks.History at 0x1dc54130a88>"
      ]
     },
     "execution_count": 403,
     "metadata": {},
     "output_type": "execute_result"
    }
   ],
   "source": [
    "a.fit(x25,y25, batch_size=5, epochs=10, shuffle=True, verbose=2)"
   ]
  },
  {
   "cell_type": "code",
   "execution_count": 404,
   "metadata": {},
   "outputs": [
    {
     "name": "stdout",
     "output_type": "stream",
     "text": [
      "Epoch 1/10\n",
      "5/5 - 0s - loss: 4.6176 - sparse_top_k_categorical_accuracy: 0.0000e+00\n",
      "Epoch 2/10\n",
      "5/5 - 0s - loss: 4.6102 - sparse_top_k_categorical_accuracy: 0.0000e+00\n",
      "Epoch 3/10\n",
      "5/5 - 0s - loss: 4.6001 - sparse_top_k_categorical_accuracy: 0.0000e+00\n",
      "Epoch 4/10\n",
      "5/5 - 0s - loss: 4.5886 - sparse_top_k_categorical_accuracy: 0.0000e+00\n",
      "Epoch 5/10\n",
      "5/5 - 0s - loss: 4.5759 - sparse_top_k_categorical_accuracy: 0.0000e+00\n",
      "Epoch 6/10\n",
      "5/5 - 0s - loss: 4.5620 - sparse_top_k_categorical_accuracy: 0.0000e+00\n",
      "Epoch 7/10\n",
      "5/5 - 0s - loss: 4.5468 - sparse_top_k_categorical_accuracy: 0.0000e+00\n",
      "Epoch 8/10\n",
      "5/5 - 0s - loss: 4.5310 - sparse_top_k_categorical_accuracy: 0.0000e+00\n",
      "Epoch 9/10\n",
      "5/5 - 0s - loss: 4.5138 - sparse_top_k_categorical_accuracy: 0.0000e+00\n",
      "Epoch 10/10\n",
      "5/5 - 0s - loss: 4.4959 - sparse_top_k_categorical_accuracy: 0.0000e+00\n"
     ]
    },
    {
     "data": {
      "text/plain": [
       "<tensorflow.python.keras.callbacks.History at 0x1dc54137588>"
      ]
     },
     "execution_count": 404,
     "metadata": {},
     "output_type": "execute_result"
    }
   ],
   "source": [
    "a.fit(x26,y26, batch_size=5, epochs=10, shuffle=True, verbose=2)"
   ]
  },
  {
   "cell_type": "code",
   "execution_count": 405,
   "metadata": {},
   "outputs": [
    {
     "name": "stdout",
     "output_type": "stream",
     "text": [
      "Epoch 1/10\n",
      "5/5 - 0s - loss: 4.2611 - sparse_top_k_categorical_accuracy: 0.2000\n",
      "Epoch 2/10\n",
      "5/5 - 0s - loss: 4.2561 - sparse_top_k_categorical_accuracy: 0.2000\n",
      "Epoch 3/10\n",
      "5/5 - 0s - loss: 4.2484 - sparse_top_k_categorical_accuracy: 0.2000\n",
      "Epoch 4/10\n",
      "5/5 - 0s - loss: 4.2384 - sparse_top_k_categorical_accuracy: 0.2000\n",
      "Epoch 5/10\n",
      "5/5 - 0s - loss: 4.2265 - sparse_top_k_categorical_accuracy: 0.2000\n",
      "Epoch 6/10\n",
      "5/5 - 0s - loss: 4.2128 - sparse_top_k_categorical_accuracy: 0.2000\n",
      "Epoch 7/10\n",
      "5/5 - 0s - loss: 4.1976 - sparse_top_k_categorical_accuracy: 0.2000\n",
      "Epoch 8/10\n",
      "5/5 - 0s - loss: 4.1807 - sparse_top_k_categorical_accuracy: 0.2000\n",
      "Epoch 9/10\n",
      "5/5 - 0s - loss: 4.1635 - sparse_top_k_categorical_accuracy: 0.2000\n",
      "Epoch 10/10\n",
      "5/5 - 0s - loss: 4.1457 - sparse_top_k_categorical_accuracy: 0.2000\n"
     ]
    },
    {
     "data": {
      "text/plain": [
       "<tensorflow.python.keras.callbacks.History at 0x1dc54130408>"
      ]
     },
     "execution_count": 405,
     "metadata": {},
     "output_type": "execute_result"
    }
   ],
   "source": [
    "a.fit(x27,y27, batch_size=5, epochs=10, shuffle=True, verbose=2)"
   ]
  },
  {
   "cell_type": "code",
   "execution_count": 406,
   "metadata": {},
   "outputs": [
    {
     "name": "stdout",
     "output_type": "stream",
     "text": [
      "Epoch 1/10\n",
      "5/5 - 0s - loss: 4.4597 - sparse_top_k_categorical_accuracy: 0.0000e+00\n",
      "Epoch 2/10\n",
      "5/5 - 0s - loss: 4.4498 - sparse_top_k_categorical_accuracy: 0.0000e+00\n",
      "Epoch 3/10\n",
      "5/5 - 0s - loss: 4.4347 - sparse_top_k_categorical_accuracy: 0.0000e+00\n",
      "Epoch 4/10\n",
      "5/5 - 0s - loss: 4.4150 - sparse_top_k_categorical_accuracy: 0.0000e+00\n",
      "Epoch 5/10\n",
      "5/5 - 0s - loss: 4.3919 - sparse_top_k_categorical_accuracy: 0.0000e+00\n",
      "Epoch 6/10\n",
      "5/5 - 0s - loss: 4.3665 - sparse_top_k_categorical_accuracy: 0.0000e+00\n",
      "Epoch 7/10\n",
      "5/5 - 0s - loss: 4.3389 - sparse_top_k_categorical_accuracy: 0.0000e+00\n",
      "Epoch 8/10\n",
      "5/5 - 0s - loss: 4.3106 - sparse_top_k_categorical_accuracy: 0.0000e+00\n",
      "Epoch 9/10\n",
      "5/5 - 0s - loss: 4.2808 - sparse_top_k_categorical_accuracy: 0.0000e+00\n",
      "Epoch 10/10\n",
      "5/5 - 0s - loss: 4.2488 - sparse_top_k_categorical_accuracy: 0.0000e+00\n"
     ]
    },
    {
     "data": {
      "text/plain": [
       "<tensorflow.python.keras.callbacks.History at 0x1dc540fcf08>"
      ]
     },
     "execution_count": 406,
     "metadata": {},
     "output_type": "execute_result"
    }
   ],
   "source": [
    "a.fit(x28,y28, batch_size=5, epochs=10, shuffle=True, verbose=2)"
   ]
  },
  {
   "cell_type": "code",
   "execution_count": 408,
   "metadata": {},
   "outputs": [
    {
     "name": "stdout",
     "output_type": "stream",
     "text": [
      "Epoch 1/10\n",
      "5/5 - 0s - loss: 4.3581 - sparse_top_k_categorical_accuracy: 0.2000\n",
      "Epoch 2/10\n",
      "5/5 - 0s - loss: 4.3581 - sparse_top_k_categorical_accuracy: 0.2000\n",
      "Epoch 3/10\n",
      "5/5 - 0s - loss: 4.3543 - sparse_top_k_categorical_accuracy: 0.2000\n",
      "Epoch 4/10\n",
      "5/5 - 0s - loss: 4.3475 - sparse_top_k_categorical_accuracy: 0.2000\n",
      "Epoch 5/10\n",
      "5/5 - 0s - loss: 4.3382 - sparse_top_k_categorical_accuracy: 0.2000\n",
      "Epoch 6/10\n",
      "5/5 - 0s - loss: 4.3268 - sparse_top_k_categorical_accuracy: 0.2000\n",
      "Epoch 7/10\n",
      "5/5 - 0s - loss: 4.3140 - sparse_top_k_categorical_accuracy: 0.2000\n",
      "Epoch 8/10\n",
      "5/5 - 0s - loss: 4.3001 - sparse_top_k_categorical_accuracy: 0.2000\n",
      "Epoch 9/10\n",
      "5/5 - 0s - loss: 4.2849 - sparse_top_k_categorical_accuracy: 0.2000\n",
      "Epoch 10/10\n",
      "5/5 - 0s - loss: 4.2686 - sparse_top_k_categorical_accuracy: 0.2000\n"
     ]
    },
    {
     "data": {
      "text/plain": [
       "<tensorflow.python.keras.callbacks.History at 0x1dc54123248>"
      ]
     },
     "execution_count": 408,
     "metadata": {},
     "output_type": "execute_result"
    }
   ],
   "source": [
    "a.fit(x29,y29, batch_size=5, epochs=10, shuffle=True, verbose=2)"
   ]
  },
  {
   "cell_type": "code",
   "execution_count": 409,
   "metadata": {},
   "outputs": [
    {
     "name": "stdout",
     "output_type": "stream",
     "text": [
      "Epoch 1/10\n",
      "5/5 - 0s - loss: 4.8988 - sparse_top_k_categorical_accuracy: 0.2000\n",
      "Epoch 2/10\n",
      "5/5 - 0s - loss: 4.8983 - sparse_top_k_categorical_accuracy: 0.2000\n",
      "Epoch 3/10\n",
      "5/5 - 0s - loss: 4.8882 - sparse_top_k_categorical_accuracy: 0.2000\n",
      "Epoch 4/10\n",
      "5/5 - 0s - loss: 4.8708 - sparse_top_k_categorical_accuracy: 0.2000\n",
      "Epoch 5/10\n",
      "5/5 - 0s - loss: 4.8509 - sparse_top_k_categorical_accuracy: 0.2000\n",
      "Epoch 6/10\n",
      "5/5 - 0s - loss: 4.8318 - sparse_top_k_categorical_accuracy: 0.2000\n",
      "Epoch 7/10\n",
      "5/5 - 0s - loss: 4.8110 - sparse_top_k_categorical_accuracy: 0.2000\n",
      "Epoch 8/10\n",
      "5/5 - 0s - loss: 4.7896 - sparse_top_k_categorical_accuracy: 0.2000\n",
      "Epoch 9/10\n",
      "5/5 - 0s - loss: 4.7696 - sparse_top_k_categorical_accuracy: 0.2000\n",
      "Epoch 10/10\n",
      "5/5 - 0s - loss: 4.7494 - sparse_top_k_categorical_accuracy: 0.2000\n"
     ]
    },
    {
     "data": {
      "text/plain": [
       "<tensorflow.python.keras.callbacks.History at 0x1dc541220c8>"
      ]
     },
     "execution_count": 409,
     "metadata": {},
     "output_type": "execute_result"
    }
   ],
   "source": [
    "a.fit(x30,y30, batch_size=5, epochs=10, shuffle=True, verbose=2)"
   ]
  },
  {
   "cell_type": "code",
   "execution_count": 410,
   "metadata": {},
   "outputs": [
    {
     "name": "stdout",
     "output_type": "stream",
     "text": [
      "Epoch 1/10\n",
      "5/5 - 0s - loss: 4.3373 - sparse_top_k_categorical_accuracy: 0.2000\n",
      "Epoch 2/10\n",
      "5/5 - 0s - loss: 4.3307 - sparse_top_k_categorical_accuracy: 0.2000\n",
      "Epoch 3/10\n",
      "5/5 - 0s - loss: 4.3184 - sparse_top_k_categorical_accuracy: 0.2000\n",
      "Epoch 4/10\n",
      "5/5 - 0s - loss: 4.3012 - sparse_top_k_categorical_accuracy: 0.2000\n",
      "Epoch 5/10\n",
      "5/5 - 0s - loss: 4.2797 - sparse_top_k_categorical_accuracy: 0.2000\n",
      "Epoch 6/10\n",
      "5/5 - 0s - loss: 4.2550 - sparse_top_k_categorical_accuracy: 0.2000\n",
      "Epoch 7/10\n",
      "5/5 - 0s - loss: 4.2264 - sparse_top_k_categorical_accuracy: 0.2000\n",
      "Epoch 8/10\n",
      "5/5 - 0s - loss: 4.1955 - sparse_top_k_categorical_accuracy: 0.2000\n",
      "Epoch 9/10\n",
      "5/5 - 0s - loss: 4.1626 - sparse_top_k_categorical_accuracy: 0.2000\n",
      "Epoch 10/10\n",
      "5/5 - 0s - loss: 4.1278 - sparse_top_k_categorical_accuracy: 0.2000\n"
     ]
    },
    {
     "data": {
      "text/plain": [
       "<tensorflow.python.keras.callbacks.History at 0x1dc54137a08>"
      ]
     },
     "execution_count": 410,
     "metadata": {},
     "output_type": "execute_result"
    }
   ],
   "source": [
    "a.fit(x31,y31, batch_size=5, epochs=10, shuffle=True, verbose=2)"
   ]
  },
  {
   "cell_type": "code",
   "execution_count": 411,
   "metadata": {},
   "outputs": [
    {
     "name": "stdout",
     "output_type": "stream",
     "text": [
      "Epoch 1/10\n",
      "5/5 - 0s - loss: 4.3611 - sparse_top_k_categorical_accuracy: 0.2000\n",
      "Epoch 2/10\n",
      "5/5 - 0s - loss: 4.3588 - sparse_top_k_categorical_accuracy: 0.2000\n",
      "Epoch 3/10\n",
      "5/5 - 0s - loss: 4.3543 - sparse_top_k_categorical_accuracy: 0.2000\n",
      "Epoch 4/10\n",
      "5/5 - 0s - loss: 4.3463 - sparse_top_k_categorical_accuracy: 0.2000\n",
      "Epoch 5/10\n",
      "5/5 - 0s - loss: 4.3360 - sparse_top_k_categorical_accuracy: 0.2000\n",
      "Epoch 6/10\n",
      "5/5 - 0s - loss: 4.3230 - sparse_top_k_categorical_accuracy: 0.2000\n",
      "Epoch 7/10\n",
      "5/5 - 0s - loss: 4.3088 - sparse_top_k_categorical_accuracy: 0.2000\n",
      "Epoch 8/10\n",
      "5/5 - 0s - loss: 4.2930 - sparse_top_k_categorical_accuracy: 0.2000\n",
      "Epoch 9/10\n",
      "5/5 - 0s - loss: 4.2761 - sparse_top_k_categorical_accuracy: 0.2000\n",
      "Epoch 10/10\n",
      "5/5 - 0s - loss: 4.2581 - sparse_top_k_categorical_accuracy: 0.2000\n"
     ]
    },
    {
     "data": {
      "text/plain": [
       "<tensorflow.python.keras.callbacks.History at 0x1dc54095f48>"
      ]
     },
     "execution_count": 411,
     "metadata": {},
     "output_type": "execute_result"
    }
   ],
   "source": [
    "a.fit(x32,y32, batch_size=5, epochs=10, shuffle=True, verbose=2)"
   ]
  },
  {
   "cell_type": "code",
   "execution_count": 412,
   "metadata": {},
   "outputs": [
    {
     "name": "stdout",
     "output_type": "stream",
     "text": [
      "Epoch 1/10\n",
      "5/5 - 0s - loss: 4.1810 - sparse_top_k_categorical_accuracy: 0.4000\n",
      "Epoch 2/10\n",
      "5/5 - 0s - loss: 4.1776 - sparse_top_k_categorical_accuracy: 0.4000\n",
      "Epoch 3/10\n",
      "5/5 - 0s - loss: 4.1715 - sparse_top_k_categorical_accuracy: 0.4000\n",
      "Epoch 4/10\n",
      "5/5 - 0s - loss: 4.1631 - sparse_top_k_categorical_accuracy: 0.4000\n",
      "Epoch 5/10\n",
      "5/5 - 0s - loss: 4.1527 - sparse_top_k_categorical_accuracy: 0.4000\n",
      "Epoch 6/10\n",
      "5/5 - 0s - loss: 4.1408 - sparse_top_k_categorical_accuracy: 0.4000\n",
      "Epoch 7/10\n",
      "5/5 - 0s - loss: 4.1273 - sparse_top_k_categorical_accuracy: 0.4000\n",
      "Epoch 8/10\n",
      "5/5 - 0s - loss: 4.1125 - sparse_top_k_categorical_accuracy: 0.4000\n",
      "Epoch 9/10\n",
      "5/5 - 0s - loss: 4.0962 - sparse_top_k_categorical_accuracy: 0.4000\n",
      "Epoch 10/10\n",
      "5/5 - 0s - loss: 4.0787 - sparse_top_k_categorical_accuracy: 0.4000\n"
     ]
    },
    {
     "data": {
      "text/plain": [
       "<tensorflow.python.keras.callbacks.History at 0x1dc54130048>"
      ]
     },
     "execution_count": 412,
     "metadata": {},
     "output_type": "execute_result"
    }
   ],
   "source": [
    "a.fit(x33,y33, batch_size=5, epochs=10, shuffle=True, verbose=2)"
   ]
  },
  {
   "cell_type": "code",
   "execution_count": 413,
   "metadata": {},
   "outputs": [
    {
     "name": "stdout",
     "output_type": "stream",
     "text": [
      "Epoch 1/10\n",
      "5/5 - 0s - loss: 5.0284 - sparse_top_k_categorical_accuracy: 0.0000e+00\n",
      "Epoch 2/10\n",
      "5/5 - 0s - loss: 5.0202 - sparse_top_k_categorical_accuracy: 0.0000e+00\n",
      "Epoch 3/10\n",
      "5/5 - 0s - loss: 4.9995 - sparse_top_k_categorical_accuracy: 0.0000e+00\n",
      "Epoch 4/10\n",
      "5/5 - 0s - loss: 4.9684 - sparse_top_k_categorical_accuracy: 0.0000e+00\n",
      "Epoch 5/10\n",
      "5/5 - 0s - loss: 4.9297 - sparse_top_k_categorical_accuracy: 0.0000e+00\n",
      "Epoch 6/10\n",
      "5/5 - 0s - loss: 4.8859 - sparse_top_k_categorical_accuracy: 0.0000e+00\n",
      "Epoch 7/10\n",
      "5/5 - 0s - loss: 4.8392 - sparse_top_k_categorical_accuracy: 0.0000e+00\n",
      "Epoch 8/10\n",
      "5/5 - 0s - loss: 4.7911 - sparse_top_k_categorical_accuracy: 0.0000e+00\n",
      "Epoch 9/10\n",
      "5/5 - 0s - loss: 4.7419 - sparse_top_k_categorical_accuracy: 0.0000e+00\n",
      "Epoch 10/10\n",
      "5/5 - 0s - loss: 4.6920 - sparse_top_k_categorical_accuracy: 0.0000e+00\n"
     ]
    },
    {
     "data": {
      "text/plain": [
       "<tensorflow.python.keras.callbacks.History at 0x1dc540fca48>"
      ]
     },
     "execution_count": 413,
     "metadata": {},
     "output_type": "execute_result"
    }
   ],
   "source": [
    "a.fit(x34,y34, batch_size=5, epochs=10, shuffle=True, verbose=2)"
   ]
  },
  {
   "cell_type": "code",
   "execution_count": 414,
   "metadata": {},
   "outputs": [
    {
     "name": "stdout",
     "output_type": "stream",
     "text": [
      "Epoch 1/10\n",
      "5/5 - 0s - loss: 4.6251 - sparse_top_k_categorical_accuracy: 0.0000e+00\n",
      "Epoch 2/10\n",
      "5/5 - 0s - loss: 4.6177 - sparse_top_k_categorical_accuracy: 0.0000e+00\n",
      "Epoch 3/10\n",
      "5/5 - 0s - loss: 4.6051 - sparse_top_k_categorical_accuracy: 0.0000e+00\n",
      "Epoch 4/10\n",
      "5/5 - 0s - loss: 4.5907 - sparse_top_k_categorical_accuracy: 0.0000e+00\n",
      "Epoch 5/10\n",
      "5/5 - 0s - loss: 4.5734 - sparse_top_k_categorical_accuracy: 0.0000e+00\n",
      "Epoch 6/10\n",
      "5/5 - 0s - loss: 4.5543 - sparse_top_k_categorical_accuracy: 0.0000e+00\n",
      "Epoch 7/10\n",
      "5/5 - 0s - loss: 4.5333 - sparse_top_k_categorical_accuracy: 0.0000e+00\n",
      "Epoch 8/10\n",
      "5/5 - 0s - loss: 4.5113 - sparse_top_k_categorical_accuracy: 0.0000e+00\n",
      "Epoch 9/10\n",
      "5/5 - 0s - loss: 4.4883 - sparse_top_k_categorical_accuracy: 0.2000\n",
      "Epoch 10/10\n",
      "5/5 - 0s - loss: 4.4639 - sparse_top_k_categorical_accuracy: 0.2000\n"
     ]
    },
    {
     "data": {
      "text/plain": [
       "<tensorflow.python.keras.callbacks.History at 0x1dc540517c8>"
      ]
     },
     "execution_count": 414,
     "metadata": {},
     "output_type": "execute_result"
    }
   ],
   "source": [
    "a.fit(x36,y36, batch_size=5, epochs=10, shuffle=True, verbose=2)"
   ]
  },
  {
   "cell_type": "code",
   "execution_count": 415,
   "metadata": {},
   "outputs": [
    {
     "name": "stdout",
     "output_type": "stream",
     "text": [
      "Epoch 1/10\n",
      "5/5 - 0s - loss: 5.2198 - sparse_top_k_categorical_accuracy: 0.0000e+00\n",
      "Epoch 2/10\n",
      "5/5 - 0s - loss: 5.1997 - sparse_top_k_categorical_accuracy: 0.0000e+00\n",
      "Epoch 3/10\n",
      "5/5 - 0s - loss: 5.1734 - sparse_top_k_categorical_accuracy: 0.0000e+00\n",
      "Epoch 4/10\n",
      "5/5 - 0s - loss: 5.1425 - sparse_top_k_categorical_accuracy: 0.0000e+00\n",
      "Epoch 5/10\n",
      "5/5 - 0s - loss: 5.1095 - sparse_top_k_categorical_accuracy: 0.0000e+00\n",
      "Epoch 6/10\n",
      "5/5 - 0s - loss: 5.0734 - sparse_top_k_categorical_accuracy: 0.0000e+00\n",
      "Epoch 7/10\n",
      "5/5 - 0s - loss: 5.0401 - sparse_top_k_categorical_accuracy: 0.0000e+00\n",
      "Epoch 8/10\n",
      "5/5 - 0s - loss: 5.0084 - sparse_top_k_categorical_accuracy: 0.0000e+00\n",
      "Epoch 9/10\n",
      "5/5 - 0s - loss: 4.9758 - sparse_top_k_categorical_accuracy: 0.0000e+00\n",
      "Epoch 10/10\n",
      "5/5 - 0s - loss: 4.9451 - sparse_top_k_categorical_accuracy: 0.0000e+00\n"
     ]
    },
    {
     "data": {
      "text/plain": [
       "<tensorflow.python.keras.callbacks.History at 0x1dc54130e48>"
      ]
     },
     "execution_count": 415,
     "metadata": {},
     "output_type": "execute_result"
    }
   ],
   "source": [
    "a.fit(x37,y37, batch_size=5, epochs=10, shuffle=True, verbose=2)"
   ]
  },
  {
   "cell_type": "code",
   "execution_count": 416,
   "metadata": {},
   "outputs": [
    {
     "name": "stdout",
     "output_type": "stream",
     "text": [
      "Epoch 1/10\n",
      "5/5 - 0s - loss: 4.7795 - sparse_top_k_categorical_accuracy: 0.0000e+00\n",
      "Epoch 2/10\n",
      "5/5 - 0s - loss: 4.7606 - sparse_top_k_categorical_accuracy: 0.0000e+00\n",
      "Epoch 3/10\n",
      "5/5 - 0s - loss: 4.7373 - sparse_top_k_categorical_accuracy: 0.0000e+00\n",
      "Epoch 4/10\n",
      "5/5 - 0s - loss: 4.7106 - sparse_top_k_categorical_accuracy: 0.0000e+00\n",
      "Epoch 5/10\n",
      "5/5 - 0s - loss: 4.6838 - sparse_top_k_categorical_accuracy: 0.0000e+00\n",
      "Epoch 6/10\n",
      "5/5 - 0s - loss: 4.6630 - sparse_top_k_categorical_accuracy: 0.0000e+00\n",
      "Epoch 7/10\n",
      "5/5 - 0s - loss: 4.6450 - sparse_top_k_categorical_accuracy: 0.0000e+00\n",
      "Epoch 8/10\n",
      "5/5 - 0s - loss: 4.6251 - sparse_top_k_categorical_accuracy: 0.0000e+00\n",
      "Epoch 9/10\n",
      "5/5 - 0s - loss: 4.6029 - sparse_top_k_categorical_accuracy: 0.0000e+00\n",
      "Epoch 10/10\n",
      "5/5 - 0s - loss: 4.5810 - sparse_top_k_categorical_accuracy: 0.2000\n"
     ]
    },
    {
     "data": {
      "text/plain": [
       "<tensorflow.python.keras.callbacks.History at 0x1dc540fcd88>"
      ]
     },
     "execution_count": 416,
     "metadata": {},
     "output_type": "execute_result"
    }
   ],
   "source": [
    "a.fit(x38,y38, batch_size=5, epochs=10, shuffle=True, verbose=2)"
   ]
  },
  {
   "cell_type": "code",
   "execution_count": 417,
   "metadata": {},
   "outputs": [
    {
     "name": "stdout",
     "output_type": "stream",
     "text": [
      "Epoch 1/10\n",
      "5/5 - 0s - loss: 4.1704 - sparse_top_k_categorical_accuracy: 0.2000\n",
      "Epoch 2/10\n",
      "5/5 - 0s - loss: 4.1663 - sparse_top_k_categorical_accuracy: 0.2000\n",
      "Epoch 3/10\n",
      "5/5 - 0s - loss: 4.1548 - sparse_top_k_categorical_accuracy: 0.2000\n",
      "Epoch 4/10\n",
      "5/5 - 0s - loss: 4.1376 - sparse_top_k_categorical_accuracy: 0.2000\n",
      "Epoch 5/10\n",
      "5/5 - 0s - loss: 4.1176 - sparse_top_k_categorical_accuracy: 0.2000\n",
      "Epoch 6/10\n",
      "5/5 - 0s - loss: 4.0952 - sparse_top_k_categorical_accuracy: 0.2000\n",
      "Epoch 7/10\n",
      "5/5 - 0s - loss: 4.0750 - sparse_top_k_categorical_accuracy: 0.2000\n",
      "Epoch 8/10\n",
      "5/5 - 0s - loss: 4.0554 - sparse_top_k_categorical_accuracy: 0.4000\n",
      "Epoch 9/10\n",
      "5/5 - 0s - loss: 4.0368 - sparse_top_k_categorical_accuracy: 0.4000\n",
      "Epoch 10/10\n",
      "5/5 - 0s - loss: 4.0159 - sparse_top_k_categorical_accuracy: 0.4000\n"
     ]
    },
    {
     "data": {
      "text/plain": [
       "<tensorflow.python.keras.callbacks.History at 0x1dc540dea88>"
      ]
     },
     "execution_count": 417,
     "metadata": {},
     "output_type": "execute_result"
    }
   ],
   "source": [
    "a.fit(x39,y39, batch_size=5, epochs=10, shuffle=True, verbose=2)"
   ]
  },
  {
   "cell_type": "code",
   "execution_count": 418,
   "metadata": {},
   "outputs": [
    {
     "name": "stdout",
     "output_type": "stream",
     "text": [
      "Epoch 1/10\n",
      "5/5 - 0s - loss: 4.6297 - sparse_top_k_categorical_accuracy: 0.0000e+00\n",
      "Epoch 2/10\n",
      "5/5 - 0s - loss: 4.6315 - sparse_top_k_categorical_accuracy: 0.0000e+00\n",
      "Epoch 3/10\n",
      "5/5 - 0s - loss: 4.6295 - sparse_top_k_categorical_accuracy: 0.0000e+00\n",
      "Epoch 4/10\n",
      "5/5 - 0s - loss: 4.6243 - sparse_top_k_categorical_accuracy: 0.0000e+00\n",
      "Epoch 5/10\n",
      "5/5 - 0s - loss: 4.6169 - sparse_top_k_categorical_accuracy: 0.0000e+00\n",
      "Epoch 6/10\n",
      "5/5 - 0s - loss: 4.6070 - sparse_top_k_categorical_accuracy: 0.0000e+00\n",
      "Epoch 7/10\n",
      "5/5 - 0s - loss: 4.5948 - sparse_top_k_categorical_accuracy: 0.0000e+00\n",
      "Epoch 8/10\n",
      "5/5 - 0s - loss: 4.5810 - sparse_top_k_categorical_accuracy: 0.0000e+00\n",
      "Epoch 9/10\n",
      "5/5 - 0s - loss: 4.5661 - sparse_top_k_categorical_accuracy: 0.0000e+00\n",
      "Epoch 10/10\n",
      "5/5 - 0s - loss: 4.5506 - sparse_top_k_categorical_accuracy: 0.0000e+00\n"
     ]
    },
    {
     "data": {
      "text/plain": [
       "<tensorflow.python.keras.callbacks.History at 0x1dc541389c8>"
      ]
     },
     "execution_count": 418,
     "metadata": {},
     "output_type": "execute_result"
    }
   ],
   "source": [
    "a.fit(x40,y40, batch_size=5, epochs=10, shuffle=True, verbose=2)"
   ]
  },
  {
   "cell_type": "code",
   "execution_count": 419,
   "metadata": {},
   "outputs": [
    {
     "name": "stdout",
     "output_type": "stream",
     "text": [
      "Epoch 1/10\n",
      "5/5 - 0s - loss: 4.6364 - sparse_top_k_categorical_accuracy: 0.2000\n",
      "Epoch 2/10\n",
      "5/5 - 0s - loss: 4.6292 - sparse_top_k_categorical_accuracy: 0.2000\n",
      "Epoch 3/10\n",
      "5/5 - 0s - loss: 4.6154 - sparse_top_k_categorical_accuracy: 0.2000\n",
      "Epoch 4/10\n",
      "5/5 - 0s - loss: 4.5966 - sparse_top_k_categorical_accuracy: 0.2000\n",
      "Epoch 5/10\n",
      "5/5 - 0s - loss: 4.5729 - sparse_top_k_categorical_accuracy: 0.2000\n",
      "Epoch 6/10\n",
      "5/5 - 0s - loss: 4.5454 - sparse_top_k_categorical_accuracy: 0.2000\n",
      "Epoch 7/10\n",
      "5/5 - 0s - loss: 4.5163 - sparse_top_k_categorical_accuracy: 0.2000\n",
      "Epoch 8/10\n",
      "5/5 - 0s - loss: 4.4854 - sparse_top_k_categorical_accuracy: 0.2000\n",
      "Epoch 9/10\n",
      "5/5 - 0s - loss: 4.4535 - sparse_top_k_categorical_accuracy: 0.2000\n",
      "Epoch 10/10\n",
      "5/5 - 0s - loss: 4.4211 - sparse_top_k_categorical_accuracy: 0.2000\n"
     ]
    },
    {
     "data": {
      "text/plain": [
       "<tensorflow.python.keras.callbacks.History at 0x1dc54137248>"
      ]
     },
     "execution_count": 419,
     "metadata": {},
     "output_type": "execute_result"
    }
   ],
   "source": [
    "a.fit(x42,y42, batch_size=5, epochs=10, shuffle=True, verbose=2)"
   ]
  },
  {
   "cell_type": "code",
   "execution_count": 420,
   "metadata": {},
   "outputs": [
    {
     "name": "stdout",
     "output_type": "stream",
     "text": [
      "Epoch 1/10\n",
      "5/5 - 0s - loss: 4.6620 - sparse_top_k_categorical_accuracy: 0.0000e+00\n",
      "Epoch 2/10\n",
      "5/5 - 0s - loss: 4.6640 - sparse_top_k_categorical_accuracy: 0.0000e+00\n",
      "Epoch 3/10\n",
      "5/5 - 0s - loss: 4.6568 - sparse_top_k_categorical_accuracy: 0.0000e+00\n",
      "Epoch 4/10\n",
      "5/5 - 0s - loss: 4.6447 - sparse_top_k_categorical_accuracy: 0.0000e+00\n",
      "Epoch 5/10\n",
      "5/5 - 0s - loss: 4.6267 - sparse_top_k_categorical_accuracy: 0.0000e+00\n",
      "Epoch 6/10\n",
      "5/5 - 0s - loss: 4.6027 - sparse_top_k_categorical_accuracy: 0.0000e+00\n",
      "Epoch 7/10\n",
      "5/5 - 0s - loss: 4.5745 - sparse_top_k_categorical_accuracy: 0.0000e+00\n",
      "Epoch 8/10\n",
      "5/5 - 0s - loss: 4.5444 - sparse_top_k_categorical_accuracy: 0.0000e+00\n",
      "Epoch 9/10\n",
      "5/5 - 0s - loss: 4.5109 - sparse_top_k_categorical_accuracy: 0.0000e+00\n",
      "Epoch 10/10\n",
      "5/5 - 0s - loss: 4.4767 - sparse_top_k_categorical_accuracy: 0.0000e+00\n"
     ]
    },
    {
     "data": {
      "text/plain": [
       "<tensorflow.python.keras.callbacks.History at 0x1dc540fc608>"
      ]
     },
     "execution_count": 420,
     "metadata": {},
     "output_type": "execute_result"
    }
   ],
   "source": [
    "a.fit(x43,y43, batch_size=5, epochs=10, shuffle=True, verbose=2)"
   ]
  },
  {
   "cell_type": "code",
   "execution_count": 421,
   "metadata": {},
   "outputs": [
    {
     "name": "stdout",
     "output_type": "stream",
     "text": [
      "Epoch 1/10\n",
      "5/5 - 0s - loss: 4.3593 - sparse_top_k_categorical_accuracy: 0.2000\n",
      "Epoch 2/10\n",
      "5/5 - 0s - loss: 4.3559 - sparse_top_k_categorical_accuracy: 0.2000\n",
      "Epoch 3/10\n",
      "5/5 - 0s - loss: 4.3501 - sparse_top_k_categorical_accuracy: 0.2000\n",
      "Epoch 4/10\n",
      "5/5 - 0s - loss: 4.3418 - sparse_top_k_categorical_accuracy: 0.2000\n",
      "Epoch 5/10\n",
      "5/5 - 0s - loss: 4.3309 - sparse_top_k_categorical_accuracy: 0.4000\n",
      "Epoch 6/10\n",
      "5/5 - 0s - loss: 4.3183 - sparse_top_k_categorical_accuracy: 0.4000\n",
      "Epoch 7/10\n",
      "5/5 - 0s - loss: 4.3050 - sparse_top_k_categorical_accuracy: 0.4000\n",
      "Epoch 8/10\n",
      "5/5 - 0s - loss: 4.2917 - sparse_top_k_categorical_accuracy: 0.4000\n",
      "Epoch 9/10\n",
      "5/5 - 0s - loss: 4.2782 - sparse_top_k_categorical_accuracy: 0.4000\n",
      "Epoch 10/10\n",
      "5/5 - 0s - loss: 4.2632 - sparse_top_k_categorical_accuracy: 0.4000\n"
     ]
    },
    {
     "data": {
      "text/plain": [
       "<tensorflow.python.keras.callbacks.History at 0x1dc54130488>"
      ]
     },
     "execution_count": 421,
     "metadata": {},
     "output_type": "execute_result"
    }
   ],
   "source": [
    "a.fit(x44,y44, batch_size=5, epochs=10, shuffle=True, verbose=2)"
   ]
  },
  {
   "cell_type": "code",
   "execution_count": 422,
   "metadata": {},
   "outputs": [
    {
     "name": "stdout",
     "output_type": "stream",
     "text": [
      "Epoch 1/10\n",
      "5/5 - 0s - loss: 4.3781 - sparse_top_k_categorical_accuracy: 0.2000\n",
      "Epoch 2/10\n",
      "5/5 - 0s - loss: 4.3708 - sparse_top_k_categorical_accuracy: 0.2000\n",
      "Epoch 3/10\n",
      "5/5 - 0s - loss: 4.3601 - sparse_top_k_categorical_accuracy: 0.2000\n",
      "Epoch 4/10\n",
      "5/5 - 0s - loss: 4.3468 - sparse_top_k_categorical_accuracy: 0.2000\n",
      "Epoch 5/10\n",
      "5/5 - 0s - loss: 4.3312 - sparse_top_k_categorical_accuracy: 0.2000\n",
      "Epoch 6/10\n",
      "5/5 - 0s - loss: 4.3145 - sparse_top_k_categorical_accuracy: 0.2000\n",
      "Epoch 7/10\n",
      "5/5 - 0s - loss: 4.2949 - sparse_top_k_categorical_accuracy: 0.2000\n",
      "Epoch 8/10\n",
      "5/5 - 0s - loss: 4.2731 - sparse_top_k_categorical_accuracy: 0.2000\n",
      "Epoch 9/10\n",
      "5/5 - 0s - loss: 4.2505 - sparse_top_k_categorical_accuracy: 0.2000\n",
      "Epoch 10/10\n",
      "5/5 - 0s - loss: 4.2272 - sparse_top_k_categorical_accuracy: 0.2000\n"
     ]
    },
    {
     "data": {
      "text/plain": [
       "<tensorflow.python.keras.callbacks.History at 0x1dc54137888>"
      ]
     },
     "execution_count": 422,
     "metadata": {},
     "output_type": "execute_result"
    }
   ],
   "source": [
    "a.fit(x45,y45, batch_size=5, epochs=10, shuffle=True, verbose=2)"
   ]
  },
  {
   "cell_type": "code",
   "execution_count": 423,
   "metadata": {},
   "outputs": [
    {
     "name": "stdout",
     "output_type": "stream",
     "text": [
      "Epoch 1/10\n",
      "5/5 - 0s - loss: 4.6467 - sparse_top_k_categorical_accuracy: 0.0000e+00\n",
      "Epoch 2/10\n",
      "5/5 - 0s - loss: 4.6413 - sparse_top_k_categorical_accuracy: 0.0000e+00\n",
      "Epoch 3/10\n",
      "5/5 - 0s - loss: 4.6360 - sparse_top_k_categorical_accuracy: 0.0000e+00\n",
      "Epoch 4/10\n",
      "5/5 - 0s - loss: 4.6279 - sparse_top_k_categorical_accuracy: 0.0000e+00\n",
      "Epoch 5/10\n",
      "5/5 - 0s - loss: 4.6171 - sparse_top_k_categorical_accuracy: 0.0000e+00\n",
      "Epoch 6/10\n",
      "5/5 - 0s - loss: 4.6055 - sparse_top_k_categorical_accuracy: 0.0000e+00\n",
      "Epoch 7/10\n",
      "5/5 - 0s - loss: 4.5920 - sparse_top_k_categorical_accuracy: 0.0000e+00\n",
      "Epoch 8/10\n",
      "5/5 - 0s - loss: 4.5764 - sparse_top_k_categorical_accuracy: 0.0000e+00\n",
      "Epoch 9/10\n",
      "5/5 - 0s - loss: 4.5588 - sparse_top_k_categorical_accuracy: 0.0000e+00\n",
      "Epoch 10/10\n",
      "5/5 - 0s - loss: 4.5400 - sparse_top_k_categorical_accuracy: 0.0000e+00\n"
     ]
    },
    {
     "data": {
      "text/plain": [
       "<tensorflow.python.keras.callbacks.History at 0x1dc526b2fc8>"
      ]
     },
     "execution_count": 423,
     "metadata": {},
     "output_type": "execute_result"
    }
   ],
   "source": [
    "a.fit(x46,y46, batch_size=5, epochs=10, shuffle=True, verbose=2)"
   ]
  },
  {
   "cell_type": "code",
   "execution_count": 424,
   "metadata": {},
   "outputs": [
    {
     "name": "stdout",
     "output_type": "stream",
     "text": [
      "Epoch 1/10\n",
      "5/5 - 0s - loss: 4.4384 - sparse_top_k_categorical_accuracy: 0.2000\n",
      "Epoch 2/10\n",
      "5/5 - 0s - loss: 4.4405 - sparse_top_k_categorical_accuracy: 0.2000\n",
      "Epoch 3/10\n",
      "5/5 - 0s - loss: 4.4391 - sparse_top_k_categorical_accuracy: 0.2000\n",
      "Epoch 4/10\n",
      "5/5 - 0s - loss: 4.4353 - sparse_top_k_categorical_accuracy: 0.2000\n",
      "Epoch 5/10\n",
      "5/5 - 0s - loss: 4.4295 - sparse_top_k_categorical_accuracy: 0.2000\n",
      "Epoch 6/10\n",
      "5/5 - 0s - loss: 4.4219 - sparse_top_k_categorical_accuracy: 0.2000\n",
      "Epoch 7/10\n",
      "5/5 - 0s - loss: 4.4127 - sparse_top_k_categorical_accuracy: 0.2000\n",
      "Epoch 8/10\n",
      "5/5 - 0s - loss: 4.4020 - sparse_top_k_categorical_accuracy: 0.2000\n",
      "Epoch 9/10\n",
      "5/5 - 0s - loss: 4.3902 - sparse_top_k_categorical_accuracy: 0.2000\n",
      "Epoch 10/10\n",
      "5/5 - 0s - loss: 4.3777 - sparse_top_k_categorical_accuracy: 0.2000\n"
     ]
    },
    {
     "data": {
      "text/plain": [
       "<tensorflow.python.keras.callbacks.History at 0x1dc54137c08>"
      ]
     },
     "execution_count": 424,
     "metadata": {},
     "output_type": "execute_result"
    }
   ],
   "source": [
    "a.fit(x47,y47, batch_size=5, epochs=10, shuffle=True, verbose=2)"
   ]
  },
  {
   "cell_type": "code",
   "execution_count": 425,
   "metadata": {},
   "outputs": [
    {
     "name": "stdout",
     "output_type": "stream",
     "text": [
      "Epoch 1/10\n",
      "5/5 - 0s - loss: 5.0467 - sparse_top_k_categorical_accuracy: 0.0000e+00\n",
      "Epoch 2/10\n",
      "5/5 - 0s - loss: 5.0363 - sparse_top_k_categorical_accuracy: 0.0000e+00\n",
      "Epoch 3/10\n",
      "5/5 - 0s - loss: 5.0161 - sparse_top_k_categorical_accuracy: 0.0000e+00\n",
      "Epoch 4/10\n",
      "5/5 - 0s - loss: 4.9888 - sparse_top_k_categorical_accuracy: 0.0000e+00\n",
      "Epoch 5/10\n",
      "5/5 - 0s - loss: 4.9568 - sparse_top_k_categorical_accuracy: 0.0000e+00\n",
      "Epoch 6/10\n",
      "5/5 - 0s - loss: 4.9229 - sparse_top_k_categorical_accuracy: 0.0000e+00\n",
      "Epoch 7/10\n",
      "5/5 - 0s - loss: 4.8881 - sparse_top_k_categorical_accuracy: 0.0000e+00\n",
      "Epoch 8/10\n",
      "5/5 - 0s - loss: 4.8551 - sparse_top_k_categorical_accuracy: 0.0000e+00\n",
      "Epoch 9/10\n",
      "5/5 - 0s - loss: 4.8268 - sparse_top_k_categorical_accuracy: 0.0000e+00\n",
      "Epoch 10/10\n",
      "5/5 - 0s - loss: 4.8022 - sparse_top_k_categorical_accuracy: 0.0000e+00\n"
     ]
    },
    {
     "data": {
      "text/plain": [
       "<tensorflow.python.keras.callbacks.History at 0x1dc54122808>"
      ]
     },
     "execution_count": 425,
     "metadata": {},
     "output_type": "execute_result"
    }
   ],
   "source": [
    "a.fit(x48,y48, batch_size=5, epochs=10, shuffle=True, verbose=2)"
   ]
  },
  {
   "cell_type": "code",
   "execution_count": 426,
   "metadata": {},
   "outputs": [
    {
     "name": "stdout",
     "output_type": "stream",
     "text": [
      "Epoch 1/10\n",
      "5/5 - 0s - loss: 4.3054 - sparse_top_k_categorical_accuracy: 0.2000\n",
      "Epoch 2/10\n",
      "5/5 - 0s - loss: 4.3069 - sparse_top_k_categorical_accuracy: 0.2000\n",
      "Epoch 3/10\n",
      "5/5 - 0s - loss: 4.3074 - sparse_top_k_categorical_accuracy: 0.2000\n",
      "Epoch 4/10\n",
      "5/5 - 0s - loss: 4.3078 - sparse_top_k_categorical_accuracy: 0.2000\n",
      "Epoch 5/10\n",
      "5/5 - 0s - loss: 4.3059 - sparse_top_k_categorical_accuracy: 0.2000\n",
      "Epoch 6/10\n",
      "5/5 - 0s - loss: 4.2995 - sparse_top_k_categorical_accuracy: 0.2000\n",
      "Epoch 7/10\n",
      "5/5 - 0s - loss: 4.2877 - sparse_top_k_categorical_accuracy: 0.2000\n",
      "Epoch 8/10\n",
      "5/5 - 0s - loss: 4.2735 - sparse_top_k_categorical_accuracy: 0.2000\n",
      "Epoch 9/10\n",
      "5/5 - 0s - loss: 4.2593 - sparse_top_k_categorical_accuracy: 0.2000\n",
      "Epoch 10/10\n",
      "5/5 - 0s - loss: 4.2446 - sparse_top_k_categorical_accuracy: 0.2000\n"
     ]
    },
    {
     "data": {
      "text/plain": [
       "<tensorflow.python.keras.callbacks.History at 0x1dc55116a88>"
      ]
     },
     "execution_count": 426,
     "metadata": {},
     "output_type": "execute_result"
    }
   ],
   "source": [
    "a.fit(x49,y49, batch_size=5, epochs=10, shuffle=True, verbose=2)"
   ]
  },
  {
   "cell_type": "code",
   "execution_count": 427,
   "metadata": {},
   "outputs": [
    {
     "name": "stdout",
     "output_type": "stream",
     "text": [
      "Epoch 1/10\n",
      "5/5 - 0s - loss: 4.5766 - sparse_top_k_categorical_accuracy: 0.0000e+00\n",
      "Epoch 2/10\n",
      "5/5 - 0s - loss: 4.5749 - sparse_top_k_categorical_accuracy: 0.0000e+00\n",
      "Epoch 3/10\n",
      "5/5 - 0s - loss: 4.5712 - sparse_top_k_categorical_accuracy: 0.0000e+00\n",
      "Epoch 4/10\n",
      "5/5 - 0s - loss: 4.5667 - sparse_top_k_categorical_accuracy: 0.0000e+00\n",
      "Epoch 5/10\n",
      "5/5 - 0s - loss: 4.5602 - sparse_top_k_categorical_accuracy: 0.0000e+00\n",
      "Epoch 6/10\n",
      "5/5 - 0s - loss: 4.5527 - sparse_top_k_categorical_accuracy: 0.0000e+00\n",
      "Epoch 7/10\n",
      "5/5 - 0s - loss: 4.5450 - sparse_top_k_categorical_accuracy: 0.0000e+00\n",
      "Epoch 8/10\n",
      "5/5 - 0s - loss: 4.5371 - sparse_top_k_categorical_accuracy: 0.0000e+00\n",
      "Epoch 9/10\n",
      "5/5 - 0s - loss: 4.5290 - sparse_top_k_categorical_accuracy: 0.0000e+00\n",
      "Epoch 10/10\n",
      "5/5 - 0s - loss: 4.5212 - sparse_top_k_categorical_accuracy: 0.0000e+00\n"
     ]
    },
    {
     "data": {
      "text/plain": [
       "<tensorflow.python.keras.callbacks.History at 0x1dc540fc488>"
      ]
     },
     "execution_count": 427,
     "metadata": {},
     "output_type": "execute_result"
    }
   ],
   "source": [
    "a.fit(x50,y50, batch_size=5, epochs=10, shuffle=True, verbose=2)"
   ]
  },
  {
   "cell_type": "code",
   "execution_count": 428,
   "metadata": {},
   "outputs": [
    {
     "name": "stdout",
     "output_type": "stream",
     "text": [
      "Train on 5 samples, validate on 5 samples\n",
      "Epoch 1/10\n",
      "5/5 - 0s - loss: 4.6227 - sparse_top_k_categorical_accuracy: 0.0000e+00 - val_loss: 4.8925 - val_sparse_top_k_categorical_accuracy: 0.2000\n",
      "Epoch 2/10\n",
      "5/5 - 0s - loss: 4.6207 - sparse_top_k_categorical_accuracy: 0.0000e+00 - val_loss: 4.8928 - val_sparse_top_k_categorical_accuracy: 0.2000\n",
      "Epoch 3/10\n",
      "5/5 - 0s - loss: 4.6176 - sparse_top_k_categorical_accuracy: 0.0000e+00 - val_loss: 4.8929 - val_sparse_top_k_categorical_accuracy: 0.2000\n",
      "Epoch 4/10\n",
      "5/5 - 0s - loss: 4.6137 - sparse_top_k_categorical_accuracy: 0.0000e+00 - val_loss: 4.8929 - val_sparse_top_k_categorical_accuracy: 0.2000\n",
      "Epoch 5/10\n",
      "5/5 - 0s - loss: 4.6091 - sparse_top_k_categorical_accuracy: 0.0000e+00 - val_loss: 4.8929 - val_sparse_top_k_categorical_accuracy: 0.2000\n",
      "Epoch 6/10\n",
      "5/5 - 0s - loss: 4.6040 - sparse_top_k_categorical_accuracy: 0.0000e+00 - val_loss: 4.8925 - val_sparse_top_k_categorical_accuracy: 0.2000\n",
      "Epoch 7/10\n",
      "5/5 - 0s - loss: 4.5985 - sparse_top_k_categorical_accuracy: 0.0000e+00 - val_loss: 4.8916 - val_sparse_top_k_categorical_accuracy: 0.2000\n",
      "Epoch 8/10\n",
      "5/5 - 0s - loss: 4.5926 - sparse_top_k_categorical_accuracy: 0.0000e+00 - val_loss: 4.8907 - val_sparse_top_k_categorical_accuracy: 0.2000\n",
      "Epoch 9/10\n",
      "5/5 - 0s - loss: 4.5868 - sparse_top_k_categorical_accuracy: 0.2000 - val_loss: 4.8898 - val_sparse_top_k_categorical_accuracy: 0.2000\n",
      "Epoch 10/10\n",
      "5/5 - 0s - loss: 4.5811 - sparse_top_k_categorical_accuracy: 0.2000 - val_loss: 4.8887 - val_sparse_top_k_categorical_accuracy: 0.2000\n"
     ]
    },
    {
     "data": {
      "text/plain": [
       "<tensorflow.python.keras.callbacks.History at 0x1dc541304c8>"
      ]
     },
     "execution_count": 428,
     "metadata": {},
     "output_type": "execute_result"
    }
   ],
   "source": [
    "#running validation sets\n",
    "a.fit(x51,y51, validation_data=valid_set1, batch_size=5, epochs=10, shuffle=True, verbose=2)"
   ]
  },
  {
   "cell_type": "code",
   "execution_count": 429,
   "metadata": {},
   "outputs": [
    {
     "name": "stdout",
     "output_type": "stream",
     "text": [
      "Train on 5 samples, validate on 5 samples\n",
      "Epoch 1/10\n",
      "5/5 - 0s - loss: 4.2394 - sparse_top_k_categorical_accuracy: 0.2000 - val_loss: 4.4866 - val_sparse_top_k_categorical_accuracy: 0.2000\n",
      "Epoch 2/10\n",
      "5/5 - 0s - loss: 4.2351 - sparse_top_k_categorical_accuracy: 0.2000 - val_loss: 4.4863 - val_sparse_top_k_categorical_accuracy: 0.2000\n",
      "Epoch 3/10\n",
      "5/5 - 0s - loss: 4.2262 - sparse_top_k_categorical_accuracy: 0.2000 - val_loss: 4.4855 - val_sparse_top_k_categorical_accuracy: 0.2000\n",
      "Epoch 4/10\n",
      "5/5 - 0s - loss: 4.2132 - sparse_top_k_categorical_accuracy: 0.2000 - val_loss: 4.4842 - val_sparse_top_k_categorical_accuracy: 0.2000\n",
      "Epoch 5/10\n",
      "5/5 - 0s - loss: 4.1952 - sparse_top_k_categorical_accuracy: 0.2000 - val_loss: 4.4817 - val_sparse_top_k_categorical_accuracy: 0.2000\n",
      "Epoch 6/10\n",
      "5/5 - 0s - loss: 4.1711 - sparse_top_k_categorical_accuracy: 0.2000 - val_loss: 4.4770 - val_sparse_top_k_categorical_accuracy: 0.2000\n",
      "Epoch 7/10\n",
      "5/5 - 0s - loss: 4.1434 - sparse_top_k_categorical_accuracy: 0.2000 - val_loss: 4.4730 - val_sparse_top_k_categorical_accuracy: 0.2000\n",
      "Epoch 8/10\n",
      "5/5 - 0s - loss: 4.1088 - sparse_top_k_categorical_accuracy: 0.2000 - val_loss: 4.4710 - val_sparse_top_k_categorical_accuracy: 0.2000\n",
      "Epoch 9/10\n",
      "5/5 - 0s - loss: 4.0686 - sparse_top_k_categorical_accuracy: 0.2000 - val_loss: 4.4684 - val_sparse_top_k_categorical_accuracy: 0.2000\n",
      "Epoch 10/10\n",
      "5/5 - 0s - loss: 4.0333 - sparse_top_k_categorical_accuracy: 0.2000 - val_loss: 4.4620 - val_sparse_top_k_categorical_accuracy: 0.2000\n"
     ]
    },
    {
     "data": {
      "text/plain": [
       "<tensorflow.python.keras.callbacks.History at 0x1dc551182c8>"
      ]
     },
     "execution_count": 429,
     "metadata": {},
     "output_type": "execute_result"
    }
   ],
   "source": [
    "a.fit(x52,y52, validation_data=valid_set2, batch_size=5, epochs=10, shuffle=True, verbose=2)"
   ]
  },
  {
   "cell_type": "code",
   "execution_count": 430,
   "metadata": {},
   "outputs": [
    {
     "name": "stdout",
     "output_type": "stream",
     "text": [
      "Train on 5 samples, validate on 5 samples\n",
      "Epoch 1/10\n",
      "5/5 - 0s - loss: 4.7329 - sparse_top_k_categorical_accuracy: 0.0000e+00 - val_loss: 4.9407 - val_sparse_top_k_categorical_accuracy: 0.2000\n",
      "Epoch 2/10\n",
      "5/5 - 0s - loss: 4.7376 - sparse_top_k_categorical_accuracy: 0.0000e+00 - val_loss: 4.9455 - val_sparse_top_k_categorical_accuracy: 0.2000\n",
      "Epoch 3/10\n",
      "5/5 - 0s - loss: 4.7378 - sparse_top_k_categorical_accuracy: 0.0000e+00 - val_loss: 4.9504 - val_sparse_top_k_categorical_accuracy: 0.2000\n",
      "Epoch 4/10\n",
      "5/5 - 0s - loss: 4.7367 - sparse_top_k_categorical_accuracy: 0.0000e+00 - val_loss: 4.9547 - val_sparse_top_k_categorical_accuracy: 0.2000\n",
      "Epoch 5/10\n",
      "5/5 - 0s - loss: 4.7328 - sparse_top_k_categorical_accuracy: 0.0000e+00 - val_loss: 4.9579 - val_sparse_top_k_categorical_accuracy: 0.2000\n",
      "Epoch 6/10\n",
      "5/5 - 0s - loss: 4.7261 - sparse_top_k_categorical_accuracy: 0.0000e+00 - val_loss: 4.9602 - val_sparse_top_k_categorical_accuracy: 0.0000e+00\n",
      "Epoch 7/10\n",
      "5/5 - 0s - loss: 4.7164 - sparse_top_k_categorical_accuracy: 0.0000e+00 - val_loss: 4.9620 - val_sparse_top_k_categorical_accuracy: 0.0000e+00\n",
      "Epoch 8/10\n",
      "5/5 - 0s - loss: 4.7050 - sparse_top_k_categorical_accuracy: 0.0000e+00 - val_loss: 4.9636 - val_sparse_top_k_categorical_accuracy: 0.0000e+00\n",
      "Epoch 9/10\n",
      "5/5 - 0s - loss: 4.6926 - sparse_top_k_categorical_accuracy: 0.0000e+00 - val_loss: 4.9653 - val_sparse_top_k_categorical_accuracy: 0.0000e+00\n",
      "Epoch 10/10\n",
      "5/5 - 0s - loss: 4.6785 - sparse_top_k_categorical_accuracy: 0.0000e+00 - val_loss: 4.9661 - val_sparse_top_k_categorical_accuracy: 0.0000e+00\n"
     ]
    },
    {
     "data": {
      "text/plain": [
       "<tensorflow.python.keras.callbacks.History at 0x1dc54138d48>"
      ]
     },
     "execution_count": 430,
     "metadata": {},
     "output_type": "execute_result"
    }
   ],
   "source": [
    "a.fit(x53,y53, validation_data=valid_set1, batch_size=5, epochs=10, shuffle=True, verbose=2)"
   ]
  },
  {
   "cell_type": "code",
   "execution_count": 431,
   "metadata": {},
   "outputs": [
    {
     "name": "stdout",
     "output_type": "stream",
     "text": [
      "Train on 5 samples, validate on 5 samples\n",
      "Epoch 1/10\n",
      "5/5 - 0s - loss: 4.9525 - sparse_top_k_categorical_accuracy: 0.0000e+00 - val_loss: 4.3313 - val_sparse_top_k_categorical_accuracy: 0.2000\n",
      "Epoch 2/10\n",
      "5/5 - 0s - loss: 4.9401 - sparse_top_k_categorical_accuracy: 0.0000e+00 - val_loss: 4.3248 - val_sparse_top_k_categorical_accuracy: 0.2000\n",
      "Epoch 3/10\n",
      "5/5 - 0s - loss: 4.9214 - sparse_top_k_categorical_accuracy: 0.0000e+00 - val_loss: 4.3178 - val_sparse_top_k_categorical_accuracy: 0.2000\n",
      "Epoch 4/10\n",
      "5/5 - 0s - loss: 4.8960 - sparse_top_k_categorical_accuracy: 0.0000e+00 - val_loss: 4.3118 - val_sparse_top_k_categorical_accuracy: 0.2000\n",
      "Epoch 5/10\n",
      "5/5 - 0s - loss: 4.8672 - sparse_top_k_categorical_accuracy: 0.0000e+00 - val_loss: 4.3044 - val_sparse_top_k_categorical_accuracy: 0.4000\n",
      "Epoch 6/10\n",
      "5/5 - 0s - loss: 4.8369 - sparse_top_k_categorical_accuracy: 0.0000e+00 - val_loss: 4.2959 - val_sparse_top_k_categorical_accuracy: 0.4000\n",
      "Epoch 7/10\n",
      "5/5 - 0s - loss: 4.8055 - sparse_top_k_categorical_accuracy: 0.0000e+00 - val_loss: 4.2893 - val_sparse_top_k_categorical_accuracy: 0.4000\n",
      "Epoch 8/10\n",
      "5/5 - 0s - loss: 4.7739 - sparse_top_k_categorical_accuracy: 0.0000e+00 - val_loss: 4.2829 - val_sparse_top_k_categorical_accuracy: 0.4000\n",
      "Epoch 9/10\n",
      "5/5 - 0s - loss: 4.7408 - sparse_top_k_categorical_accuracy: 0.2000 - val_loss: 4.2775 - val_sparse_top_k_categorical_accuracy: 0.4000\n",
      "Epoch 10/10\n",
      "5/5 - 0s - loss: 4.7070 - sparse_top_k_categorical_accuracy: 0.2000 - val_loss: 4.2723 - val_sparse_top_k_categorical_accuracy: 0.4000\n"
     ]
    },
    {
     "data": {
      "text/plain": [
       "<tensorflow.python.keras.callbacks.History at 0x1dc55116b08>"
      ]
     },
     "execution_count": 431,
     "metadata": {},
     "output_type": "execute_result"
    }
   ],
   "source": [
    "a.fit(x55,y55, validation_data=valid_set3, batch_size=5, epochs=10, shuffle=True, verbose=2)"
   ]
  },
  {
   "cell_type": "code",
   "execution_count": 432,
   "metadata": {},
   "outputs": [
    {
     "name": "stdout",
     "output_type": "stream",
     "text": [
      "Train on 5 samples, validate on 5 samples\n",
      "Epoch 1/10\n",
      "5/5 - 0s - loss: 4.9846 - sparse_top_k_categorical_accuracy: 0.0000e+00 - val_loss: 4.4983 - val_sparse_top_k_categorical_accuracy: 0.2000\n",
      "Epoch 2/10\n",
      "5/5 - 0s - loss: 4.9720 - sparse_top_k_categorical_accuracy: 0.0000e+00 - val_loss: 4.4962 - val_sparse_top_k_categorical_accuracy: 0.2000\n",
      "Epoch 3/10\n",
      "5/5 - 0s - loss: 4.9528 - sparse_top_k_categorical_accuracy: 0.2000 - val_loss: 4.4936 - val_sparse_top_k_categorical_accuracy: 0.2000\n",
      "Epoch 4/10\n",
      "5/5 - 0s - loss: 4.9297 - sparse_top_k_categorical_accuracy: 0.2000 - val_loss: 4.4914 - val_sparse_top_k_categorical_accuracy: 0.2000\n",
      "Epoch 5/10\n",
      "5/5 - 0s - loss: 4.9028 - sparse_top_k_categorical_accuracy: 0.2000 - val_loss: 4.4886 - val_sparse_top_k_categorical_accuracy: 0.2000\n",
      "Epoch 6/10\n",
      "5/5 - 0s - loss: 4.8730 - sparse_top_k_categorical_accuracy: 0.2000 - val_loss: 4.4856 - val_sparse_top_k_categorical_accuracy: 0.0000e+00\n",
      "Epoch 7/10\n",
      "5/5 - 0s - loss: 4.8435 - sparse_top_k_categorical_accuracy: 0.2000 - val_loss: 4.4829 - val_sparse_top_k_categorical_accuracy: 0.0000e+00\n",
      "Epoch 8/10\n",
      "5/5 - 0s - loss: 4.8148 - sparse_top_k_categorical_accuracy: 0.2000 - val_loss: 4.4806 - val_sparse_top_k_categorical_accuracy: 0.0000e+00\n",
      "Epoch 9/10\n",
      "5/5 - 0s - loss: 4.7870 - sparse_top_k_categorical_accuracy: 0.2000 - val_loss: 4.4798 - val_sparse_top_k_categorical_accuracy: 0.0000e+00\n",
      "Epoch 10/10\n",
      "5/5 - 0s - loss: 4.7600 - sparse_top_k_categorical_accuracy: 0.2000 - val_loss: 4.4799 - val_sparse_top_k_categorical_accuracy: 0.0000e+00\n"
     ]
    },
    {
     "data": {
      "text/plain": [
       "<tensorflow.python.keras.callbacks.History at 0x1dc55118248>"
      ]
     },
     "execution_count": 432,
     "metadata": {},
     "output_type": "execute_result"
    }
   ],
   "source": [
    "a.fit(x58,y58, validation_data=valid_set4, batch_size=5, epochs=10, shuffle=True, verbose=2)"
   ]
  },
  {
   "cell_type": "code",
   "execution_count": 433,
   "metadata": {},
   "outputs": [
    {
     "name": "stdout",
     "output_type": "stream",
     "text": [
      "Train on 5 samples, validate on 5 samples\n",
      "Epoch 1/10\n",
      "5/5 - 0s - loss: 4.8848 - sparse_top_k_categorical_accuracy: 0.0000e+00 - val_loss: 4.7564 - val_sparse_top_k_categorical_accuracy: 0.0000e+00\n",
      "Epoch 2/10\n",
      "5/5 - 0s - loss: 4.8740 - sparse_top_k_categorical_accuracy: 0.0000e+00 - val_loss: 4.7453 - val_sparse_top_k_categorical_accuracy: 0.0000e+00\n",
      "Epoch 3/10\n",
      "5/5 - 0s - loss: 4.8609 - sparse_top_k_categorical_accuracy: 0.0000e+00 - val_loss: 4.7365 - val_sparse_top_k_categorical_accuracy: 0.0000e+00\n",
      "Epoch 4/10\n",
      "5/5 - 0s - loss: 4.8468 - sparse_top_k_categorical_accuracy: 0.0000e+00 - val_loss: 4.7295 - val_sparse_top_k_categorical_accuracy: 0.0000e+00\n",
      "Epoch 5/10\n",
      "5/5 - 0s - loss: 4.8297 - sparse_top_k_categorical_accuracy: 0.0000e+00 - val_loss: 4.7222 - val_sparse_top_k_categorical_accuracy: 0.0000e+00\n",
      "Epoch 6/10\n",
      "5/5 - 0s - loss: 4.8109 - sparse_top_k_categorical_accuracy: 0.0000e+00 - val_loss: 4.7149 - val_sparse_top_k_categorical_accuracy: 0.0000e+00\n",
      "Epoch 7/10\n",
      "5/5 - 0s - loss: 4.7915 - sparse_top_k_categorical_accuracy: 0.0000e+00 - val_loss: 4.7075 - val_sparse_top_k_categorical_accuracy: 0.0000e+00\n",
      "Epoch 8/10\n",
      "5/5 - 0s - loss: 4.7714 - sparse_top_k_categorical_accuracy: 0.0000e+00 - val_loss: 4.7001 - val_sparse_top_k_categorical_accuracy: 0.0000e+00\n",
      "Epoch 9/10\n",
      "5/5 - 0s - loss: 4.7511 - sparse_top_k_categorical_accuracy: 0.0000e+00 - val_loss: 4.6916 - val_sparse_top_k_categorical_accuracy: 0.0000e+00\n",
      "Epoch 10/10\n",
      "5/5 - 0s - loss: 4.7310 - sparse_top_k_categorical_accuracy: 0.0000e+00 - val_loss: 4.6823 - val_sparse_top_k_categorical_accuracy: 0.0000e+00\n"
     ]
    },
    {
     "data": {
      "text/plain": [
       "<tensorflow.python.keras.callbacks.History at 0x1dc54123bc8>"
      ]
     },
     "execution_count": 433,
     "metadata": {},
     "output_type": "execute_result"
    }
   ],
   "source": [
    "a.fit(x59,y59, validation_data=valid_set5, batch_size=5, epochs=10, shuffle=True, verbose=2)"
   ]
  },
  {
   "cell_type": "code",
   "execution_count": 434,
   "metadata": {},
   "outputs": [
    {
     "name": "stdout",
     "output_type": "stream",
     "text": [
      "Train on 5 samples, validate on 5 samples\n",
      "Epoch 1/10\n",
      "5/5 - 0s - loss: 4.5907 - sparse_top_k_categorical_accuracy: 0.0000e+00 - val_loss: 4.7061 - val_sparse_top_k_categorical_accuracy: 0.0000e+00\n",
      "Epoch 2/10\n",
      "5/5 - 0s - loss: 4.5907 - sparse_top_k_categorical_accuracy: 0.0000e+00 - val_loss: 4.7033 - val_sparse_top_k_categorical_accuracy: 0.0000e+00\n",
      "Epoch 3/10\n",
      "5/5 - 0s - loss: 4.5896 - sparse_top_k_categorical_accuracy: 0.0000e+00 - val_loss: 4.7011 - val_sparse_top_k_categorical_accuracy: 0.0000e+00\n",
      "Epoch 4/10\n",
      "5/5 - 0s - loss: 4.5868 - sparse_top_k_categorical_accuracy: 0.0000e+00 - val_loss: 4.6985 - val_sparse_top_k_categorical_accuracy: 0.0000e+00\n",
      "Epoch 5/10\n",
      "5/5 - 0s - loss: 4.5822 - sparse_top_k_categorical_accuracy: 0.0000e+00 - val_loss: 4.6957 - val_sparse_top_k_categorical_accuracy: 0.0000e+00\n",
      "Epoch 6/10\n",
      "5/5 - 0s - loss: 4.5758 - sparse_top_k_categorical_accuracy: 0.0000e+00 - val_loss: 4.6932 - val_sparse_top_k_categorical_accuracy: 0.0000e+00\n",
      "Epoch 7/10\n",
      "5/5 - 0s - loss: 4.5676 - sparse_top_k_categorical_accuracy: 0.0000e+00 - val_loss: 4.6899 - val_sparse_top_k_categorical_accuracy: 0.0000e+00\n",
      "Epoch 8/10\n",
      "5/5 - 0s - loss: 4.5587 - sparse_top_k_categorical_accuracy: 0.0000e+00 - val_loss: 4.6864 - val_sparse_top_k_categorical_accuracy: 0.0000e+00\n",
      "Epoch 9/10\n",
      "5/5 - 0s - loss: 4.5487 - sparse_top_k_categorical_accuracy: 0.0000e+00 - val_loss: 4.6831 - val_sparse_top_k_categorical_accuracy: 0.0000e+00\n",
      "Epoch 10/10\n",
      "5/5 - 0s - loss: 4.5372 - sparse_top_k_categorical_accuracy: 0.0000e+00 - val_loss: 4.6803 - val_sparse_top_k_categorical_accuracy: 0.0000e+00\n"
     ]
    },
    {
     "data": {
      "text/plain": [
       "<tensorflow.python.keras.callbacks.History at 0x1dc54137ec8>"
      ]
     },
     "execution_count": 434,
     "metadata": {},
     "output_type": "execute_result"
    }
   ],
   "source": [
    "a.fit(x60,y60, validation_data=valid_set6, batch_size=5, epochs=10, shuffle=True, verbose=2)"
   ]
  },
  {
   "cell_type": "code",
   "execution_count": 435,
   "metadata": {},
   "outputs": [
    {
     "name": "stdout",
     "output_type": "stream",
     "text": [
      "Train on 5 samples, validate on 5 samples\n",
      "Epoch 1/10\n",
      "5/5 - 0s - loss: 4.3428 - sparse_top_k_categorical_accuracy: 0.0000e+00 - val_loss: 4.1123 - val_sparse_top_k_categorical_accuracy: 0.4000\n",
      "Epoch 2/10\n",
      "5/5 - 0s - loss: 4.3259 - sparse_top_k_categorical_accuracy: 0.2000 - val_loss: 4.1217 - val_sparse_top_k_categorical_accuracy: 0.4000\n",
      "Epoch 3/10\n",
      "5/5 - 0s - loss: 4.3055 - sparse_top_k_categorical_accuracy: 0.2000 - val_loss: 4.1301 - val_sparse_top_k_categorical_accuracy: 0.4000\n",
      "Epoch 4/10\n",
      "5/5 - 0s - loss: 4.2814 - sparse_top_k_categorical_accuracy: 0.2000 - val_loss: 4.1366 - val_sparse_top_k_categorical_accuracy: 0.4000\n",
      "Epoch 5/10\n",
      "5/5 - 0s - loss: 4.2554 - sparse_top_k_categorical_accuracy: 0.2000 - val_loss: 4.1436 - val_sparse_top_k_categorical_accuracy: 0.4000\n",
      "Epoch 6/10\n",
      "5/5 - 0s - loss: 4.2306 - sparse_top_k_categorical_accuracy: 0.2000 - val_loss: 4.1497 - val_sparse_top_k_categorical_accuracy: 0.4000\n",
      "Epoch 7/10\n",
      "5/5 - 0s - loss: 4.2014 - sparse_top_k_categorical_accuracy: 0.2000 - val_loss: 4.1523 - val_sparse_top_k_categorical_accuracy: 0.4000\n",
      "Epoch 8/10\n",
      "5/5 - 0s - loss: 4.1698 - sparse_top_k_categorical_accuracy: 0.2000 - val_loss: 4.1519 - val_sparse_top_k_categorical_accuracy: 0.4000\n",
      "Epoch 9/10\n",
      "5/5 - 0s - loss: 4.1322 - sparse_top_k_categorical_accuracy: 0.2000 - val_loss: 4.1462 - val_sparse_top_k_categorical_accuracy: 0.4000\n",
      "Epoch 10/10\n",
      "5/5 - 0s - loss: 4.0944 - sparse_top_k_categorical_accuracy: 0.2000 - val_loss: 4.1382 - val_sparse_top_k_categorical_accuracy: 0.4000\n"
     ]
    },
    {
     "data": {
      "text/plain": [
       "<tensorflow.python.keras.callbacks.History at 0x1dc5511a548>"
      ]
     },
     "execution_count": 435,
     "metadata": {},
     "output_type": "execute_result"
    }
   ],
   "source": [
    "a.fit(x61,y61, validation_data=valid_set7, batch_size=5, epochs=10, shuffle=True, verbose=2)"
   ]
  },
  {
   "cell_type": "code",
   "execution_count": 436,
   "metadata": {},
   "outputs": [
    {
     "name": "stdout",
     "output_type": "stream",
     "text": [
      "Train on 5 samples, validate on 5 samples\n",
      "Epoch 1/10\n",
      "5/5 - 0s - loss: 4.7029 - sparse_top_k_categorical_accuracy: 0.0000e+00 - val_loss: 4.6073 - val_sparse_top_k_categorical_accuracy: 0.0000e+00\n",
      "Epoch 2/10\n",
      "5/5 - 0s - loss: 4.7200 - sparse_top_k_categorical_accuracy: 0.0000e+00 - val_loss: 4.6067 - val_sparse_top_k_categorical_accuracy: 0.0000e+00\n",
      "Epoch 3/10\n",
      "5/5 - 0s - loss: 4.7276 - sparse_top_k_categorical_accuracy: 0.0000e+00 - val_loss: 4.6080 - val_sparse_top_k_categorical_accuracy: 0.0000e+00\n",
      "Epoch 4/10\n",
      "5/5 - 0s - loss: 4.7268 - sparse_top_k_categorical_accuracy: 0.0000e+00 - val_loss: 4.6107 - val_sparse_top_k_categorical_accuracy: 0.0000e+00\n",
      "Epoch 5/10\n",
      "5/5 - 0s - loss: 4.7189 - sparse_top_k_categorical_accuracy: 0.0000e+00 - val_loss: 4.6146 - val_sparse_top_k_categorical_accuracy: 0.0000e+00\n",
      "Epoch 6/10\n",
      "5/5 - 0s - loss: 4.7052 - sparse_top_k_categorical_accuracy: 0.0000e+00 - val_loss: 4.6200 - val_sparse_top_k_categorical_accuracy: 0.0000e+00\n",
      "Epoch 7/10\n",
      "5/5 - 0s - loss: 4.6859 - sparse_top_k_categorical_accuracy: 0.0000e+00 - val_loss: 4.6254 - val_sparse_top_k_categorical_accuracy: 0.0000e+00\n",
      "Epoch 8/10\n",
      "5/5 - 0s - loss: 4.6628 - sparse_top_k_categorical_accuracy: 0.0000e+00 - val_loss: 4.6300 - val_sparse_top_k_categorical_accuracy: 0.0000e+00\n",
      "Epoch 9/10\n",
      "5/5 - 0s - loss: 4.6362 - sparse_top_k_categorical_accuracy: 0.0000e+00 - val_loss: 4.6341 - val_sparse_top_k_categorical_accuracy: 0.0000e+00\n",
      "Epoch 10/10\n",
      "5/5 - 0s - loss: 4.6116 - sparse_top_k_categorical_accuracy: 0.0000e+00 - val_loss: 4.6386 - val_sparse_top_k_categorical_accuracy: 0.0000e+00\n"
     ]
    },
    {
     "data": {
      "text/plain": [
       "<tensorflow.python.keras.callbacks.History at 0x1dc55116488>"
      ]
     },
     "execution_count": 436,
     "metadata": {},
     "output_type": "execute_result"
    }
   ],
   "source": [
    "a.fit(x62,y62, validation_data=valid_set8, batch_size=5, epochs=10, shuffle=True, verbose=2)"
   ]
  },
  {
   "cell_type": "code",
   "execution_count": 331,
   "metadata": {},
   "outputs": [
    {
     "name": "stdout",
     "output_type": "stream",
     "text": [
      "Epoch 1/50\n",
      "1/1 - 0s - loss: 4.6151 - sparse_top_k_categorical_accuracy: 1.0000 - val_loss: 4.6151 - val_sparse_top_k_categorical_accuracy: 1.0000\n",
      "Epoch 2/50\n",
      "1/1 - 0s - loss: 4.6151 - sparse_top_k_categorical_accuracy: 1.0000 - val_loss: 4.6151 - val_sparse_top_k_categorical_accuracy: 1.0000\n",
      "Epoch 3/50\n",
      "1/1 - 0s - loss: 4.6151 - sparse_top_k_categorical_accuracy: 1.0000 - val_loss: 4.6151 - val_sparse_top_k_categorical_accuracy: 1.0000\n",
      "Epoch 4/50\n",
      "1/1 - 0s - loss: 4.6151 - sparse_top_k_categorical_accuracy: 1.0000 - val_loss: 4.6151 - val_sparse_top_k_categorical_accuracy: 1.0000\n",
      "Epoch 5/50\n",
      "1/1 - 0s - loss: 4.6151 - sparse_top_k_categorical_accuracy: 1.0000 - val_loss: 4.6151 - val_sparse_top_k_categorical_accuracy: 1.0000\n",
      "Epoch 6/50\n",
      "1/1 - 0s - loss: 4.6151 - sparse_top_k_categorical_accuracy: 1.0000 - val_loss: 4.6151 - val_sparse_top_k_categorical_accuracy: 1.0000\n",
      "Epoch 7/50\n",
      "1/1 - 0s - loss: 4.6151 - sparse_top_k_categorical_accuracy: 1.0000 - val_loss: 4.6151 - val_sparse_top_k_categorical_accuracy: 1.0000\n",
      "Epoch 8/50\n",
      "1/1 - 0s - loss: 4.6151 - sparse_top_k_categorical_accuracy: 1.0000 - val_loss: 4.6151 - val_sparse_top_k_categorical_accuracy: 1.0000\n",
      "Epoch 9/50\n",
      "1/1 - 0s - loss: 4.6151 - sparse_top_k_categorical_accuracy: 1.0000 - val_loss: 4.6151 - val_sparse_top_k_categorical_accuracy: 1.0000\n",
      "Epoch 10/50\n",
      "1/1 - 0s - loss: 4.6151 - sparse_top_k_categorical_accuracy: 1.0000 - val_loss: 4.6151 - val_sparse_top_k_categorical_accuracy: 1.0000\n",
      "Epoch 11/50\n",
      "1/1 - 0s - loss: 4.6151 - sparse_top_k_categorical_accuracy: 1.0000 - val_loss: 4.6151 - val_sparse_top_k_categorical_accuracy: 1.0000\n",
      "Epoch 12/50\n",
      "1/1 - 0s - loss: 4.6151 - sparse_top_k_categorical_accuracy: 1.0000 - val_loss: 4.6151 - val_sparse_top_k_categorical_accuracy: 1.0000\n",
      "Epoch 13/50\n",
      "1/1 - 0s - loss: 4.6151 - sparse_top_k_categorical_accuracy: 1.0000 - val_loss: 4.6151 - val_sparse_top_k_categorical_accuracy: 1.0000\n",
      "Epoch 14/50\n",
      "1/1 - 0s - loss: 4.6151 - sparse_top_k_categorical_accuracy: 1.0000 - val_loss: 4.6151 - val_sparse_top_k_categorical_accuracy: 1.0000\n",
      "Epoch 15/50\n",
      "1/1 - 0s - loss: 4.6151 - sparse_top_k_categorical_accuracy: 1.0000 - val_loss: 4.6151 - val_sparse_top_k_categorical_accuracy: 1.0000\n",
      "Epoch 16/50\n",
      "1/1 - 0s - loss: 4.6151 - sparse_top_k_categorical_accuracy: 1.0000 - val_loss: 4.6151 - val_sparse_top_k_categorical_accuracy: 1.0000\n",
      "Epoch 17/50\n",
      "1/1 - 0s - loss: 4.6151 - sparse_top_k_categorical_accuracy: 1.0000 - val_loss: 4.6151 - val_sparse_top_k_categorical_accuracy: 1.0000\n",
      "Epoch 18/50\n",
      "1/1 - 0s - loss: 4.6151 - sparse_top_k_categorical_accuracy: 1.0000 - val_loss: 4.6151 - val_sparse_top_k_categorical_accuracy: 1.0000\n",
      "Epoch 19/50\n",
      "1/1 - 0s - loss: 4.6151 - sparse_top_k_categorical_accuracy: 1.0000 - val_loss: 4.6151 - val_sparse_top_k_categorical_accuracy: 1.0000\n",
      "Epoch 20/50\n",
      "1/1 - 0s - loss: 4.6151 - sparse_top_k_categorical_accuracy: 1.0000 - val_loss: 4.6151 - val_sparse_top_k_categorical_accuracy: 1.0000\n",
      "Epoch 21/50\n",
      "1/1 - 0s - loss: 4.6151 - sparse_top_k_categorical_accuracy: 1.0000 - val_loss: 4.6151 - val_sparse_top_k_categorical_accuracy: 1.0000\n",
      "Epoch 22/50\n",
      "1/1 - 0s - loss: 4.6151 - sparse_top_k_categorical_accuracy: 1.0000 - val_loss: 4.6151 - val_sparse_top_k_categorical_accuracy: 1.0000\n",
      "Epoch 23/50\n",
      "1/1 - 0s - loss: 4.6151 - sparse_top_k_categorical_accuracy: 1.0000 - val_loss: 4.6151 - val_sparse_top_k_categorical_accuracy: 1.0000\n",
      "Epoch 24/50\n",
      "1/1 - 0s - loss: 4.6151 - sparse_top_k_categorical_accuracy: 1.0000 - val_loss: 4.6151 - val_sparse_top_k_categorical_accuracy: 1.0000\n",
      "Epoch 25/50\n",
      "1/1 - 0s - loss: 4.6151 - sparse_top_k_categorical_accuracy: 1.0000 - val_loss: 4.6151 - val_sparse_top_k_categorical_accuracy: 1.0000\n",
      "Epoch 26/50\n",
      "1/1 - 0s - loss: 4.6151 - sparse_top_k_categorical_accuracy: 1.0000 - val_loss: 4.6151 - val_sparse_top_k_categorical_accuracy: 1.0000\n",
      "Epoch 27/50\n",
      "1/1 - 0s - loss: 4.6151 - sparse_top_k_categorical_accuracy: 1.0000 - val_loss: 4.6151 - val_sparse_top_k_categorical_accuracy: 1.0000\n",
      "Epoch 28/50\n",
      "1/1 - 0s - loss: 4.6151 - sparse_top_k_categorical_accuracy: 1.0000 - val_loss: 4.6151 - val_sparse_top_k_categorical_accuracy: 1.0000\n",
      "Epoch 29/50\n",
      "1/1 - 0s - loss: 4.6151 - sparse_top_k_categorical_accuracy: 1.0000 - val_loss: 4.6151 - val_sparse_top_k_categorical_accuracy: 1.0000\n",
      "Epoch 30/50\n",
      "1/1 - 0s - loss: 4.6151 - sparse_top_k_categorical_accuracy: 1.0000 - val_loss: 4.6151 - val_sparse_top_k_categorical_accuracy: 1.0000\n",
      "Epoch 31/50\n",
      "1/1 - 0s - loss: 4.6151 - sparse_top_k_categorical_accuracy: 1.0000 - val_loss: 4.6151 - val_sparse_top_k_categorical_accuracy: 1.0000\n",
      "Epoch 32/50\n",
      "1/1 - 0s - loss: 4.6151 - sparse_top_k_categorical_accuracy: 1.0000 - val_loss: 4.6151 - val_sparse_top_k_categorical_accuracy: 1.0000\n",
      "Epoch 33/50\n",
      "1/1 - 0s - loss: 4.6151 - sparse_top_k_categorical_accuracy: 1.0000 - val_loss: 4.6151 - val_sparse_top_k_categorical_accuracy: 1.0000\n",
      "Epoch 34/50\n",
      "1/1 - 0s - loss: 4.6151 - sparse_top_k_categorical_accuracy: 1.0000 - val_loss: 4.6151 - val_sparse_top_k_categorical_accuracy: 1.0000\n",
      "Epoch 35/50\n",
      "1/1 - 0s - loss: 4.6151 - sparse_top_k_categorical_accuracy: 1.0000 - val_loss: 4.6151 - val_sparse_top_k_categorical_accuracy: 1.0000\n",
      "Epoch 36/50\n",
      "1/1 - 0s - loss: 4.6151 - sparse_top_k_categorical_accuracy: 1.0000 - val_loss: 4.6151 - val_sparse_top_k_categorical_accuracy: 1.0000\n",
      "Epoch 37/50\n",
      "1/1 - 0s - loss: 4.6151 - sparse_top_k_categorical_accuracy: 1.0000 - val_loss: 4.6151 - val_sparse_top_k_categorical_accuracy: 1.0000\n",
      "Epoch 38/50\n",
      "1/1 - 0s - loss: 4.6151 - sparse_top_k_categorical_accuracy: 1.0000 - val_loss: 4.6151 - val_sparse_top_k_categorical_accuracy: 1.0000\n",
      "Epoch 39/50\n",
      "1/1 - 0s - loss: 4.6151 - sparse_top_k_categorical_accuracy: 1.0000 - val_loss: 4.6151 - val_sparse_top_k_categorical_accuracy: 1.0000\n",
      "Epoch 40/50\n",
      "1/1 - 0s - loss: 4.6151 - sparse_top_k_categorical_accuracy: 1.0000 - val_loss: 4.6151 - val_sparse_top_k_categorical_accuracy: 1.0000\n",
      "Epoch 41/50\n",
      "1/1 - 0s - loss: 4.6151 - sparse_top_k_categorical_accuracy: 1.0000 - val_loss: 4.6151 - val_sparse_top_k_categorical_accuracy: 1.0000\n",
      "Epoch 42/50\n",
      "1/1 - 0s - loss: 4.6151 - sparse_top_k_categorical_accuracy: 1.0000 - val_loss: 4.6151 - val_sparse_top_k_categorical_accuracy: 1.0000\n",
      "Epoch 43/50\n",
      "1/1 - 0s - loss: 4.6151 - sparse_top_k_categorical_accuracy: 1.0000 - val_loss: 4.6151 - val_sparse_top_k_categorical_accuracy: 1.0000\n",
      "Epoch 44/50\n",
      "1/1 - 0s - loss: 4.6151 - sparse_top_k_categorical_accuracy: 1.0000 - val_loss: 4.6151 - val_sparse_top_k_categorical_accuracy: 1.0000\n",
      "Epoch 45/50\n",
      "1/1 - 0s - loss: 4.6151 - sparse_top_k_categorical_accuracy: 1.0000 - val_loss: 4.6151 - val_sparse_top_k_categorical_accuracy: 1.0000\n",
      "Epoch 46/50\n",
      "1/1 - 0s - loss: 4.6151 - sparse_top_k_categorical_accuracy: 1.0000 - val_loss: 4.6151 - val_sparse_top_k_categorical_accuracy: 1.0000\n",
      "Epoch 47/50\n",
      "1/1 - 0s - loss: 4.6151 - sparse_top_k_categorical_accuracy: 1.0000 - val_loss: 4.6151 - val_sparse_top_k_categorical_accuracy: 1.0000\n",
      "Epoch 48/50\n",
      "1/1 - 0s - loss: 4.6151 - sparse_top_k_categorical_accuracy: 1.0000 - val_loss: 4.6151 - val_sparse_top_k_categorical_accuracy: 1.0000\n",
      "Epoch 49/50\n",
      "1/1 - 0s - loss: 4.6151 - sparse_top_k_categorical_accuracy: 1.0000 - val_loss: 4.6151 - val_sparse_top_k_categorical_accuracy: 1.0000\n",
      "Epoch 50/50\n",
      "1/1 - 0s - loss: 4.6151 - sparse_top_k_categorical_accuracy: 1.0000 - val_loss: 4.6151 - val_sparse_top_k_categorical_accuracy: 1.0000\n"
     ]
    },
    {
     "data": {
      "text/plain": [
       "<tensorflow.python.keras.callbacks.History at 0x203e9125288>"
      ]
     },
     "execution_count": 331,
     "metadata": {},
     "output_type": "execute_result"
    }
   ],
   "source": [
    "cy.fit(x63,y63, validation_data=valid_set9, batch_size=90, epochs=50, shuffle=True, verbose=2)"
   ]
  },
  {
   "cell_type": "code",
   "execution_count": 189,
   "metadata": {},
   "outputs": [],
   "source": [
    "#imports for confusion matrix\n",
    "%matplotlib inline\n",
    "from sklearn.metrics import confusion_matrix\n",
    "import itertools"
   ]
  },
  {
   "cell_type": "code",
   "execution_count": 190,
   "metadata": {},
   "outputs": [],
   "source": [
    "def plot_confusion_matrix(cm, classes,\n",
    "                        normalize=False,\n",
    "                        title='Confusion matrix',\n",
    "                        cmap=plt.cm.Blues):\n",
    "    \"\"\"\n",
    "    This function prints and plots the confusion matrix.\n",
    "    Normalization can be applied by setting `normalize=True`.\n",
    "    \"\"\"\n",
    "    plt.imshow(cm, interpolation='nearest', cmap=cmap)\n",
    "    plt.title(title)\n",
    "    plt.colorbar()\n",
    "    tick_marks = np.arange(len(classes))\n",
    "    plt.xticks(tick_marks, classes, rotation=45)\n",
    "    plt.yticks(tick_marks, classes)\n",
    "\n",
    "    if normalize:\n",
    "        cm = cm.astype('float') / cm.sum(axis=1)[:, np.newaxis]\n",
    "        print(\"Normalized confusion matrix\")\n",
    "    else:\n",
    "        print('Confusion matrix, without normalization')\n",
    "\n",
    "    print(cm)\n",
    "\n",
    "    thresh = cm.max() / 2.\n",
    "    for i, j in itertools.product(range(cm.shape[0]), range(cm.shape[1])):\n",
    "        plt.text(j, i, cm[i, j],\n",
    "            horizontalalignment=\"center\",\n",
    "            color=\"white\" if cm[i, j] > thresh else \"black\")\n",
    "\n",
    "    plt.tight_layout()\n",
    "    plt.ylabel('True label')\n",
    "    plt.xlabel('Predicted label')"
   ]
  },
  {
   "cell_type": "code",
   "execution_count": 442,
   "metadata": {},
   "outputs": [
    {
     "data": {
      "text/plain": [
       "0    100.0\n",
       "1     56.0\n",
       "2     13.0\n",
       "3      5.0\n",
       "4      5.0\n",
       "Name: points, dtype: float64"
      ]
     },
     "execution_count": 442,
     "metadata": {},
     "output_type": "execute_result"
    }
   ],
   "source": [
    "y44"
   ]
  },
  {
   "cell_type": "code",
   "execution_count": 457,
   "metadata": {},
   "outputs": [
    {
     "data": {
      "text/plain": [
       "array([100,   5,   5,   5,  62], dtype=int64)"
      ]
     },
     "execution_count": 457,
     "metadata": {},
     "output_type": "execute_result"
    }
   ],
   "source": [
    "predictions = a.predict(x31, batch_size=5, verbose=0)\n",
    "rounded_predictions = np.argmax(predictions, axis=-1)\n",
    "y_pred = rounded_predictions\n",
    "y_true = y43\n",
    "y_pred"
   ]
  },
  {
   "cell_type": "code",
   "execution_count": 346,
   "metadata": {},
   "outputs": [
    {
     "ename": "OSError",
     "evalue": "Unable to create file (unable to open file: name = 'models/cyyoung_train_model.h5', errno = 2, error message = 'No such file or directory', flags = 13, o_flags = 302)",
     "output_type": "error",
     "traceback": [
      "\u001b[1;31m---------------------------------------------------------------------------\u001b[0m",
      "\u001b[1;31mOSError\u001b[0m                                   Traceback (most recent call last)",
      "\u001b[1;32m<ipython-input-346-98dc2b59f9c5>\u001b[0m in \u001b[0;36m<module>\u001b[1;34m\u001b[0m\n\u001b[0;32m      1\u001b[0m \u001b[1;31m#saving the weights from the trained network\u001b[0m\u001b[1;33m\u001b[0m\u001b[1;33m\u001b[0m\u001b[1;33m\u001b[0m\u001b[0m\n\u001b[0;32m      2\u001b[0m \u001b[1;32mimport\u001b[0m \u001b[0mos\u001b[0m\u001b[1;33m.\u001b[0m\u001b[0mpath\u001b[0m\u001b[1;33m\u001b[0m\u001b[1;33m\u001b[0m\u001b[0m\n\u001b[1;32m----> 3\u001b[1;33m \u001b[0mcy\u001b[0m\u001b[1;33m.\u001b[0m\u001b[0msave\u001b[0m\u001b[1;33m(\u001b[0m\u001b[1;34m'models/cyyoung_train_model.h5'\u001b[0m\u001b[1;33m)\u001b[0m\u001b[1;33m\u001b[0m\u001b[1;33m\u001b[0m\u001b[0m\n\u001b[0m",
      "\u001b[1;32m~\\anaconda3\\lib\\site-packages\\tensorflow\\python\\keras\\engine\\training.py\u001b[0m in \u001b[0;36msave\u001b[1;34m(self, filepath, overwrite, include_optimizer, save_format, signatures, options)\u001b[0m\n\u001b[0;32m   1977\u001b[0m     \"\"\"\n\u001b[0;32m   1978\u001b[0m     save.save_model(self, filepath, overwrite, include_optimizer, save_format,\n\u001b[1;32m-> 1979\u001b[1;33m                     signatures, options)\n\u001b[0m\u001b[0;32m   1980\u001b[0m \u001b[1;33m\u001b[0m\u001b[0m\n\u001b[0;32m   1981\u001b[0m   def save_weights(self,\n",
      "\u001b[1;32m~\\anaconda3\\lib\\site-packages\\tensorflow\\python\\keras\\saving\\save.py\u001b[0m in \u001b[0;36msave_model\u001b[1;34m(model, filepath, overwrite, include_optimizer, save_format, signatures, options)\u001b[0m\n\u001b[0;32m    129\u001b[0m           'or using `save_weights`.')\n\u001b[0;32m    130\u001b[0m     hdf5_format.save_model_to_hdf5(\n\u001b[1;32m--> 131\u001b[1;33m         model, filepath, overwrite, include_optimizer)\n\u001b[0m\u001b[0;32m    132\u001b[0m   \u001b[1;32melse\u001b[0m\u001b[1;33m:\u001b[0m\u001b[1;33m\u001b[0m\u001b[1;33m\u001b[0m\u001b[0m\n\u001b[0;32m    133\u001b[0m     saved_model_save.save(model, filepath, overwrite, include_optimizer,\n",
      "\u001b[1;32m~\\anaconda3\\lib\\site-packages\\tensorflow\\python\\keras\\saving\\hdf5_format.py\u001b[0m in \u001b[0;36msave_model_to_hdf5\u001b[1;34m(model, filepath, overwrite, include_optimizer)\u001b[0m\n\u001b[0;32m    100\u001b[0m         \u001b[1;32mreturn\u001b[0m\u001b[1;33m\u001b[0m\u001b[1;33m\u001b[0m\u001b[0m\n\u001b[0;32m    101\u001b[0m \u001b[1;33m\u001b[0m\u001b[0m\n\u001b[1;32m--> 102\u001b[1;33m     \u001b[0mf\u001b[0m \u001b[1;33m=\u001b[0m \u001b[0mh5py\u001b[0m\u001b[1;33m.\u001b[0m\u001b[0mFile\u001b[0m\u001b[1;33m(\u001b[0m\u001b[0mfilepath\u001b[0m\u001b[1;33m,\u001b[0m \u001b[0mmode\u001b[0m\u001b[1;33m=\u001b[0m\u001b[1;34m'w'\u001b[0m\u001b[1;33m)\u001b[0m\u001b[1;33m\u001b[0m\u001b[1;33m\u001b[0m\u001b[0m\n\u001b[0m\u001b[0;32m    103\u001b[0m     \u001b[0mopened_new_file\u001b[0m \u001b[1;33m=\u001b[0m \u001b[1;32mTrue\u001b[0m\u001b[1;33m\u001b[0m\u001b[1;33m\u001b[0m\u001b[0m\n\u001b[0;32m    104\u001b[0m   \u001b[1;32melse\u001b[0m\u001b[1;33m:\u001b[0m\u001b[1;33m\u001b[0m\u001b[1;33m\u001b[0m\u001b[0m\n",
      "\u001b[1;32m~\\anaconda3\\lib\\site-packages\\h5py\\_hl\\files.py\u001b[0m in \u001b[0;36m__init__\u001b[1;34m(self, name, mode, driver, libver, userblock_size, swmr, rdcc_nslots, rdcc_nbytes, rdcc_w0, track_order, **kwds)\u001b[0m\n\u001b[0;32m    406\u001b[0m                 fid = make_fid(name, mode, userblock_size,\n\u001b[0;32m    407\u001b[0m                                \u001b[0mfapl\u001b[0m\u001b[1;33m,\u001b[0m \u001b[0mfcpl\u001b[0m\u001b[1;33m=\u001b[0m\u001b[0mmake_fcpl\u001b[0m\u001b[1;33m(\u001b[0m\u001b[0mtrack_order\u001b[0m\u001b[1;33m=\u001b[0m\u001b[0mtrack_order\u001b[0m\u001b[1;33m)\u001b[0m\u001b[1;33m,\u001b[0m\u001b[1;33m\u001b[0m\u001b[1;33m\u001b[0m\u001b[0m\n\u001b[1;32m--> 408\u001b[1;33m                                swmr=swmr)\n\u001b[0m\u001b[0;32m    409\u001b[0m \u001b[1;33m\u001b[0m\u001b[0m\n\u001b[0;32m    410\u001b[0m             \u001b[1;32mif\u001b[0m \u001b[0misinstance\u001b[0m\u001b[1;33m(\u001b[0m\u001b[0mlibver\u001b[0m\u001b[1;33m,\u001b[0m \u001b[0mtuple\u001b[0m\u001b[1;33m)\u001b[0m\u001b[1;33m:\u001b[0m\u001b[1;33m\u001b[0m\u001b[1;33m\u001b[0m\u001b[0m\n",
      "\u001b[1;32m~\\anaconda3\\lib\\site-packages\\h5py\\_hl\\files.py\u001b[0m in \u001b[0;36mmake_fid\u001b[1;34m(name, mode, userblock_size, fapl, fcpl, swmr)\u001b[0m\n\u001b[0;32m    177\u001b[0m         \u001b[0mfid\u001b[0m \u001b[1;33m=\u001b[0m \u001b[0mh5f\u001b[0m\u001b[1;33m.\u001b[0m\u001b[0mcreate\u001b[0m\u001b[1;33m(\u001b[0m\u001b[0mname\u001b[0m\u001b[1;33m,\u001b[0m \u001b[0mh5f\u001b[0m\u001b[1;33m.\u001b[0m\u001b[0mACC_EXCL\u001b[0m\u001b[1;33m,\u001b[0m \u001b[0mfapl\u001b[0m\u001b[1;33m=\u001b[0m\u001b[0mfapl\u001b[0m\u001b[1;33m,\u001b[0m \u001b[0mfcpl\u001b[0m\u001b[1;33m=\u001b[0m\u001b[0mfcpl\u001b[0m\u001b[1;33m)\u001b[0m\u001b[1;33m\u001b[0m\u001b[1;33m\u001b[0m\u001b[0m\n\u001b[0;32m    178\u001b[0m     \u001b[1;32melif\u001b[0m \u001b[0mmode\u001b[0m \u001b[1;33m==\u001b[0m \u001b[1;34m'w'\u001b[0m\u001b[1;33m:\u001b[0m\u001b[1;33m\u001b[0m\u001b[1;33m\u001b[0m\u001b[0m\n\u001b[1;32m--> 179\u001b[1;33m         \u001b[0mfid\u001b[0m \u001b[1;33m=\u001b[0m \u001b[0mh5f\u001b[0m\u001b[1;33m.\u001b[0m\u001b[0mcreate\u001b[0m\u001b[1;33m(\u001b[0m\u001b[0mname\u001b[0m\u001b[1;33m,\u001b[0m \u001b[0mh5f\u001b[0m\u001b[1;33m.\u001b[0m\u001b[0mACC_TRUNC\u001b[0m\u001b[1;33m,\u001b[0m \u001b[0mfapl\u001b[0m\u001b[1;33m=\u001b[0m\u001b[0mfapl\u001b[0m\u001b[1;33m,\u001b[0m \u001b[0mfcpl\u001b[0m\u001b[1;33m=\u001b[0m\u001b[0mfcpl\u001b[0m\u001b[1;33m)\u001b[0m\u001b[1;33m\u001b[0m\u001b[1;33m\u001b[0m\u001b[0m\n\u001b[0m\u001b[0;32m    180\u001b[0m     \u001b[1;32melif\u001b[0m \u001b[0mmode\u001b[0m \u001b[1;33m==\u001b[0m \u001b[1;34m'a'\u001b[0m\u001b[1;33m:\u001b[0m\u001b[1;33m\u001b[0m\u001b[1;33m\u001b[0m\u001b[0m\n\u001b[0;32m    181\u001b[0m         \u001b[1;31m# Open in append mode (read/write).\u001b[0m\u001b[1;33m\u001b[0m\u001b[1;33m\u001b[0m\u001b[1;33m\u001b[0m\u001b[0m\n",
      "\u001b[1;32mh5py\\_objects.pyx\u001b[0m in \u001b[0;36mh5py._objects.with_phil.wrapper\u001b[1;34m()\u001b[0m\n",
      "\u001b[1;32mh5py\\_objects.pyx\u001b[0m in \u001b[0;36mh5py._objects.with_phil.wrapper\u001b[1;34m()\u001b[0m\n",
      "\u001b[1;32mh5py\\h5f.pyx\u001b[0m in \u001b[0;36mh5py.h5f.create\u001b[1;34m()\u001b[0m\n",
      "\u001b[1;31mOSError\u001b[0m: Unable to create file (unable to open file: name = 'models/cyyoung_train_model.h5', errno = 2, error message = 'No such file or directory', flags = 13, o_flags = 302)"
     ]
    }
   ],
   "source": [
    "#saving the weights from the trained network\n",
    "import os.path\n",
    "cy.save('models/cyyoung_train_model.h5')"
   ]
  },
  {
   "cell_type": "code",
   "execution_count": null,
   "metadata": {},
   "outputs": [],
   "source": []
  }
 ],
 "metadata": {
  "kernelspec": {
   "display_name": "Python 3",
   "language": "python",
   "name": "python3"
  },
  "language_info": {
   "codemirror_mode": {
    "name": "ipython",
    "version": 3
   },
   "file_extension": ".py",
   "mimetype": "text/x-python",
   "name": "python",
   "nbconvert_exporter": "python",
   "pygments_lexer": "ipython3",
   "version": "3.7.9"
  }
 },
 "nbformat": 4,
 "nbformat_minor": 4
}
